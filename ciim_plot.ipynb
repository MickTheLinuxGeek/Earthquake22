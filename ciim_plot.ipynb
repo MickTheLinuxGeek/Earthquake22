{
 "cells": [
  {
   "cell_type": "markdown",
   "source": [
    "<h1><center>Community Internet Intensity Map</center></h1>"
   ],
   "metadata": {
    "collapsed": false
   }
  },
  {
   "cell_type": "code",
   "execution_count": 20,
   "metadata": {
    "collapsed": true
   },
   "outputs": [],
   "source": [
    "import geopandas as gpd\n",
    "import plotly.express as px\n",
    "import plotly.graph_objects as go\n"
   ]
  },
  {
   "cell_type": "code",
   "execution_count": 21,
   "outputs": [],
   "source": [
    "px.set_mapbox_access_token(open(\".mapbox_token\").read())"
   ],
   "metadata": {
    "collapsed": false
   }
  },
  {
   "cell_type": "markdown",
   "source": [
    "#### Import DYFI Geospatial Data, UTM aggregated (1km spacing)"
   ],
   "metadata": {
    "collapsed": false
   }
  },
  {
   "cell_type": "code",
   "execution_count": 22,
   "outputs": [
    {
     "data": {
      "text/plain": "   stddev  nresp                                               name  cdi  \\\n0    0.33      1  UTM:(17S 0472 3760 1000)<br>UTM:(17S 0472 3760...  2.0   \n1    0.33      1  UTM:(17S 0490 3751 1000)<br>UTM:(17S 0490 3751...  2.7   \n2    0.33      1  UTM:(17S 0505 3759 1000)<br>UTM:(17S 0505 3759...  2.2   \n3    0.33      1  UTM:(17S 0508 3758 1000)<br>UTM:(17S 0508 3758...  2.7   \n4    0.33      1  UTM:(17S 0512 3780 1000)<br>UTM:(17S 0512 3780...  4.3   \n5    0.33      1  UTM:(17S 0516 3753 1000)<br>UTM:(17S 0516 3753...  2.2   \n6    0.32      2  UTM:(17S 0518 3750 1000)<br>UTM:(17S 0518 3750...  2.0   \n7    0.33      1  UTM:(17S 0522 3757 1000)<br>UTM:(17S 0522 3757...  2.5   \n8    0.33      1  UTM:(17S 0680 3724 1000)<br>UTM:(17S 0680 3724...  2.2   \n\n   dist                                           geometry  \n0    47  POLYGON ((-639706.445 3828985.509, -638697.225...  \n1    29  POLYGON ((-622626.793 3817750.074, -621618.829...  \n2    15  POLYGON ((-606545.549 3824021.579, -605537.110...  \n3    12  POLYGON ((-603640.863 3822654.127, -602633.285...  \n4    26  POLYGON ((-596970.901 3844347.518, -595963.080...  \n5     6  POLYGON ((-596175.598 3816658.694, -595168.631...  \n6     8  POLYGON ((-594518.835 3813396.457, -593511.559...  \n7     6  POLYGON ((-589652.224 3819971.573, -588643.929...  \n8   164  POLYGON ((-434687.604 3768046.784, -433684.778...  ",
      "text/html": "<div>\n<style scoped>\n    .dataframe tbody tr th:only-of-type {\n        vertical-align: middle;\n    }\n\n    .dataframe tbody tr th {\n        vertical-align: top;\n    }\n\n    .dataframe thead th {\n        text-align: right;\n    }\n</style>\n<table border=\"1\" class=\"dataframe\">\n  <thead>\n    <tr style=\"text-align: right;\">\n      <th></th>\n      <th>stddev</th>\n      <th>nresp</th>\n      <th>name</th>\n      <th>cdi</th>\n      <th>dist</th>\n      <th>geometry</th>\n    </tr>\n  </thead>\n  <tbody>\n    <tr>\n      <th>0</th>\n      <td>0.33</td>\n      <td>1</td>\n      <td>UTM:(17S 0472 3760 1000)&lt;br&gt;UTM:(17S 0472 3760...</td>\n      <td>2.0</td>\n      <td>47</td>\n      <td>POLYGON ((-639706.445 3828985.509, -638697.225...</td>\n    </tr>\n    <tr>\n      <th>1</th>\n      <td>0.33</td>\n      <td>1</td>\n      <td>UTM:(17S 0490 3751 1000)&lt;br&gt;UTM:(17S 0490 3751...</td>\n      <td>2.7</td>\n      <td>29</td>\n      <td>POLYGON ((-622626.793 3817750.074, -621618.829...</td>\n    </tr>\n    <tr>\n      <th>2</th>\n      <td>0.33</td>\n      <td>1</td>\n      <td>UTM:(17S 0505 3759 1000)&lt;br&gt;UTM:(17S 0505 3759...</td>\n      <td>2.2</td>\n      <td>15</td>\n      <td>POLYGON ((-606545.549 3824021.579, -605537.110...</td>\n    </tr>\n    <tr>\n      <th>3</th>\n      <td>0.33</td>\n      <td>1</td>\n      <td>UTM:(17S 0508 3758 1000)&lt;br&gt;UTM:(17S 0508 3758...</td>\n      <td>2.7</td>\n      <td>12</td>\n      <td>POLYGON ((-603640.863 3822654.127, -602633.285...</td>\n    </tr>\n    <tr>\n      <th>4</th>\n      <td>0.33</td>\n      <td>1</td>\n      <td>UTM:(17S 0512 3780 1000)&lt;br&gt;UTM:(17S 0512 3780...</td>\n      <td>4.3</td>\n      <td>26</td>\n      <td>POLYGON ((-596970.901 3844347.518, -595963.080...</td>\n    </tr>\n    <tr>\n      <th>5</th>\n      <td>0.33</td>\n      <td>1</td>\n      <td>UTM:(17S 0516 3753 1000)&lt;br&gt;UTM:(17S 0516 3753...</td>\n      <td>2.2</td>\n      <td>6</td>\n      <td>POLYGON ((-596175.598 3816658.694, -595168.631...</td>\n    </tr>\n    <tr>\n      <th>6</th>\n      <td>0.32</td>\n      <td>2</td>\n      <td>UTM:(17S 0518 3750 1000)&lt;br&gt;UTM:(17S 0518 3750...</td>\n      <td>2.0</td>\n      <td>8</td>\n      <td>POLYGON ((-594518.835 3813396.457, -593511.559...</td>\n    </tr>\n    <tr>\n      <th>7</th>\n      <td>0.33</td>\n      <td>1</td>\n      <td>UTM:(17S 0522 3757 1000)&lt;br&gt;UTM:(17S 0522 3757...</td>\n      <td>2.5</td>\n      <td>6</td>\n      <td>POLYGON ((-589652.224 3819971.573, -588643.929...</td>\n    </tr>\n    <tr>\n      <th>8</th>\n      <td>0.33</td>\n      <td>1</td>\n      <td>UTM:(17S 0680 3724 1000)&lt;br&gt;UTM:(17S 0680 3724...</td>\n      <td>2.2</td>\n      <td>164</td>\n      <td>POLYGON ((-434687.604 3768046.784, -433684.778...</td>\n    </tr>\n  </tbody>\n</table>\n</div>"
     },
     "execution_count": 22,
     "metadata": {},
     "output_type": "execute_result"
    }
   ],
   "source": [
    "utm1km_geo_df = gpd.read_file(r\"./data/dyfi_geo_1km.geojson\")\n",
    "utm1km_geo_df.to_crs(epsg=32619)"
   ],
   "metadata": {
    "collapsed": false
   }
  },
  {
   "cell_type": "markdown",
   "source": [
    "#### Import DYFI Geospatial Data, UTM aggregated (10km spacing)"
   ],
   "metadata": {
    "collapsed": false
   }
  },
  {
   "cell_type": "code",
   "execution_count": 23,
   "outputs": [
    {
     "data": {
      "text/plain": "   stddev  nresp                                      name  cdi  dist  \\\n0   0.330      1      UTM:(17S 047 376 10000)<br>Lexington  2.0    45   \n1   0.330      1  UTM:(17S 049 375 10000)<br>West Columbia  2.7    25   \n2   0.320      2       UTM:(17S 050 375 10000)<br>Columbia  2.5    15   \n3   0.311      3        UTM:(17S 051 375 10000)<br>Hopkins  2.0     7   \n4   0.330      1          UTM:(17S 051 378 10000)<br>Elgin  4.3    30   \n5   0.330      1       UTM:(17S 052 375 10000)<br>Eastover  2.5     8   \n6   0.330      1   UTM:(17S 068 372 10000)<br>Myrtle Beach  2.2   168   \n\n                                            geometry  \n0  POLYGON ((-641724.272 3829224.918, -631635.642...  \n1  POLYGON ((-622746.532 3816741.469, -612663.368...  \n2  POLYGON ((-612663.368 3815546.335, -602582.062...  \n3  POLYGON ((-602582.062 3814351.180, -592503.365...  \n4  POLYGON ((-598985.654 3844587.825, -588909.380...  \n5  POLYGON ((-592503.365 3813157.225, -582427.360...  \n6  POLYGON ((-435158.174 3764033.496, -425124.465...  ",
      "text/html": "<div>\n<style scoped>\n    .dataframe tbody tr th:only-of-type {\n        vertical-align: middle;\n    }\n\n    .dataframe tbody tr th {\n        vertical-align: top;\n    }\n\n    .dataframe thead th {\n        text-align: right;\n    }\n</style>\n<table border=\"1\" class=\"dataframe\">\n  <thead>\n    <tr style=\"text-align: right;\">\n      <th></th>\n      <th>stddev</th>\n      <th>nresp</th>\n      <th>name</th>\n      <th>cdi</th>\n      <th>dist</th>\n      <th>geometry</th>\n    </tr>\n  </thead>\n  <tbody>\n    <tr>\n      <th>0</th>\n      <td>0.330</td>\n      <td>1</td>\n      <td>UTM:(17S 047 376 10000)&lt;br&gt;Lexington</td>\n      <td>2.0</td>\n      <td>45</td>\n      <td>POLYGON ((-641724.272 3829224.918, -631635.642...</td>\n    </tr>\n    <tr>\n      <th>1</th>\n      <td>0.330</td>\n      <td>1</td>\n      <td>UTM:(17S 049 375 10000)&lt;br&gt;West Columbia</td>\n      <td>2.7</td>\n      <td>25</td>\n      <td>POLYGON ((-622746.532 3816741.469, -612663.368...</td>\n    </tr>\n    <tr>\n      <th>2</th>\n      <td>0.320</td>\n      <td>2</td>\n      <td>UTM:(17S 050 375 10000)&lt;br&gt;Columbia</td>\n      <td>2.5</td>\n      <td>15</td>\n      <td>POLYGON ((-612663.368 3815546.335, -602582.062...</td>\n    </tr>\n    <tr>\n      <th>3</th>\n      <td>0.311</td>\n      <td>3</td>\n      <td>UTM:(17S 051 375 10000)&lt;br&gt;Hopkins</td>\n      <td>2.0</td>\n      <td>7</td>\n      <td>POLYGON ((-602582.062 3814351.180, -592503.365...</td>\n    </tr>\n    <tr>\n      <th>4</th>\n      <td>0.330</td>\n      <td>1</td>\n      <td>UTM:(17S 051 378 10000)&lt;br&gt;Elgin</td>\n      <td>4.3</td>\n      <td>30</td>\n      <td>POLYGON ((-598985.654 3844587.825, -588909.380...</td>\n    </tr>\n    <tr>\n      <th>5</th>\n      <td>0.330</td>\n      <td>1</td>\n      <td>UTM:(17S 052 375 10000)&lt;br&gt;Eastover</td>\n      <td>2.5</td>\n      <td>8</td>\n      <td>POLYGON ((-592503.365 3813157.225, -582427.360...</td>\n    </tr>\n    <tr>\n      <th>6</th>\n      <td>0.330</td>\n      <td>1</td>\n      <td>UTM:(17S 068 372 10000)&lt;br&gt;Myrtle Beach</td>\n      <td>2.2</td>\n      <td>168</td>\n      <td>POLYGON ((-435158.174 3764033.496, -425124.465...</td>\n    </tr>\n  </tbody>\n</table>\n</div>"
     },
     "execution_count": 23,
     "metadata": {},
     "output_type": "execute_result"
    }
   ],
   "source": [
    "utm10km_geo_df = gpd.read_file(r\"./data/dyfi_geo_10k.geojson\")\n",
    "utm10km_geo_df.to_crs(epsg=32619)"
   ],
   "metadata": {
    "collapsed": false
   }
  },
  {
   "cell_type": "markdown",
   "source": [
    "#### DYFI Choropleth Mapbox Plot - 1km Spacing"
   ],
   "metadata": {
    "collapsed": false
   }
  },
  {
   "cell_type": "code",
   "execution_count": 24,
   "outputs": [
    {
     "data": {
      "application/vnd.plotly.v1+json": {
       "data": [
        {
         "coloraxis": "coloraxis",
         "customdata": [
          [
           "UTM:(17S 0472 3760 1000)<br>UTM:(17S 0472 3760 1000)",
           1,
           2.0
          ],
          [
           "UTM:(17S 0490 3751 1000)<br>UTM:(17S 0490 3751 1000)",
           1,
           2.7
          ],
          [
           "UTM:(17S 0505 3759 1000)<br>UTM:(17S 0505 3759 1000)",
           1,
           2.2
          ],
          [
           "UTM:(17S 0508 3758 1000)<br>UTM:(17S 0508 3758 1000)",
           1,
           2.7
          ],
          [
           "UTM:(17S 0512 3780 1000)<br>UTM:(17S 0512 3780 1000)",
           1,
           4.3
          ],
          [
           "UTM:(17S 0516 3753 1000)<br>UTM:(17S 0516 3753 1000)",
           1,
           2.2
          ],
          [
           "UTM:(17S 0518 3750 1000)<br>UTM:(17S 0518 3750 1000)",
           2,
           2.0
          ],
          [
           "UTM:(17S 0522 3757 1000)<br>UTM:(17S 0522 3757 1000)",
           1,
           2.5
          ],
          [
           "UTM:(17S 0680 3724 1000)<br>UTM:(17S 0680 3724 1000)",
           1,
           2.2
          ]
         ],
         "geojson": {
          "type": "FeatureCollection",
          "features": [
           {
            "id": "0",
            "type": "Feature",
            "properties": {},
            "geometry": {
             "type": "Polygon",
             "coordinates": [
              [
               [
                -81.30313,
                33.98018
               ],
               [
                -81.2923,
                33.9802
               ],
               [
                -81.29233,
                33.98922
               ],
               [
                -81.30316,
                33.9892
               ],
               [
                -81.30313,
                33.98018
               ]
              ]
             ]
            },
            "bbox": [
             -81.30316,
             33.98018,
             -81.2923,
             33.98922
            ]
           },
           {
            "id": "1",
            "type": "Feature",
            "properties": {},
            "geometry": {
             "type": "Polygon",
             "coordinates": [
              [
               [
                -81.10815,
                33.89933
               ],
               [
                -81.09734,
                33.89934
               ],
               [
                -81.09735,
                33.90836
               ],
               [
                -81.10817,
                33.90835
               ],
               [
                -81.10815,
                33.89933
               ]
              ]
             ]
            },
            "bbox": [
             -81.10817,
             33.89933,
             -81.09734,
             33.90836
            ]
           },
           {
            "id": "2",
            "type": "Feature",
            "properties": {},
            "geometry": {
             "type": "Polygon",
             "coordinates": [
              [
               [
                -80.94587,
                33.97152
               ],
               [
                -80.93504,
                33.97151
               ],
               [
                -80.93504,
                33.98053
               ],
               [
                -80.94586,
                33.98054
               ],
               [
                -80.94587,
                33.97152
               ]
              ]
             ]
            },
            "bbox": [
             -80.94587,
             33.97151,
             -80.93504,
             33.98054
            ]
           },
           {
            "id": "3",
            "type": "Feature",
            "properties": {},
            "geometry": {
             "type": "Polygon",
             "coordinates": [
              [
               [
                -80.9134,
                33.96248
               ],
               [
                -80.90258,
                33.96247
               ],
               [
                -80.90257,
                33.97149
               ],
               [
                -80.91339,
                33.9715
               ],
               [
                -80.9134,
                33.96248
               ]
              ]
             ]
            },
            "bbox": [
             -80.9134,
             33.96247,
             -80.90257,
             33.9715
            ]
           },
           {
            "id": "4",
            "type": "Feature",
            "properties": {},
            "geometry": {
             "type": "Polygon",
             "coordinates": [
              [
               [
                -80.86981,
                34.16086
               ],
               [
                -80.85896,
                34.16085
               ],
               [
                -80.85894,
                34.16986
               ],
               [
                -80.86979,
                34.16988
               ],
               [
                -80.86981,
                34.16086
               ]
              ]
             ]
            },
            "bbox": [
             -80.86981,
             34.16085,
             -80.85894,
             34.16988
            ]
           },
           {
            "id": "5",
            "type": "Feature",
            "properties": {},
            "geometry": {
             "type": "Polygon",
             "coordinates": [
              [
               [
                -80.8269,
                33.9173
               ],
               [
                -80.81609,
                33.91728
               ],
               [
                -80.81607,
                33.9263
               ],
               [
                -80.82689,
                33.92631
               ],
               [
                -80.8269,
                33.9173
               ]
              ]
             ]
            },
            "bbox": [
             -80.8269,
             33.91728,
             -80.81607,
             33.92631
            ]
           },
           {
            "id": "6",
            "type": "Feature",
            "properties": {},
            "geometry": {
             "type": "Polygon",
             "coordinates": [
              [
               [
                -80.80533,
                33.89021
               ],
               [
                -80.79452,
                33.89019
               ],
               [
                -80.79449,
                33.89921
               ],
               [
                -80.80531,
                33.89923
               ],
               [
                -80.80533,
                33.89021
               ]
              ]
             ]
            },
            "bbox": [
             -80.80533,
             33.89019,
             -80.79449,
             33.89923
            ]
           },
           {
            "id": "7",
            "type": "Feature",
            "properties": {},
            "geometry": {
             "type": "Polygon",
             "coordinates": [
              [
               [
                -80.7619,
                33.95326
               ],
               [
                -80.75107,
                33.95324
               ],
               [
                -80.75105,
                33.96226
               ],
               [
                -80.76187,
                33.96228
               ],
               [
                -80.7619,
                33.95326
               ]
              ]
             ]
            },
            "bbox": [
             -80.7619,
             33.95324,
             -80.75105,
             33.96228
            ]
           },
           {
            "id": "8",
            "type": "Feature",
            "properties": {},
            "geometry": {
             "type": "Polygon",
             "coordinates": [
              [
               [
                -79.05912,
                33.64062
               ],
               [
                -79.04835,
                33.64045
               ],
               [
                -79.04814,
                33.64947
               ],
               [
                -79.05892,
                33.64964
               ],
               [
                -79.05912,
                33.64062
               ]
              ]
             ]
            },
            "bbox": [
             -79.05912,
             33.64045,
             -79.04814,
             33.64964
            ]
           }
          ],
          "bbox": [
           -81.30316,
           33.64045,
           -79.04814,
           34.16988
          ]
         },
         "hovertemplate": "index=%{location}<br>name=%{customdata[0]}<br>nresp=%{customdata[1]}<br>cdi=%{z}<extra></extra>",
         "locations": [
          0,
          1,
          2,
          3,
          4,
          5,
          6,
          7,
          8
         ],
         "name": "",
         "subplot": "mapbox",
         "z": [
          2.0,
          2.7,
          2.2,
          2.7,
          4.3,
          2.2,
          2.0,
          2.5,
          2.2
         ],
         "type": "choroplethmapbox"
        },
        {
         "hovertemplate": "%{lon}, %{lat}<extra></extra>",
         "lat": [
          34.170983
         ],
         "lon": [
          -80.794252
         ],
         "marker": {
          "opacity": 1,
          "size": 12,
          "symbol": [
           "star"
          ]
         },
         "mode": "markers+lines",
         "showlegend": false,
         "type": "scattermapbox"
        }
       ],
       "layout": {
        "template": {
         "data": {
          "histogram2dcontour": [
           {
            "type": "histogram2dcontour",
            "colorbar": {
             "outlinewidth": 0,
             "ticks": ""
            },
            "colorscale": [
             [
              0.0,
              "#0d0887"
             ],
             [
              0.1111111111111111,
              "#46039f"
             ],
             [
              0.2222222222222222,
              "#7201a8"
             ],
             [
              0.3333333333333333,
              "#9c179e"
             ],
             [
              0.4444444444444444,
              "#bd3786"
             ],
             [
              0.5555555555555556,
              "#d8576b"
             ],
             [
              0.6666666666666666,
              "#ed7953"
             ],
             [
              0.7777777777777778,
              "#fb9f3a"
             ],
             [
              0.8888888888888888,
              "#fdca26"
             ],
             [
              1.0,
              "#f0f921"
             ]
            ]
           }
          ],
          "choropleth": [
           {
            "type": "choropleth",
            "colorbar": {
             "outlinewidth": 0,
             "ticks": ""
            }
           }
          ],
          "histogram2d": [
           {
            "type": "histogram2d",
            "colorbar": {
             "outlinewidth": 0,
             "ticks": ""
            },
            "colorscale": [
             [
              0.0,
              "#0d0887"
             ],
             [
              0.1111111111111111,
              "#46039f"
             ],
             [
              0.2222222222222222,
              "#7201a8"
             ],
             [
              0.3333333333333333,
              "#9c179e"
             ],
             [
              0.4444444444444444,
              "#bd3786"
             ],
             [
              0.5555555555555556,
              "#d8576b"
             ],
             [
              0.6666666666666666,
              "#ed7953"
             ],
             [
              0.7777777777777778,
              "#fb9f3a"
             ],
             [
              0.8888888888888888,
              "#fdca26"
             ],
             [
              1.0,
              "#f0f921"
             ]
            ]
           }
          ],
          "heatmap": [
           {
            "type": "heatmap",
            "colorbar": {
             "outlinewidth": 0,
             "ticks": ""
            },
            "colorscale": [
             [
              0.0,
              "#0d0887"
             ],
             [
              0.1111111111111111,
              "#46039f"
             ],
             [
              0.2222222222222222,
              "#7201a8"
             ],
             [
              0.3333333333333333,
              "#9c179e"
             ],
             [
              0.4444444444444444,
              "#bd3786"
             ],
             [
              0.5555555555555556,
              "#d8576b"
             ],
             [
              0.6666666666666666,
              "#ed7953"
             ],
             [
              0.7777777777777778,
              "#fb9f3a"
             ],
             [
              0.8888888888888888,
              "#fdca26"
             ],
             [
              1.0,
              "#f0f921"
             ]
            ]
           }
          ],
          "heatmapgl": [
           {
            "type": "heatmapgl",
            "colorbar": {
             "outlinewidth": 0,
             "ticks": ""
            },
            "colorscale": [
             [
              0.0,
              "#0d0887"
             ],
             [
              0.1111111111111111,
              "#46039f"
             ],
             [
              0.2222222222222222,
              "#7201a8"
             ],
             [
              0.3333333333333333,
              "#9c179e"
             ],
             [
              0.4444444444444444,
              "#bd3786"
             ],
             [
              0.5555555555555556,
              "#d8576b"
             ],
             [
              0.6666666666666666,
              "#ed7953"
             ],
             [
              0.7777777777777778,
              "#fb9f3a"
             ],
             [
              0.8888888888888888,
              "#fdca26"
             ],
             [
              1.0,
              "#f0f921"
             ]
            ]
           }
          ],
          "contourcarpet": [
           {
            "type": "contourcarpet",
            "colorbar": {
             "outlinewidth": 0,
             "ticks": ""
            }
           }
          ],
          "contour": [
           {
            "type": "contour",
            "colorbar": {
             "outlinewidth": 0,
             "ticks": ""
            },
            "colorscale": [
             [
              0.0,
              "#0d0887"
             ],
             [
              0.1111111111111111,
              "#46039f"
             ],
             [
              0.2222222222222222,
              "#7201a8"
             ],
             [
              0.3333333333333333,
              "#9c179e"
             ],
             [
              0.4444444444444444,
              "#bd3786"
             ],
             [
              0.5555555555555556,
              "#d8576b"
             ],
             [
              0.6666666666666666,
              "#ed7953"
             ],
             [
              0.7777777777777778,
              "#fb9f3a"
             ],
             [
              0.8888888888888888,
              "#fdca26"
             ],
             [
              1.0,
              "#f0f921"
             ]
            ]
           }
          ],
          "surface": [
           {
            "type": "surface",
            "colorbar": {
             "outlinewidth": 0,
             "ticks": ""
            },
            "colorscale": [
             [
              0.0,
              "#0d0887"
             ],
             [
              0.1111111111111111,
              "#46039f"
             ],
             [
              0.2222222222222222,
              "#7201a8"
             ],
             [
              0.3333333333333333,
              "#9c179e"
             ],
             [
              0.4444444444444444,
              "#bd3786"
             ],
             [
              0.5555555555555556,
              "#d8576b"
             ],
             [
              0.6666666666666666,
              "#ed7953"
             ],
             [
              0.7777777777777778,
              "#fb9f3a"
             ],
             [
              0.8888888888888888,
              "#fdca26"
             ],
             [
              1.0,
              "#f0f921"
             ]
            ]
           }
          ],
          "mesh3d": [
           {
            "type": "mesh3d",
            "colorbar": {
             "outlinewidth": 0,
             "ticks": ""
            }
           }
          ],
          "scatter": [
           {
            "marker": {
             "line": {
              "color": "#283442"
             }
            },
            "type": "scatter"
           }
          ],
          "parcoords": [
           {
            "type": "parcoords",
            "line": {
             "colorbar": {
              "outlinewidth": 0,
              "ticks": ""
             }
            }
           }
          ],
          "scatterpolargl": [
           {
            "type": "scatterpolargl",
            "marker": {
             "colorbar": {
              "outlinewidth": 0,
              "ticks": ""
             }
            }
           }
          ],
          "bar": [
           {
            "error_x": {
             "color": "#f2f5fa"
            },
            "error_y": {
             "color": "#f2f5fa"
            },
            "marker": {
             "line": {
              "color": "rgb(17,17,17)",
              "width": 0.5
             },
             "pattern": {
              "fillmode": "overlay",
              "size": 10,
              "solidity": 0.2
             }
            },
            "type": "bar"
           }
          ],
          "scattergeo": [
           {
            "type": "scattergeo",
            "marker": {
             "colorbar": {
              "outlinewidth": 0,
              "ticks": ""
             }
            }
           }
          ],
          "scatterpolar": [
           {
            "type": "scatterpolar",
            "marker": {
             "colorbar": {
              "outlinewidth": 0,
              "ticks": ""
             }
            }
           }
          ],
          "histogram": [
           {
            "marker": {
             "pattern": {
              "fillmode": "overlay",
              "size": 10,
              "solidity": 0.2
             }
            },
            "type": "histogram"
           }
          ],
          "scattergl": [
           {
            "marker": {
             "line": {
              "color": "#283442"
             }
            },
            "type": "scattergl"
           }
          ],
          "scatter3d": [
           {
            "type": "scatter3d",
            "line": {
             "colorbar": {
              "outlinewidth": 0,
              "ticks": ""
             }
            },
            "marker": {
             "colorbar": {
              "outlinewidth": 0,
              "ticks": ""
             }
            }
           }
          ],
          "scattermapbox": [
           {
            "type": "scattermapbox",
            "marker": {
             "colorbar": {
              "outlinewidth": 0,
              "ticks": ""
             }
            }
           }
          ],
          "scatterternary": [
           {
            "type": "scatterternary",
            "marker": {
             "colorbar": {
              "outlinewidth": 0,
              "ticks": ""
             }
            }
           }
          ],
          "scattercarpet": [
           {
            "type": "scattercarpet",
            "marker": {
             "colorbar": {
              "outlinewidth": 0,
              "ticks": ""
             }
            }
           }
          ],
          "carpet": [
           {
            "aaxis": {
             "endlinecolor": "#A2B1C6",
             "gridcolor": "#506784",
             "linecolor": "#506784",
             "minorgridcolor": "#506784",
             "startlinecolor": "#A2B1C6"
            },
            "baxis": {
             "endlinecolor": "#A2B1C6",
             "gridcolor": "#506784",
             "linecolor": "#506784",
             "minorgridcolor": "#506784",
             "startlinecolor": "#A2B1C6"
            },
            "type": "carpet"
           }
          ],
          "table": [
           {
            "cells": {
             "fill": {
              "color": "#506784"
             },
             "line": {
              "color": "rgb(17,17,17)"
             }
            },
            "header": {
             "fill": {
              "color": "#2a3f5f"
             },
             "line": {
              "color": "rgb(17,17,17)"
             }
            },
            "type": "table"
           }
          ],
          "barpolar": [
           {
            "marker": {
             "line": {
              "color": "rgb(17,17,17)",
              "width": 0.5
             },
             "pattern": {
              "fillmode": "overlay",
              "size": 10,
              "solidity": 0.2
             }
            },
            "type": "barpolar"
           }
          ],
          "pie": [
           {
            "automargin": true,
            "type": "pie"
           }
          ]
         },
         "layout": {
          "autotypenumbers": "strict",
          "colorway": [
           "#636efa",
           "#EF553B",
           "#00cc96",
           "#ab63fa",
           "#FFA15A",
           "#19d3f3",
           "#FF6692",
           "#B6E880",
           "#FF97FF",
           "#FECB52"
          ],
          "font": {
           "color": "#f2f5fa"
          },
          "hovermode": "closest",
          "hoverlabel": {
           "align": "left"
          },
          "paper_bgcolor": "rgb(17,17,17)",
          "plot_bgcolor": "rgb(17,17,17)",
          "polar": {
           "bgcolor": "rgb(17,17,17)",
           "angularaxis": {
            "gridcolor": "#506784",
            "linecolor": "#506784",
            "ticks": ""
           },
           "radialaxis": {
            "gridcolor": "#506784",
            "linecolor": "#506784",
            "ticks": ""
           }
          },
          "ternary": {
           "bgcolor": "rgb(17,17,17)",
           "aaxis": {
            "gridcolor": "#506784",
            "linecolor": "#506784",
            "ticks": ""
           },
           "baxis": {
            "gridcolor": "#506784",
            "linecolor": "#506784",
            "ticks": ""
           },
           "caxis": {
            "gridcolor": "#506784",
            "linecolor": "#506784",
            "ticks": ""
           }
          },
          "coloraxis": {
           "colorbar": {
            "outlinewidth": 0,
            "ticks": ""
           }
          },
          "colorscale": {
           "sequential": [
            [
             0.0,
             "#0d0887"
            ],
            [
             0.1111111111111111,
             "#46039f"
            ],
            [
             0.2222222222222222,
             "#7201a8"
            ],
            [
             0.3333333333333333,
             "#9c179e"
            ],
            [
             0.4444444444444444,
             "#bd3786"
            ],
            [
             0.5555555555555556,
             "#d8576b"
            ],
            [
             0.6666666666666666,
             "#ed7953"
            ],
            [
             0.7777777777777778,
             "#fb9f3a"
            ],
            [
             0.8888888888888888,
             "#fdca26"
            ],
            [
             1.0,
             "#f0f921"
            ]
           ],
           "sequentialminus": [
            [
             0.0,
             "#0d0887"
            ],
            [
             0.1111111111111111,
             "#46039f"
            ],
            [
             0.2222222222222222,
             "#7201a8"
            ],
            [
             0.3333333333333333,
             "#9c179e"
            ],
            [
             0.4444444444444444,
             "#bd3786"
            ],
            [
             0.5555555555555556,
             "#d8576b"
            ],
            [
             0.6666666666666666,
             "#ed7953"
            ],
            [
             0.7777777777777778,
             "#fb9f3a"
            ],
            [
             0.8888888888888888,
             "#fdca26"
            ],
            [
             1.0,
             "#f0f921"
            ]
           ],
           "diverging": [
            [
             0,
             "#8e0152"
            ],
            [
             0.1,
             "#c51b7d"
            ],
            [
             0.2,
             "#de77ae"
            ],
            [
             0.3,
             "#f1b6da"
            ],
            [
             0.4,
             "#fde0ef"
            ],
            [
             0.5,
             "#f7f7f7"
            ],
            [
             0.6,
             "#e6f5d0"
            ],
            [
             0.7,
             "#b8e186"
            ],
            [
             0.8,
             "#7fbc41"
            ],
            [
             0.9,
             "#4d9221"
            ],
            [
             1,
             "#276419"
            ]
           ]
          },
          "xaxis": {
           "gridcolor": "#283442",
           "linecolor": "#506784",
           "ticks": "",
           "title": {
            "standoff": 15
           },
           "zerolinecolor": "#283442",
           "automargin": true,
           "zerolinewidth": 2
          },
          "yaxis": {
           "gridcolor": "#283442",
           "linecolor": "#506784",
           "ticks": "",
           "title": {
            "standoff": 15
           },
           "zerolinecolor": "#283442",
           "automargin": true,
           "zerolinewidth": 2
          },
          "scene": {
           "xaxis": {
            "backgroundcolor": "rgb(17,17,17)",
            "gridcolor": "#506784",
            "linecolor": "#506784",
            "showbackground": true,
            "ticks": "",
            "zerolinecolor": "#C8D4E3",
            "gridwidth": 2
           },
           "yaxis": {
            "backgroundcolor": "rgb(17,17,17)",
            "gridcolor": "#506784",
            "linecolor": "#506784",
            "showbackground": true,
            "ticks": "",
            "zerolinecolor": "#C8D4E3",
            "gridwidth": 2
           },
           "zaxis": {
            "backgroundcolor": "rgb(17,17,17)",
            "gridcolor": "#506784",
            "linecolor": "#506784",
            "showbackground": true,
            "ticks": "",
            "zerolinecolor": "#C8D4E3",
            "gridwidth": 2
           }
          },
          "shapedefaults": {
           "line": {
            "color": "#f2f5fa"
           }
          },
          "annotationdefaults": {
           "arrowcolor": "#f2f5fa",
           "arrowhead": 0,
           "arrowwidth": 1
          },
          "geo": {
           "bgcolor": "rgb(17,17,17)",
           "landcolor": "rgb(17,17,17)",
           "subunitcolor": "#506784",
           "showland": true,
           "showlakes": true,
           "lakecolor": "rgb(17,17,17)"
          },
          "title": {
           "x": 0.05
          },
          "updatemenudefaults": {
           "bgcolor": "#506784",
           "borderwidth": 0
          },
          "sliderdefaults": {
           "bgcolor": "#C8D4E3",
           "borderwidth": 1,
           "bordercolor": "rgb(17,17,17)",
           "tickwidth": 0
          },
          "mapbox": {
           "style": "dark"
          }
         }
        },
        "mapbox": {
         "domain": {
          "x": [
           0.0,
           1.0
          ],
          "y": [
           0.0,
           1.0
          ]
         },
         "center": {
          "lat": 34.0007,
          "lon": -81.0348
         },
         "accesstoken": "pk.eyJ1IjoibWlja3RoZWxpbnV4Z2VlayIsImEiOiJjbDQzN3U0YTUwODk5M3BxbnJtZjVweDJ1In0.jyMNmtV_85OzRrfmDsQXrg\n",
         "zoom": 7.5,
         "style": "streets"
        },
        "coloraxis": {
         "colorbar": {
          "title": {
           "text": "cdi"
          }
         },
         "colorscale": [
          [
           0.0,
           "#0d0887"
          ],
          [
           0.1111111111111111,
           "#46039f"
          ],
          [
           0.2222222222222222,
           "#7201a8"
          ],
          [
           0.3333333333333333,
           "#9c179e"
          ],
          [
           0.4444444444444444,
           "#bd3786"
          ],
          [
           0.5555555555555556,
           "#d8576b"
          ],
          [
           0.6666666666666666,
           "#ed7953"
          ],
          [
           0.7777777777777778,
           "#fb9f3a"
          ],
          [
           0.8888888888888888,
           "#fdca26"
          ],
          [
           1.0,
           "#f0f921"
          ]
         ],
         "cmin": 0.0,
         "cmax": 10.0
        },
        "legend": {
         "tracegroupgap": 0
        },
        "margin": {
         "t": 0,
         "b": 0,
         "l": 0,
         "r": 0
        },
        "autosize": true,
        "showlegend": true
       },
       "config": {
        "plotlyServerURL": "https://plot.ly"
       }
      },
      "text/html": "<div>                            <div id=\"622da8c6-f3c8-4843-a128-8726e30281b1\" class=\"plotly-graph-div\" style=\"height:525px; width:100%;\"></div>            <script type=\"text/javascript\">                require([\"plotly\"], function(Plotly) {                    window.PLOTLYENV=window.PLOTLYENV || {};                                    if (document.getElementById(\"622da8c6-f3c8-4843-a128-8726e30281b1\")) {                    Plotly.newPlot(                        \"622da8c6-f3c8-4843-a128-8726e30281b1\",                        [{\"coloraxis\":\"coloraxis\",\"customdata\":[[\"UTM:(17S 0472 3760 1000)<br>UTM:(17S 0472 3760 1000)\",1,2.0],[\"UTM:(17S 0490 3751 1000)<br>UTM:(17S 0490 3751 1000)\",1,2.7],[\"UTM:(17S 0505 3759 1000)<br>UTM:(17S 0505 3759 1000)\",1,2.2],[\"UTM:(17S 0508 3758 1000)<br>UTM:(17S 0508 3758 1000)\",1,2.7],[\"UTM:(17S 0512 3780 1000)<br>UTM:(17S 0512 3780 1000)\",1,4.3],[\"UTM:(17S 0516 3753 1000)<br>UTM:(17S 0516 3753 1000)\",1,2.2],[\"UTM:(17S 0518 3750 1000)<br>UTM:(17S 0518 3750 1000)\",2,2.0],[\"UTM:(17S 0522 3757 1000)<br>UTM:(17S 0522 3757 1000)\",1,2.5],[\"UTM:(17S 0680 3724 1000)<br>UTM:(17S 0680 3724 1000)\",1,2.2]],\"geojson\":{\"type\":\"FeatureCollection\",\"features\":[{\"id\":\"0\",\"type\":\"Feature\",\"properties\":{},\"geometry\":{\"type\":\"Polygon\",\"coordinates\":[[[-81.30313,33.98018],[-81.2923,33.9802],[-81.29233,33.98922],[-81.30316,33.9892],[-81.30313,33.98018]]]},\"bbox\":[-81.30316,33.98018,-81.2923,33.98922]},{\"id\":\"1\",\"type\":\"Feature\",\"properties\":{},\"geometry\":{\"type\":\"Polygon\",\"coordinates\":[[[-81.10815,33.89933],[-81.09734,33.89934],[-81.09735,33.90836],[-81.10817,33.90835],[-81.10815,33.89933]]]},\"bbox\":[-81.10817,33.89933,-81.09734,33.90836]},{\"id\":\"2\",\"type\":\"Feature\",\"properties\":{},\"geometry\":{\"type\":\"Polygon\",\"coordinates\":[[[-80.94587,33.97152],[-80.93504,33.97151],[-80.93504,33.98053],[-80.94586,33.98054],[-80.94587,33.97152]]]},\"bbox\":[-80.94587,33.97151,-80.93504,33.98054]},{\"id\":\"3\",\"type\":\"Feature\",\"properties\":{},\"geometry\":{\"type\":\"Polygon\",\"coordinates\":[[[-80.9134,33.96248],[-80.90258,33.96247],[-80.90257,33.97149],[-80.91339,33.9715],[-80.9134,33.96248]]]},\"bbox\":[-80.9134,33.96247,-80.90257,33.9715]},{\"id\":\"4\",\"type\":\"Feature\",\"properties\":{},\"geometry\":{\"type\":\"Polygon\",\"coordinates\":[[[-80.86981,34.16086],[-80.85896,34.16085],[-80.85894,34.16986],[-80.86979,34.16988],[-80.86981,34.16086]]]},\"bbox\":[-80.86981,34.16085,-80.85894,34.16988]},{\"id\":\"5\",\"type\":\"Feature\",\"properties\":{},\"geometry\":{\"type\":\"Polygon\",\"coordinates\":[[[-80.8269,33.9173],[-80.81609,33.91728],[-80.81607,33.9263],[-80.82689,33.92631],[-80.8269,33.9173]]]},\"bbox\":[-80.8269,33.91728,-80.81607,33.92631]},{\"id\":\"6\",\"type\":\"Feature\",\"properties\":{},\"geometry\":{\"type\":\"Polygon\",\"coordinates\":[[[-80.80533,33.89021],[-80.79452,33.89019],[-80.79449,33.89921],[-80.80531,33.89923],[-80.80533,33.89021]]]},\"bbox\":[-80.80533,33.89019,-80.79449,33.89923]},{\"id\":\"7\",\"type\":\"Feature\",\"properties\":{},\"geometry\":{\"type\":\"Polygon\",\"coordinates\":[[[-80.7619,33.95326],[-80.75107,33.95324],[-80.75105,33.96226],[-80.76187,33.96228],[-80.7619,33.95326]]]},\"bbox\":[-80.7619,33.95324,-80.75105,33.96228]},{\"id\":\"8\",\"type\":\"Feature\",\"properties\":{},\"geometry\":{\"type\":\"Polygon\",\"coordinates\":[[[-79.05912,33.64062],[-79.04835,33.64045],[-79.04814,33.64947],[-79.05892,33.64964],[-79.05912,33.64062]]]},\"bbox\":[-79.05912,33.64045,-79.04814,33.64964]}],\"bbox\":[-81.30316,33.64045,-79.04814,34.16988]},\"hovertemplate\":\"index=%{location}<br>name=%{customdata[0]}<br>nresp=%{customdata[1]}<br>cdi=%{z}<extra></extra>\",\"locations\":[0,1,2,3,4,5,6,7,8],\"name\":\"\",\"subplot\":\"mapbox\",\"z\":[2.0,2.7,2.2,2.7,4.3,2.2,2.0,2.5,2.2],\"type\":\"choroplethmapbox\"},{\"hovertemplate\":\"%{lon}, %{lat}<extra></extra>\",\"lat\":[34.170983],\"lon\":[-80.794252],\"marker\":{\"opacity\":1,\"size\":12,\"symbol\":[\"star\"]},\"mode\":\"markers+lines\",\"showlegend\":false,\"type\":\"scattermapbox\"}],                        {\"template\":{\"data\":{\"histogram2dcontour\":[{\"type\":\"histogram2dcontour\",\"colorbar\":{\"outlinewidth\":0,\"ticks\":\"\"},\"colorscale\":[[0.0,\"#0d0887\"],[0.1111111111111111,\"#46039f\"],[0.2222222222222222,\"#7201a8\"],[0.3333333333333333,\"#9c179e\"],[0.4444444444444444,\"#bd3786\"],[0.5555555555555556,\"#d8576b\"],[0.6666666666666666,\"#ed7953\"],[0.7777777777777778,\"#fb9f3a\"],[0.8888888888888888,\"#fdca26\"],[1.0,\"#f0f921\"]]}],\"choropleth\":[{\"type\":\"choropleth\",\"colorbar\":{\"outlinewidth\":0,\"ticks\":\"\"}}],\"histogram2d\":[{\"type\":\"histogram2d\",\"colorbar\":{\"outlinewidth\":0,\"ticks\":\"\"},\"colorscale\":[[0.0,\"#0d0887\"],[0.1111111111111111,\"#46039f\"],[0.2222222222222222,\"#7201a8\"],[0.3333333333333333,\"#9c179e\"],[0.4444444444444444,\"#bd3786\"],[0.5555555555555556,\"#d8576b\"],[0.6666666666666666,\"#ed7953\"],[0.7777777777777778,\"#fb9f3a\"],[0.8888888888888888,\"#fdca26\"],[1.0,\"#f0f921\"]]}],\"heatmap\":[{\"type\":\"heatmap\",\"colorbar\":{\"outlinewidth\":0,\"ticks\":\"\"},\"colorscale\":[[0.0,\"#0d0887\"],[0.1111111111111111,\"#46039f\"],[0.2222222222222222,\"#7201a8\"],[0.3333333333333333,\"#9c179e\"],[0.4444444444444444,\"#bd3786\"],[0.5555555555555556,\"#d8576b\"],[0.6666666666666666,\"#ed7953\"],[0.7777777777777778,\"#fb9f3a\"],[0.8888888888888888,\"#fdca26\"],[1.0,\"#f0f921\"]]}],\"heatmapgl\":[{\"type\":\"heatmapgl\",\"colorbar\":{\"outlinewidth\":0,\"ticks\":\"\"},\"colorscale\":[[0.0,\"#0d0887\"],[0.1111111111111111,\"#46039f\"],[0.2222222222222222,\"#7201a8\"],[0.3333333333333333,\"#9c179e\"],[0.4444444444444444,\"#bd3786\"],[0.5555555555555556,\"#d8576b\"],[0.6666666666666666,\"#ed7953\"],[0.7777777777777778,\"#fb9f3a\"],[0.8888888888888888,\"#fdca26\"],[1.0,\"#f0f921\"]]}],\"contourcarpet\":[{\"type\":\"contourcarpet\",\"colorbar\":{\"outlinewidth\":0,\"ticks\":\"\"}}],\"contour\":[{\"type\":\"contour\",\"colorbar\":{\"outlinewidth\":0,\"ticks\":\"\"},\"colorscale\":[[0.0,\"#0d0887\"],[0.1111111111111111,\"#46039f\"],[0.2222222222222222,\"#7201a8\"],[0.3333333333333333,\"#9c179e\"],[0.4444444444444444,\"#bd3786\"],[0.5555555555555556,\"#d8576b\"],[0.6666666666666666,\"#ed7953\"],[0.7777777777777778,\"#fb9f3a\"],[0.8888888888888888,\"#fdca26\"],[1.0,\"#f0f921\"]]}],\"surface\":[{\"type\":\"surface\",\"colorbar\":{\"outlinewidth\":0,\"ticks\":\"\"},\"colorscale\":[[0.0,\"#0d0887\"],[0.1111111111111111,\"#46039f\"],[0.2222222222222222,\"#7201a8\"],[0.3333333333333333,\"#9c179e\"],[0.4444444444444444,\"#bd3786\"],[0.5555555555555556,\"#d8576b\"],[0.6666666666666666,\"#ed7953\"],[0.7777777777777778,\"#fb9f3a\"],[0.8888888888888888,\"#fdca26\"],[1.0,\"#f0f921\"]]}],\"mesh3d\":[{\"type\":\"mesh3d\",\"colorbar\":{\"outlinewidth\":0,\"ticks\":\"\"}}],\"scatter\":[{\"marker\":{\"line\":{\"color\":\"#283442\"}},\"type\":\"scatter\"}],\"parcoords\":[{\"type\":\"parcoords\",\"line\":{\"colorbar\":{\"outlinewidth\":0,\"ticks\":\"\"}}}],\"scatterpolargl\":[{\"type\":\"scatterpolargl\",\"marker\":{\"colorbar\":{\"outlinewidth\":0,\"ticks\":\"\"}}}],\"bar\":[{\"error_x\":{\"color\":\"#f2f5fa\"},\"error_y\":{\"color\":\"#f2f5fa\"},\"marker\":{\"line\":{\"color\":\"rgb(17,17,17)\",\"width\":0.5},\"pattern\":{\"fillmode\":\"overlay\",\"size\":10,\"solidity\":0.2}},\"type\":\"bar\"}],\"scattergeo\":[{\"type\":\"scattergeo\",\"marker\":{\"colorbar\":{\"outlinewidth\":0,\"ticks\":\"\"}}}],\"scatterpolar\":[{\"type\":\"scatterpolar\",\"marker\":{\"colorbar\":{\"outlinewidth\":0,\"ticks\":\"\"}}}],\"histogram\":[{\"marker\":{\"pattern\":{\"fillmode\":\"overlay\",\"size\":10,\"solidity\":0.2}},\"type\":\"histogram\"}],\"scattergl\":[{\"marker\":{\"line\":{\"color\":\"#283442\"}},\"type\":\"scattergl\"}],\"scatter3d\":[{\"type\":\"scatter3d\",\"line\":{\"colorbar\":{\"outlinewidth\":0,\"ticks\":\"\"}},\"marker\":{\"colorbar\":{\"outlinewidth\":0,\"ticks\":\"\"}}}],\"scattermapbox\":[{\"type\":\"scattermapbox\",\"marker\":{\"colorbar\":{\"outlinewidth\":0,\"ticks\":\"\"}}}],\"scatterternary\":[{\"type\":\"scatterternary\",\"marker\":{\"colorbar\":{\"outlinewidth\":0,\"ticks\":\"\"}}}],\"scattercarpet\":[{\"type\":\"scattercarpet\",\"marker\":{\"colorbar\":{\"outlinewidth\":0,\"ticks\":\"\"}}}],\"carpet\":[{\"aaxis\":{\"endlinecolor\":\"#A2B1C6\",\"gridcolor\":\"#506784\",\"linecolor\":\"#506784\",\"minorgridcolor\":\"#506784\",\"startlinecolor\":\"#A2B1C6\"},\"baxis\":{\"endlinecolor\":\"#A2B1C6\",\"gridcolor\":\"#506784\",\"linecolor\":\"#506784\",\"minorgridcolor\":\"#506784\",\"startlinecolor\":\"#A2B1C6\"},\"type\":\"carpet\"}],\"table\":[{\"cells\":{\"fill\":{\"color\":\"#506784\"},\"line\":{\"color\":\"rgb(17,17,17)\"}},\"header\":{\"fill\":{\"color\":\"#2a3f5f\"},\"line\":{\"color\":\"rgb(17,17,17)\"}},\"type\":\"table\"}],\"barpolar\":[{\"marker\":{\"line\":{\"color\":\"rgb(17,17,17)\",\"width\":0.5},\"pattern\":{\"fillmode\":\"overlay\",\"size\":10,\"solidity\":0.2}},\"type\":\"barpolar\"}],\"pie\":[{\"automargin\":true,\"type\":\"pie\"}]},\"layout\":{\"autotypenumbers\":\"strict\",\"colorway\":[\"#636efa\",\"#EF553B\",\"#00cc96\",\"#ab63fa\",\"#FFA15A\",\"#19d3f3\",\"#FF6692\",\"#B6E880\",\"#FF97FF\",\"#FECB52\"],\"font\":{\"color\":\"#f2f5fa\"},\"hovermode\":\"closest\",\"hoverlabel\":{\"align\":\"left\"},\"paper_bgcolor\":\"rgb(17,17,17)\",\"plot_bgcolor\":\"rgb(17,17,17)\",\"polar\":{\"bgcolor\":\"rgb(17,17,17)\",\"angularaxis\":{\"gridcolor\":\"#506784\",\"linecolor\":\"#506784\",\"ticks\":\"\"},\"radialaxis\":{\"gridcolor\":\"#506784\",\"linecolor\":\"#506784\",\"ticks\":\"\"}},\"ternary\":{\"bgcolor\":\"rgb(17,17,17)\",\"aaxis\":{\"gridcolor\":\"#506784\",\"linecolor\":\"#506784\",\"ticks\":\"\"},\"baxis\":{\"gridcolor\":\"#506784\",\"linecolor\":\"#506784\",\"ticks\":\"\"},\"caxis\":{\"gridcolor\":\"#506784\",\"linecolor\":\"#506784\",\"ticks\":\"\"}},\"coloraxis\":{\"colorbar\":{\"outlinewidth\":0,\"ticks\":\"\"}},\"colorscale\":{\"sequential\":[[0.0,\"#0d0887\"],[0.1111111111111111,\"#46039f\"],[0.2222222222222222,\"#7201a8\"],[0.3333333333333333,\"#9c179e\"],[0.4444444444444444,\"#bd3786\"],[0.5555555555555556,\"#d8576b\"],[0.6666666666666666,\"#ed7953\"],[0.7777777777777778,\"#fb9f3a\"],[0.8888888888888888,\"#fdca26\"],[1.0,\"#f0f921\"]],\"sequentialminus\":[[0.0,\"#0d0887\"],[0.1111111111111111,\"#46039f\"],[0.2222222222222222,\"#7201a8\"],[0.3333333333333333,\"#9c179e\"],[0.4444444444444444,\"#bd3786\"],[0.5555555555555556,\"#d8576b\"],[0.6666666666666666,\"#ed7953\"],[0.7777777777777778,\"#fb9f3a\"],[0.8888888888888888,\"#fdca26\"],[1.0,\"#f0f921\"]],\"diverging\":[[0,\"#8e0152\"],[0.1,\"#c51b7d\"],[0.2,\"#de77ae\"],[0.3,\"#f1b6da\"],[0.4,\"#fde0ef\"],[0.5,\"#f7f7f7\"],[0.6,\"#e6f5d0\"],[0.7,\"#b8e186\"],[0.8,\"#7fbc41\"],[0.9,\"#4d9221\"],[1,\"#276419\"]]},\"xaxis\":{\"gridcolor\":\"#283442\",\"linecolor\":\"#506784\",\"ticks\":\"\",\"title\":{\"standoff\":15},\"zerolinecolor\":\"#283442\",\"automargin\":true,\"zerolinewidth\":2},\"yaxis\":{\"gridcolor\":\"#283442\",\"linecolor\":\"#506784\",\"ticks\":\"\",\"title\":{\"standoff\":15},\"zerolinecolor\":\"#283442\",\"automargin\":true,\"zerolinewidth\":2},\"scene\":{\"xaxis\":{\"backgroundcolor\":\"rgb(17,17,17)\",\"gridcolor\":\"#506784\",\"linecolor\":\"#506784\",\"showbackground\":true,\"ticks\":\"\",\"zerolinecolor\":\"#C8D4E3\",\"gridwidth\":2},\"yaxis\":{\"backgroundcolor\":\"rgb(17,17,17)\",\"gridcolor\":\"#506784\",\"linecolor\":\"#506784\",\"showbackground\":true,\"ticks\":\"\",\"zerolinecolor\":\"#C8D4E3\",\"gridwidth\":2},\"zaxis\":{\"backgroundcolor\":\"rgb(17,17,17)\",\"gridcolor\":\"#506784\",\"linecolor\":\"#506784\",\"showbackground\":true,\"ticks\":\"\",\"zerolinecolor\":\"#C8D4E3\",\"gridwidth\":2}},\"shapedefaults\":{\"line\":{\"color\":\"#f2f5fa\"}},\"annotationdefaults\":{\"arrowcolor\":\"#f2f5fa\",\"arrowhead\":0,\"arrowwidth\":1},\"geo\":{\"bgcolor\":\"rgb(17,17,17)\",\"landcolor\":\"rgb(17,17,17)\",\"subunitcolor\":\"#506784\",\"showland\":true,\"showlakes\":true,\"lakecolor\":\"rgb(17,17,17)\"},\"title\":{\"x\":0.05},\"updatemenudefaults\":{\"bgcolor\":\"#506784\",\"borderwidth\":0},\"sliderdefaults\":{\"bgcolor\":\"#C8D4E3\",\"borderwidth\":1,\"bordercolor\":\"rgb(17,17,17)\",\"tickwidth\":0},\"mapbox\":{\"style\":\"dark\"}}},\"mapbox\":{\"domain\":{\"x\":[0.0,1.0],\"y\":[0.0,1.0]},\"center\":{\"lat\":34.0007,\"lon\":-81.0348},\"accesstoken\":\"pk.eyJ1IjoibWlja3RoZWxpbnV4Z2VlayIsImEiOiJjbDQzN3U0YTUwODk5M3BxbnJtZjVweDJ1In0.jyMNmtV_85OzRrfmDsQXrg\\n\",\"zoom\":7.5,\"style\":\"streets\"},\"coloraxis\":{\"colorbar\":{\"title\":{\"text\":\"cdi\"}},\"colorscale\":[[0.0,\"#0d0887\"],[0.1111111111111111,\"#46039f\"],[0.2222222222222222,\"#7201a8\"],[0.3333333333333333,\"#9c179e\"],[0.4444444444444444,\"#bd3786\"],[0.5555555555555556,\"#d8576b\"],[0.6666666666666666,\"#ed7953\"],[0.7777777777777778,\"#fb9f3a\"],[0.8888888888888888,\"#fdca26\"],[1.0,\"#f0f921\"]],\"cmin\":0.0,\"cmax\":10.0},\"legend\":{\"tracegroupgap\":0},\"margin\":{\"t\":0,\"b\":0,\"l\":0,\"r\":0},\"autosize\":true,\"showlegend\":true},                        {\"responsive\": true}                    ).then(function(){\n                            \nvar gd = document.getElementById('622da8c6-f3c8-4843-a128-8726e30281b1');\nvar x = new MutationObserver(function (mutations, observer) {{\n        var display = window.getComputedStyle(gd).display;\n        if (!display || display === 'none') {{\n            console.log([gd, 'removed!']);\n            Plotly.purge(gd);\n            observer.disconnect();\n        }}\n}});\n\n// Listen for the removal of the full notebook cells\nvar notebookContainer = gd.closest('#notebook-container');\nif (notebookContainer) {{\n    x.observe(notebookContainer, {childList: true});\n}}\n\n// Listen for the clearing of the current output cell\nvar outputEl = gd.closest('.output');\nif (outputEl) {{\n    x.observe(outputEl, {childList: true});\n}}\n\n                        })                };                });            </script>        </div>"
     },
     "metadata": {},
     "output_type": "display_data"
    }
   ],
   "source": [
    "fig = px.choropleth_mapbox(utm1km_geo_df,\n",
    "                           geojson=utm1km_geo_df.geometry,\n",
    "                           locations=utm1km_geo_df.index,\n",
    "                           color=\"cdi\",\n",
    "                           range_color=[0.0, 10.0],\n",
    "                           center={\"lat\": 34.0007, \"lon\": -81.0348},\n",
    "                           hover_data=[\"name\", \"nresp\", \"cdi\"],\n",
    "                           mapbox_style=\"streets\",\n",
    "                           zoom=7.5)\n",
    "\n",
    "fig.add_trace(go.Scattermapbox(lon=[-80.794252],\n",
    "                               lat=[34.170983],\n",
    "                               showlegend=False,\n",
    "                               mode='markers+lines',\n",
    "                               marker={'size': 12, 'opacity': 1, 'symbol': ['star']},\n",
    "                               hovertemplate='%{lon}, %{lat}<extra></extra>',))\n",
    "\n",
    "fig.update_layout(autosize=True, margin=dict(t=0, b=0, l=0, r=0), showlegend=True)\n",
    "\n",
    "fig.show()"
   ],
   "metadata": {
    "collapsed": false
   }
  },
  {
   "cell_type": "markdown",
   "source": [
    "#### DYFI Choropleth Mapbox Plot - 10km Spacing"
   ],
   "metadata": {
    "collapsed": false
   }
  },
  {
   "cell_type": "code",
   "execution_count": 25,
   "outputs": [
    {
     "data": {
      "application/vnd.plotly.v1+json": {
       "data": [
        {
         "coloraxis": "coloraxis",
         "customdata": [
          [
           "UTM:(17S 047 376 10000)<br>Lexington",
           1,
           2.0
          ],
          [
           "UTM:(17S 049 375 10000)<br>West Columbia",
           1,
           2.7
          ],
          [
           "UTM:(17S 050 375 10000)<br>Columbia",
           2,
           2.5
          ],
          [
           "UTM:(17S 051 375 10000)<br>Hopkins",
           3,
           2.0
          ],
          [
           "UTM:(17S 051 378 10000)<br>Elgin",
           1,
           4.3
          ],
          [
           "UTM:(17S 052 375 10000)<br>Eastover",
           1,
           2.5
          ],
          [
           "UTM:(17S 068 372 10000)<br>Myrtle Beach",
           1,
           2.2
          ]
         ],
         "geojson": {
          "type": "FeatureCollection",
          "features": [
           {
            "id": "0",
            "type": "Feature",
            "properties": {},
            "geometry": {
             "type": "Polygon",
             "coordinates": [
              [
               [
                -81.32478,
                33.98012
               ],
               [
                -81.21652,
                33.98036
               ],
               [
                -81.21675,
                34.07055
               ],
               [
                -81.32512,
                34.07031
               ],
               [
                -81.32478,
                33.98012
               ]
              ]
             ]
            },
            "bbox": [
             -81.32512,
             33.98012,
             -81.21652,
             34.07055
            ]
           },
           {
            "id": "1",
            "type": "Feature",
            "properties": {},
            "geometry": {
             "type": "Polygon",
             "coordinates": [
              [
               [
                -81.10814,
                33.89031
               ],
               [
                -81.0,
                33.89036
               ],
               [
                -81.0,
                33.98055
               ],
               [
                -81.10826,
                33.9805
               ],
               [
                -81.10814,
                33.89031
               ]
              ]
             ]
            },
            "bbox": [
             -81.10826,
             33.89031,
             -81.0,
             33.98055
            ]
           },
           {
            "id": "2",
            "type": "Feature",
            "properties": {},
            "geometry": {
             "type": "Polygon",
             "coordinates": [
              [
               [
                -81.0,
                33.89036
               ],
               [
                -80.89185,
                33.89031
               ],
               [
                -80.89173,
                33.9805
               ],
               [
                -81.0,
                33.98055
               ],
               [
                -81.0,
                33.89036
               ]
              ]
             ]
            },
            "bbox": [
             -81.0,
             33.89031,
             -80.89173,
             33.98055
            ]
           },
           {
            "id": "3",
            "type": "Feature",
            "properties": {},
            "geometry": {
             "type": "Polygon",
             "coordinates": [
              [
               [
                -80.89185,
                33.89031
               ],
               [
                -80.7837,
                33.89017
               ],
               [
                -80.78347,
                33.98036
               ],
               [
                -80.89173,
                33.9805
               ],
               [
                -80.89185,
                33.89031
               ]
              ]
             ]
            },
            "bbox": [
             -80.89185,
             33.89017,
             -80.78347,
             33.9805
            ]
           },
           {
            "id": "4",
            "type": "Feature",
            "properties": {},
            "geometry": {
             "type": "Polygon",
             "coordinates": [
              [
               [
                -80.8915,
                34.16088
               ],
               [
                -80.78301,
                34.16073
               ],
               [
                -80.78278,
                34.25092
               ],
               [
                -80.89139,
                34.25106
               ],
               [
                -80.8915,
                34.16088
               ]
              ]
             ]
            },
            "bbox": [
             -80.8915,
             34.16073,
             -80.78278,
             34.25106
            ]
           },
           {
            "id": "5",
            "type": "Feature",
            "properties": {},
            "geometry": {
             "type": "Polygon",
             "coordinates": [
              [
               [
                -80.7837,
                33.89017
               ],
               [
                -80.67555,
                33.88993
               ],
               [
                -80.67521,
                33.98012
               ],
               [
                -80.78347,
                33.98036
               ],
               [
                -80.7837,
                33.89017
               ]
              ]
             ]
            },
            "bbox": [
             -80.7837,
             33.88993,
             -80.67521,
             33.98036
            ]
           },
           {
            "id": "6",
            "type": "Feature",
            "properties": {},
            "geometry": {
             "type": "Polygon",
             "coordinates": [
              [
               [
                -79.05993,
                33.60457
               ],
               [
                -78.95221,
                33.60283
               ],
               [
                -78.95007,
                33.69297
               ],
               [
                -79.05791,
                33.69471
               ],
               [
                -79.05993,
                33.60457
               ]
              ]
             ]
            },
            "bbox": [
             -79.05993,
             33.60283,
             -78.95007,
             33.69471
            ]
           }
          ],
          "bbox": [
           -81.32512,
           33.60283,
           -78.95007,
           34.25106
          ]
         },
         "hovertemplate": "index=%{location}<br>name=%{customdata[0]}<br>nresp=%{customdata[1]}<br>cdi=%{z}<extra></extra>",
         "locations": [
          0,
          1,
          2,
          3,
          4,
          5,
          6
         ],
         "marker": {
          "opacity": 0.35
         },
         "name": "",
         "subplot": "mapbox",
         "z": [
          2.0,
          2.7,
          2.5,
          2.0,
          4.3,
          2.5,
          2.2
         ],
         "type": "choroplethmapbox"
        },
        {
         "hovertemplate": "%{lon}, %{lat}<extra></extra>",
         "lat": [
          34.170983
         ],
         "lon": [
          -80.794252
         ],
         "marker": {
          "opacity": 1,
          "size": 12,
          "symbol": [
           "star"
          ]
         },
         "mode": "markers+lines",
         "showlegend": false,
         "type": "scattermapbox"
        }
       ],
       "layout": {
        "template": {
         "data": {
          "histogram2dcontour": [
           {
            "type": "histogram2dcontour",
            "colorbar": {
             "outlinewidth": 0,
             "ticks": ""
            },
            "colorscale": [
             [
              0.0,
              "#0d0887"
             ],
             [
              0.1111111111111111,
              "#46039f"
             ],
             [
              0.2222222222222222,
              "#7201a8"
             ],
             [
              0.3333333333333333,
              "#9c179e"
             ],
             [
              0.4444444444444444,
              "#bd3786"
             ],
             [
              0.5555555555555556,
              "#d8576b"
             ],
             [
              0.6666666666666666,
              "#ed7953"
             ],
             [
              0.7777777777777778,
              "#fb9f3a"
             ],
             [
              0.8888888888888888,
              "#fdca26"
             ],
             [
              1.0,
              "#f0f921"
             ]
            ]
           }
          ],
          "choropleth": [
           {
            "type": "choropleth",
            "colorbar": {
             "outlinewidth": 0,
             "ticks": ""
            }
           }
          ],
          "histogram2d": [
           {
            "type": "histogram2d",
            "colorbar": {
             "outlinewidth": 0,
             "ticks": ""
            },
            "colorscale": [
             [
              0.0,
              "#0d0887"
             ],
             [
              0.1111111111111111,
              "#46039f"
             ],
             [
              0.2222222222222222,
              "#7201a8"
             ],
             [
              0.3333333333333333,
              "#9c179e"
             ],
             [
              0.4444444444444444,
              "#bd3786"
             ],
             [
              0.5555555555555556,
              "#d8576b"
             ],
             [
              0.6666666666666666,
              "#ed7953"
             ],
             [
              0.7777777777777778,
              "#fb9f3a"
             ],
             [
              0.8888888888888888,
              "#fdca26"
             ],
             [
              1.0,
              "#f0f921"
             ]
            ]
           }
          ],
          "heatmap": [
           {
            "type": "heatmap",
            "colorbar": {
             "outlinewidth": 0,
             "ticks": ""
            },
            "colorscale": [
             [
              0.0,
              "#0d0887"
             ],
             [
              0.1111111111111111,
              "#46039f"
             ],
             [
              0.2222222222222222,
              "#7201a8"
             ],
             [
              0.3333333333333333,
              "#9c179e"
             ],
             [
              0.4444444444444444,
              "#bd3786"
             ],
             [
              0.5555555555555556,
              "#d8576b"
             ],
             [
              0.6666666666666666,
              "#ed7953"
             ],
             [
              0.7777777777777778,
              "#fb9f3a"
             ],
             [
              0.8888888888888888,
              "#fdca26"
             ],
             [
              1.0,
              "#f0f921"
             ]
            ]
           }
          ],
          "heatmapgl": [
           {
            "type": "heatmapgl",
            "colorbar": {
             "outlinewidth": 0,
             "ticks": ""
            },
            "colorscale": [
             [
              0.0,
              "#0d0887"
             ],
             [
              0.1111111111111111,
              "#46039f"
             ],
             [
              0.2222222222222222,
              "#7201a8"
             ],
             [
              0.3333333333333333,
              "#9c179e"
             ],
             [
              0.4444444444444444,
              "#bd3786"
             ],
             [
              0.5555555555555556,
              "#d8576b"
             ],
             [
              0.6666666666666666,
              "#ed7953"
             ],
             [
              0.7777777777777778,
              "#fb9f3a"
             ],
             [
              0.8888888888888888,
              "#fdca26"
             ],
             [
              1.0,
              "#f0f921"
             ]
            ]
           }
          ],
          "contourcarpet": [
           {
            "type": "contourcarpet",
            "colorbar": {
             "outlinewidth": 0,
             "ticks": ""
            }
           }
          ],
          "contour": [
           {
            "type": "contour",
            "colorbar": {
             "outlinewidth": 0,
             "ticks": ""
            },
            "colorscale": [
             [
              0.0,
              "#0d0887"
             ],
             [
              0.1111111111111111,
              "#46039f"
             ],
             [
              0.2222222222222222,
              "#7201a8"
             ],
             [
              0.3333333333333333,
              "#9c179e"
             ],
             [
              0.4444444444444444,
              "#bd3786"
             ],
             [
              0.5555555555555556,
              "#d8576b"
             ],
             [
              0.6666666666666666,
              "#ed7953"
             ],
             [
              0.7777777777777778,
              "#fb9f3a"
             ],
             [
              0.8888888888888888,
              "#fdca26"
             ],
             [
              1.0,
              "#f0f921"
             ]
            ]
           }
          ],
          "surface": [
           {
            "type": "surface",
            "colorbar": {
             "outlinewidth": 0,
             "ticks": ""
            },
            "colorscale": [
             [
              0.0,
              "#0d0887"
             ],
             [
              0.1111111111111111,
              "#46039f"
             ],
             [
              0.2222222222222222,
              "#7201a8"
             ],
             [
              0.3333333333333333,
              "#9c179e"
             ],
             [
              0.4444444444444444,
              "#bd3786"
             ],
             [
              0.5555555555555556,
              "#d8576b"
             ],
             [
              0.6666666666666666,
              "#ed7953"
             ],
             [
              0.7777777777777778,
              "#fb9f3a"
             ],
             [
              0.8888888888888888,
              "#fdca26"
             ],
             [
              1.0,
              "#f0f921"
             ]
            ]
           }
          ],
          "mesh3d": [
           {
            "type": "mesh3d",
            "colorbar": {
             "outlinewidth": 0,
             "ticks": ""
            }
           }
          ],
          "scatter": [
           {
            "marker": {
             "line": {
              "color": "#283442"
             }
            },
            "type": "scatter"
           }
          ],
          "parcoords": [
           {
            "type": "parcoords",
            "line": {
             "colorbar": {
              "outlinewidth": 0,
              "ticks": ""
             }
            }
           }
          ],
          "scatterpolargl": [
           {
            "type": "scatterpolargl",
            "marker": {
             "colorbar": {
              "outlinewidth": 0,
              "ticks": ""
             }
            }
           }
          ],
          "bar": [
           {
            "error_x": {
             "color": "#f2f5fa"
            },
            "error_y": {
             "color": "#f2f5fa"
            },
            "marker": {
             "line": {
              "color": "rgb(17,17,17)",
              "width": 0.5
             },
             "pattern": {
              "fillmode": "overlay",
              "size": 10,
              "solidity": 0.2
             }
            },
            "type": "bar"
           }
          ],
          "scattergeo": [
           {
            "type": "scattergeo",
            "marker": {
             "colorbar": {
              "outlinewidth": 0,
              "ticks": ""
             }
            }
           }
          ],
          "scatterpolar": [
           {
            "type": "scatterpolar",
            "marker": {
             "colorbar": {
              "outlinewidth": 0,
              "ticks": ""
             }
            }
           }
          ],
          "histogram": [
           {
            "marker": {
             "pattern": {
              "fillmode": "overlay",
              "size": 10,
              "solidity": 0.2
             }
            },
            "type": "histogram"
           }
          ],
          "scattergl": [
           {
            "marker": {
             "line": {
              "color": "#283442"
             }
            },
            "type": "scattergl"
           }
          ],
          "scatter3d": [
           {
            "type": "scatter3d",
            "line": {
             "colorbar": {
              "outlinewidth": 0,
              "ticks": ""
             }
            },
            "marker": {
             "colorbar": {
              "outlinewidth": 0,
              "ticks": ""
             }
            }
           }
          ],
          "scattermapbox": [
           {
            "type": "scattermapbox",
            "marker": {
             "colorbar": {
              "outlinewidth": 0,
              "ticks": ""
             }
            }
           }
          ],
          "scatterternary": [
           {
            "type": "scatterternary",
            "marker": {
             "colorbar": {
              "outlinewidth": 0,
              "ticks": ""
             }
            }
           }
          ],
          "scattercarpet": [
           {
            "type": "scattercarpet",
            "marker": {
             "colorbar": {
              "outlinewidth": 0,
              "ticks": ""
             }
            }
           }
          ],
          "carpet": [
           {
            "aaxis": {
             "endlinecolor": "#A2B1C6",
             "gridcolor": "#506784",
             "linecolor": "#506784",
             "minorgridcolor": "#506784",
             "startlinecolor": "#A2B1C6"
            },
            "baxis": {
             "endlinecolor": "#A2B1C6",
             "gridcolor": "#506784",
             "linecolor": "#506784",
             "minorgridcolor": "#506784",
             "startlinecolor": "#A2B1C6"
            },
            "type": "carpet"
           }
          ],
          "table": [
           {
            "cells": {
             "fill": {
              "color": "#506784"
             },
             "line": {
              "color": "rgb(17,17,17)"
             }
            },
            "header": {
             "fill": {
              "color": "#2a3f5f"
             },
             "line": {
              "color": "rgb(17,17,17)"
             }
            },
            "type": "table"
           }
          ],
          "barpolar": [
           {
            "marker": {
             "line": {
              "color": "rgb(17,17,17)",
              "width": 0.5
             },
             "pattern": {
              "fillmode": "overlay",
              "size": 10,
              "solidity": 0.2
             }
            },
            "type": "barpolar"
           }
          ],
          "pie": [
           {
            "automargin": true,
            "type": "pie"
           }
          ]
         },
         "layout": {
          "autotypenumbers": "strict",
          "colorway": [
           "#636efa",
           "#EF553B",
           "#00cc96",
           "#ab63fa",
           "#FFA15A",
           "#19d3f3",
           "#FF6692",
           "#B6E880",
           "#FF97FF",
           "#FECB52"
          ],
          "font": {
           "color": "#f2f5fa"
          },
          "hovermode": "closest",
          "hoverlabel": {
           "align": "left"
          },
          "paper_bgcolor": "rgb(17,17,17)",
          "plot_bgcolor": "rgb(17,17,17)",
          "polar": {
           "bgcolor": "rgb(17,17,17)",
           "angularaxis": {
            "gridcolor": "#506784",
            "linecolor": "#506784",
            "ticks": ""
           },
           "radialaxis": {
            "gridcolor": "#506784",
            "linecolor": "#506784",
            "ticks": ""
           }
          },
          "ternary": {
           "bgcolor": "rgb(17,17,17)",
           "aaxis": {
            "gridcolor": "#506784",
            "linecolor": "#506784",
            "ticks": ""
           },
           "baxis": {
            "gridcolor": "#506784",
            "linecolor": "#506784",
            "ticks": ""
           },
           "caxis": {
            "gridcolor": "#506784",
            "linecolor": "#506784",
            "ticks": ""
           }
          },
          "coloraxis": {
           "colorbar": {
            "outlinewidth": 0,
            "ticks": ""
           }
          },
          "colorscale": {
           "sequential": [
            [
             0.0,
             "#0d0887"
            ],
            [
             0.1111111111111111,
             "#46039f"
            ],
            [
             0.2222222222222222,
             "#7201a8"
            ],
            [
             0.3333333333333333,
             "#9c179e"
            ],
            [
             0.4444444444444444,
             "#bd3786"
            ],
            [
             0.5555555555555556,
             "#d8576b"
            ],
            [
             0.6666666666666666,
             "#ed7953"
            ],
            [
             0.7777777777777778,
             "#fb9f3a"
            ],
            [
             0.8888888888888888,
             "#fdca26"
            ],
            [
             1.0,
             "#f0f921"
            ]
           ],
           "sequentialminus": [
            [
             0.0,
             "#0d0887"
            ],
            [
             0.1111111111111111,
             "#46039f"
            ],
            [
             0.2222222222222222,
             "#7201a8"
            ],
            [
             0.3333333333333333,
             "#9c179e"
            ],
            [
             0.4444444444444444,
             "#bd3786"
            ],
            [
             0.5555555555555556,
             "#d8576b"
            ],
            [
             0.6666666666666666,
             "#ed7953"
            ],
            [
             0.7777777777777778,
             "#fb9f3a"
            ],
            [
             0.8888888888888888,
             "#fdca26"
            ],
            [
             1.0,
             "#f0f921"
            ]
           ],
           "diverging": [
            [
             0,
             "#8e0152"
            ],
            [
             0.1,
             "#c51b7d"
            ],
            [
             0.2,
             "#de77ae"
            ],
            [
             0.3,
             "#f1b6da"
            ],
            [
             0.4,
             "#fde0ef"
            ],
            [
             0.5,
             "#f7f7f7"
            ],
            [
             0.6,
             "#e6f5d0"
            ],
            [
             0.7,
             "#b8e186"
            ],
            [
             0.8,
             "#7fbc41"
            ],
            [
             0.9,
             "#4d9221"
            ],
            [
             1,
             "#276419"
            ]
           ]
          },
          "xaxis": {
           "gridcolor": "#283442",
           "linecolor": "#506784",
           "ticks": "",
           "title": {
            "standoff": 15
           },
           "zerolinecolor": "#283442",
           "automargin": true,
           "zerolinewidth": 2
          },
          "yaxis": {
           "gridcolor": "#283442",
           "linecolor": "#506784",
           "ticks": "",
           "title": {
            "standoff": 15
           },
           "zerolinecolor": "#283442",
           "automargin": true,
           "zerolinewidth": 2
          },
          "scene": {
           "xaxis": {
            "backgroundcolor": "rgb(17,17,17)",
            "gridcolor": "#506784",
            "linecolor": "#506784",
            "showbackground": true,
            "ticks": "",
            "zerolinecolor": "#C8D4E3",
            "gridwidth": 2
           },
           "yaxis": {
            "backgroundcolor": "rgb(17,17,17)",
            "gridcolor": "#506784",
            "linecolor": "#506784",
            "showbackground": true,
            "ticks": "",
            "zerolinecolor": "#C8D4E3",
            "gridwidth": 2
           },
           "zaxis": {
            "backgroundcolor": "rgb(17,17,17)",
            "gridcolor": "#506784",
            "linecolor": "#506784",
            "showbackground": true,
            "ticks": "",
            "zerolinecolor": "#C8D4E3",
            "gridwidth": 2
           }
          },
          "shapedefaults": {
           "line": {
            "color": "#f2f5fa"
           }
          },
          "annotationdefaults": {
           "arrowcolor": "#f2f5fa",
           "arrowhead": 0,
           "arrowwidth": 1
          },
          "geo": {
           "bgcolor": "rgb(17,17,17)",
           "landcolor": "rgb(17,17,17)",
           "subunitcolor": "#506784",
           "showland": true,
           "showlakes": true,
           "lakecolor": "rgb(17,17,17)"
          },
          "title": {
           "x": 0.05
          },
          "updatemenudefaults": {
           "bgcolor": "#506784",
           "borderwidth": 0
          },
          "sliderdefaults": {
           "bgcolor": "#C8D4E3",
           "borderwidth": 1,
           "bordercolor": "rgb(17,17,17)",
           "tickwidth": 0
          },
          "mapbox": {
           "style": "dark"
          }
         }
        },
        "mapbox": {
         "domain": {
          "x": [
           0.0,
           1.0
          ],
          "y": [
           0.0,
           1.0
          ]
         },
         "center": {
          "lat": 34.0007,
          "lon": -81.0348
         },
         "accesstoken": "pk.eyJ1IjoibWlja3RoZWxpbnV4Z2VlayIsImEiOiJjbDQzN3U0YTUwODk5M3BxbnJtZjVweDJ1In0.jyMNmtV_85OzRrfmDsQXrg\n",
         "zoom": 7.5,
         "style": "streets"
        },
        "coloraxis": {
         "colorbar": {
          "title": {
           "text": "cdi"
          }
         },
         "colorscale": [
          [
           0.0,
           "#0d0887"
          ],
          [
           0.1111111111111111,
           "#46039f"
          ],
          [
           0.2222222222222222,
           "#7201a8"
          ],
          [
           0.3333333333333333,
           "#9c179e"
          ],
          [
           0.4444444444444444,
           "#bd3786"
          ],
          [
           0.5555555555555556,
           "#d8576b"
          ],
          [
           0.6666666666666666,
           "#ed7953"
          ],
          [
           0.7777777777777778,
           "#fb9f3a"
          ],
          [
           0.8888888888888888,
           "#fdca26"
          ],
          [
           1.0,
           "#f0f921"
          ]
         ],
         "cmin": 0.0,
         "cmax": 10.0
        },
        "legend": {
         "tracegroupgap": 0
        },
        "margin": {
         "t": 0,
         "b": 0,
         "l": 0,
         "r": 0
        },
        "autosize": true,
        "showlegend": true
       },
       "config": {
        "plotlyServerURL": "https://plot.ly"
       }
      },
      "text/html": "<div>                            <div id=\"df0e76d1-6706-4d93-9be9-6d132163e028\" class=\"plotly-graph-div\" style=\"height:525px; width:100%;\"></div>            <script type=\"text/javascript\">                require([\"plotly\"], function(Plotly) {                    window.PLOTLYENV=window.PLOTLYENV || {};                                    if (document.getElementById(\"df0e76d1-6706-4d93-9be9-6d132163e028\")) {                    Plotly.newPlot(                        \"df0e76d1-6706-4d93-9be9-6d132163e028\",                        [{\"coloraxis\":\"coloraxis\",\"customdata\":[[\"UTM:(17S 047 376 10000)<br>Lexington\",1,2.0],[\"UTM:(17S 049 375 10000)<br>West Columbia\",1,2.7],[\"UTM:(17S 050 375 10000)<br>Columbia\",2,2.5],[\"UTM:(17S 051 375 10000)<br>Hopkins\",3,2.0],[\"UTM:(17S 051 378 10000)<br>Elgin\",1,4.3],[\"UTM:(17S 052 375 10000)<br>Eastover\",1,2.5],[\"UTM:(17S 068 372 10000)<br>Myrtle Beach\",1,2.2]],\"geojson\":{\"type\":\"FeatureCollection\",\"features\":[{\"id\":\"0\",\"type\":\"Feature\",\"properties\":{},\"geometry\":{\"type\":\"Polygon\",\"coordinates\":[[[-81.32478,33.98012],[-81.21652,33.98036],[-81.21675,34.07055],[-81.32512,34.07031],[-81.32478,33.98012]]]},\"bbox\":[-81.32512,33.98012,-81.21652,34.07055]},{\"id\":\"1\",\"type\":\"Feature\",\"properties\":{},\"geometry\":{\"type\":\"Polygon\",\"coordinates\":[[[-81.10814,33.89031],[-81.0,33.89036],[-81.0,33.98055],[-81.10826,33.9805],[-81.10814,33.89031]]]},\"bbox\":[-81.10826,33.89031,-81.0,33.98055]},{\"id\":\"2\",\"type\":\"Feature\",\"properties\":{},\"geometry\":{\"type\":\"Polygon\",\"coordinates\":[[[-81.0,33.89036],[-80.89185,33.89031],[-80.89173,33.9805],[-81.0,33.98055],[-81.0,33.89036]]]},\"bbox\":[-81.0,33.89031,-80.89173,33.98055]},{\"id\":\"3\",\"type\":\"Feature\",\"properties\":{},\"geometry\":{\"type\":\"Polygon\",\"coordinates\":[[[-80.89185,33.89031],[-80.7837,33.89017],[-80.78347,33.98036],[-80.89173,33.9805],[-80.89185,33.89031]]]},\"bbox\":[-80.89185,33.89017,-80.78347,33.9805]},{\"id\":\"4\",\"type\":\"Feature\",\"properties\":{},\"geometry\":{\"type\":\"Polygon\",\"coordinates\":[[[-80.8915,34.16088],[-80.78301,34.16073],[-80.78278,34.25092],[-80.89139,34.25106],[-80.8915,34.16088]]]},\"bbox\":[-80.8915,34.16073,-80.78278,34.25106]},{\"id\":\"5\",\"type\":\"Feature\",\"properties\":{},\"geometry\":{\"type\":\"Polygon\",\"coordinates\":[[[-80.7837,33.89017],[-80.67555,33.88993],[-80.67521,33.98012],[-80.78347,33.98036],[-80.7837,33.89017]]]},\"bbox\":[-80.7837,33.88993,-80.67521,33.98036]},{\"id\":\"6\",\"type\":\"Feature\",\"properties\":{},\"geometry\":{\"type\":\"Polygon\",\"coordinates\":[[[-79.05993,33.60457],[-78.95221,33.60283],[-78.95007,33.69297],[-79.05791,33.69471],[-79.05993,33.60457]]]},\"bbox\":[-79.05993,33.60283,-78.95007,33.69471]}],\"bbox\":[-81.32512,33.60283,-78.95007,34.25106]},\"hovertemplate\":\"index=%{location}<br>name=%{customdata[0]}<br>nresp=%{customdata[1]}<br>cdi=%{z}<extra></extra>\",\"locations\":[0,1,2,3,4,5,6],\"marker\":{\"opacity\":0.35},\"name\":\"\",\"subplot\":\"mapbox\",\"z\":[2.0,2.7,2.5,2.0,4.3,2.5,2.2],\"type\":\"choroplethmapbox\"},{\"hovertemplate\":\"%{lon}, %{lat}<extra></extra>\",\"lat\":[34.170983],\"lon\":[-80.794252],\"marker\":{\"opacity\":1,\"size\":12,\"symbol\":[\"star\"]},\"mode\":\"markers+lines\",\"showlegend\":false,\"type\":\"scattermapbox\"}],                        {\"template\":{\"data\":{\"histogram2dcontour\":[{\"type\":\"histogram2dcontour\",\"colorbar\":{\"outlinewidth\":0,\"ticks\":\"\"},\"colorscale\":[[0.0,\"#0d0887\"],[0.1111111111111111,\"#46039f\"],[0.2222222222222222,\"#7201a8\"],[0.3333333333333333,\"#9c179e\"],[0.4444444444444444,\"#bd3786\"],[0.5555555555555556,\"#d8576b\"],[0.6666666666666666,\"#ed7953\"],[0.7777777777777778,\"#fb9f3a\"],[0.8888888888888888,\"#fdca26\"],[1.0,\"#f0f921\"]]}],\"choropleth\":[{\"type\":\"choropleth\",\"colorbar\":{\"outlinewidth\":0,\"ticks\":\"\"}}],\"histogram2d\":[{\"type\":\"histogram2d\",\"colorbar\":{\"outlinewidth\":0,\"ticks\":\"\"},\"colorscale\":[[0.0,\"#0d0887\"],[0.1111111111111111,\"#46039f\"],[0.2222222222222222,\"#7201a8\"],[0.3333333333333333,\"#9c179e\"],[0.4444444444444444,\"#bd3786\"],[0.5555555555555556,\"#d8576b\"],[0.6666666666666666,\"#ed7953\"],[0.7777777777777778,\"#fb9f3a\"],[0.8888888888888888,\"#fdca26\"],[1.0,\"#f0f921\"]]}],\"heatmap\":[{\"type\":\"heatmap\",\"colorbar\":{\"outlinewidth\":0,\"ticks\":\"\"},\"colorscale\":[[0.0,\"#0d0887\"],[0.1111111111111111,\"#46039f\"],[0.2222222222222222,\"#7201a8\"],[0.3333333333333333,\"#9c179e\"],[0.4444444444444444,\"#bd3786\"],[0.5555555555555556,\"#d8576b\"],[0.6666666666666666,\"#ed7953\"],[0.7777777777777778,\"#fb9f3a\"],[0.8888888888888888,\"#fdca26\"],[1.0,\"#f0f921\"]]}],\"heatmapgl\":[{\"type\":\"heatmapgl\",\"colorbar\":{\"outlinewidth\":0,\"ticks\":\"\"},\"colorscale\":[[0.0,\"#0d0887\"],[0.1111111111111111,\"#46039f\"],[0.2222222222222222,\"#7201a8\"],[0.3333333333333333,\"#9c179e\"],[0.4444444444444444,\"#bd3786\"],[0.5555555555555556,\"#d8576b\"],[0.6666666666666666,\"#ed7953\"],[0.7777777777777778,\"#fb9f3a\"],[0.8888888888888888,\"#fdca26\"],[1.0,\"#f0f921\"]]}],\"contourcarpet\":[{\"type\":\"contourcarpet\",\"colorbar\":{\"outlinewidth\":0,\"ticks\":\"\"}}],\"contour\":[{\"type\":\"contour\",\"colorbar\":{\"outlinewidth\":0,\"ticks\":\"\"},\"colorscale\":[[0.0,\"#0d0887\"],[0.1111111111111111,\"#46039f\"],[0.2222222222222222,\"#7201a8\"],[0.3333333333333333,\"#9c179e\"],[0.4444444444444444,\"#bd3786\"],[0.5555555555555556,\"#d8576b\"],[0.6666666666666666,\"#ed7953\"],[0.7777777777777778,\"#fb9f3a\"],[0.8888888888888888,\"#fdca26\"],[1.0,\"#f0f921\"]]}],\"surface\":[{\"type\":\"surface\",\"colorbar\":{\"outlinewidth\":0,\"ticks\":\"\"},\"colorscale\":[[0.0,\"#0d0887\"],[0.1111111111111111,\"#46039f\"],[0.2222222222222222,\"#7201a8\"],[0.3333333333333333,\"#9c179e\"],[0.4444444444444444,\"#bd3786\"],[0.5555555555555556,\"#d8576b\"],[0.6666666666666666,\"#ed7953\"],[0.7777777777777778,\"#fb9f3a\"],[0.8888888888888888,\"#fdca26\"],[1.0,\"#f0f921\"]]}],\"mesh3d\":[{\"type\":\"mesh3d\",\"colorbar\":{\"outlinewidth\":0,\"ticks\":\"\"}}],\"scatter\":[{\"marker\":{\"line\":{\"color\":\"#283442\"}},\"type\":\"scatter\"}],\"parcoords\":[{\"type\":\"parcoords\",\"line\":{\"colorbar\":{\"outlinewidth\":0,\"ticks\":\"\"}}}],\"scatterpolargl\":[{\"type\":\"scatterpolargl\",\"marker\":{\"colorbar\":{\"outlinewidth\":0,\"ticks\":\"\"}}}],\"bar\":[{\"error_x\":{\"color\":\"#f2f5fa\"},\"error_y\":{\"color\":\"#f2f5fa\"},\"marker\":{\"line\":{\"color\":\"rgb(17,17,17)\",\"width\":0.5},\"pattern\":{\"fillmode\":\"overlay\",\"size\":10,\"solidity\":0.2}},\"type\":\"bar\"}],\"scattergeo\":[{\"type\":\"scattergeo\",\"marker\":{\"colorbar\":{\"outlinewidth\":0,\"ticks\":\"\"}}}],\"scatterpolar\":[{\"type\":\"scatterpolar\",\"marker\":{\"colorbar\":{\"outlinewidth\":0,\"ticks\":\"\"}}}],\"histogram\":[{\"marker\":{\"pattern\":{\"fillmode\":\"overlay\",\"size\":10,\"solidity\":0.2}},\"type\":\"histogram\"}],\"scattergl\":[{\"marker\":{\"line\":{\"color\":\"#283442\"}},\"type\":\"scattergl\"}],\"scatter3d\":[{\"type\":\"scatter3d\",\"line\":{\"colorbar\":{\"outlinewidth\":0,\"ticks\":\"\"}},\"marker\":{\"colorbar\":{\"outlinewidth\":0,\"ticks\":\"\"}}}],\"scattermapbox\":[{\"type\":\"scattermapbox\",\"marker\":{\"colorbar\":{\"outlinewidth\":0,\"ticks\":\"\"}}}],\"scatterternary\":[{\"type\":\"scatterternary\",\"marker\":{\"colorbar\":{\"outlinewidth\":0,\"ticks\":\"\"}}}],\"scattercarpet\":[{\"type\":\"scattercarpet\",\"marker\":{\"colorbar\":{\"outlinewidth\":0,\"ticks\":\"\"}}}],\"carpet\":[{\"aaxis\":{\"endlinecolor\":\"#A2B1C6\",\"gridcolor\":\"#506784\",\"linecolor\":\"#506784\",\"minorgridcolor\":\"#506784\",\"startlinecolor\":\"#A2B1C6\"},\"baxis\":{\"endlinecolor\":\"#A2B1C6\",\"gridcolor\":\"#506784\",\"linecolor\":\"#506784\",\"minorgridcolor\":\"#506784\",\"startlinecolor\":\"#A2B1C6\"},\"type\":\"carpet\"}],\"table\":[{\"cells\":{\"fill\":{\"color\":\"#506784\"},\"line\":{\"color\":\"rgb(17,17,17)\"}},\"header\":{\"fill\":{\"color\":\"#2a3f5f\"},\"line\":{\"color\":\"rgb(17,17,17)\"}},\"type\":\"table\"}],\"barpolar\":[{\"marker\":{\"line\":{\"color\":\"rgb(17,17,17)\",\"width\":0.5},\"pattern\":{\"fillmode\":\"overlay\",\"size\":10,\"solidity\":0.2}},\"type\":\"barpolar\"}],\"pie\":[{\"automargin\":true,\"type\":\"pie\"}]},\"layout\":{\"autotypenumbers\":\"strict\",\"colorway\":[\"#636efa\",\"#EF553B\",\"#00cc96\",\"#ab63fa\",\"#FFA15A\",\"#19d3f3\",\"#FF6692\",\"#B6E880\",\"#FF97FF\",\"#FECB52\"],\"font\":{\"color\":\"#f2f5fa\"},\"hovermode\":\"closest\",\"hoverlabel\":{\"align\":\"left\"},\"paper_bgcolor\":\"rgb(17,17,17)\",\"plot_bgcolor\":\"rgb(17,17,17)\",\"polar\":{\"bgcolor\":\"rgb(17,17,17)\",\"angularaxis\":{\"gridcolor\":\"#506784\",\"linecolor\":\"#506784\",\"ticks\":\"\"},\"radialaxis\":{\"gridcolor\":\"#506784\",\"linecolor\":\"#506784\",\"ticks\":\"\"}},\"ternary\":{\"bgcolor\":\"rgb(17,17,17)\",\"aaxis\":{\"gridcolor\":\"#506784\",\"linecolor\":\"#506784\",\"ticks\":\"\"},\"baxis\":{\"gridcolor\":\"#506784\",\"linecolor\":\"#506784\",\"ticks\":\"\"},\"caxis\":{\"gridcolor\":\"#506784\",\"linecolor\":\"#506784\",\"ticks\":\"\"}},\"coloraxis\":{\"colorbar\":{\"outlinewidth\":0,\"ticks\":\"\"}},\"colorscale\":{\"sequential\":[[0.0,\"#0d0887\"],[0.1111111111111111,\"#46039f\"],[0.2222222222222222,\"#7201a8\"],[0.3333333333333333,\"#9c179e\"],[0.4444444444444444,\"#bd3786\"],[0.5555555555555556,\"#d8576b\"],[0.6666666666666666,\"#ed7953\"],[0.7777777777777778,\"#fb9f3a\"],[0.8888888888888888,\"#fdca26\"],[1.0,\"#f0f921\"]],\"sequentialminus\":[[0.0,\"#0d0887\"],[0.1111111111111111,\"#46039f\"],[0.2222222222222222,\"#7201a8\"],[0.3333333333333333,\"#9c179e\"],[0.4444444444444444,\"#bd3786\"],[0.5555555555555556,\"#d8576b\"],[0.6666666666666666,\"#ed7953\"],[0.7777777777777778,\"#fb9f3a\"],[0.8888888888888888,\"#fdca26\"],[1.0,\"#f0f921\"]],\"diverging\":[[0,\"#8e0152\"],[0.1,\"#c51b7d\"],[0.2,\"#de77ae\"],[0.3,\"#f1b6da\"],[0.4,\"#fde0ef\"],[0.5,\"#f7f7f7\"],[0.6,\"#e6f5d0\"],[0.7,\"#b8e186\"],[0.8,\"#7fbc41\"],[0.9,\"#4d9221\"],[1,\"#276419\"]]},\"xaxis\":{\"gridcolor\":\"#283442\",\"linecolor\":\"#506784\",\"ticks\":\"\",\"title\":{\"standoff\":15},\"zerolinecolor\":\"#283442\",\"automargin\":true,\"zerolinewidth\":2},\"yaxis\":{\"gridcolor\":\"#283442\",\"linecolor\":\"#506784\",\"ticks\":\"\",\"title\":{\"standoff\":15},\"zerolinecolor\":\"#283442\",\"automargin\":true,\"zerolinewidth\":2},\"scene\":{\"xaxis\":{\"backgroundcolor\":\"rgb(17,17,17)\",\"gridcolor\":\"#506784\",\"linecolor\":\"#506784\",\"showbackground\":true,\"ticks\":\"\",\"zerolinecolor\":\"#C8D4E3\",\"gridwidth\":2},\"yaxis\":{\"backgroundcolor\":\"rgb(17,17,17)\",\"gridcolor\":\"#506784\",\"linecolor\":\"#506784\",\"showbackground\":true,\"ticks\":\"\",\"zerolinecolor\":\"#C8D4E3\",\"gridwidth\":2},\"zaxis\":{\"backgroundcolor\":\"rgb(17,17,17)\",\"gridcolor\":\"#506784\",\"linecolor\":\"#506784\",\"showbackground\":true,\"ticks\":\"\",\"zerolinecolor\":\"#C8D4E3\",\"gridwidth\":2}},\"shapedefaults\":{\"line\":{\"color\":\"#f2f5fa\"}},\"annotationdefaults\":{\"arrowcolor\":\"#f2f5fa\",\"arrowhead\":0,\"arrowwidth\":1},\"geo\":{\"bgcolor\":\"rgb(17,17,17)\",\"landcolor\":\"rgb(17,17,17)\",\"subunitcolor\":\"#506784\",\"showland\":true,\"showlakes\":true,\"lakecolor\":\"rgb(17,17,17)\"},\"title\":{\"x\":0.05},\"updatemenudefaults\":{\"bgcolor\":\"#506784\",\"borderwidth\":0},\"sliderdefaults\":{\"bgcolor\":\"#C8D4E3\",\"borderwidth\":1,\"bordercolor\":\"rgb(17,17,17)\",\"tickwidth\":0},\"mapbox\":{\"style\":\"dark\"}}},\"mapbox\":{\"domain\":{\"x\":[0.0,1.0],\"y\":[0.0,1.0]},\"center\":{\"lat\":34.0007,\"lon\":-81.0348},\"accesstoken\":\"pk.eyJ1IjoibWlja3RoZWxpbnV4Z2VlayIsImEiOiJjbDQzN3U0YTUwODk5M3BxbnJtZjVweDJ1In0.jyMNmtV_85OzRrfmDsQXrg\\n\",\"zoom\":7.5,\"style\":\"streets\"},\"coloraxis\":{\"colorbar\":{\"title\":{\"text\":\"cdi\"}},\"colorscale\":[[0.0,\"#0d0887\"],[0.1111111111111111,\"#46039f\"],[0.2222222222222222,\"#7201a8\"],[0.3333333333333333,\"#9c179e\"],[0.4444444444444444,\"#bd3786\"],[0.5555555555555556,\"#d8576b\"],[0.6666666666666666,\"#ed7953\"],[0.7777777777777778,\"#fb9f3a\"],[0.8888888888888888,\"#fdca26\"],[1.0,\"#f0f921\"]],\"cmin\":0.0,\"cmax\":10.0},\"legend\":{\"tracegroupgap\":0},\"margin\":{\"t\":0,\"b\":0,\"l\":0,\"r\":0},\"autosize\":true,\"showlegend\":true},                        {\"responsive\": true}                    ).then(function(){\n                            \nvar gd = document.getElementById('df0e76d1-6706-4d93-9be9-6d132163e028');\nvar x = new MutationObserver(function (mutations, observer) {{\n        var display = window.getComputedStyle(gd).display;\n        if (!display || display === 'none') {{\n            console.log([gd, 'removed!']);\n            Plotly.purge(gd);\n            observer.disconnect();\n        }}\n}});\n\n// Listen for the removal of the full notebook cells\nvar notebookContainer = gd.closest('#notebook-container');\nif (notebookContainer) {{\n    x.observe(notebookContainer, {childList: true});\n}}\n\n// Listen for the clearing of the current output cell\nvar outputEl = gd.closest('.output');\nif (outputEl) {{\n    x.observe(outputEl, {childList: true});\n}}\n\n                        })                };                });            </script>        </div>"
     },
     "metadata": {},
     "output_type": "display_data"
    }
   ],
   "source": [
    "fig = px.choropleth_mapbox(utm10km_geo_df,\n",
    "                           geojson=utm10km_geo_df.geometry,\n",
    "                           locations=utm10km_geo_df.index,\n",
    "                           color=\"cdi\",\n",
    "                           opacity=0.35,\n",
    "                           range_color=[0.0, 10.0],\n",
    "                           center={\"lat\": 34.0007, \"lon\": -81.0348},\n",
    "                           hover_data=[\"name\", \"nresp\", \"cdi\"],\n",
    "                           mapbox_style=\"streets\",\n",
    "                           zoom=7.5)\n",
    "\n",
    "fig.add_trace(go.Scattermapbox(lon=[-80.794252],\n",
    "                               lat=[34.170983],\n",
    "                               showlegend=False,\n",
    "                               mode='markers+lines',\n",
    "                               marker={'size': 12, 'opacity': 1, 'symbol': ['star']},\n",
    "                               hovertemplate='%{lon}, %{lat}<extra></extra>',))\n",
    "\n",
    "fig.update_layout(autosize=True, margin=dict(t=0, b=0, l=0, r=0), showlegend=True)\n",
    "\n",
    "fig.show()"
   ],
   "metadata": {
    "collapsed": false
   }
  },
  {
   "cell_type": "code",
   "execution_count": 25,
   "outputs": [],
   "source": [],
   "metadata": {
    "collapsed": false
   }
  }
 ],
 "metadata": {
  "kernelspec": {
   "display_name": "Python 3",
   "language": "python",
   "name": "python3"
  },
  "language_info": {
   "codemirror_mode": {
    "name": "ipython",
    "version": 2
   },
   "file_extension": ".py",
   "mimetype": "text/x-python",
   "name": "python",
   "nbconvert_exporter": "python",
   "pygments_lexer": "ipython2",
   "version": "2.7.6"
  }
 },
 "nbformat": 4,
 "nbformat_minor": 0
}
