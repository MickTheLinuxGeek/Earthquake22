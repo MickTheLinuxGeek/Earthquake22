{
 "cells": [
  {
   "cell_type": "code",
   "execution_count": 1,
   "id": "b51ddeca-1650-442c-9c14-73f68630e965",
   "metadata": {},
   "outputs": [],
   "source": [
    "import geopandas as gpd"
   ]
  },
  {
   "cell_type": "code",
   "execution_count": 3,
   "id": "64042789-9c8a-4253-b780-4443b7edbf38",
   "metadata": {},
   "outputs": [],
   "source": [
    "geo_df = gpd.read_file(r\"./data/sc_eq_events.geojson\")"
   ]
  },
  {
   "cell_type": "code",
   "execution_count": 7,
   "id": "25f31074-7fa4-427f-8747-186862e0405b",
   "metadata": {},
   "outputs": [
    {
     "data": {
      "text/html": [
       "<div>\n",
       "<style scoped>\n",
       "    .dataframe tbody tr th:only-of-type {\n",
       "        vertical-align: middle;\n",
       "    }\n",
       "\n",
       "    .dataframe tbody tr th {\n",
       "        vertical-align: top;\n",
       "    }\n",
       "\n",
       "    .dataframe thead th {\n",
       "        text-align: right;\n",
       "    }\n",
       "</style>\n",
       "<table border=\"1\" class=\"dataframe\">\n",
       "  <thead>\n",
       "    <tr style=\"text-align: right;\">\n",
       "      <th></th>\n",
       "      <th>id</th>\n",
       "      <th>geometry</th>\n",
       "    </tr>\n",
       "  </thead>\n",
       "  <tbody>\n",
       "    <tr>\n",
       "      <th>0</th>\n",
       "      <td>se60162643</td>\n",
       "      <td>POINT Z (-80.72067 34.17267 1.48000)</td>\n",
       "    </tr>\n",
       "    <tr>\n",
       "      <th>1</th>\n",
       "      <td>se60162243</td>\n",
       "      <td>POINT Z (-80.72317 34.17050 3.15000)</td>\n",
       "    </tr>\n",
       "    <tr>\n",
       "      <th>2</th>\n",
       "      <td>se60161443</td>\n",
       "      <td>POINT Z (-82.98517 34.45617 0.08000)</td>\n",
       "    </tr>\n",
       "    <tr>\n",
       "      <th>3</th>\n",
       "      <td>se60160443</td>\n",
       "      <td>POINT Z (-80.71050 34.16550 3.09000)</td>\n",
       "    </tr>\n",
       "    <tr>\n",
       "      <th>4</th>\n",
       "      <td>se60159943</td>\n",
       "      <td>POINT Z (-82.61067 34.43250 0.03000)</td>\n",
       "    </tr>\n",
       "    <tr>\n",
       "      <th>...</th>\n",
       "      <td>...</td>\n",
       "      <td>...</td>\n",
       "    </tr>\n",
       "    <tr>\n",
       "      <th>82</th>\n",
       "      <td>se60141343</td>\n",
       "      <td>POINT Z (-80.70050 34.19083 2.67000)</td>\n",
       "    </tr>\n",
       "    <tr>\n",
       "      <th>83</th>\n",
       "      <td>se60141243</td>\n",
       "      <td>POINT Z (-80.72900 34.15500 0.74000)</td>\n",
       "    </tr>\n",
       "    <tr>\n",
       "      <th>84</th>\n",
       "      <td>se60141143</td>\n",
       "      <td>POINT Z (-80.71600 34.17500 1.33000)</td>\n",
       "    </tr>\n",
       "    <tr>\n",
       "      <th>85</th>\n",
       "      <td>se60377836</td>\n",
       "      <td>POINT Z (-80.71967 34.18233 3.07000)</td>\n",
       "    </tr>\n",
       "    <tr>\n",
       "      <th>86</th>\n",
       "      <td>se60140748</td>\n",
       "      <td>POINT Z (-80.13550 32.94917 2.75000)</td>\n",
       "    </tr>\n",
       "  </tbody>\n",
       "</table>\n",
       "<p>87 rows × 2 columns</p>\n",
       "</div>"
      ],
      "text/plain": [
       "            id                              geometry\n",
       "0   se60162643  POINT Z (-80.72067 34.17267 1.48000)\n",
       "1   se60162243  POINT Z (-80.72317 34.17050 3.15000)\n",
       "2   se60161443  POINT Z (-82.98517 34.45617 0.08000)\n",
       "3   se60160443  POINT Z (-80.71050 34.16550 3.09000)\n",
       "4   se60159943  POINT Z (-82.61067 34.43250 0.03000)\n",
       "..         ...                                   ...\n",
       "82  se60141343  POINT Z (-80.70050 34.19083 2.67000)\n",
       "83  se60141243  POINT Z (-80.72900 34.15500 0.74000)\n",
       "84  se60141143  POINT Z (-80.71600 34.17500 1.33000)\n",
       "85  se60377836  POINT Z (-80.71967 34.18233 3.07000)\n",
       "86  se60140748  POINT Z (-80.13550 32.94917 2.75000)\n",
       "\n",
       "[87 rows x 2 columns]"
      ]
     },
     "execution_count": 7,
     "metadata": {},
     "output_type": "execute_result"
    }
   ],
   "source": [
    "geo_df[['id', 'geometry']]"
   ]
  },
  {
   "cell_type": "code",
   "execution_count": null,
   "id": "d6217c75-32b6-416e-825f-c11c2ce51c16",
   "metadata": {},
   "outputs": [],
   "source": []
  }
 ],
 "metadata": {
  "kernelspec": {
   "display_name": "Python 3 (ipykernel)",
   "language": "python",
   "name": "python3"
  },
  "language_info": {
   "codemirror_mode": {
    "name": "ipython",
    "version": 3
   },
   "file_extension": ".py",
   "mimetype": "text/x-python",
   "name": "python",
   "nbconvert_exporter": "python",
   "pygments_lexer": "ipython3",
   "version": "3.10.6"
  }
 },
 "nbformat": 4,
 "nbformat_minor": 5
}
