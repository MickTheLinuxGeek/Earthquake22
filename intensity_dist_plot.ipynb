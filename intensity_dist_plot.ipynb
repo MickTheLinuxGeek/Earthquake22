{
 "cells": [
  {
   "cell_type": "markdown",
   "source": [
    "## Intensity vs. Distance Subplots Using Matplotlib"
   ],
   "metadata": {
    "collapsed": false
   }
  },
  {
   "cell_type": "code",
   "execution_count": null,
   "outputs": [],
   "source": [
    "import pandas as pd\n",
    "import numpy as np\n",
    "from matplotlib import pyplot as plt"
   ],
   "metadata": {
    "collapsed": false
   }
  },
  {
   "cell_type": "code",
   "execution_count": null,
   "outputs": [],
   "source": [
    "intensity_dist_df = pd.read_json(r\"./data/dyfi_plot_atten.json\")"
   ],
   "metadata": {
    "collapsed": false
   }
  },
  {
   "cell_type": "code",
   "execution_count": null,
   "outputs": [],
   "source": [
    "intensity_dist_df"
   ],
   "metadata": {
    "collapsed": false
   }
  },
  {
   "cell_type": "code",
   "execution_count": null,
   "outputs": [],
   "source": [
    "all_dataset_df = pd.DataFrame(intensity_dist_df['datasets'][0])\n",
    "est_dataset_df = pd.DataFrame(intensity_dist_df['datasets'][1])\n",
    "mean_dataset_df = pd.DataFrame(intensity_dist_df['datasets'][2])\n",
    "median_dataset_df = pd.DataFrame(intensity_dist_df['datasets'][3])"
   ],
   "metadata": {
    "collapsed": false
   }
  },
  {
   "cell_type": "code",
   "execution_count": null,
   "outputs": [],
   "source": [
    "all_dataset_df"
   ],
   "metadata": {
    "collapsed": false
   }
  },
  {
   "cell_type": "code",
   "execution_count": null,
   "outputs": [],
   "source": [
    "sct_plt_df = all_dataset_df.from_records(data=all_dataset_df.data)\n",
    "x = list(sct_plt_df.x)\n",
    "y = list(sct_plt_df.y)\n",
    "xlabel = intensity_dist_df.xlabel[0]\n",
    "ylabel = intensity_dist_df.ylabel[0]\n",
    "label = all_dataset_df['legend'][0]\n",
    "title = intensity_dist_df.title[0]\n",
    "\n",
    "est_plt_df = est_dataset_df.from_records(data=est_dataset_df.data)\n",
    "x1 = list(est_plt_df.x)\n",
    "y1 = list(est_plt_df.y)\n",
    "xlabel1 = intensity_dist_df.xlabel[1]\n",
    "ylabel1 = intensity_dist_df.ylabel[1]\n",
    "label1 = est_dataset_df['legend'][1]\n",
    "\n",
    "mean_plt_df = mean_dataset_df.from_records(data=mean_dataset_df.data)\n",
    "x2 = list(mean_plt_df.x)\n",
    "y2 = list(mean_plt_df.y)\n",
    "yerr = mean_plt_df.stdev\n",
    "xlabel2 = intensity_dist_df.xlabel[2]\n",
    "ylabel2 = intensity_dist_df.ylabel[2]\n",
    "label2 = mean_dataset_df['legend'][2]\n",
    "\n",
    "median_plt_df = median_dataset_df.from_records(data=median_dataset_df.data)\n",
    "x3 = list(median_plt_df.x)\n",
    "y3 = list(median_plt_df.y)\n",
    "xlabel3 = intensity_dist_df.xlabel[3]\n",
    "ylabel3 = intensity_dist_df.ylabel[3]\n",
    "label3 = mean_dataset_df['legend'][3]"
   ],
   "metadata": {
    "collapsed": false
   }
  },
  {
   "cell_type": "code",
   "execution_count": null,
   "outputs": [],
   "source": [
    "fig, ((ax1, ax2), (ax3, ax4)) = plt.subplots(2, 2, figsize=(15, 8))\n",
    "fig.suptitle(title)\n",
    "ax1.scatter(x, y, s=6, c='blue', label=label)\n",
    "ax1.set_ylabel(ylabel)\n",
    "ax1.set_xlabel(xlabel)\n",
    "ax1.set_yticks([i for i in range(1, 11)])\n",
    "ax1.legend()\n",
    "\n",
    "ax2.plot(x1, y1, 'go-', linewidth=2, markersize=4, label=label1)\n",
    "ax2.set_ylabel(ylabel1)\n",
    "ax2.set_xlabel(xlabel1)\n",
    "ax2.set_yticks([i for i in range(1, 11)])\n",
    "ax2.legend()\n",
    "\n",
    "ax3.errorbar(x2, y2, yerr, fmt='o', linewidth=2, capsize=6,\n",
    "            label=mean_dataset_df['legend'][2], color='blue')\n",
    "ax3.set_ylabel(ylabel2)\n",
    "ax3.set_xlabel(xlabel2)\n",
    "ax3.set_yticks([i for i in range(1, 11)])\n",
    "ax3.legend()\n",
    "\n",
    "ax4.scatter(x3, y3, label=median_dataset_df['legend'][3], color='red')\n",
    "ax4.set_ylabel(ylabel3)\n",
    "ax4.set_xlabel(xlabel3)\n",
    "ax4.set_yticks([i for i in range(1, 11)])\n",
    "ax4.legend()\n",
    "# sct_plt_df.plot(kind='scatter', x='x', y='y', label=all_dataset_df['legend'][0], color='green', ax=ax)\n",
    "plt.show()"
   ],
   "metadata": {
    "collapsed": false
   }
  },
  {
   "cell_type": "code",
   "execution_count": null,
   "outputs": [],
   "source": [
    "# sct_plt_df.plot(kind='scatter', x='x', y='y', label=all_dataset_df['legend'][0], yticks=[i for i in range(1, 11)], color='green')"
   ],
   "metadata": {
    "collapsed": false
   }
  },
  {
   "cell_type": "code",
   "execution_count": null,
   "outputs": [],
   "source": [
    "est_plt_df = est_dataset_df.from_records(data=est_dataset_df.data)\n",
    "x = list(est_plt_df.x)\n",
    "y = list(est_plt_df.y)"
   ],
   "metadata": {
    "collapsed": false
   }
  },
  {
   "cell_type": "code",
   "execution_count": null,
   "outputs": [],
   "source": [
    "plt.plot(x, y, label=est_dataset_df['legend'][1])\n",
    "plt.show()"
   ],
   "metadata": {
    "collapsed": false
   }
  },
  {
   "cell_type": "code",
   "execution_count": null,
   "outputs": [],
   "source": [
    "est_plt_df.plot(kind='line', x='x', y='y', label=est_dataset_df['legend'][1], yticks=[i for i in range(1, 11)])"
   ],
   "metadata": {
    "collapsed": false
   }
  },
  {
   "cell_type": "code",
   "execution_count": null,
   "outputs": [],
   "source": [
    "mean_plt_df = mean_dataset_df.from_records(data=mean_dataset_df.data)"
   ],
   "metadata": {
    "collapsed": false
   }
  },
  {
   "cell_type": "code",
   "execution_count": null,
   "outputs": [],
   "source": [
    "x = mean_plt_df.x\n",
    "y = mean_plt_df.y\n",
    "yerr = mean_plt_df.stdev\n",
    "\n",
    "fig, ax = plt.subplots(figsize=(7, 4))\n",
    "ax.errorbar(x, y, yerr, fmt='o', linewidth=2, capsize=6)\n",
    "\n",
    "ax.set(yticks=np.arange(1, 11))\n",
    "\n",
    "plt.show()"
   ],
   "metadata": {
    "collapsed": false
   }
  }
 ],
 "metadata": {
  "kernelspec": {
   "display_name": "Python 3",
   "language": "python",
   "name": "python3"
  },
  "language_info": {
   "codemirror_mode": {
    "name": "ipython",
    "version": 2
   },
   "file_extension": ".py",
   "mimetype": "text/x-python",
   "name": "python",
   "nbconvert_exporter": "python",
   "pygments_lexer": "ipython2",
   "version": "2.7.6"
  }
 },
 "nbformat": 4,
 "nbformat_minor": 0
}
