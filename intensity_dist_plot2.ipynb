{
 "cells": [
  {
   "cell_type": "code",
   "execution_count": null,
   "metadata": {
    "collapsed": true
   },
   "outputs": [],
   "source": [
    "import pandas as pd\n",
    "from matplotlib import pyplot as plt"
   ]
  },
  {
   "cell_type": "code",
   "execution_count": null,
   "outputs": [],
   "source": [
    "plt.style.use('_mpl-gallery')"
   ],
   "metadata": {
    "collapsed": false
   }
  },
  {
   "cell_type": "code",
   "execution_count": null,
   "outputs": [],
   "source": [
    "intensity_dist_df = pd.read_json(r\"./data/ny_dyfi_plot_atten.json\")"
   ],
   "metadata": {
    "collapsed": false
   }
  },
  {
   "cell_type": "code",
   "execution_count": null,
   "outputs": [],
   "source": [
    "intensity_dist_df"
   ],
   "metadata": {
    "collapsed": false
   }
  },
  {
   "cell_type": "code",
   "execution_count": null,
   "outputs": [],
   "source": [
    "print(len(intensity_dist_df))"
   ],
   "metadata": {
    "collapsed": false
   }
  },
  {
   "cell_type": "code",
   "execution_count": null,
   "outputs": [],
   "source": [
    "fig, ax = plt.subplots(figsize=(15, 6))\n",
    "# fig, ax = plt.subplots(2, 2, figsize=(15, 6))\n",
    "for dsi in range(len(intensity_dist_df)):\n",
    "    dataset_df = pd.DataFrame(intensity_dist_df.datasets[dsi])\n",
    "    print(dataset_df)\n",
    "    if dataset_df['class'][0] == 'scatterplot1':\n",
    "        sct_plt_df = dataset_df.from_records(data=dataset_df.data)\n",
    "        sct_plt_df.plot(kind='scatter', x='x', y='y', label=dataset_df['legend'][0],\n",
    "                        yticks=[i for i in range(1, 11)], xticks=[10, 50, 100, 200, 500, 1000, 2000],\n",
    "                        color='green', ax=ax)\n",
    "    elif dataset_df['class'][0] == 'estimated1':\n",
    "        est_plt_df = dataset_df.from_records(data=dataset_df.data)\n",
    "        est_plt_df.plot(kind='line', x='x', y='y', label=dataset_df['legend'][0],\n",
    "                        yticks=[i for i in range(1, 11)], xticks=[10, 50, 100, 200, 500, 1000, 2000],\n",
    "                        ax=ax, ylim=(0, 10))\n",
    "    elif dataset_df['class'][0] == 'estimated2':\n",
    "        est_plt_df = dataset_df.from_records(data=dataset_df.data)\n",
    "        est_plt_df.plot(kind='line', x='x', y='y', label=dataset_df['legend'][0],\n",
    "                        yticks=[i for i in range(1, 11)], xticks=[10, 50, 100, 200, 500, 1000, 2000],\n",
    "                        ax=ax, ylim=(0, 10))\n",
    "    elif dataset_df['class'][0] == 'binned':\n",
    "        mean_plt_df = dataset_df.from_records(data=dataset_df.data)\n",
    "        x = mean_plt_df.x\n",
    "        y = mean_plt_df.y\n",
    "        yerr = mean_plt_df.stdev\n",
    "        ax.errorbar(x, y, yerr, fmt='o', linewidth=2, capsize=6,\n",
    "                    label=dataset_df['legend'][0], color='blue')\n",
    "    elif dataset_df['class'][0] == 'median':\n",
    "        median_plt_df = dataset_df.from_records(data=dataset_df.data)\n",
    "        median_plt_df.plot(kind='scatter', x='x', y='y', label=dataset_df['legend'][0],\n",
    "                           yticks=[i for i in range(1, 11)], xticks=[10, 50, 100, 200, 500, 1000, 2000],\n",
    "                           ax=ax, ylim=(0, 10), color='red',)\n",
    "\n",
    "plt.axis([10, 1000, 1, 10])\n",
    "_ = ax.legend(loc='upper right', frameon=False)\n",
    "plt.show()"
   ],
   "metadata": {
    "collapsed": false
   }
  },
  {
   "cell_type": "code",
   "execution_count": null,
   "outputs": [],
   "source": [],
   "metadata": {
    "collapsed": false
   }
  }
 ],
 "metadata": {
  "kernelspec": {
   "display_name": "Python 3",
   "language": "python",
   "name": "python3"
  },
  "language_info": {
   "codemirror_mode": {
    "name": "ipython",
    "version": 2
   },
   "file_extension": ".py",
   "mimetype": "text/x-python",
   "name": "python",
   "nbconvert_exporter": "python",
   "pygments_lexer": "ipython2",
   "version": "2.7.6"
  }
 },
 "nbformat": 4,
 "nbformat_minor": 0
}
