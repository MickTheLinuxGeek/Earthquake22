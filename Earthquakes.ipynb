{
 "cells": [
  {
   "cell_type": "markdown",
   "source": [
    "#### Original Earthquake Map Using Plotly Graph Objects"
   ],
   "metadata": {
    "collapsed": false
   }
  },
  {
   "cell_type": "code",
   "execution_count": null,
   "id": "ab7d6f7f-bf98-41f7-8aa0-7611a7b50128",
   "metadata": {},
   "outputs": [],
   "source": [
    "import json\n",
    "import numpy as np\n",
    "import pandas as pd\n",
    "import plotly.graph_objects as go"
   ]
  },
  {
   "cell_type": "code",
   "execution_count": null,
   "id": "a4df82d1-36cc-49fc-8a44-0aa8e044ba53",
   "metadata": {},
   "outputs": [],
   "source": [
    "# with open(\"2022-06-26-SC-Earthquake.json\", \"r\", encoding=\"utf-8\") as f:\n",
    "with open(\"./data/2022-09-03-SC-Earthquake.geojson\", \"r\", encoding=\"utf-8\") as f:\n",
    "    SC_eq_list = json.load(f)"
   ]
  },
  {
   "cell_type": "code",
   "execution_count": null,
   "id": "c86fa797-b886-42fa-b23e-367b322ce3bf",
   "metadata": {},
   "outputs": [],
   "source": [
    "# SC_eq_list is a python list of dictionaries\n",
    "# flattens sc_eq_List into sc_eq_data, a pandas dataframe\n",
    "sc_eq_data = pd.json_normalize(SC_eq_list['features'])"
   ]
  },
  {
   "cell_type": "code",
   "execution_count": null,
   "id": "65da8220-a076-47b4-913d-84ad00120c69",
   "metadata": {},
   "outputs": [],
   "source": [
    "eq_df = sc_eq_data[['properties.mag', 'properties.felt', 'properties.place', 'properties.time', \n",
    "                    'properties.title', 'geometry.coordinates']]\n",
    "\n",
    "# since the coordinates list was flattened above, convert it back to a list with each element as a column\n",
    "# in the coord_df dataframe along with column names\n",
    "coord_df = pd.DataFrame(sc_eq_data['geometry.coordinates'].tolist(), columns=['lon', 'lat', 'depth(km)'])\n",
    "\n",
    "# concatenate coord_df to sc_eq_data\n",
    "eq_df = pd.concat([eq_df, coord_df], axis=1)\n",
    "\n",
    "eq_df['Event_Date'] = pd.to_datetime(eq_df['properties.time'], unit=\"ms\")\\\n",
    "                             .dt.tz_localize('UTC')\\\n",
    "                             .dt.tz_convert('America/New_York').dt.date\n",
    "\n",
    "eq_df['Event_Time'] = pd.to_datetime(eq_df['properties.time'], unit=\"ms\")\\\n",
    "                             .dt.tz_localize('UTC')\\\n",
    "                             .dt.tz_convert('America/New_York').dt.time"
   ]
  },
  {
   "cell_type": "code",
   "execution_count": null,
   "id": "3fda79cc-07ae-4705-896d-15f54004ead8",
   "metadata": {},
   "outputs": [],
   "source": [
    "# remove decimal portion of the seconds part of the time\n",
    "\n",
    "import datetime\n",
    "for x in range(len(eq_df['Event_Time'])):\n",
    "    eq_df.loc[x, 'Event_Time'] = eq_df['Event_Time'][x].replace(microsecond = 0)"
   ]
  },
  {
   "cell_type": "code",
   "execution_count": null,
   "id": "dab84401-9f1d-433e-8e7c-8d882bb0d716",
   "metadata": {},
   "outputs": [],
   "source": [
    "eq_df = eq_df.copy()"
   ]
  },
  {
   "cell_type": "code",
   "execution_count": null,
   "id": "7cdf3ac8-c63b-4b91-a7b4-c2a175076eb3",
   "metadata": {},
   "outputs": [],
   "source": [
    "eq_df = eq_df.rename(columns={'properties.mag': 'Magnitude',\n",
    "                              'properties.felt': 'Felt',\n",
    "                              'properties.place': 'Location',\n",
    "                              'properties.time': 'Event_DT', \n",
    "                              'properties.title': 'Event_Title', \n",
    "                              'geometry.coordinates': 'Coordinates',\n",
    "                              'lon': 'Longitude', 'lat': 'Latitude', 'depth(km)': 'Depth(km)',\n",
    "                              'Event_Date': 'Event_Date', 'Event_Time': 'Event_Time'})"
   ]
  },
  {
   "cell_type": "code",
   "execution_count": null,
   "id": "8dbfba60-2e81-47bd-8009-3ae6f42741d4",
   "metadata": {},
   "outputs": [],
   "source": [
    "# The eq_df['Felt'] series had/may have null values; The following expression finds those rows\n",
    "# with a null value in the 'Felt' column and assigns it to 0 and casts it to an integer dtype.\n",
    "\n",
    "eq_df['Felt'] = eq_df['Felt'].fillna(0).astype('int')"
   ]
  },
  {
   "cell_type": "code",
   "execution_count": null,
   "id": "b8fddae4-106c-45fc-baab-63c8bc599b04",
   "metadata": {
    "tags": []
   },
   "outputs": [],
   "source": [
    "eq_df.head().style.set_caption(\"South Carolina Earthquakes - Dec. - 2021 to Now\").hide(axis=\"index\")\\\n",
    "                  .format({\"Magnitude\": \"{:.2f}\",\n",
    "                           \"Felt\": \"{:d}\",\n",
    "                           \"Location\": \"{:s}\",\n",
    "                           \"Event_DT\": \"{:d}\",\n",
    "                           \"Event_Title\": \"{:s}\",\n",
    "                           \"Latitude\": \"{:.6f}\",\n",
    "                           \"Longitude\": \"{:.6f}\", \n",
    "                           \"Depth(km)\": \"{:.2f}\", \n",
    "                           \"Event_Date\": \"{:%Y-%m-%d}\",\n",
    "                           \"Event_Time\": \"{:%H:%M:%S}\"})"
   ]
  },
  {
   "cell_type": "markdown",
   "id": "e8ea1005-b99d-4235-b65a-035e2ff23124",
   "metadata": {},
   "source": [
    "### Plot Coordinates via Plotly"
   ]
  },
  {
   "cell_type": "code",
   "execution_count": null,
   "id": "042ea264-b0bb-4bef-b1a7-88e16fc1b932",
   "metadata": {},
   "outputs": [],
   "source": [
    "# read in mapbox access token\n",
    "mapbox_access_token = open(\".mapbox_token\").read()\n",
    "\n",
    "m = list(eq_df['Event_Date'])\n",
    "n = list(eq_df['Event_Time'])\n",
    "k = list(eq_df['Magnitude'])\n",
    "l = list(eq_df['Depth(km)'])\n",
    "t = list(eq_df['Event_Title'])"
   ]
  },
  {
   "cell_type": "code",
   "execution_count": null,
   "id": "f39b4da2-413a-4302-8635-12bfe63a16d3",
   "metadata": {},
   "outputs": [],
   "source": [
    "# create a 4 row numpy array that contains - row 0: dates, row 1: times, row 2: magnitude values, row 3: depth\n",
    "# the customdata parameter is assigned the numpy array so we can have those values displayed in the hover\n",
    "nk = np.empty(shape=(len(k),5,1), dtype='object')\n",
    "nk[:,0] = np.array(m).reshape(-1,1)  # row with dates\n",
    "nk[:,1] = np.array(n).reshape(-1,1)  # row with times\n",
    "nk[:,2] = np.array(k).reshape(-1,1)  # row with magnitude values\n",
    "nk[:,3] = np.array(l).reshape(-1,1)  # row with depth values\n",
    "nk[:,4] = np.array(t).reshape(-1,1)  # row with event titles"
   ]
  },
  {
   "cell_type": "code",
   "execution_count": null,
   "id": "1b00b070-63f8-4a30-b68f-dfde658a00de",
   "metadata": {},
   "outputs": [],
   "source": [
    "fig = go.Figure(go.Scattermapbox(name=\"\",\n",
    "                                 lat=list(eq_df[\"Latitude\"]),\n",
    "                                 lon=list(eq_df[\"Longitude\"]),\n",
    "                                 mode='markers',\n",
    "#                                 marker=go.scattermapbox.Marker(size=12, color=\"#7FFFD4\"),\n",
    "                                 marker=go.scattermapbox.Marker(size=12,\n",
    "                                                                color=eq_df['Magnitude'],\n",
    "                                                                colorscale='jet'),\n",
    "                                 text=list(eq_df[\"Location\"]),\n",
    "                                 customdata=nk,\n",
    "                                 hovertemplate = \"Event Title: %{customdata[4]}<br>\" +\n",
    "                                                 \"Event Date: %{customdata[0]}<br>\" + \n",
    "                                                 \"Event Time: %{customdata[1]}<br>\" +\n",
    "                                                 \"Location: %{text}<br>\" +\n",
    "                                                 \"Magnitude: %{customdata[2]}<br>\" + \n",
    "                                                 \"lat:  %{lat},  \" + \"lon:  %{lon}<br>\" +\n",
    "                                                 \"Depth(km):  %{customdata[3]}\"))\n",
    "\n",
    "fig.update_layout(mapbox_style=\"dark\",\n",
    "                  title_font_color = \"#00FF7F\",\n",
    "                  title_text=\"South Carolina Earthquakes - Dec. - 2021 to Present\",\n",
    "                  paper_bgcolor = \"#8B4513\",\n",
    "                  autosize=True,\n",
    "                  height=510,\n",
    "                  margin=dict(t=50, b=5, l=5, r=5),\n",
    "                  hovermode='closest',\n",
    "                  mapbox=dict(accesstoken=mapbox_access_token,\n",
    "                              bearing=0,\n",
    "                              center=dict(lat=34.170983, lon=-80.794252),\n",
    "                              pitch=0,\n",
    "                              zoom=11),\n",
    "                  hoverlabel=dict(bgcolor=\"white\",\n",
    "                                  font_size=15,\n",
    "                                  font_family=\"Rockwell\"),\n",
    "                  showlegend = False)\n",
    "\n",
    "fig.show()"
   ]
  }
 ],
 "metadata": {
  "kernelspec": {
   "display_name": "Python 3 (ipykernel)",
   "language": "python",
   "name": "python3"
  },
  "language_info": {
   "codemirror_mode": {
    "name": "ipython",
    "version": 3
   },
   "file_extension": ".py",
   "mimetype": "text/x-python",
   "name": "python",
   "nbconvert_exporter": "python",
   "pygments_lexer": "ipython3",
   "version": "3.10.6"
  }
 },
 "nbformat": 4,
 "nbformat_minor": 5
}
