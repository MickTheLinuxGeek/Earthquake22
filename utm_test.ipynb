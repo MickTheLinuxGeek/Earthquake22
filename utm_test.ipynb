{
 "cells": [
  {
   "cell_type": "code",
   "execution_count": 33,
   "metadata": {
    "collapsed": true
   },
   "outputs": [],
   "source": [
    "import geopandas as gpd\n",
    "import plotly.express as px\n",
    "import plotly.graph_objects as go\n",
    "# import json\n",
    "%matplotlib inline"
   ]
  },
  {
   "cell_type": "code",
   "execution_count": 34,
   "outputs": [],
   "source": [
    "px.set_mapbox_access_token(open(\".mapbox_token\").read())"
   ],
   "metadata": {
    "collapsed": false
   }
  },
  {
   "cell_type": "code",
   "execution_count": 35,
   "outputs": [],
   "source": [
    "utm_geo_df = gpd.read_file(r\"./data/utm_test.geojson\")"
   ],
   "metadata": {
    "collapsed": false
   }
  },
  {
   "cell_type": "code",
   "execution_count": 36,
   "outputs": [
    {
     "data": {
      "text/plain": "    stddev  nresp                                               name  cdi  \\\n0     0.33      1  UTM:(17S 0485 3759 1000)<br>UTM:(17S 0485 3759...  2.7   \n1     0.33      1  UTM:(17S 0512 3779 1000)<br>UTM:(17S 0512 3779...  2.0   \n2     0.33      1  UTM:(17S 0514 3758 1000)<br>UTM:(17S 0514 3758...  2.0   \n3     0.33      1  UTM:(17S 0516 3779 1000)<br>UTM:(17S 0516 3779...  2.2   \n4     0.33      1  UTM:(17S 0519 3777 1000)<br>UTM:(17S 0519 3777...  2.2   \n5     0.33      1  UTM:(17S 0522 3778 1000)<br>UTM:(17S 0522 3778...  2.7   \n6     0.33      1  UTM:(17S 0522 3779 1000)<br>UTM:(17S 0522 3779...  2.2   \n7     0.33      1  UTM:(17S 0523 3778 1000)<br>UTM:(17S 0523 3778...  3.8   \n8     0.32      2  UTM:(17S 0523 3779 1000)<br>UTM:(17S 0523 3779...  2.2   \n9     0.33      1  UTM:(17S 0523 3780 1000)<br>UTM:(17S 0523 3780...  2.7   \n10    0.33      1  UTM:(17S 0525 3776 1000)<br>UTM:(17S 0525 3776...  2.2   \n11    0.33      1  UTM:(17S 0525 3780 1000)<br>UTM:(17S 0525 3780...  3.1   \n12    0.33      1  UTM:(17S 0526 3774 1000)<br>UTM:(17S 0526 3774...  2.2   \n\n    dist                                           geometry  \n0     43  POLYGON ((-81.16237 33.97142, -81.15154 33.971...  \n1     13  POLYGON ((-80.86982 34.15184, -80.85897 34.151...  \n2     23  POLYGON ((-80.84846 33.96242, -80.83764 33.962...  \n3     10  POLYGON ((-80.82643 34.15179, -80.81558 34.151...  \n4      8  POLYGON ((-80.79393 34.13370, -80.78308 34.133...  \n5      7  POLYGON ((-80.76137 34.14266, -80.75052 34.142...  \n6      7  POLYGON ((-80.76134 34.15168, -80.75049 34.151...  \n7      6  POLYGON ((-80.75052 34.14264, -80.73967 34.142...  \n8      6  POLYGON ((-80.75049 34.15165, -80.73964 34.151...  \n9      7  POLYGON ((-80.75047 34.16067, -80.73962 34.160...  \n10     7  POLYGON ((-80.72888 34.12455, -80.71804 34.124...  \n11     7  POLYGON ((-80.72877 34.16063, -80.71792 34.160...  \n12     8  POLYGON ((-80.71810 34.10649, -80.70726 34.106...  ",
      "text/html": "<div>\n<style scoped>\n    .dataframe tbody tr th:only-of-type {\n        vertical-align: middle;\n    }\n\n    .dataframe tbody tr th {\n        vertical-align: top;\n    }\n\n    .dataframe thead th {\n        text-align: right;\n    }\n</style>\n<table border=\"1\" class=\"dataframe\">\n  <thead>\n    <tr style=\"text-align: right;\">\n      <th></th>\n      <th>stddev</th>\n      <th>nresp</th>\n      <th>name</th>\n      <th>cdi</th>\n      <th>dist</th>\n      <th>geometry</th>\n    </tr>\n  </thead>\n  <tbody>\n    <tr>\n      <th>0</th>\n      <td>0.33</td>\n      <td>1</td>\n      <td>UTM:(17S 0485 3759 1000)&lt;br&gt;UTM:(17S 0485 3759...</td>\n      <td>2.7</td>\n      <td>43</td>\n      <td>POLYGON ((-81.16237 33.97142, -81.15154 33.971...</td>\n    </tr>\n    <tr>\n      <th>1</th>\n      <td>0.33</td>\n      <td>1</td>\n      <td>UTM:(17S 0512 3779 1000)&lt;br&gt;UTM:(17S 0512 3779...</td>\n      <td>2.0</td>\n      <td>13</td>\n      <td>POLYGON ((-80.86982 34.15184, -80.85897 34.151...</td>\n    </tr>\n    <tr>\n      <th>2</th>\n      <td>0.33</td>\n      <td>1</td>\n      <td>UTM:(17S 0514 3758 1000)&lt;br&gt;UTM:(17S 0514 3758...</td>\n      <td>2.0</td>\n      <td>23</td>\n      <td>POLYGON ((-80.84846 33.96242, -80.83764 33.962...</td>\n    </tr>\n    <tr>\n      <th>3</th>\n      <td>0.33</td>\n      <td>1</td>\n      <td>UTM:(17S 0516 3779 1000)&lt;br&gt;UTM:(17S 0516 3779...</td>\n      <td>2.2</td>\n      <td>10</td>\n      <td>POLYGON ((-80.82643 34.15179, -80.81558 34.151...</td>\n    </tr>\n    <tr>\n      <th>4</th>\n      <td>0.33</td>\n      <td>1</td>\n      <td>UTM:(17S 0519 3777 1000)&lt;br&gt;UTM:(17S 0519 3777...</td>\n      <td>2.2</td>\n      <td>8</td>\n      <td>POLYGON ((-80.79393 34.13370, -80.78308 34.133...</td>\n    </tr>\n    <tr>\n      <th>5</th>\n      <td>0.33</td>\n      <td>1</td>\n      <td>UTM:(17S 0522 3778 1000)&lt;br&gt;UTM:(17S 0522 3778...</td>\n      <td>2.7</td>\n      <td>7</td>\n      <td>POLYGON ((-80.76137 34.14266, -80.75052 34.142...</td>\n    </tr>\n    <tr>\n      <th>6</th>\n      <td>0.33</td>\n      <td>1</td>\n      <td>UTM:(17S 0522 3779 1000)&lt;br&gt;UTM:(17S 0522 3779...</td>\n      <td>2.2</td>\n      <td>7</td>\n      <td>POLYGON ((-80.76134 34.15168, -80.75049 34.151...</td>\n    </tr>\n    <tr>\n      <th>7</th>\n      <td>0.33</td>\n      <td>1</td>\n      <td>UTM:(17S 0523 3778 1000)&lt;br&gt;UTM:(17S 0523 3778...</td>\n      <td>3.8</td>\n      <td>6</td>\n      <td>POLYGON ((-80.75052 34.14264, -80.73967 34.142...</td>\n    </tr>\n    <tr>\n      <th>8</th>\n      <td>0.32</td>\n      <td>2</td>\n      <td>UTM:(17S 0523 3779 1000)&lt;br&gt;UTM:(17S 0523 3779...</td>\n      <td>2.2</td>\n      <td>6</td>\n      <td>POLYGON ((-80.75049 34.15165, -80.73964 34.151...</td>\n    </tr>\n    <tr>\n      <th>9</th>\n      <td>0.33</td>\n      <td>1</td>\n      <td>UTM:(17S 0523 3780 1000)&lt;br&gt;UTM:(17S 0523 3780...</td>\n      <td>2.7</td>\n      <td>7</td>\n      <td>POLYGON ((-80.75047 34.16067, -80.73962 34.160...</td>\n    </tr>\n    <tr>\n      <th>10</th>\n      <td>0.33</td>\n      <td>1</td>\n      <td>UTM:(17S 0525 3776 1000)&lt;br&gt;UTM:(17S 0525 3776...</td>\n      <td>2.2</td>\n      <td>7</td>\n      <td>POLYGON ((-80.72888 34.12455, -80.71804 34.124...</td>\n    </tr>\n    <tr>\n      <th>11</th>\n      <td>0.33</td>\n      <td>1</td>\n      <td>UTM:(17S 0525 3780 1000)&lt;br&gt;UTM:(17S 0525 3780...</td>\n      <td>3.1</td>\n      <td>7</td>\n      <td>POLYGON ((-80.72877 34.16063, -80.71792 34.160...</td>\n    </tr>\n    <tr>\n      <th>12</th>\n      <td>0.33</td>\n      <td>1</td>\n      <td>UTM:(17S 0526 3774 1000)&lt;br&gt;UTM:(17S 0526 3774...</td>\n      <td>2.2</td>\n      <td>8</td>\n      <td>POLYGON ((-80.71810 34.10649, -80.70726 34.106...</td>\n    </tr>\n  </tbody>\n</table>\n</div>"
     },
     "execution_count": 36,
     "metadata": {},
     "output_type": "execute_result"
    }
   ],
   "source": [
    "utm_geo_df"
   ],
   "metadata": {
    "collapsed": false
   }
  },
  {
   "cell_type": "code",
   "execution_count": 37,
   "outputs": [
    {
     "data": {
      "text/plain": "<AxesSubplot: >"
     },
     "execution_count": 37,
     "metadata": {},
     "output_type": "execute_result"
    },
    {
     "data": {
      "text/plain": "<Figure size 640x480 with 1 Axes>",
      "image/png": "[encoded data removed]"
     },
     "metadata": {},
     "output_type": "display_data"
    }
   ],
   "source": [
    "utm_geo_df.plot()"
   ],
   "metadata": {
    "collapsed": false
   }
  },
  {
   "cell_type": "code",
   "execution_count": 38,
   "outputs": [
    {
     "data": {
      "text/plain": "<folium.folium.Map at 0x7f25bec31090>",
      "text/html": "<div style=\"width:100%;\"><div style=\"position:relative;width:100%;height:0;padding-bottom:60%;\"><span style=\"color:#565656\">Make this Notebook Trusted to load map: File -> Trust Notebook</span><iframe srcdoc=\"&lt;!DOCTYPE html&gt;\n&lt;html&gt;\n&lt;head&gt;\n    \n    &lt;meta http-equiv=&quot;content-type&quot; content=&quot;text/html; charset=UTF-8&quot; /&gt;\n    \n        &lt;script&gt;\n            L_NO_TOUCH = false;\n            L_DISABLE_3D = false;\n        &lt;/script&gt;\n    \n    &lt;style&gt;html, body {width: 100%;height: 100%;margin: 0;padding: 0;}&lt;/style&gt;\n    &lt;style&gt;#map {position:absolute;top:0;bottom:0;right:0;left:0;}&lt;/style&gt;\n    &lt;script src=&quot;https://cdn.jsdelivr.net/npm/leaflet@1.9.3/dist/leaflet.js&quot;&gt;&lt;/script&gt;\n    &lt;script src=&quot;https://code.jquery.com/jquery-1.12.4.min.js&quot;&gt;&lt;/script&gt;\n    &lt;script src=&quot;https://cdn.jsdelivr.net/npm/bootstrap@5.2.2/dist/js/bootstrap.bundle.min.js&quot;&gt;&lt;/script&gt;\n    &lt;script src=&quot;https://cdnjs.cloudflare.com/ajax/libs/Leaflet.awesome-markers/2.0.2/leaflet.awesome-markers.js&quot;&gt;&lt;/script&gt;\n    &lt;link rel=&quot;stylesheet&quot; href=&quot;https://cdn.jsdelivr.net/npm/leaflet@1.9.3/dist/leaflet.css&quot;/&gt;\n    &lt;link rel=&quot;stylesheet&quot; href=&quot;https://cdn.jsdelivr.net/npm/bootstrap@5.2.2/dist/css/bootstrap.min.css&quot;/&gt;\n    &lt;link rel=&quot;stylesheet&quot; href=&quot;https://netdna.bootstrapcdn.com/bootstrap/3.0.0/css/bootstrap.min.css&quot;/&gt;\n    &lt;link rel=&quot;stylesheet&quot; href=&quot;https://cdn.jsdelivr.net/npm/@fortawesome/fontawesome-free@6.2.0/css/all.min.css&quot;/&gt;\n    &lt;link rel=&quot;stylesheet&quot; href=&quot;https://cdnjs.cloudflare.com/ajax/libs/Leaflet.awesome-markers/2.0.2/leaflet.awesome-markers.css&quot;/&gt;\n    &lt;link rel=&quot;stylesheet&quot; href=&quot;https://cdn.jsdelivr.net/gh/python-visualization/folium/folium/templates/leaflet.awesome.rotate.min.css&quot;/&gt;\n    \n            &lt;meta name=&quot;viewport&quot; content=&quot;width=device-width,\n                initial-scale=1.0, maximum-scale=1.0, user-scalable=no&quot; /&gt;\n            &lt;style&gt;\n                #map_64f2df996768db91722b875c990d5805 {\n                    position: relative;\n                    width: 100.0%;\n                    height: 100.0%;\n                    left: 0.0%;\n                    top: 0.0%;\n                }\n                .leaflet-container { font-size: 1rem; }\n            &lt;/style&gt;\n        \n    \n                    &lt;style&gt;\n                        .foliumtooltip {\n                            \n                        }\n                       .foliumtooltip table{\n                            margin: auto;\n                        }\n                        .foliumtooltip tr{\n                            text-align: left;\n                        }\n                        .foliumtooltip th{\n                            padding: 2px; padding-right: 8px;\n                        }\n                    &lt;/style&gt;\n            \n&lt;/head&gt;\n&lt;body&gt;\n    \n    \n            &lt;div class=&quot;folium-map&quot; id=&quot;map_64f2df996768db91722b875c990d5805&quot; &gt;&lt;/div&gt;\n        \n&lt;/body&gt;\n&lt;script&gt;\n    \n    \n            var map_64f2df996768db91722b875c990d5805 = L.map(\n                &quot;map_64f2df996768db91722b875c990d5805&quot;,\n                {\n                    center: [34.066050000000004, -80.93481],\n                    crs: L.CRS.EPSG3857,\n                    zoom: 10,\n                    zoomControl: true,\n                    preferCanvas: false,\n                }\n            );\n            L.control.scale().addTo(map_64f2df996768db91722b875c990d5805);\n\n            \n\n        \n    \n            var tile_layer_8172de2f58889a52730e1aa9113f0503 = L.tileLayer(\n                &quot;https://{s}.tile.openstreetmap.org/{z}/{x}/{y}.png&quot;,\n                {&quot;attribution&quot;: &quot;Data by \\u0026copy; \\u003ca target=\\&quot;_blank\\&quot; href=\\&quot;http://openstreetmap.org\\&quot;\\u003eOpenStreetMap\\u003c/a\\u003e, under \\u003ca target=\\&quot;_blank\\&quot; href=\\&quot;http://www.openstreetmap.org/copyright\\&quot;\\u003eODbL\\u003c/a\\u003e.&quot;, &quot;detectRetina&quot;: false, &quot;maxNativeZoom&quot;: 18, &quot;maxZoom&quot;: 18, &quot;minZoom&quot;: 0, &quot;noWrap&quot;: false, &quot;opacity&quot;: 1, &quot;subdomains&quot;: &quot;abc&quot;, &quot;tms&quot;: false}\n            ).addTo(map_64f2df996768db91722b875c990d5805);\n        \n    \n            map_64f2df996768db91722b875c990d5805.fitBounds(\n                [[33.96241, -81.16239], [34.16969, -80.70723]],\n                {}\n            );\n        \n    \n        function geo_json_0d40847c7a4d73ca6e11476edc194eeb_styler(feature) {\n            switch(feature.id) {\n                default:\n                    return {&quot;fillOpacity&quot;: 0.5, &quot;weight&quot;: 2};\n            }\n        }\n        function geo_json_0d40847c7a4d73ca6e11476edc194eeb_highlighter(feature) {\n            switch(feature.id) {\n                default:\n                    return {&quot;fillOpacity&quot;: 0.75};\n            }\n        }\n        function geo_json_0d40847c7a4d73ca6e11476edc194eeb_pointToLayer(feature, latlng) {\n            var opts = {&quot;bubblingMouseEvents&quot;: true, &quot;color&quot;: &quot;#3388ff&quot;, &quot;dashArray&quot;: null, &quot;dashOffset&quot;: null, &quot;fill&quot;: true, &quot;fillColor&quot;: &quot;#3388ff&quot;, &quot;fillOpacity&quot;: 0.2, &quot;fillRule&quot;: &quot;evenodd&quot;, &quot;lineCap&quot;: &quot;round&quot;, &quot;lineJoin&quot;: &quot;round&quot;, &quot;opacity&quot;: 1.0, &quot;radius&quot;: 2, &quot;stroke&quot;: true, &quot;weight&quot;: 3};\n            \n            let style = geo_json_0d40847c7a4d73ca6e11476edc194eeb_styler(feature)\n            Object.assign(opts, style)\n            \n            return new L.CircleMarker(latlng, opts)\n        }\n\n        function geo_json_0d40847c7a4d73ca6e11476edc194eeb_onEachFeature(feature, layer) {\n            layer.on({\n                mouseout: function(e) {\n                    if(typeof e.target.setStyle === &quot;function&quot;){\n                        geo_json_0d40847c7a4d73ca6e11476edc194eeb.resetStyle(e.target);\n                    }\n                },\n                mouseover: function(e) {\n                    if(typeof e.target.setStyle === &quot;function&quot;){\n                        const highlightStyle = geo_json_0d40847c7a4d73ca6e11476edc194eeb_highlighter(e.target.feature)\n                        e.target.setStyle(highlightStyle);\n                    }\n                },\n            });\n        };\n        var geo_json_0d40847c7a4d73ca6e11476edc194eeb = L.geoJson(null, {\n                onEachFeature: geo_json_0d40847c7a4d73ca6e11476edc194eeb_onEachFeature,\n            \n                style: geo_json_0d40847c7a4d73ca6e11476edc194eeb_styler,\n                pointToLayer: geo_json_0d40847c7a4d73ca6e11476edc194eeb_pointToLayer\n        });\n\n        function geo_json_0d40847c7a4d73ca6e11476edc194eeb_add (data) {\n            geo_json_0d40847c7a4d73ca6e11476edc194eeb\n                .addData(data)\n                .addTo(map_64f2df996768db91722b875c990d5805);\n        }\n            geo_json_0d40847c7a4d73ca6e11476edc194eeb_add({&quot;bbox&quot;: [-81.16239, 33.96241, -80.70723, 34.16969], &quot;features&quot;: [{&quot;bbox&quot;: [-81.16239, 33.97142, -81.15154, 33.98046], &quot;geometry&quot;: {&quot;coordinates&quot;: [[[-81.16237, 33.97142], [-81.15154, 33.97144], [-81.15156, 33.98046], [-81.16239, 33.98044], [-81.16237, 33.97142]]], &quot;type&quot;: &quot;Polygon&quot;}, &quot;id&quot;: &quot;0&quot;, &quot;properties&quot;: {&quot;cdi&quot;: 2.7, &quot;dist&quot;: 43, &quot;name&quot;: &quot;UTM:(17S 0485 3759 1000)\\u003cbr\\u003eUTM:(17S 0485 3759 1000)&quot;, &quot;nresp&quot;: 1, &quot;stddev&quot;: 0.33}, &quot;type&quot;: &quot;Feature&quot;}, {&quot;bbox&quot;: [-80.86982, 34.15183, -80.85896, 34.16086], &quot;geometry&quot;: {&quot;coordinates&quot;: [[[-80.86982, 34.15184], [-80.85897, 34.15183], [-80.85896, 34.16085], [-80.86981, 34.16086], [-80.86982, 34.15184]]], &quot;type&quot;: &quot;Polygon&quot;}, &quot;id&quot;: &quot;1&quot;, &quot;properties&quot;: {&quot;cdi&quot;: 2.0, &quot;dist&quot;: 13, &quot;name&quot;: &quot;UTM:(17S 0512 3779 1000)\\u003cbr\\u003eUTM:(17S 0512 3779 1000)&quot;, &quot;nresp&quot;: 1, &quot;stddev&quot;: 0.33}, &quot;type&quot;: &quot;Feature&quot;}, {&quot;bbox&quot;: [-80.84846, 33.96241, -80.83762, 33.97144], &quot;geometry&quot;: {&quot;coordinates&quot;: [[[-80.84846, 33.96242], [-80.83764, 33.96241], [-80.83762, 33.97142], [-80.84845, 33.97144], [-80.84846, 33.96242]]], &quot;type&quot;: &quot;Polygon&quot;}, &quot;id&quot;: &quot;2&quot;, &quot;properties&quot;: {&quot;cdi&quot;: 2.0, &quot;dist&quot;: 23, &quot;name&quot;: &quot;UTM:(17S 0514 3758 1000)\\u003cbr\\u003eUTM:(17S 0514 3758 1000)&quot;, &quot;nresp&quot;: 1, &quot;stddev&quot;: 0.33}, &quot;type&quot;: &quot;Feature&quot;}, {&quot;bbox&quot;: [-80.82643, 34.15177, -80.81556, 34.1608], &quot;geometry&quot;: {&quot;coordinates&quot;: [[[-80.82643, 34.15179], [-80.81558, 34.15177], [-80.81556, 34.16079], [-80.82641, 34.1608], [-80.82643, 34.15179]]], &quot;type&quot;: &quot;Polygon&quot;}, &quot;id&quot;: &quot;3&quot;, &quot;properties&quot;: {&quot;cdi&quot;: 2.2, &quot;dist&quot;: 10, &quot;name&quot;: &quot;UTM:(17S 0516 3779 1000)\\u003cbr\\u003eUTM:(17S 0516 3779 1000)&quot;, &quot;nresp&quot;: 1, &quot;stddev&quot;: 0.33}, &quot;type&quot;: &quot;Feature&quot;}, {&quot;bbox&quot;: [-80.79393, 34.13368, -80.78306, 34.14272], &quot;geometry&quot;: {&quot;coordinates&quot;: [[[-80.79393, 34.1337], [-80.78308, 34.13368], [-80.78306, 34.1427], [-80.79391, 34.14272], [-80.79393, 34.1337]]], &quot;type&quot;: &quot;Polygon&quot;}, &quot;id&quot;: &quot;4&quot;, &quot;properties&quot;: {&quot;cdi&quot;: 2.2, &quot;dist&quot;: 8, &quot;name&quot;: &quot;UTM:(17S 0519 3777 1000)\\u003cbr\\u003eUTM:(17S 0519 3777 1000)&quot;, &quot;nresp&quot;: 1, &quot;stddev&quot;: 0.33}, &quot;type&quot;: &quot;Feature&quot;}, {&quot;bbox&quot;: [-80.76137, 34.14264, -80.75049, 34.15168], &quot;geometry&quot;: {&quot;coordinates&quot;: [[[-80.76137, 34.14266], [-80.75052, 34.14264], [-80.75049, 34.15165], [-80.76134, 34.15168], [-80.76137, 34.14266]]], &quot;type&quot;: &quot;Polygon&quot;}, &quot;id&quot;: &quot;5&quot;, &quot;properties&quot;: {&quot;cdi&quot;: 2.7, &quot;dist&quot;: 7, &quot;name&quot;: &quot;UTM:(17S 0522 3778 1000)\\u003cbr\\u003eUTM:(17S 0522 3778 1000)&quot;, &quot;nresp&quot;: 1, &quot;stddev&quot;: 0.33}, &quot;type&quot;: &quot;Feature&quot;}, {&quot;bbox&quot;: [-80.76134, 34.15165, -80.75047, 34.16069], &quot;geometry&quot;: {&quot;coordinates&quot;: [[[-80.76134, 34.15168], [-80.75049, 34.15165], [-80.75047, 34.16067], [-80.76132, 34.16069], [-80.76134, 34.15168]]], &quot;type&quot;: &quot;Polygon&quot;}, &quot;id&quot;: &quot;6&quot;, &quot;properties&quot;: {&quot;cdi&quot;: 2.2, &quot;dist&quot;: 7, &quot;name&quot;: &quot;UTM:(17S 0522 3779 1000)\\u003cbr\\u003eUTM:(17S 0522 3779 1000)&quot;, &quot;nresp&quot;: 1, &quot;stddev&quot;: 0.33}, &quot;type&quot;: &quot;Feature&quot;}, {&quot;bbox&quot;: [-80.75052, 34.14261, -80.73964, 34.15165], &quot;geometry&quot;: {&quot;coordinates&quot;: [[[-80.75052, 34.14264], [-80.73967, 34.14261], [-80.73964, 34.15163], [-80.75049, 34.15165], [-80.75052, 34.14264]]], &quot;type&quot;: &quot;Polygon&quot;}, &quot;id&quot;: &quot;7&quot;, &quot;properties&quot;: {&quot;cdi&quot;: 3.8, &quot;dist&quot;: 6, &quot;name&quot;: &quot;UTM:(17S 0523 3778 1000)\\u003cbr\\u003eUTM:(17S 0523 3778 1000)&quot;, &quot;nresp&quot;: 1, &quot;stddev&quot;: 0.33}, &quot;type&quot;: &quot;Feature&quot;}, {&quot;bbox&quot;: [-80.75049, 34.15163, -80.73962, 34.16067], &quot;geometry&quot;: {&quot;coordinates&quot;: [[[-80.75049, 34.15165], [-80.73964, 34.15163], [-80.73962, 34.16065], [-80.75047, 34.16067], [-80.75049, 34.15165]]], &quot;type&quot;: &quot;Polygon&quot;}, &quot;id&quot;: &quot;8&quot;, &quot;properties&quot;: {&quot;cdi&quot;: 2.2, &quot;dist&quot;: 6, &quot;name&quot;: &quot;UTM:(17S 0523 3779 1000)\\u003cbr\\u003eUTM:(17S 0523 3779 1000)&quot;, &quot;nresp&quot;: 2, &quot;stddev&quot;: 0.32}, &quot;type&quot;: &quot;Feature&quot;}, {&quot;bbox&quot;: [-80.75047, 34.16065, -80.73959, 34.16969], &quot;geometry&quot;: {&quot;coordinates&quot;: [[[-80.75047, 34.16067], [-80.73962, 34.16065], [-80.73959, 34.16967], [-80.75044, 34.16969], [-80.75047, 34.16067]]], &quot;type&quot;: &quot;Polygon&quot;}, &quot;id&quot;: &quot;9&quot;, &quot;properties&quot;: {&quot;cdi&quot;: 2.7, &quot;dist&quot;: 7, &quot;name&quot;: &quot;UTM:(17S 0523 3780 1000)\\u003cbr\\u003eUTM:(17S 0523 3780 1000)&quot;, &quot;nresp&quot;: 1, &quot;stddev&quot;: 0.33}, &quot;type&quot;: &quot;Feature&quot;}, {&quot;bbox&quot;: [-80.72888, 34.12453, -80.71801, 34.13357], &quot;geometry&quot;: {&quot;coordinates&quot;: [[[-80.72888, 34.12455], [-80.71804, 34.12453], [-80.71801, 34.13355], [-80.72885, 34.13357], [-80.72888, 34.12455]]], &quot;type&quot;: &quot;Polygon&quot;}, &quot;id&quot;: &quot;10&quot;, &quot;properties&quot;: {&quot;cdi&quot;: 2.2, &quot;dist&quot;: 7, &quot;name&quot;: &quot;UTM:(17S 0525 3776 1000)\\u003cbr\\u003eUTM:(17S 0525 3776 1000)&quot;, &quot;nresp&quot;: 1, &quot;stddev&quot;: 0.33}, &quot;type&quot;: &quot;Feature&quot;}, {&quot;bbox&quot;: [-80.72877, 34.1606, -80.71789, 34.16965], &quot;geometry&quot;: {&quot;coordinates&quot;: [[[-80.72877, 34.16063], [-80.71792, 34.1606], [-80.71789, 34.16962], [-80.72874, 34.16965], [-80.72877, 34.16063]]], &quot;type&quot;: &quot;Polygon&quot;}, &quot;id&quot;: &quot;11&quot;, &quot;properties&quot;: {&quot;cdi&quot;: 3.1, &quot;dist&quot;: 7, &quot;name&quot;: &quot;UTM:(17S 0525 3780 1000)\\u003cbr\\u003eUTM:(17S 0525 3780 1000)&quot;, &quot;nresp&quot;: 1, &quot;stddev&quot;: 0.33}, &quot;type&quot;: &quot;Feature&quot;}, {&quot;bbox&quot;: [-80.7181, 34.10647, -80.70723, 34.11551], &quot;geometry&quot;: {&quot;coordinates&quot;: [[[-80.7181, 34.10649], [-80.70726, 34.10647], [-80.70723, 34.11548], [-80.71807, 34.11551], [-80.7181, 34.10649]]], &quot;type&quot;: &quot;Polygon&quot;}, &quot;id&quot;: &quot;12&quot;, &quot;properties&quot;: {&quot;cdi&quot;: 2.2, &quot;dist&quot;: 8, &quot;name&quot;: &quot;UTM:(17S 0526 3774 1000)\\u003cbr\\u003eUTM:(17S 0526 3774 1000)&quot;, &quot;nresp&quot;: 1, &quot;stddev&quot;: 0.33}, &quot;type&quot;: &quot;Feature&quot;}], &quot;type&quot;: &quot;FeatureCollection&quot;});\n\n        \n    \n    geo_json_0d40847c7a4d73ca6e11476edc194eeb.bindTooltip(\n    function(layer){\n    let div = L.DomUtil.create(&#x27;div&#x27;);\n    \n    let handleObject = feature=&gt;typeof(feature)==&#x27;object&#x27; ? JSON.stringify(feature) : feature;\n    let fields = [&quot;stddev&quot;, &quot;nresp&quot;, &quot;name&quot;, &quot;cdi&quot;, &quot;dist&quot;];\n    let aliases = [&quot;stddev&quot;, &quot;nresp&quot;, &quot;name&quot;, &quot;cdi&quot;, &quot;dist&quot;];\n    let table = &#x27;&lt;table&gt;&#x27; +\n        String(\n        fields.map(\n        (v,i)=&gt;\n        `&lt;tr&gt;\n            &lt;th&gt;${aliases[i]}&lt;/th&gt;\n            \n            &lt;td&gt;${handleObject(layer.feature.properties[v])}&lt;/td&gt;\n        &lt;/tr&gt;`).join(&#x27;&#x27;))\n    +&#x27;&lt;/table&gt;&#x27;;\n    div.innerHTML=table;\n    \n    return div\n    }\n    ,{&quot;className&quot;: &quot;foliumtooltip&quot;, &quot;sticky&quot;: true});\n                     \n&lt;/script&gt;\n&lt;/html&gt;\" style=\"position:absolute;width:100%;height:100%;left:0;top:0;border:none !important;\" allowfullscreen webkitallowfullscreen mozallowfullscreen></iframe></div></div>"
     },
     "execution_count": 38,
     "metadata": {},
     "output_type": "execute_result"
    }
   ],
   "source": [
    "utm_geo_df.explore()"
   ],
   "metadata": {
    "collapsed": false
   }
  },
  {
   "cell_type": "code",
   "execution_count": 39,
   "outputs": [],
   "source": [
    "utm10k_geo_df = gpd.read_file(r'./utm10k_test.geojson')"
   ],
   "metadata": {
    "collapsed": false
   }
  },
  {
   "cell_type": "code",
   "execution_count": 40,
   "outputs": [
    {
     "data": {
      "text/plain": "   stddev  nresp                                  name  cdi  dist  \\\n0   0.330      1  UTM:(17S 048 375 10000)<br>Lexington  2.7    46   \n1   0.330      1    UTM:(17S 051 375 10000)<br>Hopkins  2.0    26   \n2   0.311      3   UTM:(17S 051 377 10000)<br>Columbia  2.0    12   \n3   0.277      7     UTM:(17S 052 377 10000)<br>Lugoff  2.6     7   \n4   0.320      2      UTM:(17S 052 378 10000)<br>Elgin  2.9     9   \n\n                                            geometry  \n0  POLYGON ((-81.21629 33.89017, -81.10814 33.890...  \n1  POLYGON ((-80.89185 33.89031, -80.78370 33.890...  \n2  POLYGON ((-80.89162 34.07069, -80.78324 34.070...  \n3  POLYGON ((-80.78324 34.07055, -80.67487 34.070...  \n4  POLYGON ((-80.78301 34.16073, -80.67452 34.160...  ",
      "text/html": "<div>\n<style scoped>\n    .dataframe tbody tr th:only-of-type {\n        vertical-align: middle;\n    }\n\n    .dataframe tbody tr th {\n        vertical-align: top;\n    }\n\n    .dataframe thead th {\n        text-align: right;\n    }\n</style>\n<table border=\"1\" class=\"dataframe\">\n  <thead>\n    <tr style=\"text-align: right;\">\n      <th></th>\n      <th>stddev</th>\n      <th>nresp</th>\n      <th>name</th>\n      <th>cdi</th>\n      <th>dist</th>\n      <th>geometry</th>\n    </tr>\n  </thead>\n  <tbody>\n    <tr>\n      <th>0</th>\n      <td>0.330</td>\n      <td>1</td>\n      <td>UTM:(17S 048 375 10000)&lt;br&gt;Lexington</td>\n      <td>2.7</td>\n      <td>46</td>\n      <td>POLYGON ((-81.21629 33.89017, -81.10814 33.890...</td>\n    </tr>\n    <tr>\n      <th>1</th>\n      <td>0.330</td>\n      <td>1</td>\n      <td>UTM:(17S 051 375 10000)&lt;br&gt;Hopkins</td>\n      <td>2.0</td>\n      <td>26</td>\n      <td>POLYGON ((-80.89185 33.89031, -80.78370 33.890...</td>\n    </tr>\n    <tr>\n      <th>2</th>\n      <td>0.311</td>\n      <td>3</td>\n      <td>UTM:(17S 051 377 10000)&lt;br&gt;Columbia</td>\n      <td>2.0</td>\n      <td>12</td>\n      <td>POLYGON ((-80.89162 34.07069, -80.78324 34.070...</td>\n    </tr>\n    <tr>\n      <th>3</th>\n      <td>0.277</td>\n      <td>7</td>\n      <td>UTM:(17S 052 377 10000)&lt;br&gt;Lugoff</td>\n      <td>2.6</td>\n      <td>7</td>\n      <td>POLYGON ((-80.78324 34.07055, -80.67487 34.070...</td>\n    </tr>\n    <tr>\n      <th>4</th>\n      <td>0.320</td>\n      <td>2</td>\n      <td>UTM:(17S 052 378 10000)&lt;br&gt;Elgin</td>\n      <td>2.9</td>\n      <td>9</td>\n      <td>POLYGON ((-80.78301 34.16073, -80.67452 34.160...</td>\n    </tr>\n  </tbody>\n</table>\n</div>"
     },
     "execution_count": 40,
     "metadata": {},
     "output_type": "execute_result"
    }
   ],
   "source": [
    "utm10k_geo_df"
   ],
   "metadata": {
    "collapsed": false
   }
  },
  {
   "cell_type": "code",
   "execution_count": 41,
   "outputs": [
    {
     "data": {
      "text/plain": "<AxesSubplot: >"
     },
     "execution_count": 41,
     "metadata": {},
     "output_type": "execute_result"
    },
    {
     "data": {
      "text/plain": "<Figure size 640x480 with 1 Axes>",
      "image/png": "[encoded data removed]"
     },
     "metadata": {},
     "output_type": "display_data"
    }
   ],
   "source": [
    "utm10k_geo_df.plot()"
   ],
   "metadata": {
    "collapsed": false
   }
  },
  {
   "cell_type": "code",
   "execution_count": 42,
   "outputs": [
    {
     "data": {
      "text/plain": "   stddev  nresp                                  name  cdi  dist  \\\n0   0.330      1  UTM:(17S 048 375 10000)<br>Lexington  2.7    46   \n1   0.330      1    UTM:(17S 051 375 10000)<br>Hopkins  2.0    26   \n2   0.311      3   UTM:(17S 051 377 10000)<br>Columbia  2.0    12   \n3   0.277      7     UTM:(17S 052 377 10000)<br>Lugoff  2.6     7   \n4   0.320      2      UTM:(17S 052 378 10000)<br>Elgin  2.9     9   \n\n                                            geometry  \n0  POLYGON ((-632833.331 3817937.932, -622746.532...  \n1  POLYGON ((-602582.062 3814351.180, -592503.365...  \n2  POLYGON ((-600187.452 3834509.482, -590109.925...  \n3  POLYGON ((-590109.925 3833310.185, -580036.005...  \n4  POLYGON ((-588909.380 3843384.809, -578835.514...  ",
      "text/html": "<div>\n<style scoped>\n    .dataframe tbody tr th:only-of-type {\n        vertical-align: middle;\n    }\n\n    .dataframe tbody tr th {\n        vertical-align: top;\n    }\n\n    .dataframe thead th {\n        text-align: right;\n    }\n</style>\n<table border=\"1\" class=\"dataframe\">\n  <thead>\n    <tr style=\"text-align: right;\">\n      <th></th>\n      <th>stddev</th>\n      <th>nresp</th>\n      <th>name</th>\n      <th>cdi</th>\n      <th>dist</th>\n      <th>geometry</th>\n    </tr>\n  </thead>\n  <tbody>\n    <tr>\n      <th>0</th>\n      <td>0.330</td>\n      <td>1</td>\n      <td>UTM:(17S 048 375 10000)&lt;br&gt;Lexington</td>\n      <td>2.7</td>\n      <td>46</td>\n      <td>POLYGON ((-632833.331 3817937.932, -622746.532...</td>\n    </tr>\n    <tr>\n      <th>1</th>\n      <td>0.330</td>\n      <td>1</td>\n      <td>UTM:(17S 051 375 10000)&lt;br&gt;Hopkins</td>\n      <td>2.0</td>\n      <td>26</td>\n      <td>POLYGON ((-602582.062 3814351.180, -592503.365...</td>\n    </tr>\n    <tr>\n      <th>2</th>\n      <td>0.311</td>\n      <td>3</td>\n      <td>UTM:(17S 051 377 10000)&lt;br&gt;Columbia</td>\n      <td>2.0</td>\n      <td>12</td>\n      <td>POLYGON ((-600187.452 3834509.482, -590109.925...</td>\n    </tr>\n    <tr>\n      <th>3</th>\n      <td>0.277</td>\n      <td>7</td>\n      <td>UTM:(17S 052 377 10000)&lt;br&gt;Lugoff</td>\n      <td>2.6</td>\n      <td>7</td>\n      <td>POLYGON ((-590109.925 3833310.185, -580036.005...</td>\n    </tr>\n    <tr>\n      <th>4</th>\n      <td>0.320</td>\n      <td>2</td>\n      <td>UTM:(17S 052 378 10000)&lt;br&gt;Elgin</td>\n      <td>2.9</td>\n      <td>9</td>\n      <td>POLYGON ((-588909.380 3843384.809, -578835.514...</td>\n    </tr>\n  </tbody>\n</table>\n</div>"
     },
     "execution_count": 42,
     "metadata": {},
     "output_type": "execute_result"
    }
   ],
   "source": [
    "utm10k_geo_df.to_crs(epsg=32619)"
   ],
   "metadata": {
    "collapsed": false
   }
  },
  {
   "cell_type": "code",
   "execution_count": 43,
   "outputs": [
    {
     "data": {
      "text/plain": "<folium.folium.Map at 0x7f25bea80df0>",
      "text/html": "<div style=\"width:100%;\"><div style=\"position:relative;width:100%;height:0;padding-bottom:60%;\"><span style=\"color:#565656\">Make this Notebook Trusted to load map: File -> Trust Notebook</span><iframe srcdoc=\"&lt;!DOCTYPE html&gt;\n&lt;html&gt;\n&lt;head&gt;\n    \n    &lt;meta http-equiv=&quot;content-type&quot; content=&quot;text/html; charset=UTF-8&quot; /&gt;\n    \n        &lt;script&gt;\n            L_NO_TOUCH = false;\n            L_DISABLE_3D = false;\n        &lt;/script&gt;\n    \n    &lt;style&gt;html, body {width: 100%;height: 100%;margin: 0;padding: 0;}&lt;/style&gt;\n    &lt;style&gt;#map {position:absolute;top:0;bottom:0;right:0;left:0;}&lt;/style&gt;\n    &lt;script src=&quot;https://cdn.jsdelivr.net/npm/leaflet@1.9.3/dist/leaflet.js&quot;&gt;&lt;/script&gt;\n    &lt;script src=&quot;https://code.jquery.com/jquery-1.12.4.min.js&quot;&gt;&lt;/script&gt;\n    &lt;script src=&quot;https://cdn.jsdelivr.net/npm/bootstrap@5.2.2/dist/js/bootstrap.bundle.min.js&quot;&gt;&lt;/script&gt;\n    &lt;script src=&quot;https://cdnjs.cloudflare.com/ajax/libs/Leaflet.awesome-markers/2.0.2/leaflet.awesome-markers.js&quot;&gt;&lt;/script&gt;\n    &lt;link rel=&quot;stylesheet&quot; href=&quot;https://cdn.jsdelivr.net/npm/leaflet@1.9.3/dist/leaflet.css&quot;/&gt;\n    &lt;link rel=&quot;stylesheet&quot; href=&quot;https://cdn.jsdelivr.net/npm/bootstrap@5.2.2/dist/css/bootstrap.min.css&quot;/&gt;\n    &lt;link rel=&quot;stylesheet&quot; href=&quot;https://netdna.bootstrapcdn.com/bootstrap/3.0.0/css/bootstrap.min.css&quot;/&gt;\n    &lt;link rel=&quot;stylesheet&quot; href=&quot;https://cdn.jsdelivr.net/npm/@fortawesome/fontawesome-free@6.2.0/css/all.min.css&quot;/&gt;\n    &lt;link rel=&quot;stylesheet&quot; href=&quot;https://cdnjs.cloudflare.com/ajax/libs/Leaflet.awesome-markers/2.0.2/leaflet.awesome-markers.css&quot;/&gt;\n    &lt;link rel=&quot;stylesheet&quot; href=&quot;https://cdn.jsdelivr.net/gh/python-visualization/folium/folium/templates/leaflet.awesome.rotate.min.css&quot;/&gt;\n    \n            &lt;meta name=&quot;viewport&quot; content=&quot;width=device-width,\n                initial-scale=1.0, maximum-scale=1.0, user-scalable=no&quot; /&gt;\n            &lt;style&gt;\n                #map_12775ed0f9cf461e9c09e00763317166 {\n                    position: relative;\n                    width: 100.0%;\n                    height: 100.0%;\n                    left: 0.0%;\n                    top: 0.0%;\n                }\n                .leaflet-container { font-size: 1rem; }\n            &lt;/style&gt;\n        \n    \n                    &lt;style&gt;\n                        .foliumtooltip {\n                            \n                        }\n                       .foliumtooltip table{\n                            margin: auto;\n                        }\n                        .foliumtooltip tr{\n                            text-align: left;\n                        }\n                        .foliumtooltip th{\n                            padding: 2px; padding-right: 8px;\n                        }\n                    &lt;/style&gt;\n            \n&lt;/head&gt;\n&lt;body&gt;\n    \n    \n            &lt;div class=&quot;folium-map&quot; id=&quot;map_12775ed0f9cf461e9c09e00763317166&quot; &gt;&lt;/div&gt;\n        \n&lt;/body&gt;\n&lt;script&gt;\n    \n    \n            var map_12775ed0f9cf461e9c09e00763317166 = L.map(\n                &quot;map_12775ed0f9cf461e9c09e00763317166&quot;,\n                {\n                    center: [34.070544999999996, -80.94535],\n                    crs: L.CRS.EPSG3857,\n                    zoom: 10,\n                    zoomControl: true,\n                    preferCanvas: false,\n                }\n            );\n            L.control.scale().addTo(map_12775ed0f9cf461e9c09e00763317166);\n\n            \n\n        \n    \n            var tile_layer_4c3e8d7dc9a37649b4375da2be815224 = L.tileLayer(\n                &quot;https://{s}.tile.openstreetmap.org/{z}/{x}/{y}.png&quot;,\n                {&quot;attribution&quot;: &quot;Data by \\u0026copy; \\u003ca target=\\&quot;_blank\\&quot; href=\\&quot;http://openstreetmap.org\\&quot;\\u003eOpenStreetMap\\u003c/a\\u003e, under \\u003ca target=\\&quot;_blank\\&quot; href=\\&quot;http://www.openstreetmap.org/copyright\\&quot;\\u003eODbL\\u003c/a\\u003e.&quot;, &quot;detectRetina&quot;: false, &quot;maxNativeZoom&quot;: 18, &quot;maxZoom&quot;: 18, &quot;minZoom&quot;: 0, &quot;noWrap&quot;: false, &quot;opacity&quot;: 1, &quot;subdomains&quot;: &quot;abc&quot;, &quot;tms&quot;: false}\n            ).addTo(map_12775ed0f9cf461e9c09e00763317166);\n        \n    \n            map_12775ed0f9cf461e9c09e00763317166.fitBounds(\n                [[33.89017, -81.21652], [34.25092, -80.67418]],\n                {}\n            );\n        \n    \n        function geo_json_2e6b059335ac68726a5696f6e344ebe5_styler(feature) {\n            switch(feature.id) {\n                default:\n                    return {&quot;fillOpacity&quot;: 0.5, &quot;weight&quot;: 2};\n            }\n        }\n        function geo_json_2e6b059335ac68726a5696f6e344ebe5_highlighter(feature) {\n            switch(feature.id) {\n                default:\n                    return {&quot;fillOpacity&quot;: 0.75};\n            }\n        }\n        function geo_json_2e6b059335ac68726a5696f6e344ebe5_pointToLayer(feature, latlng) {\n            var opts = {&quot;bubblingMouseEvents&quot;: true, &quot;color&quot;: &quot;#3388ff&quot;, &quot;dashArray&quot;: null, &quot;dashOffset&quot;: null, &quot;fill&quot;: true, &quot;fillColor&quot;: &quot;#3388ff&quot;, &quot;fillOpacity&quot;: 0.2, &quot;fillRule&quot;: &quot;evenodd&quot;, &quot;lineCap&quot;: &quot;round&quot;, &quot;lineJoin&quot;: &quot;round&quot;, &quot;opacity&quot;: 1.0, &quot;radius&quot;: 2, &quot;stroke&quot;: true, &quot;weight&quot;: 3};\n            \n            let style = geo_json_2e6b059335ac68726a5696f6e344ebe5_styler(feature)\n            Object.assign(opts, style)\n            \n            return new L.CircleMarker(latlng, opts)\n        }\n\n        function geo_json_2e6b059335ac68726a5696f6e344ebe5_onEachFeature(feature, layer) {\n            layer.on({\n                mouseout: function(e) {\n                    if(typeof e.target.setStyle === &quot;function&quot;){\n                        geo_json_2e6b059335ac68726a5696f6e344ebe5.resetStyle(e.target);\n                    }\n                },\n                mouseover: function(e) {\n                    if(typeof e.target.setStyle === &quot;function&quot;){\n                        const highlightStyle = geo_json_2e6b059335ac68726a5696f6e344ebe5_highlighter(e.target.feature)\n                        e.target.setStyle(highlightStyle);\n                    }\n                },\n            });\n        };\n        var geo_json_2e6b059335ac68726a5696f6e344ebe5 = L.geoJson(null, {\n                onEachFeature: geo_json_2e6b059335ac68726a5696f6e344ebe5_onEachFeature,\n            \n                style: geo_json_2e6b059335ac68726a5696f6e344ebe5_styler,\n                pointToLayer: geo_json_2e6b059335ac68726a5696f6e344ebe5_pointToLayer\n        });\n\n        function geo_json_2e6b059335ac68726a5696f6e344ebe5_add (data) {\n            geo_json_2e6b059335ac68726a5696f6e344ebe5\n                .addData(data)\n                .addTo(map_12775ed0f9cf461e9c09e00763317166);\n        }\n            geo_json_2e6b059335ac68726a5696f6e344ebe5_add({&quot;bbox&quot;: [-81.21652, 33.89017, -80.67418, 34.25092], &quot;features&quot;: [{&quot;bbox&quot;: [-81.21652, 33.89017, -81.10814, 33.9805], &quot;geometry&quot;: {&quot;coordinates&quot;: [[[-81.21629, 33.89017], [-81.10814, 33.89031], [-81.10826, 33.9805], [-81.21652, 33.98036], [-81.21629, 33.89017]]], &quot;type&quot;: &quot;Polygon&quot;}, &quot;id&quot;: &quot;0&quot;, &quot;properties&quot;: {&quot;cdi&quot;: 2.7, &quot;dist&quot;: 46, &quot;name&quot;: &quot;UTM:(17S 048 375 10000)\\u003cbr\\u003eLexington&quot;, &quot;nresp&quot;: 1, &quot;stddev&quot;: 0.33}, &quot;type&quot;: &quot;Feature&quot;}, {&quot;bbox&quot;: [-80.89185, 33.89017, -80.78347, 33.9805], &quot;geometry&quot;: {&quot;coordinates&quot;: [[[-80.89185, 33.89031], [-80.7837, 33.89017], [-80.78347, 33.98036], [-80.89173, 33.9805], [-80.89185, 33.89031]]], &quot;type&quot;: &quot;Polygon&quot;}, &quot;id&quot;: &quot;1&quot;, &quot;properties&quot;: {&quot;cdi&quot;: 2.0, &quot;dist&quot;: 26, &quot;name&quot;: &quot;UTM:(17S 051 375 10000)\\u003cbr\\u003eHopkins&quot;, &quot;nresp&quot;: 1, &quot;stddev&quot;: 0.33}, &quot;type&quot;: &quot;Feature&quot;}, {&quot;bbox&quot;: [-80.89162, 34.07055, -80.78301, 34.16088], &quot;geometry&quot;: {&quot;coordinates&quot;: [[[-80.89162, 34.07069], [-80.78324, 34.07055], [-80.78301, 34.16073], [-80.8915, 34.16088], [-80.89162, 34.07069]]], &quot;type&quot;: &quot;Polygon&quot;}, &quot;id&quot;: &quot;2&quot;, &quot;properties&quot;: {&quot;cdi&quot;: 2.0, &quot;dist&quot;: 12, &quot;name&quot;: &quot;UTM:(17S 051 377 10000)\\u003cbr\\u003eColumbia&quot;, &quot;nresp&quot;: 3, &quot;stddev&quot;: 0.311}, &quot;type&quot;: &quot;Feature&quot;}, {&quot;bbox&quot;: [-80.78324, 34.07031, -80.67452, 34.16073], &quot;geometry&quot;: {&quot;coordinates&quot;: [[[-80.78324, 34.07055], [-80.67487, 34.07031], [-80.67452, 34.1605], [-80.78301, 34.16073], [-80.78324, 34.07055]]], &quot;type&quot;: &quot;Polygon&quot;}, &quot;id&quot;: &quot;3&quot;, &quot;properties&quot;: {&quot;cdi&quot;: 2.6, &quot;dist&quot;: 7, &quot;name&quot;: &quot;UTM:(17S 052 377 10000)\\u003cbr\\u003eLugoff&quot;, &quot;nresp&quot;: 7, &quot;stddev&quot;: 0.277}, &quot;type&quot;: &quot;Feature&quot;}, {&quot;bbox&quot;: [-80.78301, 34.1605, -80.67418, 34.25092], &quot;geometry&quot;: {&quot;coordinates&quot;: [[[-80.78301, 34.16073], [-80.67452, 34.1605], [-80.67418, 34.25068], [-80.78278, 34.25092], [-80.78301, 34.16073]]], &quot;type&quot;: &quot;Polygon&quot;}, &quot;id&quot;: &quot;4&quot;, &quot;properties&quot;: {&quot;cdi&quot;: 2.9, &quot;dist&quot;: 9, &quot;name&quot;: &quot;UTM:(17S 052 378 10000)\\u003cbr\\u003eElgin&quot;, &quot;nresp&quot;: 2, &quot;stddev&quot;: 0.32}, &quot;type&quot;: &quot;Feature&quot;}], &quot;type&quot;: &quot;FeatureCollection&quot;});\n\n        \n    \n    geo_json_2e6b059335ac68726a5696f6e344ebe5.bindTooltip(\n    function(layer){\n    let div = L.DomUtil.create(&#x27;div&#x27;);\n    \n    let handleObject = feature=&gt;typeof(feature)==&#x27;object&#x27; ? JSON.stringify(feature) : feature;\n    let fields = [&quot;stddev&quot;, &quot;nresp&quot;, &quot;name&quot;, &quot;cdi&quot;, &quot;dist&quot;];\n    let aliases = [&quot;stddev&quot;, &quot;nresp&quot;, &quot;name&quot;, &quot;cdi&quot;, &quot;dist&quot;];\n    let table = &#x27;&lt;table&gt;&#x27; +\n        String(\n        fields.map(\n        (v,i)=&gt;\n        `&lt;tr&gt;\n            &lt;th&gt;${aliases[i]}&lt;/th&gt;\n            \n            &lt;td&gt;${handleObject(layer.feature.properties[v])}&lt;/td&gt;\n        &lt;/tr&gt;`).join(&#x27;&#x27;))\n    +&#x27;&lt;/table&gt;&#x27;;\n    div.innerHTML=table;\n    \n    return div\n    }\n    ,{&quot;className&quot;: &quot;foliumtooltip&quot;, &quot;sticky&quot;: true});\n                     \n&lt;/script&gt;\n&lt;/html&gt;\" style=\"position:absolute;width:100%;height:100%;left:0;top:0;border:none !important;\" allowfullscreen webkitallowfullscreen mozallowfullscreen></iframe></div></div>"
     },
     "execution_count": 43,
     "metadata": {},
     "output_type": "execute_result"
    }
   ],
   "source": [
    "utm10k_geo_df.explore()"
   ],
   "metadata": {
    "collapsed": false
   }
  },
  {
   "cell_type": "code",
   "execution_count": 44,
   "outputs": [
    {
     "data": {
      "application/vnd.plotly.v1+json": {
       "data": [
        {
         "coloraxis": "coloraxis",
         "geojson": {
          "type": "FeatureCollection",
          "features": [
           {
            "id": "0",
            "type": "Feature",
            "properties": {},
            "geometry": {
             "type": "Polygon",
             "coordinates": [
              [
               [
                -81.21629,
                33.89017
               ],
               [
                -81.10814,
                33.89031
               ],
               [
                -81.10826,
                33.9805
               ],
               [
                -81.21652,
                33.98036
               ],
               [
                -81.21629,
                33.89017
               ]
              ]
             ]
            },
            "bbox": [
             -81.21652,
             33.89017,
             -81.10814,
             33.9805
            ]
           },
           {
            "id": "1",
            "type": "Feature",
            "properties": {},
            "geometry": {
             "type": "Polygon",
             "coordinates": [
              [
               [
                -80.89185,
                33.89031
               ],
               [
                -80.7837,
                33.89017
               ],
               [
                -80.78347,
                33.98036
               ],
               [
                -80.89173,
                33.9805
               ],
               [
                -80.89185,
                33.89031
               ]
              ]
             ]
            },
            "bbox": [
             -80.89185,
             33.89017,
             -80.78347,
             33.9805
            ]
           },
           {
            "id": "2",
            "type": "Feature",
            "properties": {},
            "geometry": {
             "type": "Polygon",
             "coordinates": [
              [
               [
                -80.89162,
                34.07069
               ],
               [
                -80.78324,
                34.07055
               ],
               [
                -80.78301,
                34.16073
               ],
               [
                -80.8915,
                34.16088
               ],
               [
                -80.89162,
                34.07069
               ]
              ]
             ]
            },
            "bbox": [
             -80.89162,
             34.07055,
             -80.78301,
             34.16088
            ]
           },
           {
            "id": "3",
            "type": "Feature",
            "properties": {},
            "geometry": {
             "type": "Polygon",
             "coordinates": [
              [
               [
                -80.78324,
                34.07055
               ],
               [
                -80.67487,
                34.07031
               ],
               [
                -80.67452,
                34.1605
               ],
               [
                -80.78301,
                34.16073
               ],
               [
                -80.78324,
                34.07055
               ]
              ]
             ]
            },
            "bbox": [
             -80.78324,
             34.07031,
             -80.67452,
             34.16073
            ]
           },
           {
            "id": "4",
            "type": "Feature",
            "properties": {},
            "geometry": {
             "type": "Polygon",
             "coordinates": [
              [
               [
                -80.78301,
                34.16073
               ],
               [
                -80.67452,
                34.1605
               ],
               [
                -80.67418,
                34.25068
               ],
               [
                -80.78278,
                34.25092
               ],
               [
                -80.78301,
                34.16073
               ]
              ]
             ]
            },
            "bbox": [
             -80.78301,
             34.1605,
             -80.67418,
             34.25092
            ]
           }
          ],
          "bbox": [
           -81.21652,
           33.89017,
           -80.67418,
           34.25092
          ]
         },
         "hovertemplate": "index=%{location}<br>cdi=%{z}<extra></extra>",
         "locations": [
          0,
          1,
          2,
          3,
          4
         ],
         "name": "",
         "subplot": "mapbox",
         "z": [
          2.7,
          2.0,
          2.0,
          2.6,
          2.9
         ],
         "type": "choroplethmapbox"
        }
       ],
       "layout": {
        "template": {
         "data": {
          "histogram2dcontour": [
           {
            "type": "histogram2dcontour",
            "colorbar": {
             "outlinewidth": 0,
             "ticks": ""
            },
            "colorscale": [
             [
              0.0,
              "#0d0887"
             ],
             [
              0.1111111111111111,
              "#46039f"
             ],
             [
              0.2222222222222222,
              "#7201a8"
             ],
             [
              0.3333333333333333,
              "#9c179e"
             ],
             [
              0.4444444444444444,
              "#bd3786"
             ],
             [
              0.5555555555555556,
              "#d8576b"
             ],
             [
              0.6666666666666666,
              "#ed7953"
             ],
             [
              0.7777777777777778,
              "#fb9f3a"
             ],
             [
              0.8888888888888888,
              "#fdca26"
             ],
             [
              1.0,
              "#f0f921"
             ]
            ]
           }
          ],
          "choropleth": [
           {
            "type": "choropleth",
            "colorbar": {
             "outlinewidth": 0,
             "ticks": ""
            }
           }
          ],
          "histogram2d": [
           {
            "type": "histogram2d",
            "colorbar": {
             "outlinewidth": 0,
             "ticks": ""
            },
            "colorscale": [
             [
              0.0,
              "#0d0887"
             ],
             [
              0.1111111111111111,
              "#46039f"
             ],
             [
              0.2222222222222222,
              "#7201a8"
             ],
             [
              0.3333333333333333,
              "#9c179e"
             ],
             [
              0.4444444444444444,
              "#bd3786"
             ],
             [
              0.5555555555555556,
              "#d8576b"
             ],
             [
              0.6666666666666666,
              "#ed7953"
             ],
             [
              0.7777777777777778,
              "#fb9f3a"
             ],
             [
              0.8888888888888888,
              "#fdca26"
             ],
             [
              1.0,
              "#f0f921"
             ]
            ]
           }
          ],
          "heatmap": [
           {
            "type": "heatmap",
            "colorbar": {
             "outlinewidth": 0,
             "ticks": ""
            },
            "colorscale": [
             [
              0.0,
              "#0d0887"
             ],
             [
              0.1111111111111111,
              "#46039f"
             ],
             [
              0.2222222222222222,
              "#7201a8"
             ],
             [
              0.3333333333333333,
              "#9c179e"
             ],
             [
              0.4444444444444444,
              "#bd3786"
             ],
             [
              0.5555555555555556,
              "#d8576b"
             ],
             [
              0.6666666666666666,
              "#ed7953"
             ],
             [
              0.7777777777777778,
              "#fb9f3a"
             ],
             [
              0.8888888888888888,
              "#fdca26"
             ],
             [
              1.0,
              "#f0f921"
             ]
            ]
           }
          ],
          "heatmapgl": [
           {
            "type": "heatmapgl",
            "colorbar": {
             "outlinewidth": 0,
             "ticks": ""
            },
            "colorscale": [
             [
              0.0,
              "#0d0887"
             ],
             [
              0.1111111111111111,
              "#46039f"
             ],
             [
              0.2222222222222222,
              "#7201a8"
             ],
             [
              0.3333333333333333,
              "#9c179e"
             ],
             [
              0.4444444444444444,
              "#bd3786"
             ],
             [
              0.5555555555555556,
              "#d8576b"
             ],
             [
              0.6666666666666666,
              "#ed7953"
             ],
             [
              0.7777777777777778,
              "#fb9f3a"
             ],
             [
              0.8888888888888888,
              "#fdca26"
             ],
             [
              1.0,
              "#f0f921"
             ]
            ]
           }
          ],
          "contourcarpet": [
           {
            "type": "contourcarpet",
            "colorbar": {
             "outlinewidth": 0,
             "ticks": ""
            }
           }
          ],
          "contour": [
           {
            "type": "contour",
            "colorbar": {
             "outlinewidth": 0,
             "ticks": ""
            },
            "colorscale": [
             [
              0.0,
              "#0d0887"
             ],
             [
              0.1111111111111111,
              "#46039f"
             ],
             [
              0.2222222222222222,
              "#7201a8"
             ],
             [
              0.3333333333333333,
              "#9c179e"
             ],
             [
              0.4444444444444444,
              "#bd3786"
             ],
             [
              0.5555555555555556,
              "#d8576b"
             ],
             [
              0.6666666666666666,
              "#ed7953"
             ],
             [
              0.7777777777777778,
              "#fb9f3a"
             ],
             [
              0.8888888888888888,
              "#fdca26"
             ],
             [
              1.0,
              "#f0f921"
             ]
            ]
           }
          ],
          "surface": [
           {
            "type": "surface",
            "colorbar": {
             "outlinewidth": 0,
             "ticks": ""
            },
            "colorscale": [
             [
              0.0,
              "#0d0887"
             ],
             [
              0.1111111111111111,
              "#46039f"
             ],
             [
              0.2222222222222222,
              "#7201a8"
             ],
             [
              0.3333333333333333,
              "#9c179e"
             ],
             [
              0.4444444444444444,
              "#bd3786"
             ],
             [
              0.5555555555555556,
              "#d8576b"
             ],
             [
              0.6666666666666666,
              "#ed7953"
             ],
             [
              0.7777777777777778,
              "#fb9f3a"
             ],
             [
              0.8888888888888888,
              "#fdca26"
             ],
             [
              1.0,
              "#f0f921"
             ]
            ]
           }
          ],
          "mesh3d": [
           {
            "type": "mesh3d",
            "colorbar": {
             "outlinewidth": 0,
             "ticks": ""
            }
           }
          ],
          "scatter": [
           {
            "marker": {
             "line": {
              "color": "#283442"
             }
            },
            "type": "scatter"
           }
          ],
          "parcoords": [
           {
            "type": "parcoords",
            "line": {
             "colorbar": {
              "outlinewidth": 0,
              "ticks": ""
             }
            }
           }
          ],
          "scatterpolargl": [
           {
            "type": "scatterpolargl",
            "marker": {
             "colorbar": {
              "outlinewidth": 0,
              "ticks": ""
             }
            }
           }
          ],
          "bar": [
           {
            "error_x": {
             "color": "#f2f5fa"
            },
            "error_y": {
             "color": "#f2f5fa"
            },
            "marker": {
             "line": {
              "color": "rgb(17,17,17)",
              "width": 0.5
             },
             "pattern": {
              "fillmode": "overlay",
              "size": 10,
              "solidity": 0.2
             }
            },
            "type": "bar"
           }
          ],
          "scattergeo": [
           {
            "type": "scattergeo",
            "marker": {
             "colorbar": {
              "outlinewidth": 0,
              "ticks": ""
             }
            }
           }
          ],
          "scatterpolar": [
           {
            "type": "scatterpolar",
            "marker": {
             "colorbar": {
              "outlinewidth": 0,
              "ticks": ""
             }
            }
           }
          ],
          "histogram": [
           {
            "marker": {
             "pattern": {
              "fillmode": "overlay",
              "size": 10,
              "solidity": 0.2
             }
            },
            "type": "histogram"
           }
          ],
          "scattergl": [
           {
            "marker": {
             "line": {
              "color": "#283442"
             }
            },
            "type": "scattergl"
           }
          ],
          "scatter3d": [
           {
            "type": "scatter3d",
            "line": {
             "colorbar": {
              "outlinewidth": 0,
              "ticks": ""
             }
            },
            "marker": {
             "colorbar": {
              "outlinewidth": 0,
              "ticks": ""
             }
            }
           }
          ],
          "scattermapbox": [
           {
            "type": "scattermapbox",
            "marker": {
             "colorbar": {
              "outlinewidth": 0,
              "ticks": ""
             }
            }
           }
          ],
          "scatterternary": [
           {
            "type": "scatterternary",
            "marker": {
             "colorbar": {
              "outlinewidth": 0,
              "ticks": ""
             }
            }
           }
          ],
          "scattercarpet": [
           {
            "type": "scattercarpet",
            "marker": {
             "colorbar": {
              "outlinewidth": 0,
              "ticks": ""
             }
            }
           }
          ],
          "carpet": [
           {
            "aaxis": {
             "endlinecolor": "#A2B1C6",
             "gridcolor": "#506784",
             "linecolor": "#506784",
             "minorgridcolor": "#506784",
             "startlinecolor": "#A2B1C6"
            },
            "baxis": {
             "endlinecolor": "#A2B1C6",
             "gridcolor": "#506784",
             "linecolor": "#506784",
             "minorgridcolor": "#506784",
             "startlinecolor": "#A2B1C6"
            },
            "type": "carpet"
           }
          ],
          "table": [
           {
            "cells": {
             "fill": {
              "color": "#506784"
             },
             "line": {
              "color": "rgb(17,17,17)"
             }
            },
            "header": {
             "fill": {
              "color": "#2a3f5f"
             },
             "line": {
              "color": "rgb(17,17,17)"
             }
            },
            "type": "table"
           }
          ],
          "barpolar": [
           {
            "marker": {
             "line": {
              "color": "rgb(17,17,17)",
              "width": 0.5
             },
             "pattern": {
              "fillmode": "overlay",
              "size": 10,
              "solidity": 0.2
             }
            },
            "type": "barpolar"
           }
          ],
          "pie": [
           {
            "automargin": true,
            "type": "pie"
           }
          ]
         },
         "layout": {
          "autotypenumbers": "strict",
          "colorway": [
           "#636efa",
           "#EF553B",
           "#00cc96",
           "#ab63fa",
           "#FFA15A",
           "#19d3f3",
           "#FF6692",
           "#B6E880",
           "#FF97FF",
           "#FECB52"
          ],
          "font": {
           "color": "#f2f5fa"
          },
          "hovermode": "closest",
          "hoverlabel": {
           "align": "left"
          },
          "paper_bgcolor": "rgb(17,17,17)",
          "plot_bgcolor": "rgb(17,17,17)",
          "polar": {
           "bgcolor": "rgb(17,17,17)",
           "angularaxis": {
            "gridcolor": "#506784",
            "linecolor": "#506784",
            "ticks": ""
           },
           "radialaxis": {
            "gridcolor": "#506784",
            "linecolor": "#506784",
            "ticks": ""
           }
          },
          "ternary": {
           "bgcolor": "rgb(17,17,17)",
           "aaxis": {
            "gridcolor": "#506784",
            "linecolor": "#506784",
            "ticks": ""
           },
           "baxis": {
            "gridcolor": "#506784",
            "linecolor": "#506784",
            "ticks": ""
           },
           "caxis": {
            "gridcolor": "#506784",
            "linecolor": "#506784",
            "ticks": ""
           }
          },
          "coloraxis": {
           "colorbar": {
            "outlinewidth": 0,
            "ticks": ""
           }
          },
          "colorscale": {
           "sequential": [
            [
             0.0,
             "#0d0887"
            ],
            [
             0.1111111111111111,
             "#46039f"
            ],
            [
             0.2222222222222222,
             "#7201a8"
            ],
            [
             0.3333333333333333,
             "#9c179e"
            ],
            [
             0.4444444444444444,
             "#bd3786"
            ],
            [
             0.5555555555555556,
             "#d8576b"
            ],
            [
             0.6666666666666666,
             "#ed7953"
            ],
            [
             0.7777777777777778,
             "#fb9f3a"
            ],
            [
             0.8888888888888888,
             "#fdca26"
            ],
            [
             1.0,
             "#f0f921"
            ]
           ],
           "sequentialminus": [
            [
             0.0,
             "#0d0887"
            ],
            [
             0.1111111111111111,
             "#46039f"
            ],
            [
             0.2222222222222222,
             "#7201a8"
            ],
            [
             0.3333333333333333,
             "#9c179e"
            ],
            [
             0.4444444444444444,
             "#bd3786"
            ],
            [
             0.5555555555555556,
             "#d8576b"
            ],
            [
             0.6666666666666666,
             "#ed7953"
            ],
            [
             0.7777777777777778,
             "#fb9f3a"
            ],
            [
             0.8888888888888888,
             "#fdca26"
            ],
            [
             1.0,
             "#f0f921"
            ]
           ],
           "diverging": [
            [
             0,
             "#8e0152"
            ],
            [
             0.1,
             "#c51b7d"
            ],
            [
             0.2,
             "#de77ae"
            ],
            [
             0.3,
             "#f1b6da"
            ],
            [
             0.4,
             "#fde0ef"
            ],
            [
             0.5,
             "#f7f7f7"
            ],
            [
             0.6,
             "#e6f5d0"
            ],
            [
             0.7,
             "#b8e186"
            ],
            [
             0.8,
             "#7fbc41"
            ],
            [
             0.9,
             "#4d9221"
            ],
            [
             1,
             "#276419"
            ]
           ]
          },
          "xaxis": {
           "gridcolor": "#283442",
           "linecolor": "#506784",
           "ticks": "",
           "title": {
            "standoff": 15
           },
           "zerolinecolor": "#283442",
           "automargin": true,
           "zerolinewidth": 2
          },
          "yaxis": {
           "gridcolor": "#283442",
           "linecolor": "#506784",
           "ticks": "",
           "title": {
            "standoff": 15
           },
           "zerolinecolor": "#283442",
           "automargin": true,
           "zerolinewidth": 2
          },
          "scene": {
           "xaxis": {
            "backgroundcolor": "rgb(17,17,17)",
            "gridcolor": "#506784",
            "linecolor": "#506784",
            "showbackground": true,
            "ticks": "",
            "zerolinecolor": "#C8D4E3",
            "gridwidth": 2
           },
           "yaxis": {
            "backgroundcolor": "rgb(17,17,17)",
            "gridcolor": "#506784",
            "linecolor": "#506784",
            "showbackground": true,
            "ticks": "",
            "zerolinecolor": "#C8D4E3",
            "gridwidth": 2
           },
           "zaxis": {
            "backgroundcolor": "rgb(17,17,17)",
            "gridcolor": "#506784",
            "linecolor": "#506784",
            "showbackground": true,
            "ticks": "",
            "zerolinecolor": "#C8D4E3",
            "gridwidth": 2
           }
          },
          "shapedefaults": {
           "line": {
            "color": "#f2f5fa"
           }
          },
          "annotationdefaults": {
           "arrowcolor": "#f2f5fa",
           "arrowhead": 0,
           "arrowwidth": 1
          },
          "geo": {
           "bgcolor": "rgb(17,17,17)",
           "landcolor": "rgb(17,17,17)",
           "subunitcolor": "#506784",
           "showland": true,
           "showlakes": true,
           "lakecolor": "rgb(17,17,17)"
          },
          "title": {
           "x": 0.05
          },
          "updatemenudefaults": {
           "bgcolor": "#506784",
           "borderwidth": 0
          },
          "sliderdefaults": {
           "bgcolor": "#C8D4E3",
           "borderwidth": 1,
           "bordercolor": "rgb(17,17,17)",
           "tickwidth": 0
          },
          "mapbox": {
           "style": "dark"
          }
         }
        },
        "mapbox": {
         "domain": {
          "x": [
           0.0,
           1.0
          ],
          "y": [
           0.0,
           1.0
          ]
         },
         "center": {
          "lat": 34.0007,
          "lon": -81.0348
         },
         "accesstoken": "pk.eyJ1IjoibWlja3RoZWxpbnV4Z2VlayIsImEiOiJjbDQzN3U0YTUwODk5M3BxbnJtZjVweDJ1In0.jyMNmtV_85OzRrfmDsQXrg\n",
         "zoom": 7.5,
         "style": "streets"
        },
        "coloraxis": {
         "colorbar": {
          "title": {
           "text": "cdi"
          }
         },
         "colorscale": [
          [
           0.0,
           "#0d0887"
          ],
          [
           0.1111111111111111,
           "#46039f"
          ],
          [
           0.2222222222222222,
           "#7201a8"
          ],
          [
           0.3333333333333333,
           "#9c179e"
          ],
          [
           0.4444444444444444,
           "#bd3786"
          ],
          [
           0.5555555555555556,
           "#d8576b"
          ],
          [
           0.6666666666666666,
           "#ed7953"
          ],
          [
           0.7777777777777778,
           "#fb9f3a"
          ],
          [
           0.8888888888888888,
           "#fdca26"
          ],
          [
           1.0,
           "#f0f921"
          ]
         ]
        },
        "legend": {
         "tracegroupgap": 0
        },
        "margin": {
         "t": 60
        }
       },
       "config": {
        "plotlyServerURL": "https://plot.ly"
       }
      },
      "text/html": "<div>                            <div id=\"15db72ba-093e-4726-946b-d5f16fa65db5\" class=\"plotly-graph-div\" style=\"height:525px; width:100%;\"></div>            <script type=\"text/javascript\">                require([\"plotly\"], function(Plotly) {                    window.PLOTLYENV=window.PLOTLYENV || {};                                    if (document.getElementById(\"15db72ba-093e-4726-946b-d5f16fa65db5\")) {                    Plotly.newPlot(                        \"15db72ba-093e-4726-946b-d5f16fa65db5\",                        [{\"coloraxis\":\"coloraxis\",\"geojson\":{\"type\":\"FeatureCollection\",\"features\":[{\"id\":\"0\",\"type\":\"Feature\",\"properties\":{},\"geometry\":{\"type\":\"Polygon\",\"coordinates\":[[[-81.21629,33.89017],[-81.10814,33.89031],[-81.10826,33.9805],[-81.21652,33.98036],[-81.21629,33.89017]]]},\"bbox\":[-81.21652,33.89017,-81.10814,33.9805]},{\"id\":\"1\",\"type\":\"Feature\",\"properties\":{},\"geometry\":{\"type\":\"Polygon\",\"coordinates\":[[[-80.89185,33.89031],[-80.7837,33.89017],[-80.78347,33.98036],[-80.89173,33.9805],[-80.89185,33.89031]]]},\"bbox\":[-80.89185,33.89017,-80.78347,33.9805]},{\"id\":\"2\",\"type\":\"Feature\",\"properties\":{},\"geometry\":{\"type\":\"Polygon\",\"coordinates\":[[[-80.89162,34.07069],[-80.78324,34.07055],[-80.78301,34.16073],[-80.8915,34.16088],[-80.89162,34.07069]]]},\"bbox\":[-80.89162,34.07055,-80.78301,34.16088]},{\"id\":\"3\",\"type\":\"Feature\",\"properties\":{},\"geometry\":{\"type\":\"Polygon\",\"coordinates\":[[[-80.78324,34.07055],[-80.67487,34.07031],[-80.67452,34.1605],[-80.78301,34.16073],[-80.78324,34.07055]]]},\"bbox\":[-80.78324,34.07031,-80.67452,34.16073]},{\"id\":\"4\",\"type\":\"Feature\",\"properties\":{},\"geometry\":{\"type\":\"Polygon\",\"coordinates\":[[[-80.78301,34.16073],[-80.67452,34.1605],[-80.67418,34.25068],[-80.78278,34.25092],[-80.78301,34.16073]]]},\"bbox\":[-80.78301,34.1605,-80.67418,34.25092]}],\"bbox\":[-81.21652,33.89017,-80.67418,34.25092]},\"hovertemplate\":\"index=%{location}<br>cdi=%{z}<extra></extra>\",\"locations\":[0,1,2,3,4],\"name\":\"\",\"subplot\":\"mapbox\",\"z\":[2.7,2.0,2.0,2.6,2.9],\"type\":\"choroplethmapbox\"}],                        {\"template\":{\"data\":{\"histogram2dcontour\":[{\"type\":\"histogram2dcontour\",\"colorbar\":{\"outlinewidth\":0,\"ticks\":\"\"},\"colorscale\":[[0.0,\"#0d0887\"],[0.1111111111111111,\"#46039f\"],[0.2222222222222222,\"#7201a8\"],[0.3333333333333333,\"#9c179e\"],[0.4444444444444444,\"#bd3786\"],[0.5555555555555556,\"#d8576b\"],[0.6666666666666666,\"#ed7953\"],[0.7777777777777778,\"#fb9f3a\"],[0.8888888888888888,\"#fdca26\"],[1.0,\"#f0f921\"]]}],\"choropleth\":[{\"type\":\"choropleth\",\"colorbar\":{\"outlinewidth\":0,\"ticks\":\"\"}}],\"histogram2d\":[{\"type\":\"histogram2d\",\"colorbar\":{\"outlinewidth\":0,\"ticks\":\"\"},\"colorscale\":[[0.0,\"#0d0887\"],[0.1111111111111111,\"#46039f\"],[0.2222222222222222,\"#7201a8\"],[0.3333333333333333,\"#9c179e\"],[0.4444444444444444,\"#bd3786\"],[0.5555555555555556,\"#d8576b\"],[0.6666666666666666,\"#ed7953\"],[0.7777777777777778,\"#fb9f3a\"],[0.8888888888888888,\"#fdca26\"],[1.0,\"#f0f921\"]]}],\"heatmap\":[{\"type\":\"heatmap\",\"colorbar\":{\"outlinewidth\":0,\"ticks\":\"\"},\"colorscale\":[[0.0,\"#0d0887\"],[0.1111111111111111,\"#46039f\"],[0.2222222222222222,\"#7201a8\"],[0.3333333333333333,\"#9c179e\"],[0.4444444444444444,\"#bd3786\"],[0.5555555555555556,\"#d8576b\"],[0.6666666666666666,\"#ed7953\"],[0.7777777777777778,\"#fb9f3a\"],[0.8888888888888888,\"#fdca26\"],[1.0,\"#f0f921\"]]}],\"heatmapgl\":[{\"type\":\"heatmapgl\",\"colorbar\":{\"outlinewidth\":0,\"ticks\":\"\"},\"colorscale\":[[0.0,\"#0d0887\"],[0.1111111111111111,\"#46039f\"],[0.2222222222222222,\"#7201a8\"],[0.3333333333333333,\"#9c179e\"],[0.4444444444444444,\"#bd3786\"],[0.5555555555555556,\"#d8576b\"],[0.6666666666666666,\"#ed7953\"],[0.7777777777777778,\"#fb9f3a\"],[0.8888888888888888,\"#fdca26\"],[1.0,\"#f0f921\"]]}],\"contourcarpet\":[{\"type\":\"contourcarpet\",\"colorbar\":{\"outlinewidth\":0,\"ticks\":\"\"}}],\"contour\":[{\"type\":\"contour\",\"colorbar\":{\"outlinewidth\":0,\"ticks\":\"\"},\"colorscale\":[[0.0,\"#0d0887\"],[0.1111111111111111,\"#46039f\"],[0.2222222222222222,\"#7201a8\"],[0.3333333333333333,\"#9c179e\"],[0.4444444444444444,\"#bd3786\"],[0.5555555555555556,\"#d8576b\"],[0.6666666666666666,\"#ed7953\"],[0.7777777777777778,\"#fb9f3a\"],[0.8888888888888888,\"#fdca26\"],[1.0,\"#f0f921\"]]}],\"surface\":[{\"type\":\"surface\",\"colorbar\":{\"outlinewidth\":0,\"ticks\":\"\"},\"colorscale\":[[0.0,\"#0d0887\"],[0.1111111111111111,\"#46039f\"],[0.2222222222222222,\"#7201a8\"],[0.3333333333333333,\"#9c179e\"],[0.4444444444444444,\"#bd3786\"],[0.5555555555555556,\"#d8576b\"],[0.6666666666666666,\"#ed7953\"],[0.7777777777777778,\"#fb9f3a\"],[0.8888888888888888,\"#fdca26\"],[1.0,\"#f0f921\"]]}],\"mesh3d\":[{\"type\":\"mesh3d\",\"colorbar\":{\"outlinewidth\":0,\"ticks\":\"\"}}],\"scatter\":[{\"marker\":{\"line\":{\"color\":\"#283442\"}},\"type\":\"scatter\"}],\"parcoords\":[{\"type\":\"parcoords\",\"line\":{\"colorbar\":{\"outlinewidth\":0,\"ticks\":\"\"}}}],\"scatterpolargl\":[{\"type\":\"scatterpolargl\",\"marker\":{\"colorbar\":{\"outlinewidth\":0,\"ticks\":\"\"}}}],\"bar\":[{\"error_x\":{\"color\":\"#f2f5fa\"},\"error_y\":{\"color\":\"#f2f5fa\"},\"marker\":{\"line\":{\"color\":\"rgb(17,17,17)\",\"width\":0.5},\"pattern\":{\"fillmode\":\"overlay\",\"size\":10,\"solidity\":0.2}},\"type\":\"bar\"}],\"scattergeo\":[{\"type\":\"scattergeo\",\"marker\":{\"colorbar\":{\"outlinewidth\":0,\"ticks\":\"\"}}}],\"scatterpolar\":[{\"type\":\"scatterpolar\",\"marker\":{\"colorbar\":{\"outlinewidth\":0,\"ticks\":\"\"}}}],\"histogram\":[{\"marker\":{\"pattern\":{\"fillmode\":\"overlay\",\"size\":10,\"solidity\":0.2}},\"type\":\"histogram\"}],\"scattergl\":[{\"marker\":{\"line\":{\"color\":\"#283442\"}},\"type\":\"scattergl\"}],\"scatter3d\":[{\"type\":\"scatter3d\",\"line\":{\"colorbar\":{\"outlinewidth\":0,\"ticks\":\"\"}},\"marker\":{\"colorbar\":{\"outlinewidth\":0,\"ticks\":\"\"}}}],\"scattermapbox\":[{\"type\":\"scattermapbox\",\"marker\":{\"colorbar\":{\"outlinewidth\":0,\"ticks\":\"\"}}}],\"scatterternary\":[{\"type\":\"scatterternary\",\"marker\":{\"colorbar\":{\"outlinewidth\":0,\"ticks\":\"\"}}}],\"scattercarpet\":[{\"type\":\"scattercarpet\",\"marker\":{\"colorbar\":{\"outlinewidth\":0,\"ticks\":\"\"}}}],\"carpet\":[{\"aaxis\":{\"endlinecolor\":\"#A2B1C6\",\"gridcolor\":\"#506784\",\"linecolor\":\"#506784\",\"minorgridcolor\":\"#506784\",\"startlinecolor\":\"#A2B1C6\"},\"baxis\":{\"endlinecolor\":\"#A2B1C6\",\"gridcolor\":\"#506784\",\"linecolor\":\"#506784\",\"minorgridcolor\":\"#506784\",\"startlinecolor\":\"#A2B1C6\"},\"type\":\"carpet\"}],\"table\":[{\"cells\":{\"fill\":{\"color\":\"#506784\"},\"line\":{\"color\":\"rgb(17,17,17)\"}},\"header\":{\"fill\":{\"color\":\"#2a3f5f\"},\"line\":{\"color\":\"rgb(17,17,17)\"}},\"type\":\"table\"}],\"barpolar\":[{\"marker\":{\"line\":{\"color\":\"rgb(17,17,17)\",\"width\":0.5},\"pattern\":{\"fillmode\":\"overlay\",\"size\":10,\"solidity\":0.2}},\"type\":\"barpolar\"}],\"pie\":[{\"automargin\":true,\"type\":\"pie\"}]},\"layout\":{\"autotypenumbers\":\"strict\",\"colorway\":[\"#636efa\",\"#EF553B\",\"#00cc96\",\"#ab63fa\",\"#FFA15A\",\"#19d3f3\",\"#FF6692\",\"#B6E880\",\"#FF97FF\",\"#FECB52\"],\"font\":{\"color\":\"#f2f5fa\"},\"hovermode\":\"closest\",\"hoverlabel\":{\"align\":\"left\"},\"paper_bgcolor\":\"rgb(17,17,17)\",\"plot_bgcolor\":\"rgb(17,17,17)\",\"polar\":{\"bgcolor\":\"rgb(17,17,17)\",\"angularaxis\":{\"gridcolor\":\"#506784\",\"linecolor\":\"#506784\",\"ticks\":\"\"},\"radialaxis\":{\"gridcolor\":\"#506784\",\"linecolor\":\"#506784\",\"ticks\":\"\"}},\"ternary\":{\"bgcolor\":\"rgb(17,17,17)\",\"aaxis\":{\"gridcolor\":\"#506784\",\"linecolor\":\"#506784\",\"ticks\":\"\"},\"baxis\":{\"gridcolor\":\"#506784\",\"linecolor\":\"#506784\",\"ticks\":\"\"},\"caxis\":{\"gridcolor\":\"#506784\",\"linecolor\":\"#506784\",\"ticks\":\"\"}},\"coloraxis\":{\"colorbar\":{\"outlinewidth\":0,\"ticks\":\"\"}},\"colorscale\":{\"sequential\":[[0.0,\"#0d0887\"],[0.1111111111111111,\"#46039f\"],[0.2222222222222222,\"#7201a8\"],[0.3333333333333333,\"#9c179e\"],[0.4444444444444444,\"#bd3786\"],[0.5555555555555556,\"#d8576b\"],[0.6666666666666666,\"#ed7953\"],[0.7777777777777778,\"#fb9f3a\"],[0.8888888888888888,\"#fdca26\"],[1.0,\"#f0f921\"]],\"sequentialminus\":[[0.0,\"#0d0887\"],[0.1111111111111111,\"#46039f\"],[0.2222222222222222,\"#7201a8\"],[0.3333333333333333,\"#9c179e\"],[0.4444444444444444,\"#bd3786\"],[0.5555555555555556,\"#d8576b\"],[0.6666666666666666,\"#ed7953\"],[0.7777777777777778,\"#fb9f3a\"],[0.8888888888888888,\"#fdca26\"],[1.0,\"#f0f921\"]],\"diverging\":[[0,\"#8e0152\"],[0.1,\"#c51b7d\"],[0.2,\"#de77ae\"],[0.3,\"#f1b6da\"],[0.4,\"#fde0ef\"],[0.5,\"#f7f7f7\"],[0.6,\"#e6f5d0\"],[0.7,\"#b8e186\"],[0.8,\"#7fbc41\"],[0.9,\"#4d9221\"],[1,\"#276419\"]]},\"xaxis\":{\"gridcolor\":\"#283442\",\"linecolor\":\"#506784\",\"ticks\":\"\",\"title\":{\"standoff\":15},\"zerolinecolor\":\"#283442\",\"automargin\":true,\"zerolinewidth\":2},\"yaxis\":{\"gridcolor\":\"#283442\",\"linecolor\":\"#506784\",\"ticks\":\"\",\"title\":{\"standoff\":15},\"zerolinecolor\":\"#283442\",\"automargin\":true,\"zerolinewidth\":2},\"scene\":{\"xaxis\":{\"backgroundcolor\":\"rgb(17,17,17)\",\"gridcolor\":\"#506784\",\"linecolor\":\"#506784\",\"showbackground\":true,\"ticks\":\"\",\"zerolinecolor\":\"#C8D4E3\",\"gridwidth\":2},\"yaxis\":{\"backgroundcolor\":\"rgb(17,17,17)\",\"gridcolor\":\"#506784\",\"linecolor\":\"#506784\",\"showbackground\":true,\"ticks\":\"\",\"zerolinecolor\":\"#C8D4E3\",\"gridwidth\":2},\"zaxis\":{\"backgroundcolor\":\"rgb(17,17,17)\",\"gridcolor\":\"#506784\",\"linecolor\":\"#506784\",\"showbackground\":true,\"ticks\":\"\",\"zerolinecolor\":\"#C8D4E3\",\"gridwidth\":2}},\"shapedefaults\":{\"line\":{\"color\":\"#f2f5fa\"}},\"annotationdefaults\":{\"arrowcolor\":\"#f2f5fa\",\"arrowhead\":0,\"arrowwidth\":1},\"geo\":{\"bgcolor\":\"rgb(17,17,17)\",\"landcolor\":\"rgb(17,17,17)\",\"subunitcolor\":\"#506784\",\"showland\":true,\"showlakes\":true,\"lakecolor\":\"rgb(17,17,17)\"},\"title\":{\"x\":0.05},\"updatemenudefaults\":{\"bgcolor\":\"#506784\",\"borderwidth\":0},\"sliderdefaults\":{\"bgcolor\":\"#C8D4E3\",\"borderwidth\":1,\"bordercolor\":\"rgb(17,17,17)\",\"tickwidth\":0},\"mapbox\":{\"style\":\"dark\"}}},\"mapbox\":{\"domain\":{\"x\":[0.0,1.0],\"y\":[0.0,1.0]},\"center\":{\"lat\":34.0007,\"lon\":-81.0348},\"accesstoken\":\"pk.eyJ1IjoibWlja3RoZWxpbnV4Z2VlayIsImEiOiJjbDQzN3U0YTUwODk5M3BxbnJtZjVweDJ1In0.jyMNmtV_85OzRrfmDsQXrg\\n\",\"zoom\":7.5,\"style\":\"streets\"},\"coloraxis\":{\"colorbar\":{\"title\":{\"text\":\"cdi\"}},\"colorscale\":[[0.0,\"#0d0887\"],[0.1111111111111111,\"#46039f\"],[0.2222222222222222,\"#7201a8\"],[0.3333333333333333,\"#9c179e\"],[0.4444444444444444,\"#bd3786\"],[0.5555555555555556,\"#d8576b\"],[0.6666666666666666,\"#ed7953\"],[0.7777777777777778,\"#fb9f3a\"],[0.8888888888888888,\"#fdca26\"],[1.0,\"#f0f921\"]]},\"legend\":{\"tracegroupgap\":0},\"margin\":{\"t\":60}},                        {\"responsive\": true}                    ).then(function(){\n                            \nvar gd = document.getElementById('15db72ba-093e-4726-946b-d5f16fa65db5');\nvar x = new MutationObserver(function (mutations, observer) {{\n        var display = window.getComputedStyle(gd).display;\n        if (!display || display === 'none') {{\n            console.log([gd, 'removed!']);\n            Plotly.purge(gd);\n            observer.disconnect();\n        }}\n}});\n\n// Listen for the removal of the full notebook cells\nvar notebookContainer = gd.closest('#notebook-container');\nif (notebookContainer) {{\n    x.observe(notebookContainer, {childList: true});\n}}\n\n// Listen for the clearing of the current output cell\nvar outputEl = gd.closest('.output');\nif (outputEl) {{\n    x.observe(outputEl, {childList: true});\n}}\n\n                        })                };                });            </script>        </div>"
     },
     "metadata": {},
     "output_type": "display_data"
    }
   ],
   "source": [
    "fig = px.choropleth_mapbox(utm10k_geo_df,\n",
    "                     geojson=utm10k_geo_df.geometry,\n",
    "                     locations=utm10k_geo_df.index,\n",
    "                     color=\"cdi\",\n",
    "                     center={\"lat\": 34.0007, \"lon\": -81.0348},\n",
    "                     mapbox_style=\"streets\",\n",
    "                     zoom=7.5)\n",
    "\n",
    "fig.show()"
   ],
   "metadata": {
    "collapsed": false
   }
  },
  {
   "cell_type": "code",
   "execution_count": 45,
   "outputs": [],
   "source": [
    "# sc_shp = gpd.read_file(r\"/home/mick/Work/scratch/states/sc/Shape/GU_StateOrTerritory.shp\")\n",
    "sc_shp = gpd.read_file(r\"./data/cdi_geo_1km.csv\")"
   ],
   "metadata": {
    "collapsed": false
   }
  },
  {
   "cell_type": "code",
   "execution_count": 46,
   "outputs": [
    {
     "data": {
      "text/plain": "     # Columns: Geocoded box  CDI No. of responses Hypocentral distance  \\\n0   UTM:(17S 0485 3759 1000)  2.7                1                   43   \n1   UTM:(17S 0512 3779 1000)  2.0                1                   13   \n2   UTM:(17S 0514 3758 1000)  2.0                1                   23   \n3   UTM:(17S 0516 3779 1000)  2.2                1                   10   \n4   UTM:(17S 0519 3777 1000)  2.2                1                    8   \n5   UTM:(17S 0522 3778 1000)  2.7                1                    7   \n6   UTM:(17S 0522 3779 1000)  2.2                1                    7   \n7   UTM:(17S 0523 3778 1000)  3.8                1                    6   \n8   UTM:(17S 0523 3779 1000)  2.2                2                    6   \n9   UTM:(17S 0523 3780 1000)  2.7                1                    7   \n10  UTM:(17S 0525 3776 1000)  2.2                1                    7   \n11  UTM:(17S 0525 3780 1000)  3.1                1                    7   \n12  UTM:(17S 0526 3774 1000)  2.2                1                    8   \n\n   Latitude Longitude Suspect? Standard deviation                      City  \\\n0   33.9759  -81.1570        0              0.330  UTM:(17S 0485 3759 1000)   \n1   34.1564  -80.8644        0              0.330  UTM:(17S 0512 3779 1000)   \n2   33.9669  -80.8431        0              0.330  UTM:(17S 0514 3758 1000)   \n3   34.1563  -80.8210        0              0.330  UTM:(17S 0516 3779 1000)   \n4   34.1382  -80.7885        0              0.330  UTM:(17S 0519 3777 1000)   \n5   34.1472  -80.7559        0              0.330  UTM:(17S 0522 3778 1000)   \n6   34.1562  -80.7559        0              0.330  UTM:(17S 0522 3779 1000)   \n7   34.1471  -80.7450        0              0.330  UTM:(17S 0523 3778 1000)   \n8   34.1562  -80.7450        0              0.320  UTM:(17S 0523 3779 1000)   \n9   34.1652  -80.7450        0              0.330  UTM:(17S 0523 3780 1000)   \n10  34.1291  -80.7234        0              0.330  UTM:(17S 0525 3776 1000)   \n11  34.1651  -80.7234        0              0.330  UTM:(17S 0525 3780 1000)   \n12  34.1110  -80.7126        0              0.330  UTM:(17S 0526 3774 1000)   \n\n   State geometry  \n0            None  \n1            None  \n2            None  \n3            None  \n4            None  \n5            None  \n6            None  \n7            None  \n8            None  \n9            None  \n10           None  \n11           None  \n12           None  ",
      "text/html": "<div>\n<style scoped>\n    .dataframe tbody tr th:only-of-type {\n        vertical-align: middle;\n    }\n\n    .dataframe tbody tr th {\n        vertical-align: top;\n    }\n\n    .dataframe thead th {\n        text-align: right;\n    }\n</style>\n<table border=\"1\" class=\"dataframe\">\n  <thead>\n    <tr style=\"text-align: right;\">\n      <th></th>\n      <th># Columns: Geocoded box</th>\n      <th>CDI</th>\n      <th>No. of responses</th>\n      <th>Hypocentral distance</th>\n      <th>Latitude</th>\n      <th>Longitude</th>\n      <th>Suspect?</th>\n      <th>Standard deviation</th>\n      <th>City</th>\n      <th>State</th>\n      <th>geometry</th>\n    </tr>\n  </thead>\n  <tbody>\n    <tr>\n      <th>0</th>\n      <td>UTM:(17S 0485 3759 1000)</td>\n      <td>2.7</td>\n      <td>1</td>\n      <td>43</td>\n      <td>33.9759</td>\n      <td>-81.1570</td>\n      <td>0</td>\n      <td>0.330</td>\n      <td>UTM:(17S 0485 3759 1000)</td>\n      <td></td>\n      <td>None</td>\n    </tr>\n    <tr>\n      <th>1</th>\n      <td>UTM:(17S 0512 3779 1000)</td>\n      <td>2.0</td>\n      <td>1</td>\n      <td>13</td>\n      <td>34.1564</td>\n      <td>-80.8644</td>\n      <td>0</td>\n      <td>0.330</td>\n      <td>UTM:(17S 0512 3779 1000)</td>\n      <td></td>\n      <td>None</td>\n    </tr>\n    <tr>\n      <th>2</th>\n      <td>UTM:(17S 0514 3758 1000)</td>\n      <td>2.0</td>\n      <td>1</td>\n      <td>23</td>\n      <td>33.9669</td>\n      <td>-80.8431</td>\n      <td>0</td>\n      <td>0.330</td>\n      <td>UTM:(17S 0514 3758 1000)</td>\n      <td></td>\n      <td>None</td>\n    </tr>\n    <tr>\n      <th>3</th>\n      <td>UTM:(17S 0516 3779 1000)</td>\n      <td>2.2</td>\n      <td>1</td>\n      <td>10</td>\n      <td>34.1563</td>\n      <td>-80.8210</td>\n      <td>0</td>\n      <td>0.330</td>\n      <td>UTM:(17S 0516 3779 1000)</td>\n      <td></td>\n      <td>None</td>\n    </tr>\n    <tr>\n      <th>4</th>\n      <td>UTM:(17S 0519 3777 1000)</td>\n      <td>2.2</td>\n      <td>1</td>\n      <td>8</td>\n      <td>34.1382</td>\n      <td>-80.7885</td>\n      <td>0</td>\n      <td>0.330</td>\n      <td>UTM:(17S 0519 3777 1000)</td>\n      <td></td>\n      <td>None</td>\n    </tr>\n    <tr>\n      <th>5</th>\n      <td>UTM:(17S 0522 3778 1000)</td>\n      <td>2.7</td>\n      <td>1</td>\n      <td>7</td>\n      <td>34.1472</td>\n      <td>-80.7559</td>\n      <td>0</td>\n      <td>0.330</td>\n      <td>UTM:(17S 0522 3778 1000)</td>\n      <td></td>\n      <td>None</td>\n    </tr>\n    <tr>\n      <th>6</th>\n      <td>UTM:(17S 0522 3779 1000)</td>\n      <td>2.2</td>\n      <td>1</td>\n      <td>7</td>\n      <td>34.1562</td>\n      <td>-80.7559</td>\n      <td>0</td>\n      <td>0.330</td>\n      <td>UTM:(17S 0522 3779 1000)</td>\n      <td></td>\n      <td>None</td>\n    </tr>\n    <tr>\n      <th>7</th>\n      <td>UTM:(17S 0523 3778 1000)</td>\n      <td>3.8</td>\n      <td>1</td>\n      <td>6</td>\n      <td>34.1471</td>\n      <td>-80.7450</td>\n      <td>0</td>\n      <td>0.330</td>\n      <td>UTM:(17S 0523 3778 1000)</td>\n      <td></td>\n      <td>None</td>\n    </tr>\n    <tr>\n      <th>8</th>\n      <td>UTM:(17S 0523 3779 1000)</td>\n      <td>2.2</td>\n      <td>2</td>\n      <td>6</td>\n      <td>34.1562</td>\n      <td>-80.7450</td>\n      <td>0</td>\n      <td>0.320</td>\n      <td>UTM:(17S 0523 3779 1000)</td>\n      <td></td>\n      <td>None</td>\n    </tr>\n    <tr>\n      <th>9</th>\n      <td>UTM:(17S 0523 3780 1000)</td>\n      <td>2.7</td>\n      <td>1</td>\n      <td>7</td>\n      <td>34.1652</td>\n      <td>-80.7450</td>\n      <td>0</td>\n      <td>0.330</td>\n      <td>UTM:(17S 0523 3780 1000)</td>\n      <td></td>\n      <td>None</td>\n    </tr>\n    <tr>\n      <th>10</th>\n      <td>UTM:(17S 0525 3776 1000)</td>\n      <td>2.2</td>\n      <td>1</td>\n      <td>7</td>\n      <td>34.1291</td>\n      <td>-80.7234</td>\n      <td>0</td>\n      <td>0.330</td>\n      <td>UTM:(17S 0525 3776 1000)</td>\n      <td></td>\n      <td>None</td>\n    </tr>\n    <tr>\n      <th>11</th>\n      <td>UTM:(17S 0525 3780 1000)</td>\n      <td>3.1</td>\n      <td>1</td>\n      <td>7</td>\n      <td>34.1651</td>\n      <td>-80.7234</td>\n      <td>0</td>\n      <td>0.330</td>\n      <td>UTM:(17S 0525 3780 1000)</td>\n      <td></td>\n      <td>None</td>\n    </tr>\n    <tr>\n      <th>12</th>\n      <td>UTM:(17S 0526 3774 1000)</td>\n      <td>2.2</td>\n      <td>1</td>\n      <td>8</td>\n      <td>34.1110</td>\n      <td>-80.7126</td>\n      <td>0</td>\n      <td>0.330</td>\n      <td>UTM:(17S 0526 3774 1000)</td>\n      <td></td>\n      <td>None</td>\n    </tr>\n  </tbody>\n</table>\n</div>"
     },
     "execution_count": 46,
     "metadata": {},
     "output_type": "execute_result"
    }
   ],
   "source": [
    "sc_shp"
   ],
   "metadata": {
    "collapsed": false
   }
  },
  {
   "cell_type": "code",
   "execution_count": 47,
   "outputs": [
    {
     "name": "stdout",
     "output_type": "stream",
     "text": [
      "None\n"
     ]
    }
   ],
   "source": [
    "print(sc_shp.crs)"
   ],
   "metadata": {
    "collapsed": false
   }
  },
  {
   "cell_type": "code",
   "execution_count": 48,
   "outputs": [
    {
     "data": {
      "text/plain": "<AxesSubplot: >"
     },
     "execution_count": 48,
     "metadata": {},
     "output_type": "execute_result"
    },
    {
     "data": {
      "text/plain": "<Figure size 640x480 with 1 Axes>",
      "image/png": "[encoded data removed]"
     },
     "metadata": {},
     "output_type": "display_data"
    }
   ],
   "source": [
    "sc_shp_gdf = gpd.GeoDataFrame(sc_shp, geometry=gpd.points_from_xy(x=sc_shp.Longitude, y=sc_shp.Latitude)\n",
    ")\n",
    "sc_shp_gdf.plot()\n",
    "\n"
   ],
   "metadata": {
    "collapsed": false
   }
  },
  {
   "cell_type": "code",
   "execution_count": 49,
   "outputs": [],
   "source": [
    "sc_shp_gdf = sc_shp_gdf.set_crs(epsg=4326)"
   ],
   "metadata": {
    "collapsed": false
   }
  },
  {
   "cell_type": "code",
   "execution_count": 50,
   "outputs": [
    {
     "data": {
      "text/plain": "<Geographic 2D CRS: EPSG:4326>\nName: WGS 84\nAxis Info [ellipsoidal]:\n- Lat[north]: Geodetic latitude (degree)\n- Lon[east]: Geodetic longitude (degree)\nArea of Use:\n- name: World.\n- bounds: (-180.0, -90.0, 180.0, 90.0)\nDatum: World Geodetic System 1984 ensemble\n- Ellipsoid: WGS 84\n- Prime Meridian: Greenwich"
     },
     "execution_count": 50,
     "metadata": {},
     "output_type": "execute_result"
    }
   ],
   "source": [
    "sc_shp_gdf.crs"
   ],
   "metadata": {
    "collapsed": false
   }
  },
  {
   "cell_type": "code",
   "execution_count": 51,
   "outputs": [
    {
     "data": {
      "text/plain": "     # Columns: Geocoded box  CDI No. of responses Hypocentral distance  \\\n0   UTM:(17S 0485 3759 1000)  2.7                1                   43   \n1   UTM:(17S 0512 3779 1000)  2.0                1                   13   \n2   UTM:(17S 0514 3758 1000)  2.0                1                   23   \n3   UTM:(17S 0516 3779 1000)  2.2                1                   10   \n4   UTM:(17S 0519 3777 1000)  2.2                1                    8   \n5   UTM:(17S 0522 3778 1000)  2.7                1                    7   \n6   UTM:(17S 0522 3779 1000)  2.2                1                    7   \n7   UTM:(17S 0523 3778 1000)  3.8                1                    6   \n8   UTM:(17S 0523 3779 1000)  2.2                2                    6   \n9   UTM:(17S 0523 3780 1000)  2.7                1                    7   \n10  UTM:(17S 0525 3776 1000)  2.2                1                    7   \n11  UTM:(17S 0525 3780 1000)  3.1                1                    7   \n12  UTM:(17S 0526 3774 1000)  2.2                1                    8   \n\n   Latitude Longitude Suspect? Standard deviation                      City  \\\n0   33.9759  -81.1570        0              0.330  UTM:(17S 0485 3759 1000)   \n1   34.1564  -80.8644        0              0.330  UTM:(17S 0512 3779 1000)   \n2   33.9669  -80.8431        0              0.330  UTM:(17S 0514 3758 1000)   \n3   34.1563  -80.8210        0              0.330  UTM:(17S 0516 3779 1000)   \n4   34.1382  -80.7885        0              0.330  UTM:(17S 0519 3777 1000)   \n5   34.1472  -80.7559        0              0.330  UTM:(17S 0522 3778 1000)   \n6   34.1562  -80.7559        0              0.330  UTM:(17S 0522 3779 1000)   \n7   34.1471  -80.7450        0              0.330  UTM:(17S 0523 3778 1000)   \n8   34.1562  -80.7450        0              0.320  UTM:(17S 0523 3779 1000)   \n9   34.1652  -80.7450        0              0.330  UTM:(17S 0523 3780 1000)   \n10  34.1291  -80.7234        0              0.330  UTM:(17S 0525 3776 1000)   \n11  34.1651  -80.7234        0              0.330  UTM:(17S 0525 3780 1000)   \n12  34.1110  -80.7126        0              0.330  UTM:(17S 0526 3774 1000)   \n\n   State                    geometry  \n0         POINT (-81.15700 33.97590)  \n1         POINT (-80.86440 34.15640)  \n2         POINT (-80.84310 33.96690)  \n3         POINT (-80.82100 34.15630)  \n4         POINT (-80.78850 34.13820)  \n5         POINT (-80.75590 34.14720)  \n6         POINT (-80.75590 34.15620)  \n7         POINT (-80.74500 34.14710)  \n8         POINT (-80.74500 34.15620)  \n9         POINT (-80.74500 34.16520)  \n10        POINT (-80.72340 34.12910)  \n11        POINT (-80.72340 34.16510)  \n12        POINT (-80.71260 34.11100)  ",
      "text/html": "<div>\n<style scoped>\n    .dataframe tbody tr th:only-of-type {\n        vertical-align: middle;\n    }\n\n    .dataframe tbody tr th {\n        vertical-align: top;\n    }\n\n    .dataframe thead th {\n        text-align: right;\n    }\n</style>\n<table border=\"1\" class=\"dataframe\">\n  <thead>\n    <tr style=\"text-align: right;\">\n      <th></th>\n      <th># Columns: Geocoded box</th>\n      <th>CDI</th>\n      <th>No. of responses</th>\n      <th>Hypocentral distance</th>\n      <th>Latitude</th>\n      <th>Longitude</th>\n      <th>Suspect?</th>\n      <th>Standard deviation</th>\n      <th>City</th>\n      <th>State</th>\n      <th>geometry</th>\n    </tr>\n  </thead>\n  <tbody>\n    <tr>\n      <th>0</th>\n      <td>UTM:(17S 0485 3759 1000)</td>\n      <td>2.7</td>\n      <td>1</td>\n      <td>43</td>\n      <td>33.9759</td>\n      <td>-81.1570</td>\n      <td>0</td>\n      <td>0.330</td>\n      <td>UTM:(17S 0485 3759 1000)</td>\n      <td></td>\n      <td>POINT (-81.15700 33.97590)</td>\n    </tr>\n    <tr>\n      <th>1</th>\n      <td>UTM:(17S 0512 3779 1000)</td>\n      <td>2.0</td>\n      <td>1</td>\n      <td>13</td>\n      <td>34.1564</td>\n      <td>-80.8644</td>\n      <td>0</td>\n      <td>0.330</td>\n      <td>UTM:(17S 0512 3779 1000)</td>\n      <td></td>\n      <td>POINT (-80.86440 34.15640)</td>\n    </tr>\n    <tr>\n      <th>2</th>\n      <td>UTM:(17S 0514 3758 1000)</td>\n      <td>2.0</td>\n      <td>1</td>\n      <td>23</td>\n      <td>33.9669</td>\n      <td>-80.8431</td>\n      <td>0</td>\n      <td>0.330</td>\n      <td>UTM:(17S 0514 3758 1000)</td>\n      <td></td>\n      <td>POINT (-80.84310 33.96690)</td>\n    </tr>\n    <tr>\n      <th>3</th>\n      <td>UTM:(17S 0516 3779 1000)</td>\n      <td>2.2</td>\n      <td>1</td>\n      <td>10</td>\n      <td>34.1563</td>\n      <td>-80.8210</td>\n      <td>0</td>\n      <td>0.330</td>\n      <td>UTM:(17S 0516 3779 1000)</td>\n      <td></td>\n      <td>POINT (-80.82100 34.15630)</td>\n    </tr>\n    <tr>\n      <th>4</th>\n      <td>UTM:(17S 0519 3777 1000)</td>\n      <td>2.2</td>\n      <td>1</td>\n      <td>8</td>\n      <td>34.1382</td>\n      <td>-80.7885</td>\n      <td>0</td>\n      <td>0.330</td>\n      <td>UTM:(17S 0519 3777 1000)</td>\n      <td></td>\n      <td>POINT (-80.78850 34.13820)</td>\n    </tr>\n    <tr>\n      <th>5</th>\n      <td>UTM:(17S 0522 3778 1000)</td>\n      <td>2.7</td>\n      <td>1</td>\n      <td>7</td>\n      <td>34.1472</td>\n      <td>-80.7559</td>\n      <td>0</td>\n      <td>0.330</td>\n      <td>UTM:(17S 0522 3778 1000)</td>\n      <td></td>\n      <td>POINT (-80.75590 34.14720)</td>\n    </tr>\n    <tr>\n      <th>6</th>\n      <td>UTM:(17S 0522 3779 1000)</td>\n      <td>2.2</td>\n      <td>1</td>\n      <td>7</td>\n      <td>34.1562</td>\n      <td>-80.7559</td>\n      <td>0</td>\n      <td>0.330</td>\n      <td>UTM:(17S 0522 3779 1000)</td>\n      <td></td>\n      <td>POINT (-80.75590 34.15620)</td>\n    </tr>\n    <tr>\n      <th>7</th>\n      <td>UTM:(17S 0523 3778 1000)</td>\n      <td>3.8</td>\n      <td>1</td>\n      <td>6</td>\n      <td>34.1471</td>\n      <td>-80.7450</td>\n      <td>0</td>\n      <td>0.330</td>\n      <td>UTM:(17S 0523 3778 1000)</td>\n      <td></td>\n      <td>POINT (-80.74500 34.14710)</td>\n    </tr>\n    <tr>\n      <th>8</th>\n      <td>UTM:(17S 0523 3779 1000)</td>\n      <td>2.2</td>\n      <td>2</td>\n      <td>6</td>\n      <td>34.1562</td>\n      <td>-80.7450</td>\n      <td>0</td>\n      <td>0.320</td>\n      <td>UTM:(17S 0523 3779 1000)</td>\n      <td></td>\n      <td>POINT (-80.74500 34.15620)</td>\n    </tr>\n    <tr>\n      <th>9</th>\n      <td>UTM:(17S 0523 3780 1000)</td>\n      <td>2.7</td>\n      <td>1</td>\n      <td>7</td>\n      <td>34.1652</td>\n      <td>-80.7450</td>\n      <td>0</td>\n      <td>0.330</td>\n      <td>UTM:(17S 0523 3780 1000)</td>\n      <td></td>\n      <td>POINT (-80.74500 34.16520)</td>\n    </tr>\n    <tr>\n      <th>10</th>\n      <td>UTM:(17S 0525 3776 1000)</td>\n      <td>2.2</td>\n      <td>1</td>\n      <td>7</td>\n      <td>34.1291</td>\n      <td>-80.7234</td>\n      <td>0</td>\n      <td>0.330</td>\n      <td>UTM:(17S 0525 3776 1000)</td>\n      <td></td>\n      <td>POINT (-80.72340 34.12910)</td>\n    </tr>\n    <tr>\n      <th>11</th>\n      <td>UTM:(17S 0525 3780 1000)</td>\n      <td>3.1</td>\n      <td>1</td>\n      <td>7</td>\n      <td>34.1651</td>\n      <td>-80.7234</td>\n      <td>0</td>\n      <td>0.330</td>\n      <td>UTM:(17S 0525 3780 1000)</td>\n      <td></td>\n      <td>POINT (-80.72340 34.16510)</td>\n    </tr>\n    <tr>\n      <th>12</th>\n      <td>UTM:(17S 0526 3774 1000)</td>\n      <td>2.2</td>\n      <td>1</td>\n      <td>8</td>\n      <td>34.1110</td>\n      <td>-80.7126</td>\n      <td>0</td>\n      <td>0.330</td>\n      <td>UTM:(17S 0526 3774 1000)</td>\n      <td></td>\n      <td>POINT (-80.71260 34.11100)</td>\n    </tr>\n  </tbody>\n</table>\n</div>"
     },
     "execution_count": 51,
     "metadata": {},
     "output_type": "execute_result"
    }
   ],
   "source": [
    "sc_shp_gdf"
   ],
   "metadata": {
    "collapsed": false
   }
  },
  {
   "cell_type": "code",
   "execution_count": 52,
   "outputs": [
    {
     "data": {
      "text/plain": "<folium.folium.Map at 0x7f25beb10070>",
      "text/html": "<div style=\"width:100%;\"><div style=\"position:relative;width:100%;height:0;padding-bottom:60%;\"><span style=\"color:#565656\">Make this Notebook Trusted to load map: File -> Trust Notebook</span><iframe srcdoc=\"&lt;!DOCTYPE html&gt;\n&lt;html&gt;\n&lt;head&gt;\n    \n    &lt;meta http-equiv=&quot;content-type&quot; content=&quot;text/html; charset=UTF-8&quot; /&gt;\n    \n        &lt;script&gt;\n            L_NO_TOUCH = false;\n            L_DISABLE_3D = false;\n        &lt;/script&gt;\n    \n    &lt;style&gt;html, body {width: 100%;height: 100%;margin: 0;padding: 0;}&lt;/style&gt;\n    &lt;style&gt;#map {position:absolute;top:0;bottom:0;right:0;left:0;}&lt;/style&gt;\n    &lt;script src=&quot;https://cdn.jsdelivr.net/npm/leaflet@1.9.3/dist/leaflet.js&quot;&gt;&lt;/script&gt;\n    &lt;script src=&quot;https://code.jquery.com/jquery-1.12.4.min.js&quot;&gt;&lt;/script&gt;\n    &lt;script src=&quot;https://cdn.jsdelivr.net/npm/bootstrap@5.2.2/dist/js/bootstrap.bundle.min.js&quot;&gt;&lt;/script&gt;\n    &lt;script src=&quot;https://cdnjs.cloudflare.com/ajax/libs/Leaflet.awesome-markers/2.0.2/leaflet.awesome-markers.js&quot;&gt;&lt;/script&gt;\n    &lt;link rel=&quot;stylesheet&quot; href=&quot;https://cdn.jsdelivr.net/npm/leaflet@1.9.3/dist/leaflet.css&quot;/&gt;\n    &lt;link rel=&quot;stylesheet&quot; href=&quot;https://cdn.jsdelivr.net/npm/bootstrap@5.2.2/dist/css/bootstrap.min.css&quot;/&gt;\n    &lt;link rel=&quot;stylesheet&quot; href=&quot;https://netdna.bootstrapcdn.com/bootstrap/3.0.0/css/bootstrap.min.css&quot;/&gt;\n    &lt;link rel=&quot;stylesheet&quot; href=&quot;https://cdn.jsdelivr.net/npm/@fortawesome/fontawesome-free@6.2.0/css/all.min.css&quot;/&gt;\n    &lt;link rel=&quot;stylesheet&quot; href=&quot;https://cdnjs.cloudflare.com/ajax/libs/Leaflet.awesome-markers/2.0.2/leaflet.awesome-markers.css&quot;/&gt;\n    &lt;link rel=&quot;stylesheet&quot; href=&quot;https://cdn.jsdelivr.net/gh/python-visualization/folium/folium/templates/leaflet.awesome.rotate.min.css&quot;/&gt;\n    \n            &lt;meta name=&quot;viewport&quot; content=&quot;width=device-width,\n                initial-scale=1.0, maximum-scale=1.0, user-scalable=no&quot; /&gt;\n            &lt;style&gt;\n                #map_0422073a70aec3b6c4da641109941915 {\n                    position: relative;\n                    width: 100.0%;\n                    height: 100.0%;\n                    left: 0.0%;\n                    top: 0.0%;\n                }\n                .leaflet-container { font-size: 1rem; }\n            &lt;/style&gt;\n        \n    \n                    &lt;style&gt;\n                        .foliumtooltip {\n                            \n                        }\n                       .foliumtooltip table{\n                            margin: auto;\n                        }\n                        .foliumtooltip tr{\n                            text-align: left;\n                        }\n                        .foliumtooltip th{\n                            padding: 2px; padding-right: 8px;\n                        }\n                    &lt;/style&gt;\n            \n&lt;/head&gt;\n&lt;body&gt;\n    \n    \n            &lt;div class=&quot;folium-map&quot; id=&quot;map_0422073a70aec3b6c4da641109941915&quot; &gt;&lt;/div&gt;\n        \n&lt;/body&gt;\n&lt;script&gt;\n    \n    \n            var map_0422073a70aec3b6c4da641109941915 = L.map(\n                &quot;map_0422073a70aec3b6c4da641109941915&quot;,\n                {\n                    center: [34.066050000000004, -80.9348],\n                    crs: L.CRS.EPSG3857,\n                    zoom: 10,\n                    zoomControl: true,\n                    preferCanvas: false,\n                }\n            );\n            L.control.scale().addTo(map_0422073a70aec3b6c4da641109941915);\n\n            \n\n        \n    \n            var tile_layer_24c1a0ba4783b931aa78cfec0cbe7e43 = L.tileLayer(\n                &quot;https://{s}.tile.openstreetmap.org/{z}/{x}/{y}.png&quot;,\n                {&quot;attribution&quot;: &quot;Data by \\u0026copy; \\u003ca target=\\&quot;_blank\\&quot; href=\\&quot;http://openstreetmap.org\\&quot;\\u003eOpenStreetMap\\u003c/a\\u003e, under \\u003ca target=\\&quot;_blank\\&quot; href=\\&quot;http://www.openstreetmap.org/copyright\\&quot;\\u003eODbL\\u003c/a\\u003e.&quot;, &quot;detectRetina&quot;: false, &quot;maxNativeZoom&quot;: 18, &quot;maxZoom&quot;: 18, &quot;minZoom&quot;: 0, &quot;noWrap&quot;: false, &quot;opacity&quot;: 1, &quot;subdomains&quot;: &quot;abc&quot;, &quot;tms&quot;: false}\n            ).addTo(map_0422073a70aec3b6c4da641109941915);\n        \n    \n            map_0422073a70aec3b6c4da641109941915.fitBounds(\n                [[33.9669, -81.157], [34.1652, -80.7126]],\n                {}\n            );\n        \n    \n        function geo_json_351102536d2d734c26d6e3e05ddd4b1c_styler(feature) {\n            switch(feature.id) {\n                default:\n                    return {&quot;fillOpacity&quot;: 0.5, &quot;weight&quot;: 2};\n            }\n        }\n        function geo_json_351102536d2d734c26d6e3e05ddd4b1c_highlighter(feature) {\n            switch(feature.id) {\n                default:\n                    return {&quot;fillOpacity&quot;: 0.75};\n            }\n        }\n        function geo_json_351102536d2d734c26d6e3e05ddd4b1c_pointToLayer(feature, latlng) {\n            var opts = {&quot;bubblingMouseEvents&quot;: true, &quot;color&quot;: &quot;#3388ff&quot;, &quot;dashArray&quot;: null, &quot;dashOffset&quot;: null, &quot;fill&quot;: true, &quot;fillColor&quot;: &quot;#3388ff&quot;, &quot;fillOpacity&quot;: 0.2, &quot;fillRule&quot;: &quot;evenodd&quot;, &quot;lineCap&quot;: &quot;round&quot;, &quot;lineJoin&quot;: &quot;round&quot;, &quot;opacity&quot;: 1.0, &quot;radius&quot;: 2, &quot;stroke&quot;: true, &quot;weight&quot;: 3};\n            \n            let style = geo_json_351102536d2d734c26d6e3e05ddd4b1c_styler(feature)\n            Object.assign(opts, style)\n            \n            return new L.CircleMarker(latlng, opts)\n        }\n\n        function geo_json_351102536d2d734c26d6e3e05ddd4b1c_onEachFeature(feature, layer) {\n            layer.on({\n                mouseout: function(e) {\n                    if(typeof e.target.setStyle === &quot;function&quot;){\n                        geo_json_351102536d2d734c26d6e3e05ddd4b1c.resetStyle(e.target);\n                    }\n                },\n                mouseover: function(e) {\n                    if(typeof e.target.setStyle === &quot;function&quot;){\n                        const highlightStyle = geo_json_351102536d2d734c26d6e3e05ddd4b1c_highlighter(e.target.feature)\n                        e.target.setStyle(highlightStyle);\n                    }\n                },\n            });\n        };\n        var geo_json_351102536d2d734c26d6e3e05ddd4b1c = L.geoJson(null, {\n                onEachFeature: geo_json_351102536d2d734c26d6e3e05ddd4b1c_onEachFeature,\n            \n                style: geo_json_351102536d2d734c26d6e3e05ddd4b1c_styler,\n                pointToLayer: geo_json_351102536d2d734c26d6e3e05ddd4b1c_pointToLayer\n        });\n\n        function geo_json_351102536d2d734c26d6e3e05ddd4b1c_add (data) {\n            geo_json_351102536d2d734c26d6e3e05ddd4b1c\n                .addData(data)\n                .addTo(map_0422073a70aec3b6c4da641109941915);\n        }\n            geo_json_351102536d2d734c26d6e3e05ddd4b1c_add({&quot;bbox&quot;: [-81.157, 33.9669, -80.7126, 34.1652], &quot;features&quot;: [{&quot;bbox&quot;: [-81.157, 33.9759, -81.157, 33.9759], &quot;geometry&quot;: {&quot;coordinates&quot;: [-81.157, 33.9759], &quot;type&quot;: &quot;Point&quot;}, &quot;id&quot;: &quot;0&quot;, &quot;properties&quot;: {&quot;# Columns: Geocoded box&quot;: &quot;UTM:(17S 0485 3759 1000)&quot;, &quot;CDI&quot;: &quot;2.7&quot;, &quot;City&quot;: &quot;UTM:(17S 0485 3759 1000)&quot;, &quot;Hypocentral distance&quot;: &quot;43&quot;, &quot;Latitude&quot;: &quot;33.9759&quot;, &quot;Longitude&quot;: &quot;-81.1570&quot;, &quot;No. of responses&quot;: &quot;1&quot;, &quot;Standard deviation&quot;: &quot;0.330&quot;, &quot;State&quot;: &quot;&quot;, &quot;Suspect?&quot;: &quot;0&quot;}, &quot;type&quot;: &quot;Feature&quot;}, {&quot;bbox&quot;: [-80.8644, 34.1564, -80.8644, 34.1564], &quot;geometry&quot;: {&quot;coordinates&quot;: [-80.8644, 34.1564], &quot;type&quot;: &quot;Point&quot;}, &quot;id&quot;: &quot;1&quot;, &quot;properties&quot;: {&quot;# Columns: Geocoded box&quot;: &quot;UTM:(17S 0512 3779 1000)&quot;, &quot;CDI&quot;: &quot;2.0&quot;, &quot;City&quot;: &quot;UTM:(17S 0512 3779 1000)&quot;, &quot;Hypocentral distance&quot;: &quot;13&quot;, &quot;Latitude&quot;: &quot;34.1564&quot;, &quot;Longitude&quot;: &quot;-80.8644&quot;, &quot;No. of responses&quot;: &quot;1&quot;, &quot;Standard deviation&quot;: &quot;0.330&quot;, &quot;State&quot;: &quot;&quot;, &quot;Suspect?&quot;: &quot;0&quot;}, &quot;type&quot;: &quot;Feature&quot;}, {&quot;bbox&quot;: [-80.8431, 33.9669, -80.8431, 33.9669], &quot;geometry&quot;: {&quot;coordinates&quot;: [-80.8431, 33.9669], &quot;type&quot;: &quot;Point&quot;}, &quot;id&quot;: &quot;2&quot;, &quot;properties&quot;: {&quot;# Columns: Geocoded box&quot;: &quot;UTM:(17S 0514 3758 1000)&quot;, &quot;CDI&quot;: &quot;2.0&quot;, &quot;City&quot;: &quot;UTM:(17S 0514 3758 1000)&quot;, &quot;Hypocentral distance&quot;: &quot;23&quot;, &quot;Latitude&quot;: &quot;33.9669&quot;, &quot;Longitude&quot;: &quot;-80.8431&quot;, &quot;No. of responses&quot;: &quot;1&quot;, &quot;Standard deviation&quot;: &quot;0.330&quot;, &quot;State&quot;: &quot;&quot;, &quot;Suspect?&quot;: &quot;0&quot;}, &quot;type&quot;: &quot;Feature&quot;}, {&quot;bbox&quot;: [-80.821, 34.1563, -80.821, 34.1563], &quot;geometry&quot;: {&quot;coordinates&quot;: [-80.821, 34.1563], &quot;type&quot;: &quot;Point&quot;}, &quot;id&quot;: &quot;3&quot;, &quot;properties&quot;: {&quot;# Columns: Geocoded box&quot;: &quot;UTM:(17S 0516 3779 1000)&quot;, &quot;CDI&quot;: &quot;2.2&quot;, &quot;City&quot;: &quot;UTM:(17S 0516 3779 1000)&quot;, &quot;Hypocentral distance&quot;: &quot;10&quot;, &quot;Latitude&quot;: &quot;34.1563&quot;, &quot;Longitude&quot;: &quot;-80.8210&quot;, &quot;No. of responses&quot;: &quot;1&quot;, &quot;Standard deviation&quot;: &quot;0.330&quot;, &quot;State&quot;: &quot;&quot;, &quot;Suspect?&quot;: &quot;0&quot;}, &quot;type&quot;: &quot;Feature&quot;}, {&quot;bbox&quot;: [-80.7885, 34.1382, -80.7885, 34.1382], &quot;geometry&quot;: {&quot;coordinates&quot;: [-80.7885, 34.1382], &quot;type&quot;: &quot;Point&quot;}, &quot;id&quot;: &quot;4&quot;, &quot;properties&quot;: {&quot;# Columns: Geocoded box&quot;: &quot;UTM:(17S 0519 3777 1000)&quot;, &quot;CDI&quot;: &quot;2.2&quot;, &quot;City&quot;: &quot;UTM:(17S 0519 3777 1000)&quot;, &quot;Hypocentral distance&quot;: &quot;8&quot;, &quot;Latitude&quot;: &quot;34.1382&quot;, &quot;Longitude&quot;: &quot;-80.7885&quot;, &quot;No. of responses&quot;: &quot;1&quot;, &quot;Standard deviation&quot;: &quot;0.330&quot;, &quot;State&quot;: &quot;&quot;, &quot;Suspect?&quot;: &quot;0&quot;}, &quot;type&quot;: &quot;Feature&quot;}, {&quot;bbox&quot;: [-80.7559, 34.1472, -80.7559, 34.1472], &quot;geometry&quot;: {&quot;coordinates&quot;: [-80.7559, 34.1472], &quot;type&quot;: &quot;Point&quot;}, &quot;id&quot;: &quot;5&quot;, &quot;properties&quot;: {&quot;# Columns: Geocoded box&quot;: &quot;UTM:(17S 0522 3778 1000)&quot;, &quot;CDI&quot;: &quot;2.7&quot;, &quot;City&quot;: &quot;UTM:(17S 0522 3778 1000)&quot;, &quot;Hypocentral distance&quot;: &quot;7&quot;, &quot;Latitude&quot;: &quot;34.1472&quot;, &quot;Longitude&quot;: &quot;-80.7559&quot;, &quot;No. of responses&quot;: &quot;1&quot;, &quot;Standard deviation&quot;: &quot;0.330&quot;, &quot;State&quot;: &quot;&quot;, &quot;Suspect?&quot;: &quot;0&quot;}, &quot;type&quot;: &quot;Feature&quot;}, {&quot;bbox&quot;: [-80.7559, 34.1562, -80.7559, 34.1562], &quot;geometry&quot;: {&quot;coordinates&quot;: [-80.7559, 34.1562], &quot;type&quot;: &quot;Point&quot;}, &quot;id&quot;: &quot;6&quot;, &quot;properties&quot;: {&quot;# Columns: Geocoded box&quot;: &quot;UTM:(17S 0522 3779 1000)&quot;, &quot;CDI&quot;: &quot;2.2&quot;, &quot;City&quot;: &quot;UTM:(17S 0522 3779 1000)&quot;, &quot;Hypocentral distance&quot;: &quot;7&quot;, &quot;Latitude&quot;: &quot;34.1562&quot;, &quot;Longitude&quot;: &quot;-80.7559&quot;, &quot;No. of responses&quot;: &quot;1&quot;, &quot;Standard deviation&quot;: &quot;0.330&quot;, &quot;State&quot;: &quot;&quot;, &quot;Suspect?&quot;: &quot;0&quot;}, &quot;type&quot;: &quot;Feature&quot;}, {&quot;bbox&quot;: [-80.745, 34.1471, -80.745, 34.1471], &quot;geometry&quot;: {&quot;coordinates&quot;: [-80.745, 34.1471], &quot;type&quot;: &quot;Point&quot;}, &quot;id&quot;: &quot;7&quot;, &quot;properties&quot;: {&quot;# Columns: Geocoded box&quot;: &quot;UTM:(17S 0523 3778 1000)&quot;, &quot;CDI&quot;: &quot;3.8&quot;, &quot;City&quot;: &quot;UTM:(17S 0523 3778 1000)&quot;, &quot;Hypocentral distance&quot;: &quot;6&quot;, &quot;Latitude&quot;: &quot;34.1471&quot;, &quot;Longitude&quot;: &quot;-80.7450&quot;, &quot;No. of responses&quot;: &quot;1&quot;, &quot;Standard deviation&quot;: &quot;0.330&quot;, &quot;State&quot;: &quot;&quot;, &quot;Suspect?&quot;: &quot;0&quot;}, &quot;type&quot;: &quot;Feature&quot;}, {&quot;bbox&quot;: [-80.745, 34.1562, -80.745, 34.1562], &quot;geometry&quot;: {&quot;coordinates&quot;: [-80.745, 34.1562], &quot;type&quot;: &quot;Point&quot;}, &quot;id&quot;: &quot;8&quot;, &quot;properties&quot;: {&quot;# Columns: Geocoded box&quot;: &quot;UTM:(17S 0523 3779 1000)&quot;, &quot;CDI&quot;: &quot;2.2&quot;, &quot;City&quot;: &quot;UTM:(17S 0523 3779 1000)&quot;, &quot;Hypocentral distance&quot;: &quot;6&quot;, &quot;Latitude&quot;: &quot;34.1562&quot;, &quot;Longitude&quot;: &quot;-80.7450&quot;, &quot;No. of responses&quot;: &quot;2&quot;, &quot;Standard deviation&quot;: &quot;0.320&quot;, &quot;State&quot;: &quot;&quot;, &quot;Suspect?&quot;: &quot;0&quot;}, &quot;type&quot;: &quot;Feature&quot;}, {&quot;bbox&quot;: [-80.745, 34.1652, -80.745, 34.1652], &quot;geometry&quot;: {&quot;coordinates&quot;: [-80.745, 34.1652], &quot;type&quot;: &quot;Point&quot;}, &quot;id&quot;: &quot;9&quot;, &quot;properties&quot;: {&quot;# Columns: Geocoded box&quot;: &quot;UTM:(17S 0523 3780 1000)&quot;, &quot;CDI&quot;: &quot;2.7&quot;, &quot;City&quot;: &quot;UTM:(17S 0523 3780 1000)&quot;, &quot;Hypocentral distance&quot;: &quot;7&quot;, &quot;Latitude&quot;: &quot;34.1652&quot;, &quot;Longitude&quot;: &quot;-80.7450&quot;, &quot;No. of responses&quot;: &quot;1&quot;, &quot;Standard deviation&quot;: &quot;0.330&quot;, &quot;State&quot;: &quot;&quot;, &quot;Suspect?&quot;: &quot;0&quot;}, &quot;type&quot;: &quot;Feature&quot;}, {&quot;bbox&quot;: [-80.7234, 34.1291, -80.7234, 34.1291], &quot;geometry&quot;: {&quot;coordinates&quot;: [-80.7234, 34.1291], &quot;type&quot;: &quot;Point&quot;}, &quot;id&quot;: &quot;10&quot;, &quot;properties&quot;: {&quot;# Columns: Geocoded box&quot;: &quot;UTM:(17S 0525 3776 1000)&quot;, &quot;CDI&quot;: &quot;2.2&quot;, &quot;City&quot;: &quot;UTM:(17S 0525 3776 1000)&quot;, &quot;Hypocentral distance&quot;: &quot;7&quot;, &quot;Latitude&quot;: &quot;34.1291&quot;, &quot;Longitude&quot;: &quot;-80.7234&quot;, &quot;No. of responses&quot;: &quot;1&quot;, &quot;Standard deviation&quot;: &quot;0.330&quot;, &quot;State&quot;: &quot;&quot;, &quot;Suspect?&quot;: &quot;0&quot;}, &quot;type&quot;: &quot;Feature&quot;}, {&quot;bbox&quot;: [-80.7234, 34.1651, -80.7234, 34.1651], &quot;geometry&quot;: {&quot;coordinates&quot;: [-80.7234, 34.1651], &quot;type&quot;: &quot;Point&quot;}, &quot;id&quot;: &quot;11&quot;, &quot;properties&quot;: {&quot;# Columns: Geocoded box&quot;: &quot;UTM:(17S 0525 3780 1000)&quot;, &quot;CDI&quot;: &quot;3.1&quot;, &quot;City&quot;: &quot;UTM:(17S 0525 3780 1000)&quot;, &quot;Hypocentral distance&quot;: &quot;7&quot;, &quot;Latitude&quot;: &quot;34.1651&quot;, &quot;Longitude&quot;: &quot;-80.7234&quot;, &quot;No. of responses&quot;: &quot;1&quot;, &quot;Standard deviation&quot;: &quot;0.330&quot;, &quot;State&quot;: &quot;&quot;, &quot;Suspect?&quot;: &quot;0&quot;}, &quot;type&quot;: &quot;Feature&quot;}, {&quot;bbox&quot;: [-80.7126, 34.111, -80.7126, 34.111], &quot;geometry&quot;: {&quot;coordinates&quot;: [-80.7126, 34.111], &quot;type&quot;: &quot;Point&quot;}, &quot;id&quot;: &quot;12&quot;, &quot;properties&quot;: {&quot;# Columns: Geocoded box&quot;: &quot;UTM:(17S 0526 3774 1000)&quot;, &quot;CDI&quot;: &quot;2.2&quot;, &quot;City&quot;: &quot;UTM:(17S 0526 3774 1000)&quot;, &quot;Hypocentral distance&quot;: &quot;8&quot;, &quot;Latitude&quot;: &quot;34.1110&quot;, &quot;Longitude&quot;: &quot;-80.7126&quot;, &quot;No. of responses&quot;: &quot;1&quot;, &quot;Standard deviation&quot;: &quot;0.330&quot;, &quot;State&quot;: &quot;&quot;, &quot;Suspect?&quot;: &quot;0&quot;}, &quot;type&quot;: &quot;Feature&quot;}], &quot;type&quot;: &quot;FeatureCollection&quot;});\n\n        \n    \n    geo_json_351102536d2d734c26d6e3e05ddd4b1c.bindTooltip(\n    function(layer){\n    let div = L.DomUtil.create(&#x27;div&#x27;);\n    \n    let handleObject = feature=&gt;typeof(feature)==&#x27;object&#x27; ? JSON.stringify(feature) : feature;\n    let fields = [&quot;# Columns: Geocoded box&quot;, &quot;CDI&quot;, &quot;No. of responses&quot;, &quot;Hypocentral distance&quot;, &quot;Latitude&quot;, &quot;Longitude&quot;, &quot;Suspect?&quot;, &quot;Standard deviation&quot;, &quot;City&quot;, &quot;State&quot;];\n    let aliases = [&quot;# Columns: Geocoded box&quot;, &quot;CDI&quot;, &quot;No. of responses&quot;, &quot;Hypocentral distance&quot;, &quot;Latitude&quot;, &quot;Longitude&quot;, &quot;Suspect?&quot;, &quot;Standard deviation&quot;, &quot;City&quot;, &quot;State&quot;];\n    let table = &#x27;&lt;table&gt;&#x27; +\n        String(\n        fields.map(\n        (v,i)=&gt;\n        `&lt;tr&gt;\n            &lt;th&gt;${aliases[i]}&lt;/th&gt;\n            \n            &lt;td&gt;${handleObject(layer.feature.properties[v])}&lt;/td&gt;\n        &lt;/tr&gt;`).join(&#x27;&#x27;))\n    +&#x27;&lt;/table&gt;&#x27;;\n    div.innerHTML=table;\n    \n    return div\n    }\n    ,{&quot;className&quot;: &quot;foliumtooltip&quot;, &quot;sticky&quot;: true});\n                     \n&lt;/script&gt;\n&lt;/html&gt;\" style=\"position:absolute;width:100%;height:100%;left:0;top:0;border:none !important;\" allowfullscreen webkitallowfullscreen mozallowfullscreen></iframe></div></div>"
     },
     "execution_count": 52,
     "metadata": {},
     "output_type": "execute_result"
    }
   ],
   "source": [
    "sc_shp_gdf.explore()"
   ],
   "metadata": {
    "collapsed": false
   }
  },
  {
   "cell_type": "code",
   "execution_count": 53,
   "outputs": [],
   "source": [
    "sc_shp_gdf_project = sc_shp_gdf.to_crs(epsg=32619)"
   ],
   "metadata": {
    "collapsed": false
   }
  },
  {
   "cell_type": "code",
   "execution_count": 54,
   "outputs": [
    {
     "data": {
      "text/plain": "<folium.folium.Map at 0x7f25bebbb310>",
      "text/html": "<div style=\"width:100%;\"><div style=\"position:relative;width:100%;height:0;padding-bottom:60%;\"><span style=\"color:#565656\">Make this Notebook Trusted to load map: File -> Trust Notebook</span><iframe srcdoc=\"&lt;!DOCTYPE html&gt;\n&lt;html&gt;\n&lt;head&gt;\n    \n    &lt;meta http-equiv=&quot;content-type&quot; content=&quot;text/html; charset=UTF-8&quot; /&gt;\n    \n        &lt;script&gt;\n            L_NO_TOUCH = false;\n            L_DISABLE_3D = false;\n        &lt;/script&gt;\n    \n    &lt;style&gt;html, body {width: 100%;height: 100%;margin: 0;padding: 0;}&lt;/style&gt;\n    &lt;style&gt;#map {position:absolute;top:0;bottom:0;right:0;left:0;}&lt;/style&gt;\n    &lt;script src=&quot;https://cdn.jsdelivr.net/npm/leaflet@1.9.3/dist/leaflet.js&quot;&gt;&lt;/script&gt;\n    &lt;script src=&quot;https://code.jquery.com/jquery-1.12.4.min.js&quot;&gt;&lt;/script&gt;\n    &lt;script src=&quot;https://cdn.jsdelivr.net/npm/bootstrap@5.2.2/dist/js/bootstrap.bundle.min.js&quot;&gt;&lt;/script&gt;\n    &lt;script src=&quot;https://cdnjs.cloudflare.com/ajax/libs/Leaflet.awesome-markers/2.0.2/leaflet.awesome-markers.js&quot;&gt;&lt;/script&gt;\n    &lt;link rel=&quot;stylesheet&quot; href=&quot;https://cdn.jsdelivr.net/npm/leaflet@1.9.3/dist/leaflet.css&quot;/&gt;\n    &lt;link rel=&quot;stylesheet&quot; href=&quot;https://cdn.jsdelivr.net/npm/bootstrap@5.2.2/dist/css/bootstrap.min.css&quot;/&gt;\n    &lt;link rel=&quot;stylesheet&quot; href=&quot;https://netdna.bootstrapcdn.com/bootstrap/3.0.0/css/bootstrap.min.css&quot;/&gt;\n    &lt;link rel=&quot;stylesheet&quot; href=&quot;https://cdn.jsdelivr.net/npm/@fortawesome/fontawesome-free@6.2.0/css/all.min.css&quot;/&gt;\n    &lt;link rel=&quot;stylesheet&quot; href=&quot;https://cdnjs.cloudflare.com/ajax/libs/Leaflet.awesome-markers/2.0.2/leaflet.awesome-markers.css&quot;/&gt;\n    &lt;link rel=&quot;stylesheet&quot; href=&quot;https://cdn.jsdelivr.net/gh/python-visualization/folium/folium/templates/leaflet.awesome.rotate.min.css&quot;/&gt;\n    \n            &lt;meta name=&quot;viewport&quot; content=&quot;width=device-width,\n                initial-scale=1.0, maximum-scale=1.0, user-scalable=no&quot; /&gt;\n            &lt;style&gt;\n                #map_45e2d5f7eaf4e46ecfff276e830b268e {\n                    position: relative;\n                    width: 100.0%;\n                    height: 100.0%;\n                    left: 0.0%;\n                    top: 0.0%;\n                }\n                .leaflet-container { font-size: 1rem; }\n            &lt;/style&gt;\n        \n    \n                    &lt;style&gt;\n                        .foliumtooltip {\n                            \n                        }\n                       .foliumtooltip table{\n                            margin: auto;\n                        }\n                        .foliumtooltip tr{\n                            text-align: left;\n                        }\n                        .foliumtooltip th{\n                            padding: 2px; padding-right: 8px;\n                        }\n                    &lt;/style&gt;\n            \n&lt;/head&gt;\n&lt;body&gt;\n    \n    \n            &lt;div class=&quot;folium-map&quot; id=&quot;map_45e2d5f7eaf4e46ecfff276e830b268e&quot; &gt;&lt;/div&gt;\n        \n&lt;/body&gt;\n&lt;script&gt;\n    \n    \n            var map_45e2d5f7eaf4e46ecfff276e830b268e = L.map(\n                &quot;map_45e2d5f7eaf4e46ecfff276e830b268e&quot;,\n                {\n                    center: [34.066050000000004, -80.9348],\n                    crs: L.CRS.EPSG3857,\n                    zoom: 10,\n                    zoomControl: true,\n                    preferCanvas: false,\n                }\n            );\n            L.control.scale().addTo(map_45e2d5f7eaf4e46ecfff276e830b268e);\n\n            \n\n        \n    \n            var tile_layer_71c6adfc0346e2e134189009535db2da = L.tileLayer(\n                &quot;https://{s}.tile.openstreetmap.org/{z}/{x}/{y}.png&quot;,\n                {&quot;attribution&quot;: &quot;Data by \\u0026copy; \\u003ca target=\\&quot;_blank\\&quot; href=\\&quot;http://openstreetmap.org\\&quot;\\u003eOpenStreetMap\\u003c/a\\u003e, under \\u003ca target=\\&quot;_blank\\&quot; href=\\&quot;http://www.openstreetmap.org/copyright\\&quot;\\u003eODbL\\u003c/a\\u003e.&quot;, &quot;detectRetina&quot;: false, &quot;maxNativeZoom&quot;: 18, &quot;maxZoom&quot;: 18, &quot;minZoom&quot;: 0, &quot;noWrap&quot;: false, &quot;opacity&quot;: 1, &quot;subdomains&quot;: &quot;abc&quot;, &quot;tms&quot;: false}\n            ).addTo(map_45e2d5f7eaf4e46ecfff276e830b268e);\n        \n    \n            map_45e2d5f7eaf4e46ecfff276e830b268e.fitBounds(\n                [[33.9669, -81.157], [34.1652, -80.7126]],\n                {}\n            );\n        \n    \n        function geo_json_93a9586fb88a911aa638d290afc6bff8_styler(feature) {\n            switch(feature.id) {\n                default:\n                    return {&quot;fillOpacity&quot;: 0.5, &quot;weight&quot;: 2};\n            }\n        }\n        function geo_json_93a9586fb88a911aa638d290afc6bff8_highlighter(feature) {\n            switch(feature.id) {\n                default:\n                    return {&quot;fillOpacity&quot;: 0.75};\n            }\n        }\n        function geo_json_93a9586fb88a911aa638d290afc6bff8_pointToLayer(feature, latlng) {\n            var opts = {&quot;bubblingMouseEvents&quot;: true, &quot;color&quot;: &quot;#3388ff&quot;, &quot;dashArray&quot;: null, &quot;dashOffset&quot;: null, &quot;fill&quot;: true, &quot;fillColor&quot;: &quot;#3388ff&quot;, &quot;fillOpacity&quot;: 0.2, &quot;fillRule&quot;: &quot;evenodd&quot;, &quot;lineCap&quot;: &quot;round&quot;, &quot;lineJoin&quot;: &quot;round&quot;, &quot;opacity&quot;: 1.0, &quot;radius&quot;: 2, &quot;stroke&quot;: true, &quot;weight&quot;: 3};\n            \n            let style = geo_json_93a9586fb88a911aa638d290afc6bff8_styler(feature)\n            Object.assign(opts, style)\n            \n            return new L.CircleMarker(latlng, opts)\n        }\n\n        function geo_json_93a9586fb88a911aa638d290afc6bff8_onEachFeature(feature, layer) {\n            layer.on({\n                mouseout: function(e) {\n                    if(typeof e.target.setStyle === &quot;function&quot;){\n                        geo_json_93a9586fb88a911aa638d290afc6bff8.resetStyle(e.target);\n                    }\n                },\n                mouseover: function(e) {\n                    if(typeof e.target.setStyle === &quot;function&quot;){\n                        const highlightStyle = geo_json_93a9586fb88a911aa638d290afc6bff8_highlighter(e.target.feature)\n                        e.target.setStyle(highlightStyle);\n                    }\n                },\n            });\n        };\n        var geo_json_93a9586fb88a911aa638d290afc6bff8 = L.geoJson(null, {\n                onEachFeature: geo_json_93a9586fb88a911aa638d290afc6bff8_onEachFeature,\n            \n                style: geo_json_93a9586fb88a911aa638d290afc6bff8_styler,\n                pointToLayer: geo_json_93a9586fb88a911aa638d290afc6bff8_pointToLayer\n        });\n\n        function geo_json_93a9586fb88a911aa638d290afc6bff8_add (data) {\n            geo_json_93a9586fb88a911aa638d290afc6bff8\n                .addData(data)\n                .addTo(map_45e2d5f7eaf4e46ecfff276e830b268e);\n        }\n            geo_json_93a9586fb88a911aa638d290afc6bff8_add({&quot;bbox&quot;: [-81.157, 33.9669, -80.7126, 34.1652], &quot;features&quot;: [{&quot;bbox&quot;: [-81.157, 33.9759, -81.157, 33.9759], &quot;geometry&quot;: {&quot;coordinates&quot;: [-81.157, 33.9759], &quot;type&quot;: &quot;Point&quot;}, &quot;id&quot;: &quot;0&quot;, &quot;properties&quot;: {&quot;# Columns: Geocoded box&quot;: &quot;UTM:(17S 0485 3759 1000)&quot;, &quot;CDI&quot;: &quot;2.7&quot;, &quot;City&quot;: &quot;UTM:(17S 0485 3759 1000)&quot;, &quot;Hypocentral distance&quot;: &quot;43&quot;, &quot;Latitude&quot;: &quot;33.9759&quot;, &quot;Longitude&quot;: &quot;-81.1570&quot;, &quot;No. of responses&quot;: &quot;1&quot;, &quot;Standard deviation&quot;: &quot;0.330&quot;, &quot;State&quot;: &quot;&quot;, &quot;Suspect?&quot;: &quot;0&quot;}, &quot;type&quot;: &quot;Feature&quot;}, {&quot;bbox&quot;: [-80.8644, 34.1564, -80.8644, 34.1564], &quot;geometry&quot;: {&quot;coordinates&quot;: [-80.8644, 34.1564], &quot;type&quot;: &quot;Point&quot;}, &quot;id&quot;: &quot;1&quot;, &quot;properties&quot;: {&quot;# Columns: Geocoded box&quot;: &quot;UTM:(17S 0512 3779 1000)&quot;, &quot;CDI&quot;: &quot;2.0&quot;, &quot;City&quot;: &quot;UTM:(17S 0512 3779 1000)&quot;, &quot;Hypocentral distance&quot;: &quot;13&quot;, &quot;Latitude&quot;: &quot;34.1564&quot;, &quot;Longitude&quot;: &quot;-80.8644&quot;, &quot;No. of responses&quot;: &quot;1&quot;, &quot;Standard deviation&quot;: &quot;0.330&quot;, &quot;State&quot;: &quot;&quot;, &quot;Suspect?&quot;: &quot;0&quot;}, &quot;type&quot;: &quot;Feature&quot;}, {&quot;bbox&quot;: [-80.8431, 33.9669, -80.8431, 33.9669], &quot;geometry&quot;: {&quot;coordinates&quot;: [-80.8431, 33.9669], &quot;type&quot;: &quot;Point&quot;}, &quot;id&quot;: &quot;2&quot;, &quot;properties&quot;: {&quot;# Columns: Geocoded box&quot;: &quot;UTM:(17S 0514 3758 1000)&quot;, &quot;CDI&quot;: &quot;2.0&quot;, &quot;City&quot;: &quot;UTM:(17S 0514 3758 1000)&quot;, &quot;Hypocentral distance&quot;: &quot;23&quot;, &quot;Latitude&quot;: &quot;33.9669&quot;, &quot;Longitude&quot;: &quot;-80.8431&quot;, &quot;No. of responses&quot;: &quot;1&quot;, &quot;Standard deviation&quot;: &quot;0.330&quot;, &quot;State&quot;: &quot;&quot;, &quot;Suspect?&quot;: &quot;0&quot;}, &quot;type&quot;: &quot;Feature&quot;}, {&quot;bbox&quot;: [-80.821, 34.15630000000001, -80.821, 34.15630000000001], &quot;geometry&quot;: {&quot;coordinates&quot;: [-80.821, 34.15630000000001], &quot;type&quot;: &quot;Point&quot;}, &quot;id&quot;: &quot;3&quot;, &quot;properties&quot;: {&quot;# Columns: Geocoded box&quot;: &quot;UTM:(17S 0516 3779 1000)&quot;, &quot;CDI&quot;: &quot;2.2&quot;, &quot;City&quot;: &quot;UTM:(17S 0516 3779 1000)&quot;, &quot;Hypocentral distance&quot;: &quot;10&quot;, &quot;Latitude&quot;: &quot;34.1563&quot;, &quot;Longitude&quot;: &quot;-80.8210&quot;, &quot;No. of responses&quot;: &quot;1&quot;, &quot;Standard deviation&quot;: &quot;0.330&quot;, &quot;State&quot;: &quot;&quot;, &quot;Suspect?&quot;: &quot;0&quot;}, &quot;type&quot;: &quot;Feature&quot;}, {&quot;bbox&quot;: [-80.7885, 34.13819999999999, -80.7885, 34.13819999999999], &quot;geometry&quot;: {&quot;coordinates&quot;: [-80.7885, 34.13819999999999], &quot;type&quot;: &quot;Point&quot;}, &quot;id&quot;: &quot;4&quot;, &quot;properties&quot;: {&quot;# Columns: Geocoded box&quot;: &quot;UTM:(17S 0519 3777 1000)&quot;, &quot;CDI&quot;: &quot;2.2&quot;, &quot;City&quot;: &quot;UTM:(17S 0519 3777 1000)&quot;, &quot;Hypocentral distance&quot;: &quot;8&quot;, &quot;Latitude&quot;: &quot;34.1382&quot;, &quot;Longitude&quot;: &quot;-80.7885&quot;, &quot;No. of responses&quot;: &quot;1&quot;, &quot;Standard deviation&quot;: &quot;0.330&quot;, &quot;State&quot;: &quot;&quot;, &quot;Suspect?&quot;: &quot;0&quot;}, &quot;type&quot;: &quot;Feature&quot;}, {&quot;bbox&quot;: [-80.7559, 34.1472, -80.7559, 34.1472], &quot;geometry&quot;: {&quot;coordinates&quot;: [-80.7559, 34.1472], &quot;type&quot;: &quot;Point&quot;}, &quot;id&quot;: &quot;5&quot;, &quot;properties&quot;: {&quot;# Columns: Geocoded box&quot;: &quot;UTM:(17S 0522 3778 1000)&quot;, &quot;CDI&quot;: &quot;2.7&quot;, &quot;City&quot;: &quot;UTM:(17S 0522 3778 1000)&quot;, &quot;Hypocentral distance&quot;: &quot;7&quot;, &quot;Latitude&quot;: &quot;34.1472&quot;, &quot;Longitude&quot;: &quot;-80.7559&quot;, &quot;No. of responses&quot;: &quot;1&quot;, &quot;Standard deviation&quot;: &quot;0.330&quot;, &quot;State&quot;: &quot;&quot;, &quot;Suspect?&quot;: &quot;0&quot;}, &quot;type&quot;: &quot;Feature&quot;}, {&quot;bbox&quot;: [-80.7559, 34.15619999999999, -80.7559, 34.15619999999999], &quot;geometry&quot;: {&quot;coordinates&quot;: [-80.7559, 34.15619999999999], &quot;type&quot;: &quot;Point&quot;}, &quot;id&quot;: &quot;6&quot;, &quot;properties&quot;: {&quot;# Columns: Geocoded box&quot;: &quot;UTM:(17S 0522 3779 1000)&quot;, &quot;CDI&quot;: &quot;2.2&quot;, &quot;City&quot;: &quot;UTM:(17S 0522 3779 1000)&quot;, &quot;Hypocentral distance&quot;: &quot;7&quot;, &quot;Latitude&quot;: &quot;34.1562&quot;, &quot;Longitude&quot;: &quot;-80.7559&quot;, &quot;No. of responses&quot;: &quot;1&quot;, &quot;Standard deviation&quot;: &quot;0.330&quot;, &quot;State&quot;: &quot;&quot;, &quot;Suspect?&quot;: &quot;0&quot;}, &quot;type&quot;: &quot;Feature&quot;}, {&quot;bbox&quot;: [-80.745, 34.1471, -80.745, 34.1471], &quot;geometry&quot;: {&quot;coordinates&quot;: [-80.745, 34.1471], &quot;type&quot;: &quot;Point&quot;}, &quot;id&quot;: &quot;7&quot;, &quot;properties&quot;: {&quot;# Columns: Geocoded box&quot;: &quot;UTM:(17S 0523 3778 1000)&quot;, &quot;CDI&quot;: &quot;3.8&quot;, &quot;City&quot;: &quot;UTM:(17S 0523 3778 1000)&quot;, &quot;Hypocentral distance&quot;: &quot;6&quot;, &quot;Latitude&quot;: &quot;34.1471&quot;, &quot;Longitude&quot;: &quot;-80.7450&quot;, &quot;No. of responses&quot;: &quot;1&quot;, &quot;Standard deviation&quot;: &quot;0.330&quot;, &quot;State&quot;: &quot;&quot;, &quot;Suspect?&quot;: &quot;0&quot;}, &quot;type&quot;: &quot;Feature&quot;}, {&quot;bbox&quot;: [-80.745, 34.1562, -80.745, 34.1562], &quot;geometry&quot;: {&quot;coordinates&quot;: [-80.745, 34.1562], &quot;type&quot;: &quot;Point&quot;}, &quot;id&quot;: &quot;8&quot;, &quot;properties&quot;: {&quot;# Columns: Geocoded box&quot;: &quot;UTM:(17S 0523 3779 1000)&quot;, &quot;CDI&quot;: &quot;2.2&quot;, &quot;City&quot;: &quot;UTM:(17S 0523 3779 1000)&quot;, &quot;Hypocentral distance&quot;: &quot;6&quot;, &quot;Latitude&quot;: &quot;34.1562&quot;, &quot;Longitude&quot;: &quot;-80.7450&quot;, &quot;No. of responses&quot;: &quot;2&quot;, &quot;Standard deviation&quot;: &quot;0.320&quot;, &quot;State&quot;: &quot;&quot;, &quot;Suspect?&quot;: &quot;0&quot;}, &quot;type&quot;: &quot;Feature&quot;}, {&quot;bbox&quot;: [-80.745, 34.1652, -80.745, 34.1652], &quot;geometry&quot;: {&quot;coordinates&quot;: [-80.745, 34.1652], &quot;type&quot;: &quot;Point&quot;}, &quot;id&quot;: &quot;9&quot;, &quot;properties&quot;: {&quot;# Columns: Geocoded box&quot;: &quot;UTM:(17S 0523 3780 1000)&quot;, &quot;CDI&quot;: &quot;2.7&quot;, &quot;City&quot;: &quot;UTM:(17S 0523 3780 1000)&quot;, &quot;Hypocentral distance&quot;: &quot;7&quot;, &quot;Latitude&quot;: &quot;34.1652&quot;, &quot;Longitude&quot;: &quot;-80.7450&quot;, &quot;No. of responses&quot;: &quot;1&quot;, &quot;Standard deviation&quot;: &quot;0.330&quot;, &quot;State&quot;: &quot;&quot;, &quot;Suspect?&quot;: &quot;0&quot;}, &quot;type&quot;: &quot;Feature&quot;}, {&quot;bbox&quot;: [-80.7234, 34.129099999999994, -80.7234, 34.129099999999994], &quot;geometry&quot;: {&quot;coordinates&quot;: [-80.7234, 34.129099999999994], &quot;type&quot;: &quot;Point&quot;}, &quot;id&quot;: &quot;10&quot;, &quot;properties&quot;: {&quot;# Columns: Geocoded box&quot;: &quot;UTM:(17S 0525 3776 1000)&quot;, &quot;CDI&quot;: &quot;2.2&quot;, &quot;City&quot;: &quot;UTM:(17S 0525 3776 1000)&quot;, &quot;Hypocentral distance&quot;: &quot;7&quot;, &quot;Latitude&quot;: &quot;34.1291&quot;, &quot;Longitude&quot;: &quot;-80.7234&quot;, &quot;No. of responses&quot;: &quot;1&quot;, &quot;Standard deviation&quot;: &quot;0.330&quot;, &quot;State&quot;: &quot;&quot;, &quot;Suspect?&quot;: &quot;0&quot;}, &quot;type&quot;: &quot;Feature&quot;}, {&quot;bbox&quot;: [-80.7234, 34.165099999999995, -80.7234, 34.165099999999995], &quot;geometry&quot;: {&quot;coordinates&quot;: [-80.7234, 34.165099999999995], &quot;type&quot;: &quot;Point&quot;}, &quot;id&quot;: &quot;11&quot;, &quot;properties&quot;: {&quot;# Columns: Geocoded box&quot;: &quot;UTM:(17S 0525 3780 1000)&quot;, &quot;CDI&quot;: &quot;3.1&quot;, &quot;City&quot;: &quot;UTM:(17S 0525 3780 1000)&quot;, &quot;Hypocentral distance&quot;: &quot;7&quot;, &quot;Latitude&quot;: &quot;34.1651&quot;, &quot;Longitude&quot;: &quot;-80.7234&quot;, &quot;No. of responses&quot;: &quot;1&quot;, &quot;Standard deviation&quot;: &quot;0.330&quot;, &quot;State&quot;: &quot;&quot;, &quot;Suspect?&quot;: &quot;0&quot;}, &quot;type&quot;: &quot;Feature&quot;}, {&quot;bbox&quot;: [-80.7126, 34.111, -80.7126, 34.111], &quot;geometry&quot;: {&quot;coordinates&quot;: [-80.7126, 34.111], &quot;type&quot;: &quot;Point&quot;}, &quot;id&quot;: &quot;12&quot;, &quot;properties&quot;: {&quot;# Columns: Geocoded box&quot;: &quot;UTM:(17S 0526 3774 1000)&quot;, &quot;CDI&quot;: &quot;2.2&quot;, &quot;City&quot;: &quot;UTM:(17S 0526 3774 1000)&quot;, &quot;Hypocentral distance&quot;: &quot;8&quot;, &quot;Latitude&quot;: &quot;34.1110&quot;, &quot;Longitude&quot;: &quot;-80.7126&quot;, &quot;No. of responses&quot;: &quot;1&quot;, &quot;Standard deviation&quot;: &quot;0.330&quot;, &quot;State&quot;: &quot;&quot;, &quot;Suspect?&quot;: &quot;0&quot;}, &quot;type&quot;: &quot;Feature&quot;}], &quot;type&quot;: &quot;FeatureCollection&quot;});\n\n        \n    \n    geo_json_93a9586fb88a911aa638d290afc6bff8.bindTooltip(\n    function(layer){\n    let div = L.DomUtil.create(&#x27;div&#x27;);\n    \n    let handleObject = feature=&gt;typeof(feature)==&#x27;object&#x27; ? JSON.stringify(feature) : feature;\n    let fields = [&quot;# Columns: Geocoded box&quot;, &quot;CDI&quot;, &quot;No. of responses&quot;, &quot;Hypocentral distance&quot;, &quot;Latitude&quot;, &quot;Longitude&quot;, &quot;Suspect?&quot;, &quot;Standard deviation&quot;, &quot;City&quot;, &quot;State&quot;];\n    let aliases = [&quot;# Columns: Geocoded box&quot;, &quot;CDI&quot;, &quot;No. of responses&quot;, &quot;Hypocentral distance&quot;, &quot;Latitude&quot;, &quot;Longitude&quot;, &quot;Suspect?&quot;, &quot;Standard deviation&quot;, &quot;City&quot;, &quot;State&quot;];\n    let table = &#x27;&lt;table&gt;&#x27; +\n        String(\n        fields.map(\n        (v,i)=&gt;\n        `&lt;tr&gt;\n            &lt;th&gt;${aliases[i]}&lt;/th&gt;\n            \n            &lt;td&gt;${handleObject(layer.feature.properties[v])}&lt;/td&gt;\n        &lt;/tr&gt;`).join(&#x27;&#x27;))\n    +&#x27;&lt;/table&gt;&#x27;;\n    div.innerHTML=table;\n    \n    return div\n    }\n    ,{&quot;className&quot;: &quot;foliumtooltip&quot;, &quot;sticky&quot;: true});\n                     \n&lt;/script&gt;\n&lt;/html&gt;\" style=\"position:absolute;width:100%;height:100%;left:0;top:0;border:none !important;\" allowfullscreen webkitallowfullscreen mozallowfullscreen></iframe></div></div>"
     },
     "execution_count": 54,
     "metadata": {},
     "output_type": "execute_result"
    }
   ],
   "source": [
    "sc_shp_gdf_project.explore()"
   ],
   "metadata": {
    "collapsed": false
   }
  },
  {
   "cell_type": "code",
   "execution_count": 55,
   "outputs": [
    {
     "data": {
      "application/vnd.plotly.v1+json": {
       "data": [
        {
         "hovertemplate": "CDI=2.7<br>Latitude=%{lat}<br>Longitude=%{lon}<extra></extra>",
         "lat": [
          "33.9759",
          "34.1472",
          "34.1652"
         ],
         "legendgroup": "2.7",
         "lon": [
          "-81.1570",
          "-80.7559",
          "-80.7450"
         ],
         "marker": {
          "color": "#636efa",
          "size": 10
         },
         "mode": "markers",
         "name": "2.7",
         "showlegend": true,
         "subplot": "mapbox",
         "type": "scattermapbox"
        },
        {
         "hovertemplate": "CDI=2.0<br>Latitude=%{lat}<br>Longitude=%{lon}<extra></extra>",
         "lat": [
          "34.1564",
          "33.9669"
         ],
         "legendgroup": "2.0",
         "lon": [
          "-80.8644",
          "-80.8431"
         ],
         "marker": {
          "color": "#EF553B",
          "size": 10
         },
         "mode": "markers",
         "name": "2.0",
         "showlegend": true,
         "subplot": "mapbox",
         "type": "scattermapbox"
        },
        {
         "hovertemplate": "CDI=2.2<br>Latitude=%{lat}<br>Longitude=%{lon}<extra></extra>",
         "lat": [
          "34.1563",
          "34.1382",
          "34.1562",
          "34.1562",
          "34.1291",
          "34.1110"
         ],
         "legendgroup": "2.2",
         "lon": [
          "-80.8210",
          "-80.7885",
          "-80.7559",
          "-80.7450",
          "-80.7234",
          "-80.7126"
         ],
         "marker": {
          "color": "#00cc96",
          "size": 10
         },
         "mode": "markers",
         "name": "2.2",
         "showlegend": true,
         "subplot": "mapbox",
         "type": "scattermapbox"
        },
        {
         "hovertemplate": "CDI=3.8<br>Latitude=%{lat}<br>Longitude=%{lon}<extra></extra>",
         "lat": [
          "34.1471"
         ],
         "legendgroup": "3.8",
         "lon": [
          "-80.7450"
         ],
         "marker": {
          "color": "#ab63fa",
          "size": 10
         },
         "mode": "markers",
         "name": "3.8",
         "showlegend": true,
         "subplot": "mapbox",
         "type": "scattermapbox"
        },
        {
         "hovertemplate": "CDI=3.1<br>Latitude=%{lat}<br>Longitude=%{lon}<extra></extra>",
         "lat": [
          "34.1651"
         ],
         "legendgroup": "3.1",
         "lon": [
          "-80.7234"
         ],
         "marker": {
          "color": "#FFA15A",
          "size": 10
         },
         "mode": "markers",
         "name": "3.1",
         "showlegend": true,
         "subplot": "mapbox",
         "type": "scattermapbox"
        }
       ],
       "layout": {
        "template": {
         "data": {
          "histogram2dcontour": [
           {
            "type": "histogram2dcontour",
            "colorbar": {
             "outlinewidth": 0,
             "ticks": ""
            },
            "colorscale": [
             [
              0.0,
              "#0d0887"
             ],
             [
              0.1111111111111111,
              "#46039f"
             ],
             [
              0.2222222222222222,
              "#7201a8"
             ],
             [
              0.3333333333333333,
              "#9c179e"
             ],
             [
              0.4444444444444444,
              "#bd3786"
             ],
             [
              0.5555555555555556,
              "#d8576b"
             ],
             [
              0.6666666666666666,
              "#ed7953"
             ],
             [
              0.7777777777777778,
              "#fb9f3a"
             ],
             [
              0.8888888888888888,
              "#fdca26"
             ],
             [
              1.0,
              "#f0f921"
             ]
            ]
           }
          ],
          "choropleth": [
           {
            "type": "choropleth",
            "colorbar": {
             "outlinewidth": 0,
             "ticks": ""
            }
           }
          ],
          "histogram2d": [
           {
            "type": "histogram2d",
            "colorbar": {
             "outlinewidth": 0,
             "ticks": ""
            },
            "colorscale": [
             [
              0.0,
              "#0d0887"
             ],
             [
              0.1111111111111111,
              "#46039f"
             ],
             [
              0.2222222222222222,
              "#7201a8"
             ],
             [
              0.3333333333333333,
              "#9c179e"
             ],
             [
              0.4444444444444444,
              "#bd3786"
             ],
             [
              0.5555555555555556,
              "#d8576b"
             ],
             [
              0.6666666666666666,
              "#ed7953"
             ],
             [
              0.7777777777777778,
              "#fb9f3a"
             ],
             [
              0.8888888888888888,
              "#fdca26"
             ],
             [
              1.0,
              "#f0f921"
             ]
            ]
           }
          ],
          "heatmap": [
           {
            "type": "heatmap",
            "colorbar": {
             "outlinewidth": 0,
             "ticks": ""
            },
            "colorscale": [
             [
              0.0,
              "#0d0887"
             ],
             [
              0.1111111111111111,
              "#46039f"
             ],
             [
              0.2222222222222222,
              "#7201a8"
             ],
             [
              0.3333333333333333,
              "#9c179e"
             ],
             [
              0.4444444444444444,
              "#bd3786"
             ],
             [
              0.5555555555555556,
              "#d8576b"
             ],
             [
              0.6666666666666666,
              "#ed7953"
             ],
             [
              0.7777777777777778,
              "#fb9f3a"
             ],
             [
              0.8888888888888888,
              "#fdca26"
             ],
             [
              1.0,
              "#f0f921"
             ]
            ]
           }
          ],
          "heatmapgl": [
           {
            "type": "heatmapgl",
            "colorbar": {
             "outlinewidth": 0,
             "ticks": ""
            },
            "colorscale": [
             [
              0.0,
              "#0d0887"
             ],
             [
              0.1111111111111111,
              "#46039f"
             ],
             [
              0.2222222222222222,
              "#7201a8"
             ],
             [
              0.3333333333333333,
              "#9c179e"
             ],
             [
              0.4444444444444444,
              "#bd3786"
             ],
             [
              0.5555555555555556,
              "#d8576b"
             ],
             [
              0.6666666666666666,
              "#ed7953"
             ],
             [
              0.7777777777777778,
              "#fb9f3a"
             ],
             [
              0.8888888888888888,
              "#fdca26"
             ],
             [
              1.0,
              "#f0f921"
             ]
            ]
           }
          ],
          "contourcarpet": [
           {
            "type": "contourcarpet",
            "colorbar": {
             "outlinewidth": 0,
             "ticks": ""
            }
           }
          ],
          "contour": [
           {
            "type": "contour",
            "colorbar": {
             "outlinewidth": 0,
             "ticks": ""
            },
            "colorscale": [
             [
              0.0,
              "#0d0887"
             ],
             [
              0.1111111111111111,
              "#46039f"
             ],
             [
              0.2222222222222222,
              "#7201a8"
             ],
             [
              0.3333333333333333,
              "#9c179e"
             ],
             [
              0.4444444444444444,
              "#bd3786"
             ],
             [
              0.5555555555555556,
              "#d8576b"
             ],
             [
              0.6666666666666666,
              "#ed7953"
             ],
             [
              0.7777777777777778,
              "#fb9f3a"
             ],
             [
              0.8888888888888888,
              "#fdca26"
             ],
             [
              1.0,
              "#f0f921"
             ]
            ]
           }
          ],
          "surface": [
           {
            "type": "surface",
            "colorbar": {
             "outlinewidth": 0,
             "ticks": ""
            },
            "colorscale": [
             [
              0.0,
              "#0d0887"
             ],
             [
              0.1111111111111111,
              "#46039f"
             ],
             [
              0.2222222222222222,
              "#7201a8"
             ],
             [
              0.3333333333333333,
              "#9c179e"
             ],
             [
              0.4444444444444444,
              "#bd3786"
             ],
             [
              0.5555555555555556,
              "#d8576b"
             ],
             [
              0.6666666666666666,
              "#ed7953"
             ],
             [
              0.7777777777777778,
              "#fb9f3a"
             ],
             [
              0.8888888888888888,
              "#fdca26"
             ],
             [
              1.0,
              "#f0f921"
             ]
            ]
           }
          ],
          "mesh3d": [
           {
            "type": "mesh3d",
            "colorbar": {
             "outlinewidth": 0,
             "ticks": ""
            }
           }
          ],
          "scatter": [
           {
            "marker": {
             "line": {
              "color": "#283442"
             }
            },
            "type": "scatter"
           }
          ],
          "parcoords": [
           {
            "type": "parcoords",
            "line": {
             "colorbar": {
              "outlinewidth": 0,
              "ticks": ""
             }
            }
           }
          ],
          "scatterpolargl": [
           {
            "type": "scatterpolargl",
            "marker": {
             "colorbar": {
              "outlinewidth": 0,
              "ticks": ""
             }
            }
           }
          ],
          "bar": [
           {
            "error_x": {
             "color": "#f2f5fa"
            },
            "error_y": {
             "color": "#f2f5fa"
            },
            "marker": {
             "line": {
              "color": "rgb(17,17,17)",
              "width": 0.5
             },
             "pattern": {
              "fillmode": "overlay",
              "size": 10,
              "solidity": 0.2
             }
            },
            "type": "bar"
           }
          ],
          "scattergeo": [
           {
            "type": "scattergeo",
            "marker": {
             "colorbar": {
              "outlinewidth": 0,
              "ticks": ""
             }
            }
           }
          ],
          "scatterpolar": [
           {
            "type": "scatterpolar",
            "marker": {
             "colorbar": {
              "outlinewidth": 0,
              "ticks": ""
             }
            }
           }
          ],
          "histogram": [
           {
            "marker": {
             "pattern": {
              "fillmode": "overlay",
              "size": 10,
              "solidity": 0.2
             }
            },
            "type": "histogram"
           }
          ],
          "scattergl": [
           {
            "marker": {
             "line": {
              "color": "#283442"
             }
            },
            "type": "scattergl"
           }
          ],
          "scatter3d": [
           {
            "type": "scatter3d",
            "line": {
             "colorbar": {
              "outlinewidth": 0,
              "ticks": ""
             }
            },
            "marker": {
             "colorbar": {
              "outlinewidth": 0,
              "ticks": ""
             }
            }
           }
          ],
          "scattermapbox": [
           {
            "type": "scattermapbox",
            "marker": {
             "colorbar": {
              "outlinewidth": 0,
              "ticks": ""
             }
            }
           }
          ],
          "scatterternary": [
           {
            "type": "scatterternary",
            "marker": {
             "colorbar": {
              "outlinewidth": 0,
              "ticks": ""
             }
            }
           }
          ],
          "scattercarpet": [
           {
            "type": "scattercarpet",
            "marker": {
             "colorbar": {
              "outlinewidth": 0,
              "ticks": ""
             }
            }
           }
          ],
          "carpet": [
           {
            "aaxis": {
             "endlinecolor": "#A2B1C6",
             "gridcolor": "#506784",
             "linecolor": "#506784",
             "minorgridcolor": "#506784",
             "startlinecolor": "#A2B1C6"
            },
            "baxis": {
             "endlinecolor": "#A2B1C6",
             "gridcolor": "#506784",
             "linecolor": "#506784",
             "minorgridcolor": "#506784",
             "startlinecolor": "#A2B1C6"
            },
            "type": "carpet"
           }
          ],
          "table": [
           {
            "cells": {
             "fill": {
              "color": "#506784"
             },
             "line": {
              "color": "rgb(17,17,17)"
             }
            },
            "header": {
             "fill": {
              "color": "#2a3f5f"
             },
             "line": {
              "color": "rgb(17,17,17)"
             }
            },
            "type": "table"
           }
          ],
          "barpolar": [
           {
            "marker": {
             "line": {
              "color": "rgb(17,17,17)",
              "width": 0.5
             },
             "pattern": {
              "fillmode": "overlay",
              "size": 10,
              "solidity": 0.2
             }
            },
            "type": "barpolar"
           }
          ],
          "pie": [
           {
            "automargin": true,
            "type": "pie"
           }
          ]
         },
         "layout": {
          "autotypenumbers": "strict",
          "colorway": [
           "#636efa",
           "#EF553B",
           "#00cc96",
           "#ab63fa",
           "#FFA15A",
           "#19d3f3",
           "#FF6692",
           "#B6E880",
           "#FF97FF",
           "#FECB52"
          ],
          "font": {
           "color": "#f2f5fa"
          },
          "hovermode": "closest",
          "hoverlabel": {
           "align": "left"
          },
          "paper_bgcolor": "rgb(17,17,17)",
          "plot_bgcolor": "rgb(17,17,17)",
          "polar": {
           "bgcolor": "rgb(17,17,17)",
           "angularaxis": {
            "gridcolor": "#506784",
            "linecolor": "#506784",
            "ticks": ""
           },
           "radialaxis": {
            "gridcolor": "#506784",
            "linecolor": "#506784",
            "ticks": ""
           }
          },
          "ternary": {
           "bgcolor": "rgb(17,17,17)",
           "aaxis": {
            "gridcolor": "#506784",
            "linecolor": "#506784",
            "ticks": ""
           },
           "baxis": {
            "gridcolor": "#506784",
            "linecolor": "#506784",
            "ticks": ""
           },
           "caxis": {
            "gridcolor": "#506784",
            "linecolor": "#506784",
            "ticks": ""
           }
          },
          "coloraxis": {
           "colorbar": {
            "outlinewidth": 0,
            "ticks": ""
           }
          },
          "colorscale": {
           "sequential": [
            [
             0.0,
             "#0d0887"
            ],
            [
             0.1111111111111111,
             "#46039f"
            ],
            [
             0.2222222222222222,
             "#7201a8"
            ],
            [
             0.3333333333333333,
             "#9c179e"
            ],
            [
             0.4444444444444444,
             "#bd3786"
            ],
            [
             0.5555555555555556,
             "#d8576b"
            ],
            [
             0.6666666666666666,
             "#ed7953"
            ],
            [
             0.7777777777777778,
             "#fb9f3a"
            ],
            [
             0.8888888888888888,
             "#fdca26"
            ],
            [
             1.0,
             "#f0f921"
            ]
           ],
           "sequentialminus": [
            [
             0.0,
             "#0d0887"
            ],
            [
             0.1111111111111111,
             "#46039f"
            ],
            [
             0.2222222222222222,
             "#7201a8"
            ],
            [
             0.3333333333333333,
             "#9c179e"
            ],
            [
             0.4444444444444444,
             "#bd3786"
            ],
            [
             0.5555555555555556,
             "#d8576b"
            ],
            [
             0.6666666666666666,
             "#ed7953"
            ],
            [
             0.7777777777777778,
             "#fb9f3a"
            ],
            [
             0.8888888888888888,
             "#fdca26"
            ],
            [
             1.0,
             "#f0f921"
            ]
           ],
           "diverging": [
            [
             0,
             "#8e0152"
            ],
            [
             0.1,
             "#c51b7d"
            ],
            [
             0.2,
             "#de77ae"
            ],
            [
             0.3,
             "#f1b6da"
            ],
            [
             0.4,
             "#fde0ef"
            ],
            [
             0.5,
             "#f7f7f7"
            ],
            [
             0.6,
             "#e6f5d0"
            ],
            [
             0.7,
             "#b8e186"
            ],
            [
             0.8,
             "#7fbc41"
            ],
            [
             0.9,
             "#4d9221"
            ],
            [
             1,
             "#276419"
            ]
           ]
          },
          "xaxis": {
           "gridcolor": "#283442",
           "linecolor": "#506784",
           "ticks": "",
           "title": {
            "standoff": 15
           },
           "zerolinecolor": "#283442",
           "automargin": true,
           "zerolinewidth": 2
          },
          "yaxis": {
           "gridcolor": "#283442",
           "linecolor": "#506784",
           "ticks": "",
           "title": {
            "standoff": 15
           },
           "zerolinecolor": "#283442",
           "automargin": true,
           "zerolinewidth": 2
          },
          "scene": {
           "xaxis": {
            "backgroundcolor": "rgb(17,17,17)",
            "gridcolor": "#506784",
            "linecolor": "#506784",
            "showbackground": true,
            "ticks": "",
            "zerolinecolor": "#C8D4E3",
            "gridwidth": 2
           },
           "yaxis": {
            "backgroundcolor": "rgb(17,17,17)",
            "gridcolor": "#506784",
            "linecolor": "#506784",
            "showbackground": true,
            "ticks": "",
            "zerolinecolor": "#C8D4E3",
            "gridwidth": 2
           },
           "zaxis": {
            "backgroundcolor": "rgb(17,17,17)",
            "gridcolor": "#506784",
            "linecolor": "#506784",
            "showbackground": true,
            "ticks": "",
            "zerolinecolor": "#C8D4E3",
            "gridwidth": 2
           }
          },
          "shapedefaults": {
           "line": {
            "color": "#f2f5fa"
           }
          },
          "annotationdefaults": {
           "arrowcolor": "#f2f5fa",
           "arrowhead": 0,
           "arrowwidth": 1
          },
          "geo": {
           "bgcolor": "rgb(17,17,17)",
           "landcolor": "rgb(17,17,17)",
           "subunitcolor": "#506784",
           "showland": true,
           "showlakes": true,
           "lakecolor": "rgb(17,17,17)"
          },
          "title": {
           "x": 0.05
          },
          "updatemenudefaults": {
           "bgcolor": "#506784",
           "borderwidth": 0
          },
          "sliderdefaults": {
           "bgcolor": "#C8D4E3",
           "borderwidth": 1,
           "bordercolor": "rgb(17,17,17)",
           "tickwidth": 0
          },
          "mapbox": {
           "style": "dark"
          }
         }
        },
        "mapbox": {
         "domain": {
          "x": [
           0.0,
           1.0
          ],
          "y": [
           0.0,
           1.0
          ]
         },
         "center": {
          "lat": 34.0007,
          "lon": -81.0348
         },
         "accesstoken": "pk.eyJ1IjoibWlja3RoZWxpbnV4Z2VlayIsImEiOiJjbDQzN3U0YTUwODk5M3BxbnJtZjVweDJ1In0.jyMNmtV_85OzRrfmDsQXrg\n",
         "zoom": 7.5,
         "style": "streets"
        },
        "legend": {
         "title": {
          "text": "CDI"
         },
         "tracegroupgap": 0
        },
        "margin": {
         "t": 60
        }
       },
       "config": {
        "plotlyServerURL": "https://plot.ly"
       }
      },
      "text/html": "<div>                            <div id=\"2db7743f-ad4b-48cc-95f5-95a08db3b945\" class=\"plotly-graph-div\" style=\"height:525px; width:100%;\"></div>            <script type=\"text/javascript\">                require([\"plotly\"], function(Plotly) {                    window.PLOTLYENV=window.PLOTLYENV || {};                                    if (document.getElementById(\"2db7743f-ad4b-48cc-95f5-95a08db3b945\")) {                    Plotly.newPlot(                        \"2db7743f-ad4b-48cc-95f5-95a08db3b945\",                        [{\"hovertemplate\":\"CDI=2.7<br>Latitude=%{lat}<br>Longitude=%{lon}<extra></extra>\",\"lat\":[\"33.9759\",\"34.1472\",\"34.1652\"],\"legendgroup\":\"2.7\",\"lon\":[\"-81.1570\",\"-80.7559\",\"-80.7450\"],\"marker\":{\"color\":\"#636efa\",\"size\":10},\"mode\":\"markers\",\"name\":\"2.7\",\"showlegend\":true,\"subplot\":\"mapbox\",\"type\":\"scattermapbox\"},{\"hovertemplate\":\"CDI=2.0<br>Latitude=%{lat}<br>Longitude=%{lon}<extra></extra>\",\"lat\":[\"34.1564\",\"33.9669\"],\"legendgroup\":\"2.0\",\"lon\":[\"-80.8644\",\"-80.8431\"],\"marker\":{\"color\":\"#EF553B\",\"size\":10},\"mode\":\"markers\",\"name\":\"2.0\",\"showlegend\":true,\"subplot\":\"mapbox\",\"type\":\"scattermapbox\"},{\"hovertemplate\":\"CDI=2.2<br>Latitude=%{lat}<br>Longitude=%{lon}<extra></extra>\",\"lat\":[\"34.1563\",\"34.1382\",\"34.1562\",\"34.1562\",\"34.1291\",\"34.1110\"],\"legendgroup\":\"2.2\",\"lon\":[\"-80.8210\",\"-80.7885\",\"-80.7559\",\"-80.7450\",\"-80.7234\",\"-80.7126\"],\"marker\":{\"color\":\"#00cc96\",\"size\":10},\"mode\":\"markers\",\"name\":\"2.2\",\"showlegend\":true,\"subplot\":\"mapbox\",\"type\":\"scattermapbox\"},{\"hovertemplate\":\"CDI=3.8<br>Latitude=%{lat}<br>Longitude=%{lon}<extra></extra>\",\"lat\":[\"34.1471\"],\"legendgroup\":\"3.8\",\"lon\":[\"-80.7450\"],\"marker\":{\"color\":\"#ab63fa\",\"size\":10},\"mode\":\"markers\",\"name\":\"3.8\",\"showlegend\":true,\"subplot\":\"mapbox\",\"type\":\"scattermapbox\"},{\"hovertemplate\":\"CDI=3.1<br>Latitude=%{lat}<br>Longitude=%{lon}<extra></extra>\",\"lat\":[\"34.1651\"],\"legendgroup\":\"3.1\",\"lon\":[\"-80.7234\"],\"marker\":{\"color\":\"#FFA15A\",\"size\":10},\"mode\":\"markers\",\"name\":\"3.1\",\"showlegend\":true,\"subplot\":\"mapbox\",\"type\":\"scattermapbox\"}],                        {\"template\":{\"data\":{\"histogram2dcontour\":[{\"type\":\"histogram2dcontour\",\"colorbar\":{\"outlinewidth\":0,\"ticks\":\"\"},\"colorscale\":[[0.0,\"#0d0887\"],[0.1111111111111111,\"#46039f\"],[0.2222222222222222,\"#7201a8\"],[0.3333333333333333,\"#9c179e\"],[0.4444444444444444,\"#bd3786\"],[0.5555555555555556,\"#d8576b\"],[0.6666666666666666,\"#ed7953\"],[0.7777777777777778,\"#fb9f3a\"],[0.8888888888888888,\"#fdca26\"],[1.0,\"#f0f921\"]]}],\"choropleth\":[{\"type\":\"choropleth\",\"colorbar\":{\"outlinewidth\":0,\"ticks\":\"\"}}],\"histogram2d\":[{\"type\":\"histogram2d\",\"colorbar\":{\"outlinewidth\":0,\"ticks\":\"\"},\"colorscale\":[[0.0,\"#0d0887\"],[0.1111111111111111,\"#46039f\"],[0.2222222222222222,\"#7201a8\"],[0.3333333333333333,\"#9c179e\"],[0.4444444444444444,\"#bd3786\"],[0.5555555555555556,\"#d8576b\"],[0.6666666666666666,\"#ed7953\"],[0.7777777777777778,\"#fb9f3a\"],[0.8888888888888888,\"#fdca26\"],[1.0,\"#f0f921\"]]}],\"heatmap\":[{\"type\":\"heatmap\",\"colorbar\":{\"outlinewidth\":0,\"ticks\":\"\"},\"colorscale\":[[0.0,\"#0d0887\"],[0.1111111111111111,\"#46039f\"],[0.2222222222222222,\"#7201a8\"],[0.3333333333333333,\"#9c179e\"],[0.4444444444444444,\"#bd3786\"],[0.5555555555555556,\"#d8576b\"],[0.6666666666666666,\"#ed7953\"],[0.7777777777777778,\"#fb9f3a\"],[0.8888888888888888,\"#fdca26\"],[1.0,\"#f0f921\"]]}],\"heatmapgl\":[{\"type\":\"heatmapgl\",\"colorbar\":{\"outlinewidth\":0,\"ticks\":\"\"},\"colorscale\":[[0.0,\"#0d0887\"],[0.1111111111111111,\"#46039f\"],[0.2222222222222222,\"#7201a8\"],[0.3333333333333333,\"#9c179e\"],[0.4444444444444444,\"#bd3786\"],[0.5555555555555556,\"#d8576b\"],[0.6666666666666666,\"#ed7953\"],[0.7777777777777778,\"#fb9f3a\"],[0.8888888888888888,\"#fdca26\"],[1.0,\"#f0f921\"]]}],\"contourcarpet\":[{\"type\":\"contourcarpet\",\"colorbar\":{\"outlinewidth\":0,\"ticks\":\"\"}}],\"contour\":[{\"type\":\"contour\",\"colorbar\":{\"outlinewidth\":0,\"ticks\":\"\"},\"colorscale\":[[0.0,\"#0d0887\"],[0.1111111111111111,\"#46039f\"],[0.2222222222222222,\"#7201a8\"],[0.3333333333333333,\"#9c179e\"],[0.4444444444444444,\"#bd3786\"],[0.5555555555555556,\"#d8576b\"],[0.6666666666666666,\"#ed7953\"],[0.7777777777777778,\"#fb9f3a\"],[0.8888888888888888,\"#fdca26\"],[1.0,\"#f0f921\"]]}],\"surface\":[{\"type\":\"surface\",\"colorbar\":{\"outlinewidth\":0,\"ticks\":\"\"},\"colorscale\":[[0.0,\"#0d0887\"],[0.1111111111111111,\"#46039f\"],[0.2222222222222222,\"#7201a8\"],[0.3333333333333333,\"#9c179e\"],[0.4444444444444444,\"#bd3786\"],[0.5555555555555556,\"#d8576b\"],[0.6666666666666666,\"#ed7953\"],[0.7777777777777778,\"#fb9f3a\"],[0.8888888888888888,\"#fdca26\"],[1.0,\"#f0f921\"]]}],\"mesh3d\":[{\"type\":\"mesh3d\",\"colorbar\":{\"outlinewidth\":0,\"ticks\":\"\"}}],\"scatter\":[{\"marker\":{\"line\":{\"color\":\"#283442\"}},\"type\":\"scatter\"}],\"parcoords\":[{\"type\":\"parcoords\",\"line\":{\"colorbar\":{\"outlinewidth\":0,\"ticks\":\"\"}}}],\"scatterpolargl\":[{\"type\":\"scatterpolargl\",\"marker\":{\"colorbar\":{\"outlinewidth\":0,\"ticks\":\"\"}}}],\"bar\":[{\"error_x\":{\"color\":\"#f2f5fa\"},\"error_y\":{\"color\":\"#f2f5fa\"},\"marker\":{\"line\":{\"color\":\"rgb(17,17,17)\",\"width\":0.5},\"pattern\":{\"fillmode\":\"overlay\",\"size\":10,\"solidity\":0.2}},\"type\":\"bar\"}],\"scattergeo\":[{\"type\":\"scattergeo\",\"marker\":{\"colorbar\":{\"outlinewidth\":0,\"ticks\":\"\"}}}],\"scatterpolar\":[{\"type\":\"scatterpolar\",\"marker\":{\"colorbar\":{\"outlinewidth\":0,\"ticks\":\"\"}}}],\"histogram\":[{\"marker\":{\"pattern\":{\"fillmode\":\"overlay\",\"size\":10,\"solidity\":0.2}},\"type\":\"histogram\"}],\"scattergl\":[{\"marker\":{\"line\":{\"color\":\"#283442\"}},\"type\":\"scattergl\"}],\"scatter3d\":[{\"type\":\"scatter3d\",\"line\":{\"colorbar\":{\"outlinewidth\":0,\"ticks\":\"\"}},\"marker\":{\"colorbar\":{\"outlinewidth\":0,\"ticks\":\"\"}}}],\"scattermapbox\":[{\"type\":\"scattermapbox\",\"marker\":{\"colorbar\":{\"outlinewidth\":0,\"ticks\":\"\"}}}],\"scatterternary\":[{\"type\":\"scatterternary\",\"marker\":{\"colorbar\":{\"outlinewidth\":0,\"ticks\":\"\"}}}],\"scattercarpet\":[{\"type\":\"scattercarpet\",\"marker\":{\"colorbar\":{\"outlinewidth\":0,\"ticks\":\"\"}}}],\"carpet\":[{\"aaxis\":{\"endlinecolor\":\"#A2B1C6\",\"gridcolor\":\"#506784\",\"linecolor\":\"#506784\",\"minorgridcolor\":\"#506784\",\"startlinecolor\":\"#A2B1C6\"},\"baxis\":{\"endlinecolor\":\"#A2B1C6\",\"gridcolor\":\"#506784\",\"linecolor\":\"#506784\",\"minorgridcolor\":\"#506784\",\"startlinecolor\":\"#A2B1C6\"},\"type\":\"carpet\"}],\"table\":[{\"cells\":{\"fill\":{\"color\":\"#506784\"},\"line\":{\"color\":\"rgb(17,17,17)\"}},\"header\":{\"fill\":{\"color\":\"#2a3f5f\"},\"line\":{\"color\":\"rgb(17,17,17)\"}},\"type\":\"table\"}],\"barpolar\":[{\"marker\":{\"line\":{\"color\":\"rgb(17,17,17)\",\"width\":0.5},\"pattern\":{\"fillmode\":\"overlay\",\"size\":10,\"solidity\":0.2}},\"type\":\"barpolar\"}],\"pie\":[{\"automargin\":true,\"type\":\"pie\"}]},\"layout\":{\"autotypenumbers\":\"strict\",\"colorway\":[\"#636efa\",\"#EF553B\",\"#00cc96\",\"#ab63fa\",\"#FFA15A\",\"#19d3f3\",\"#FF6692\",\"#B6E880\",\"#FF97FF\",\"#FECB52\"],\"font\":{\"color\":\"#f2f5fa\"},\"hovermode\":\"closest\",\"hoverlabel\":{\"align\":\"left\"},\"paper_bgcolor\":\"rgb(17,17,17)\",\"plot_bgcolor\":\"rgb(17,17,17)\",\"polar\":{\"bgcolor\":\"rgb(17,17,17)\",\"angularaxis\":{\"gridcolor\":\"#506784\",\"linecolor\":\"#506784\",\"ticks\":\"\"},\"radialaxis\":{\"gridcolor\":\"#506784\",\"linecolor\":\"#506784\",\"ticks\":\"\"}},\"ternary\":{\"bgcolor\":\"rgb(17,17,17)\",\"aaxis\":{\"gridcolor\":\"#506784\",\"linecolor\":\"#506784\",\"ticks\":\"\"},\"baxis\":{\"gridcolor\":\"#506784\",\"linecolor\":\"#506784\",\"ticks\":\"\"},\"caxis\":{\"gridcolor\":\"#506784\",\"linecolor\":\"#506784\",\"ticks\":\"\"}},\"coloraxis\":{\"colorbar\":{\"outlinewidth\":0,\"ticks\":\"\"}},\"colorscale\":{\"sequential\":[[0.0,\"#0d0887\"],[0.1111111111111111,\"#46039f\"],[0.2222222222222222,\"#7201a8\"],[0.3333333333333333,\"#9c179e\"],[0.4444444444444444,\"#bd3786\"],[0.5555555555555556,\"#d8576b\"],[0.6666666666666666,\"#ed7953\"],[0.7777777777777778,\"#fb9f3a\"],[0.8888888888888888,\"#fdca26\"],[1.0,\"#f0f921\"]],\"sequentialminus\":[[0.0,\"#0d0887\"],[0.1111111111111111,\"#46039f\"],[0.2222222222222222,\"#7201a8\"],[0.3333333333333333,\"#9c179e\"],[0.4444444444444444,\"#bd3786\"],[0.5555555555555556,\"#d8576b\"],[0.6666666666666666,\"#ed7953\"],[0.7777777777777778,\"#fb9f3a\"],[0.8888888888888888,\"#fdca26\"],[1.0,\"#f0f921\"]],\"diverging\":[[0,\"#8e0152\"],[0.1,\"#c51b7d\"],[0.2,\"#de77ae\"],[0.3,\"#f1b6da\"],[0.4,\"#fde0ef\"],[0.5,\"#f7f7f7\"],[0.6,\"#e6f5d0\"],[0.7,\"#b8e186\"],[0.8,\"#7fbc41\"],[0.9,\"#4d9221\"],[1,\"#276419\"]]},\"xaxis\":{\"gridcolor\":\"#283442\",\"linecolor\":\"#506784\",\"ticks\":\"\",\"title\":{\"standoff\":15},\"zerolinecolor\":\"#283442\",\"automargin\":true,\"zerolinewidth\":2},\"yaxis\":{\"gridcolor\":\"#283442\",\"linecolor\":\"#506784\",\"ticks\":\"\",\"title\":{\"standoff\":15},\"zerolinecolor\":\"#283442\",\"automargin\":true,\"zerolinewidth\":2},\"scene\":{\"xaxis\":{\"backgroundcolor\":\"rgb(17,17,17)\",\"gridcolor\":\"#506784\",\"linecolor\":\"#506784\",\"showbackground\":true,\"ticks\":\"\",\"zerolinecolor\":\"#C8D4E3\",\"gridwidth\":2},\"yaxis\":{\"backgroundcolor\":\"rgb(17,17,17)\",\"gridcolor\":\"#506784\",\"linecolor\":\"#506784\",\"showbackground\":true,\"ticks\":\"\",\"zerolinecolor\":\"#C8D4E3\",\"gridwidth\":2},\"zaxis\":{\"backgroundcolor\":\"rgb(17,17,17)\",\"gridcolor\":\"#506784\",\"linecolor\":\"#506784\",\"showbackground\":true,\"ticks\":\"\",\"zerolinecolor\":\"#C8D4E3\",\"gridwidth\":2}},\"shapedefaults\":{\"line\":{\"color\":\"#f2f5fa\"}},\"annotationdefaults\":{\"arrowcolor\":\"#f2f5fa\",\"arrowhead\":0,\"arrowwidth\":1},\"geo\":{\"bgcolor\":\"rgb(17,17,17)\",\"landcolor\":\"rgb(17,17,17)\",\"subunitcolor\":\"#506784\",\"showland\":true,\"showlakes\":true,\"lakecolor\":\"rgb(17,17,17)\"},\"title\":{\"x\":0.05},\"updatemenudefaults\":{\"bgcolor\":\"#506784\",\"borderwidth\":0},\"sliderdefaults\":{\"bgcolor\":\"#C8D4E3\",\"borderwidth\":1,\"bordercolor\":\"rgb(17,17,17)\",\"tickwidth\":0},\"mapbox\":{\"style\":\"dark\"}}},\"mapbox\":{\"domain\":{\"x\":[0.0,1.0],\"y\":[0.0,1.0]},\"center\":{\"lat\":34.0007,\"lon\":-81.0348},\"accesstoken\":\"pk.eyJ1IjoibWlja3RoZWxpbnV4Z2VlayIsImEiOiJjbDQzN3U0YTUwODk5M3BxbnJtZjVweDJ1In0.jyMNmtV_85OzRrfmDsQXrg\\n\",\"zoom\":7.5,\"style\":\"streets\"},\"legend\":{\"title\":{\"text\":\"CDI\"},\"tracegroupgap\":0},\"margin\":{\"t\":60}},                        {\"responsive\": true}                    ).then(function(){\n                            \nvar gd = document.getElementById('2db7743f-ad4b-48cc-95f5-95a08db3b945');\nvar x = new MutationObserver(function (mutations, observer) {{\n        var display = window.getComputedStyle(gd).display;\n        if (!display || display === 'none') {{\n            console.log([gd, 'removed!']);\n            Plotly.purge(gd);\n            observer.disconnect();\n        }}\n}});\n\n// Listen for the removal of the full notebook cells\nvar notebookContainer = gd.closest('#notebook-container');\nif (notebookContainer) {{\n    x.observe(notebookContainer, {childList: true});\n}}\n\n// Listen for the clearing of the current output cell\nvar outputEl = gd.closest('.output');\nif (outputEl) {{\n    x.observe(outputEl, {childList: true});\n}}\n\n                        })                };                });            </script>        </div>"
     },
     "metadata": {},
     "output_type": "display_data"
    }
   ],
   "source": [
    "fig = px.scatter_mapbox(data_frame=sc_shp_gdf_project,\n",
    "                        lat=sc_shp_gdf_project.Latitude,\n",
    "                        lon=sc_shp_gdf_project.Longitude,\n",
    "                        color=sc_shp_gdf_project.CDI,\n",
    "                        center={\"lat\": 34.0007, \"lon\": -81.0348},\n",
    "                        mapbox_style='streets',\n",
    "                        zoom=7.5)\n",
    "\n",
    "fig.update_traces(go.Scattermapbox(marker={'size': 10}))\n",
    "fig.show()"
   ],
   "metadata": {
    "collapsed": false
   }
  },
  {
   "cell_type": "code",
   "execution_count": 56,
   "outputs": [],
   "source": [
    "dyfi_zip_df = gpd.read_file(r\"./data/dyfi_zip.geojson\")"
   ],
   "metadata": {
    "collapsed": false
   }
  },
  {
   "cell_type": "code",
   "execution_count": 57,
   "outputs": [
    {
     "data": {
      "text/plain": "   population  nresp            name  cdi  dist                    geometry\n0           0      4  29044<br>0.302  2.1    11  POINT (-80.68830 33.92180)\n1           0      1  29045<br>0.330  4.3    27  POINT (-80.81580 34.18740)\n2           0      1  29061<br>0.330  2.2    10  POINT (-80.85060 33.87660)\n3           0      1  29072<br>0.330  2.0    44  POINT (-81.26600 33.99050)\n4           0      1  29172<br>0.330  2.7    26  POINT (-81.07180 33.90770)\n5           0      2  29209<br>0.320  2.5    15  POINT (-80.94400 33.94590)\n6           0      1  29588<br>0.330  2.2   165  POINT (-79.03040 33.67770)",
      "text/html": "<div>\n<style scoped>\n    .dataframe tbody tr th:only-of-type {\n        vertical-align: middle;\n    }\n\n    .dataframe tbody tr th {\n        vertical-align: top;\n    }\n\n    .dataframe thead th {\n        text-align: right;\n    }\n</style>\n<table border=\"1\" class=\"dataframe\">\n  <thead>\n    <tr style=\"text-align: right;\">\n      <th></th>\n      <th>population</th>\n      <th>nresp</th>\n      <th>name</th>\n      <th>cdi</th>\n      <th>dist</th>\n      <th>geometry</th>\n    </tr>\n  </thead>\n  <tbody>\n    <tr>\n      <th>0</th>\n      <td>0</td>\n      <td>4</td>\n      <td>29044&lt;br&gt;0.302</td>\n      <td>2.1</td>\n      <td>11</td>\n      <td>POINT (-80.68830 33.92180)</td>\n    </tr>\n    <tr>\n      <th>1</th>\n      <td>0</td>\n      <td>1</td>\n      <td>29045&lt;br&gt;0.330</td>\n      <td>4.3</td>\n      <td>27</td>\n      <td>POINT (-80.81580 34.18740)</td>\n    </tr>\n    <tr>\n      <th>2</th>\n      <td>0</td>\n      <td>1</td>\n      <td>29061&lt;br&gt;0.330</td>\n      <td>2.2</td>\n      <td>10</td>\n      <td>POINT (-80.85060 33.87660)</td>\n    </tr>\n    <tr>\n      <th>3</th>\n      <td>0</td>\n      <td>1</td>\n      <td>29072&lt;br&gt;0.330</td>\n      <td>2.0</td>\n      <td>44</td>\n      <td>POINT (-81.26600 33.99050)</td>\n    </tr>\n    <tr>\n      <th>4</th>\n      <td>0</td>\n      <td>1</td>\n      <td>29172&lt;br&gt;0.330</td>\n      <td>2.7</td>\n      <td>26</td>\n      <td>POINT (-81.07180 33.90770)</td>\n    </tr>\n    <tr>\n      <th>5</th>\n      <td>0</td>\n      <td>2</td>\n      <td>29209&lt;br&gt;0.320</td>\n      <td>2.5</td>\n      <td>15</td>\n      <td>POINT (-80.94400 33.94590)</td>\n    </tr>\n    <tr>\n      <th>6</th>\n      <td>0</td>\n      <td>1</td>\n      <td>29588&lt;br&gt;0.330</td>\n      <td>2.2</td>\n      <td>165</td>\n      <td>POINT (-79.03040 33.67770)</td>\n    </tr>\n  </tbody>\n</table>\n</div>"
     },
     "execution_count": 57,
     "metadata": {},
     "output_type": "execute_result"
    }
   ],
   "source": [
    "dyfi_zip_df"
   ],
   "metadata": {
    "collapsed": false
   }
  },
  {
   "cell_type": "code",
   "execution_count": 58,
   "outputs": [
    {
     "data": {
      "text/plain": "<Geographic 2D CRS: EPSG:4326>\nName: WGS 84\nAxis Info [ellipsoidal]:\n- Lat[north]: Geodetic latitude (degree)\n- Lon[east]: Geodetic longitude (degree)\nArea of Use:\n- name: World.\n- bounds: (-180.0, -90.0, 180.0, 90.0)\nDatum: World Geodetic System 1984 ensemble\n- Ellipsoid: WGS 84\n- Prime Meridian: Greenwich"
     },
     "execution_count": 58,
     "metadata": {},
     "output_type": "execute_result"
    }
   ],
   "source": [
    "dyfi_zip_df.crs"
   ],
   "metadata": {
    "collapsed": false
   }
  },
  {
   "cell_type": "code",
   "execution_count": 59,
   "outputs": [
    {
     "data": {
      "text/plain": "<folium.folium.Map at 0x7f25be9d7160>",
      "text/html": "<div style=\"width:100%;\"><div style=\"position:relative;width:100%;height:0;padding-bottom:60%;\"><span style=\"color:#565656\">Make this Notebook Trusted to load map: File -> Trust Notebook</span><iframe srcdoc=\"&lt;!DOCTYPE html&gt;\n&lt;html&gt;\n&lt;head&gt;\n    \n    &lt;meta http-equiv=&quot;content-type&quot; content=&quot;text/html; charset=UTF-8&quot; /&gt;\n    \n        &lt;script&gt;\n            L_NO_TOUCH = false;\n            L_DISABLE_3D = false;\n        &lt;/script&gt;\n    \n    &lt;style&gt;html, body {width: 100%;height: 100%;margin: 0;padding: 0;}&lt;/style&gt;\n    &lt;style&gt;#map {position:absolute;top:0;bottom:0;right:0;left:0;}&lt;/style&gt;\n    &lt;script src=&quot;https://cdn.jsdelivr.net/npm/leaflet@1.9.3/dist/leaflet.js&quot;&gt;&lt;/script&gt;\n    &lt;script src=&quot;https://code.jquery.com/jquery-1.12.4.min.js&quot;&gt;&lt;/script&gt;\n    &lt;script src=&quot;https://cdn.jsdelivr.net/npm/bootstrap@5.2.2/dist/js/bootstrap.bundle.min.js&quot;&gt;&lt;/script&gt;\n    &lt;script src=&quot;https://cdnjs.cloudflare.com/ajax/libs/Leaflet.awesome-markers/2.0.2/leaflet.awesome-markers.js&quot;&gt;&lt;/script&gt;\n    &lt;link rel=&quot;stylesheet&quot; href=&quot;https://cdn.jsdelivr.net/npm/leaflet@1.9.3/dist/leaflet.css&quot;/&gt;\n    &lt;link rel=&quot;stylesheet&quot; href=&quot;https://cdn.jsdelivr.net/npm/bootstrap@5.2.2/dist/css/bootstrap.min.css&quot;/&gt;\n    &lt;link rel=&quot;stylesheet&quot; href=&quot;https://netdna.bootstrapcdn.com/bootstrap/3.0.0/css/bootstrap.min.css&quot;/&gt;\n    &lt;link rel=&quot;stylesheet&quot; href=&quot;https://cdn.jsdelivr.net/npm/@fortawesome/fontawesome-free@6.2.0/css/all.min.css&quot;/&gt;\n    &lt;link rel=&quot;stylesheet&quot; href=&quot;https://cdnjs.cloudflare.com/ajax/libs/Leaflet.awesome-markers/2.0.2/leaflet.awesome-markers.css&quot;/&gt;\n    &lt;link rel=&quot;stylesheet&quot; href=&quot;https://cdn.jsdelivr.net/gh/python-visualization/folium/folium/templates/leaflet.awesome.rotate.min.css&quot;/&gt;\n    \n            &lt;meta name=&quot;viewport&quot; content=&quot;width=device-width,\n                initial-scale=1.0, maximum-scale=1.0, user-scalable=no&quot; /&gt;\n            &lt;style&gt;\n                #map_6b2b65e4b5f54ed6b728ca9414055e92 {\n                    position: relative;\n                    width: 100.0%;\n                    height: 100.0%;\n                    left: 0.0%;\n                    top: 0.0%;\n                }\n                .leaflet-container { font-size: 1rem; }\n            &lt;/style&gt;\n        \n    \n                    &lt;style&gt;\n                        .foliumtooltip {\n                            \n                        }\n                       .foliumtooltip table{\n                            margin: auto;\n                        }\n                        .foliumtooltip tr{\n                            text-align: left;\n                        }\n                        .foliumtooltip th{\n                            padding: 2px; padding-right: 8px;\n                        }\n                    &lt;/style&gt;\n            \n&lt;/head&gt;\n&lt;body&gt;\n    \n    \n            &lt;div class=&quot;folium-map&quot; id=&quot;map_6b2b65e4b5f54ed6b728ca9414055e92&quot; &gt;&lt;/div&gt;\n        \n&lt;/body&gt;\n&lt;script&gt;\n    \n    \n            var map_6b2b65e4b5f54ed6b728ca9414055e92 = L.map(\n                &quot;map_6b2b65e4b5f54ed6b728ca9414055e92&quot;,\n                {\n                    center: [33.93255, -80.1482],\n                    crs: L.CRS.EPSG3857,\n                    zoom: 10,\n                    zoomControl: true,\n                    preferCanvas: false,\n                }\n            );\n            L.control.scale().addTo(map_6b2b65e4b5f54ed6b728ca9414055e92);\n\n            \n\n        \n    \n            var tile_layer_1aa5c82e883f7f76e00400131465f4ac = L.tileLayer(\n                &quot;https://{s}.tile.openstreetmap.org/{z}/{x}/{y}.png&quot;,\n                {&quot;attribution&quot;: &quot;Data by \\u0026copy; \\u003ca target=\\&quot;_blank\\&quot; href=\\&quot;http://openstreetmap.org\\&quot;\\u003eOpenStreetMap\\u003c/a\\u003e, under \\u003ca target=\\&quot;_blank\\&quot; href=\\&quot;http://www.openstreetmap.org/copyright\\&quot;\\u003eODbL\\u003c/a\\u003e.&quot;, &quot;detectRetina&quot;: false, &quot;maxNativeZoom&quot;: 18, &quot;maxZoom&quot;: 18, &quot;minZoom&quot;: 0, &quot;noWrap&quot;: false, &quot;opacity&quot;: 1, &quot;subdomains&quot;: &quot;abc&quot;, &quot;tms&quot;: false}\n            ).addTo(map_6b2b65e4b5f54ed6b728ca9414055e92);\n        \n    \n            map_6b2b65e4b5f54ed6b728ca9414055e92.fitBounds(\n                [[33.6777, -81.266], [34.1874, -79.0304]],\n                {}\n            );\n        \n    \n        function geo_json_3f41ca394690347a88d8f526f1af0d4e_styler(feature) {\n            switch(feature.id) {\n                default:\n                    return {&quot;fillOpacity&quot;: 0.5, &quot;weight&quot;: 2};\n            }\n        }\n        function geo_json_3f41ca394690347a88d8f526f1af0d4e_highlighter(feature) {\n            switch(feature.id) {\n                default:\n                    return {&quot;fillOpacity&quot;: 0.75};\n            }\n        }\n        function geo_json_3f41ca394690347a88d8f526f1af0d4e_pointToLayer(feature, latlng) {\n            var opts = {&quot;bubblingMouseEvents&quot;: true, &quot;color&quot;: &quot;#3388ff&quot;, &quot;dashArray&quot;: null, &quot;dashOffset&quot;: null, &quot;fill&quot;: true, &quot;fillColor&quot;: &quot;#3388ff&quot;, &quot;fillOpacity&quot;: 0.2, &quot;fillRule&quot;: &quot;evenodd&quot;, &quot;lineCap&quot;: &quot;round&quot;, &quot;lineJoin&quot;: &quot;round&quot;, &quot;opacity&quot;: 1.0, &quot;radius&quot;: 2, &quot;stroke&quot;: true, &quot;weight&quot;: 3};\n            \n            let style = geo_json_3f41ca394690347a88d8f526f1af0d4e_styler(feature)\n            Object.assign(opts, style)\n            \n            return new L.CircleMarker(latlng, opts)\n        }\n\n        function geo_json_3f41ca394690347a88d8f526f1af0d4e_onEachFeature(feature, layer) {\n            layer.on({\n                mouseout: function(e) {\n                    if(typeof e.target.setStyle === &quot;function&quot;){\n                        geo_json_3f41ca394690347a88d8f526f1af0d4e.resetStyle(e.target);\n                    }\n                },\n                mouseover: function(e) {\n                    if(typeof e.target.setStyle === &quot;function&quot;){\n                        const highlightStyle = geo_json_3f41ca394690347a88d8f526f1af0d4e_highlighter(e.target.feature)\n                        e.target.setStyle(highlightStyle);\n                    }\n                },\n            });\n        };\n        var geo_json_3f41ca394690347a88d8f526f1af0d4e = L.geoJson(null, {\n                onEachFeature: geo_json_3f41ca394690347a88d8f526f1af0d4e_onEachFeature,\n            \n                style: geo_json_3f41ca394690347a88d8f526f1af0d4e_styler,\n                pointToLayer: geo_json_3f41ca394690347a88d8f526f1af0d4e_pointToLayer\n        });\n\n        function geo_json_3f41ca394690347a88d8f526f1af0d4e_add (data) {\n            geo_json_3f41ca394690347a88d8f526f1af0d4e\n                .addData(data)\n                .addTo(map_6b2b65e4b5f54ed6b728ca9414055e92);\n        }\n            geo_json_3f41ca394690347a88d8f526f1af0d4e_add({&quot;bbox&quot;: [-81.266, 33.6777, -79.0304, 34.1874], &quot;features&quot;: [{&quot;bbox&quot;: [-80.6883, 33.9218, -80.6883, 33.9218], &quot;geometry&quot;: {&quot;coordinates&quot;: [-80.6883, 33.9218], &quot;type&quot;: &quot;Point&quot;}, &quot;id&quot;: &quot;0&quot;, &quot;properties&quot;: {&quot;cdi&quot;: 2.1, &quot;dist&quot;: 11, &quot;name&quot;: &quot;29044\\u003cbr\\u003e0.302&quot;, &quot;nresp&quot;: 4, &quot;population&quot;: 0}, &quot;type&quot;: &quot;Feature&quot;}, {&quot;bbox&quot;: [-80.8158, 34.1874, -80.8158, 34.1874], &quot;geometry&quot;: {&quot;coordinates&quot;: [-80.8158, 34.1874], &quot;type&quot;: &quot;Point&quot;}, &quot;id&quot;: &quot;1&quot;, &quot;properties&quot;: {&quot;cdi&quot;: 4.3, &quot;dist&quot;: 27, &quot;name&quot;: &quot;29045\\u003cbr\\u003e0.330&quot;, &quot;nresp&quot;: 1, &quot;population&quot;: 0}, &quot;type&quot;: &quot;Feature&quot;}, {&quot;bbox&quot;: [-80.8506, 33.8766, -80.8506, 33.8766], &quot;geometry&quot;: {&quot;coordinates&quot;: [-80.8506, 33.8766], &quot;type&quot;: &quot;Point&quot;}, &quot;id&quot;: &quot;2&quot;, &quot;properties&quot;: {&quot;cdi&quot;: 2.2, &quot;dist&quot;: 10, &quot;name&quot;: &quot;29061\\u003cbr\\u003e0.330&quot;, &quot;nresp&quot;: 1, &quot;population&quot;: 0}, &quot;type&quot;: &quot;Feature&quot;}, {&quot;bbox&quot;: [-81.266, 33.9905, -81.266, 33.9905], &quot;geometry&quot;: {&quot;coordinates&quot;: [-81.266, 33.9905], &quot;type&quot;: &quot;Point&quot;}, &quot;id&quot;: &quot;3&quot;, &quot;properties&quot;: {&quot;cdi&quot;: 2.0, &quot;dist&quot;: 44, &quot;name&quot;: &quot;29072\\u003cbr\\u003e0.330&quot;, &quot;nresp&quot;: 1, &quot;population&quot;: 0}, &quot;type&quot;: &quot;Feature&quot;}, {&quot;bbox&quot;: [-81.0718, 33.9077, -81.0718, 33.9077], &quot;geometry&quot;: {&quot;coordinates&quot;: [-81.0718, 33.9077], &quot;type&quot;: &quot;Point&quot;}, &quot;id&quot;: &quot;4&quot;, &quot;properties&quot;: {&quot;cdi&quot;: 2.7, &quot;dist&quot;: 26, &quot;name&quot;: &quot;29172\\u003cbr\\u003e0.330&quot;, &quot;nresp&quot;: 1, &quot;population&quot;: 0}, &quot;type&quot;: &quot;Feature&quot;}, {&quot;bbox&quot;: [-80.944, 33.9459, -80.944, 33.9459], &quot;geometry&quot;: {&quot;coordinates&quot;: [-80.944, 33.9459], &quot;type&quot;: &quot;Point&quot;}, &quot;id&quot;: &quot;5&quot;, &quot;properties&quot;: {&quot;cdi&quot;: 2.5, &quot;dist&quot;: 15, &quot;name&quot;: &quot;29209\\u003cbr\\u003e0.320&quot;, &quot;nresp&quot;: 2, &quot;population&quot;: 0}, &quot;type&quot;: &quot;Feature&quot;}, {&quot;bbox&quot;: [-79.0304, 33.6777, -79.0304, 33.6777], &quot;geometry&quot;: {&quot;coordinates&quot;: [-79.0304, 33.6777], &quot;type&quot;: &quot;Point&quot;}, &quot;id&quot;: &quot;6&quot;, &quot;properties&quot;: {&quot;cdi&quot;: 2.2, &quot;dist&quot;: 165, &quot;name&quot;: &quot;29588\\u003cbr\\u003e0.330&quot;, &quot;nresp&quot;: 1, &quot;population&quot;: 0}, &quot;type&quot;: &quot;Feature&quot;}], &quot;type&quot;: &quot;FeatureCollection&quot;});\n\n        \n    \n    geo_json_3f41ca394690347a88d8f526f1af0d4e.bindTooltip(\n    function(layer){\n    let div = L.DomUtil.create(&#x27;div&#x27;);\n    \n    let handleObject = feature=&gt;typeof(feature)==&#x27;object&#x27; ? JSON.stringify(feature) : feature;\n    let fields = [&quot;population&quot;, &quot;nresp&quot;, &quot;name&quot;, &quot;cdi&quot;, &quot;dist&quot;];\n    let aliases = [&quot;population&quot;, &quot;nresp&quot;, &quot;name&quot;, &quot;cdi&quot;, &quot;dist&quot;];\n    let table = &#x27;&lt;table&gt;&#x27; +\n        String(\n        fields.map(\n        (v,i)=&gt;\n        `&lt;tr&gt;\n            &lt;th&gt;${aliases[i]}&lt;/th&gt;\n            \n            &lt;td&gt;${handleObject(layer.feature.properties[v])}&lt;/td&gt;\n        &lt;/tr&gt;`).join(&#x27;&#x27;))\n    +&#x27;&lt;/table&gt;&#x27;;\n    div.innerHTML=table;\n    \n    return div\n    }\n    ,{&quot;className&quot;: &quot;foliumtooltip&quot;, &quot;sticky&quot;: true});\n                     \n&lt;/script&gt;\n&lt;/html&gt;\" style=\"position:absolute;width:100%;height:100%;left:0;top:0;border:none !important;\" allowfullscreen webkitallowfullscreen mozallowfullscreen></iframe></div></div>"
     },
     "execution_count": 59,
     "metadata": {},
     "output_type": "execute_result"
    }
   ],
   "source": [
    "dyfi_zip_df.explore()"
   ],
   "metadata": {
    "collapsed": false
   }
  },
  {
   "cell_type": "code",
   "execution_count": 60,
   "outputs": [],
   "source": [
    "dyfi_geo_1km_df = gpd.read_file(r\"./data/dyfi_geo_1km.geojson\")"
   ],
   "metadata": {
    "collapsed": false
   }
  },
  {
   "cell_type": "code",
   "execution_count": 61,
   "outputs": [
    {
     "data": {
      "text/plain": "   stddev  nresp                                               name  cdi  \\\n0    0.33      1  UTM:(17S 0472 3760 1000)<br>UTM:(17S 0472 3760...  2.0   \n1    0.33      1  UTM:(17S 0490 3751 1000)<br>UTM:(17S 0490 3751...  2.7   \n2    0.33      1  UTM:(17S 0505 3759 1000)<br>UTM:(17S 0505 3759...  2.2   \n3    0.33      1  UTM:(17S 0508 3758 1000)<br>UTM:(17S 0508 3758...  2.7   \n4    0.33      1  UTM:(17S 0512 3780 1000)<br>UTM:(17S 0512 3780...  4.3   \n5    0.33      1  UTM:(17S 0516 3753 1000)<br>UTM:(17S 0516 3753...  2.2   \n6    0.32      2  UTM:(17S 0518 3750 1000)<br>UTM:(17S 0518 3750...  2.0   \n7    0.33      1  UTM:(17S 0522 3757 1000)<br>UTM:(17S 0522 3757...  2.5   \n8    0.33      1  UTM:(17S 0680 3724 1000)<br>UTM:(17S 0680 3724...  2.2   \n\n   dist                                           geometry  \n0    47  POLYGON ((-81.30313 33.98018, -81.29230 33.980...  \n1    29  POLYGON ((-81.10815 33.89933, -81.09734 33.899...  \n2    15  POLYGON ((-80.94587 33.97152, -80.93504 33.971...  \n3    12  POLYGON ((-80.91340 33.96248, -80.90258 33.962...  \n4    26  POLYGON ((-80.86981 34.16086, -80.85896 34.160...  \n5     6  POLYGON ((-80.82690 33.91730, -80.81609 33.917...  \n6     8  POLYGON ((-80.80533 33.89021, -80.79452 33.890...  \n7     6  POLYGON ((-80.76190 33.95326, -80.75107 33.953...  \n8   164  POLYGON ((-79.05912 33.64062, -79.04835 33.640...  ",
      "text/html": "<div>\n<style scoped>\n    .dataframe tbody tr th:only-of-type {\n        vertical-align: middle;\n    }\n\n    .dataframe tbody tr th {\n        vertical-align: top;\n    }\n\n    .dataframe thead th {\n        text-align: right;\n    }\n</style>\n<table border=\"1\" class=\"dataframe\">\n  <thead>\n    <tr style=\"text-align: right;\">\n      <th></th>\n      <th>stddev</th>\n      <th>nresp</th>\n      <th>name</th>\n      <th>cdi</th>\n      <th>dist</th>\n      <th>geometry</th>\n    </tr>\n  </thead>\n  <tbody>\n    <tr>\n      <th>0</th>\n      <td>0.33</td>\n      <td>1</td>\n      <td>UTM:(17S 0472 3760 1000)&lt;br&gt;UTM:(17S 0472 3760...</td>\n      <td>2.0</td>\n      <td>47</td>\n      <td>POLYGON ((-81.30313 33.98018, -81.29230 33.980...</td>\n    </tr>\n    <tr>\n      <th>1</th>\n      <td>0.33</td>\n      <td>1</td>\n      <td>UTM:(17S 0490 3751 1000)&lt;br&gt;UTM:(17S 0490 3751...</td>\n      <td>2.7</td>\n      <td>29</td>\n      <td>POLYGON ((-81.10815 33.89933, -81.09734 33.899...</td>\n    </tr>\n    <tr>\n      <th>2</th>\n      <td>0.33</td>\n      <td>1</td>\n      <td>UTM:(17S 0505 3759 1000)&lt;br&gt;UTM:(17S 0505 3759...</td>\n      <td>2.2</td>\n      <td>15</td>\n      <td>POLYGON ((-80.94587 33.97152, -80.93504 33.971...</td>\n    </tr>\n    <tr>\n      <th>3</th>\n      <td>0.33</td>\n      <td>1</td>\n      <td>UTM:(17S 0508 3758 1000)&lt;br&gt;UTM:(17S 0508 3758...</td>\n      <td>2.7</td>\n      <td>12</td>\n      <td>POLYGON ((-80.91340 33.96248, -80.90258 33.962...</td>\n    </tr>\n    <tr>\n      <th>4</th>\n      <td>0.33</td>\n      <td>1</td>\n      <td>UTM:(17S 0512 3780 1000)&lt;br&gt;UTM:(17S 0512 3780...</td>\n      <td>4.3</td>\n      <td>26</td>\n      <td>POLYGON ((-80.86981 34.16086, -80.85896 34.160...</td>\n    </tr>\n    <tr>\n      <th>5</th>\n      <td>0.33</td>\n      <td>1</td>\n      <td>UTM:(17S 0516 3753 1000)&lt;br&gt;UTM:(17S 0516 3753...</td>\n      <td>2.2</td>\n      <td>6</td>\n      <td>POLYGON ((-80.82690 33.91730, -80.81609 33.917...</td>\n    </tr>\n    <tr>\n      <th>6</th>\n      <td>0.32</td>\n      <td>2</td>\n      <td>UTM:(17S 0518 3750 1000)&lt;br&gt;UTM:(17S 0518 3750...</td>\n      <td>2.0</td>\n      <td>8</td>\n      <td>POLYGON ((-80.80533 33.89021, -80.79452 33.890...</td>\n    </tr>\n    <tr>\n      <th>7</th>\n      <td>0.33</td>\n      <td>1</td>\n      <td>UTM:(17S 0522 3757 1000)&lt;br&gt;UTM:(17S 0522 3757...</td>\n      <td>2.5</td>\n      <td>6</td>\n      <td>POLYGON ((-80.76190 33.95326, -80.75107 33.953...</td>\n    </tr>\n    <tr>\n      <th>8</th>\n      <td>0.33</td>\n      <td>1</td>\n      <td>UTM:(17S 0680 3724 1000)&lt;br&gt;UTM:(17S 0680 3724...</td>\n      <td>2.2</td>\n      <td>164</td>\n      <td>POLYGON ((-79.05912 33.64062, -79.04835 33.640...</td>\n    </tr>\n  </tbody>\n</table>\n</div>"
     },
     "execution_count": 61,
     "metadata": {},
     "output_type": "execute_result"
    }
   ],
   "source": [
    "dyfi_geo_1km_df"
   ],
   "metadata": {
    "collapsed": false
   }
  },
  {
   "cell_type": "code",
   "execution_count": 62,
   "outputs": [
    {
     "data": {
      "text/plain": "<Geographic 2D CRS: EPSG:4326>\nName: WGS 84\nAxis Info [ellipsoidal]:\n- Lat[north]: Geodetic latitude (degree)\n- Lon[east]: Geodetic longitude (degree)\nArea of Use:\n- name: World.\n- bounds: (-180.0, -90.0, 180.0, 90.0)\nDatum: World Geodetic System 1984 ensemble\n- Ellipsoid: WGS 84\n- Prime Meridian: Greenwich"
     },
     "execution_count": 62,
     "metadata": {},
     "output_type": "execute_result"
    }
   ],
   "source": [
    "dyfi_geo_1km_df.crs"
   ],
   "metadata": {
    "collapsed": false
   }
  },
  {
   "cell_type": "code",
   "execution_count": 63,
   "outputs": [
    {
     "data": {
      "text/plain": "<folium.folium.Map at 0x7f25be9d51e0>",
      "text/html": "<div style=\"width:100%;\"><div style=\"position:relative;width:100%;height:0;padding-bottom:60%;\"><span style=\"color:#565656\">Make this Notebook Trusted to load map: File -> Trust Notebook</span><iframe srcdoc=\"&lt;!DOCTYPE html&gt;\n&lt;html&gt;\n&lt;head&gt;\n    \n    &lt;meta http-equiv=&quot;content-type&quot; content=&quot;text/html; charset=UTF-8&quot; /&gt;\n    \n        &lt;script&gt;\n            L_NO_TOUCH = false;\n            L_DISABLE_3D = false;\n        &lt;/script&gt;\n    \n    &lt;style&gt;html, body {width: 100%;height: 100%;margin: 0;padding: 0;}&lt;/style&gt;\n    &lt;style&gt;#map {position:absolute;top:0;bottom:0;right:0;left:0;}&lt;/style&gt;\n    &lt;script src=&quot;https://cdn.jsdelivr.net/npm/leaflet@1.9.3/dist/leaflet.js&quot;&gt;&lt;/script&gt;\n    &lt;script src=&quot;https://code.jquery.com/jquery-1.12.4.min.js&quot;&gt;&lt;/script&gt;\n    &lt;script src=&quot;https://cdn.jsdelivr.net/npm/bootstrap@5.2.2/dist/js/bootstrap.bundle.min.js&quot;&gt;&lt;/script&gt;\n    &lt;script src=&quot;https://cdnjs.cloudflare.com/ajax/libs/Leaflet.awesome-markers/2.0.2/leaflet.awesome-markers.js&quot;&gt;&lt;/script&gt;\n    &lt;link rel=&quot;stylesheet&quot; href=&quot;https://cdn.jsdelivr.net/npm/leaflet@1.9.3/dist/leaflet.css&quot;/&gt;\n    &lt;link rel=&quot;stylesheet&quot; href=&quot;https://cdn.jsdelivr.net/npm/bootstrap@5.2.2/dist/css/bootstrap.min.css&quot;/&gt;\n    &lt;link rel=&quot;stylesheet&quot; href=&quot;https://netdna.bootstrapcdn.com/bootstrap/3.0.0/css/bootstrap.min.css&quot;/&gt;\n    &lt;link rel=&quot;stylesheet&quot; href=&quot;https://cdn.jsdelivr.net/npm/@fortawesome/fontawesome-free@6.2.0/css/all.min.css&quot;/&gt;\n    &lt;link rel=&quot;stylesheet&quot; href=&quot;https://cdnjs.cloudflare.com/ajax/libs/Leaflet.awesome-markers/2.0.2/leaflet.awesome-markers.css&quot;/&gt;\n    &lt;link rel=&quot;stylesheet&quot; href=&quot;https://cdn.jsdelivr.net/gh/python-visualization/folium/folium/templates/leaflet.awesome.rotate.min.css&quot;/&gt;\n    \n            &lt;meta name=&quot;viewport&quot; content=&quot;width=device-width,\n                initial-scale=1.0, maximum-scale=1.0, user-scalable=no&quot; /&gt;\n            &lt;style&gt;\n                #map_2a9e5eab72918b776da784b607a4469d {\n                    position: relative;\n                    width: 100.0%;\n                    height: 100.0%;\n                    left: 0.0%;\n                    top: 0.0%;\n                }\n                .leaflet-container { font-size: 1rem; }\n            &lt;/style&gt;\n        \n    \n                    &lt;style&gt;\n                        .foliumtooltip {\n                            \n                        }\n                       .foliumtooltip table{\n                            margin: auto;\n                        }\n                        .foliumtooltip tr{\n                            text-align: left;\n                        }\n                        .foliumtooltip th{\n                            padding: 2px; padding-right: 8px;\n                        }\n                    &lt;/style&gt;\n            \n&lt;/head&gt;\n&lt;body&gt;\n    \n    \n            &lt;div class=&quot;folium-map&quot; id=&quot;map_2a9e5eab72918b776da784b607a4469d&quot; &gt;&lt;/div&gt;\n        \n&lt;/body&gt;\n&lt;script&gt;\n    \n    \n            var map_2a9e5eab72918b776da784b607a4469d = L.map(\n                &quot;map_2a9e5eab72918b776da784b607a4469d&quot;,\n                {\n                    center: [33.905165, -80.17565],\n                    crs: L.CRS.EPSG3857,\n                    zoom: 10,\n                    zoomControl: true,\n                    preferCanvas: false,\n                }\n            );\n            L.control.scale().addTo(map_2a9e5eab72918b776da784b607a4469d);\n\n            \n\n        \n    \n            var tile_layer_7eb97ecef2b3eaa210990b0f29da7d16 = L.tileLayer(\n                &quot;https://{s}.tile.openstreetmap.org/{z}/{x}/{y}.png&quot;,\n                {&quot;attribution&quot;: &quot;Data by \\u0026copy; \\u003ca target=\\&quot;_blank\\&quot; href=\\&quot;http://openstreetmap.org\\&quot;\\u003eOpenStreetMap\\u003c/a\\u003e, under \\u003ca target=\\&quot;_blank\\&quot; href=\\&quot;http://www.openstreetmap.org/copyright\\&quot;\\u003eODbL\\u003c/a\\u003e.&quot;, &quot;detectRetina&quot;: false, &quot;maxNativeZoom&quot;: 18, &quot;maxZoom&quot;: 18, &quot;minZoom&quot;: 0, &quot;noWrap&quot;: false, &quot;opacity&quot;: 1, &quot;subdomains&quot;: &quot;abc&quot;, &quot;tms&quot;: false}\n            ).addTo(map_2a9e5eab72918b776da784b607a4469d);\n        \n    \n            map_2a9e5eab72918b776da784b607a4469d.fitBounds(\n                [[33.64045, -81.30316], [34.16988, -79.04814]],\n                {}\n            );\n        \n    \n        function geo_json_712111e613ee147b440f2a063bfd04db_styler(feature) {\n            switch(feature.id) {\n                default:\n                    return {&quot;fillOpacity&quot;: 0.5, &quot;weight&quot;: 2};\n            }\n        }\n        function geo_json_712111e613ee147b440f2a063bfd04db_highlighter(feature) {\n            switch(feature.id) {\n                default:\n                    return {&quot;fillOpacity&quot;: 0.75};\n            }\n        }\n        function geo_json_712111e613ee147b440f2a063bfd04db_pointToLayer(feature, latlng) {\n            var opts = {&quot;bubblingMouseEvents&quot;: true, &quot;color&quot;: &quot;#3388ff&quot;, &quot;dashArray&quot;: null, &quot;dashOffset&quot;: null, &quot;fill&quot;: true, &quot;fillColor&quot;: &quot;#3388ff&quot;, &quot;fillOpacity&quot;: 0.2, &quot;fillRule&quot;: &quot;evenodd&quot;, &quot;lineCap&quot;: &quot;round&quot;, &quot;lineJoin&quot;: &quot;round&quot;, &quot;opacity&quot;: 1.0, &quot;radius&quot;: 2, &quot;stroke&quot;: true, &quot;weight&quot;: 3};\n            \n            let style = geo_json_712111e613ee147b440f2a063bfd04db_styler(feature)\n            Object.assign(opts, style)\n            \n            return new L.CircleMarker(latlng, opts)\n        }\n\n        function geo_json_712111e613ee147b440f2a063bfd04db_onEachFeature(feature, layer) {\n            layer.on({\n                mouseout: function(e) {\n                    if(typeof e.target.setStyle === &quot;function&quot;){\n                        geo_json_712111e613ee147b440f2a063bfd04db.resetStyle(e.target);\n                    }\n                },\n                mouseover: function(e) {\n                    if(typeof e.target.setStyle === &quot;function&quot;){\n                        const highlightStyle = geo_json_712111e613ee147b440f2a063bfd04db_highlighter(e.target.feature)\n                        e.target.setStyle(highlightStyle);\n                    }\n                },\n            });\n        };\n        var geo_json_712111e613ee147b440f2a063bfd04db = L.geoJson(null, {\n                onEachFeature: geo_json_712111e613ee147b440f2a063bfd04db_onEachFeature,\n            \n                style: geo_json_712111e613ee147b440f2a063bfd04db_styler,\n                pointToLayer: geo_json_712111e613ee147b440f2a063bfd04db_pointToLayer\n        });\n\n        function geo_json_712111e613ee147b440f2a063bfd04db_add (data) {\n            geo_json_712111e613ee147b440f2a063bfd04db\n                .addData(data)\n                .addTo(map_2a9e5eab72918b776da784b607a4469d);\n        }\n            geo_json_712111e613ee147b440f2a063bfd04db_add({&quot;bbox&quot;: [-81.30316, 33.64045, -79.04814, 34.16988], &quot;features&quot;: [{&quot;bbox&quot;: [-81.30316, 33.98018, -81.2923, 33.98922], &quot;geometry&quot;: {&quot;coordinates&quot;: [[[-81.30313, 33.98018], [-81.2923, 33.9802], [-81.29233, 33.98922], [-81.30316, 33.9892], [-81.30313, 33.98018]]], &quot;type&quot;: &quot;Polygon&quot;}, &quot;id&quot;: &quot;0&quot;, &quot;properties&quot;: {&quot;cdi&quot;: 2.0, &quot;dist&quot;: 47, &quot;name&quot;: &quot;UTM:(17S 0472 3760 1000)\\u003cbr\\u003eUTM:(17S 0472 3760 1000)&quot;, &quot;nresp&quot;: 1, &quot;stddev&quot;: 0.33}, &quot;type&quot;: &quot;Feature&quot;}, {&quot;bbox&quot;: [-81.10817, 33.89933, -81.09734, 33.90836], &quot;geometry&quot;: {&quot;coordinates&quot;: [[[-81.10815, 33.89933], [-81.09734, 33.89934], [-81.09735, 33.90836], [-81.10817, 33.90835], [-81.10815, 33.89933]]], &quot;type&quot;: &quot;Polygon&quot;}, &quot;id&quot;: &quot;1&quot;, &quot;properties&quot;: {&quot;cdi&quot;: 2.7, &quot;dist&quot;: 29, &quot;name&quot;: &quot;UTM:(17S 0490 3751 1000)\\u003cbr\\u003eUTM:(17S 0490 3751 1000)&quot;, &quot;nresp&quot;: 1, &quot;stddev&quot;: 0.33}, &quot;type&quot;: &quot;Feature&quot;}, {&quot;bbox&quot;: [-80.94587, 33.97151, -80.93504, 33.98054], &quot;geometry&quot;: {&quot;coordinates&quot;: [[[-80.94587, 33.97152], [-80.93504, 33.97151], [-80.93504, 33.98053], [-80.94586, 33.98054], [-80.94587, 33.97152]]], &quot;type&quot;: &quot;Polygon&quot;}, &quot;id&quot;: &quot;2&quot;, &quot;properties&quot;: {&quot;cdi&quot;: 2.2, &quot;dist&quot;: 15, &quot;name&quot;: &quot;UTM:(17S 0505 3759 1000)\\u003cbr\\u003eUTM:(17S 0505 3759 1000)&quot;, &quot;nresp&quot;: 1, &quot;stddev&quot;: 0.33}, &quot;type&quot;: &quot;Feature&quot;}, {&quot;bbox&quot;: [-80.9134, 33.96247, -80.90257, 33.9715], &quot;geometry&quot;: {&quot;coordinates&quot;: [[[-80.9134, 33.96248], [-80.90258, 33.96247], [-80.90257, 33.97149], [-80.91339, 33.9715], [-80.9134, 33.96248]]], &quot;type&quot;: &quot;Polygon&quot;}, &quot;id&quot;: &quot;3&quot;, &quot;properties&quot;: {&quot;cdi&quot;: 2.7, &quot;dist&quot;: 12, &quot;name&quot;: &quot;UTM:(17S 0508 3758 1000)\\u003cbr\\u003eUTM:(17S 0508 3758 1000)&quot;, &quot;nresp&quot;: 1, &quot;stddev&quot;: 0.33}, &quot;type&quot;: &quot;Feature&quot;}, {&quot;bbox&quot;: [-80.86981, 34.16085, -80.85894, 34.16988], &quot;geometry&quot;: {&quot;coordinates&quot;: [[[-80.86981, 34.16086], [-80.85896, 34.16085], [-80.85894, 34.16986], [-80.86979, 34.16988], [-80.86981, 34.16086]]], &quot;type&quot;: &quot;Polygon&quot;}, &quot;id&quot;: &quot;4&quot;, &quot;properties&quot;: {&quot;cdi&quot;: 4.3, &quot;dist&quot;: 26, &quot;name&quot;: &quot;UTM:(17S 0512 3780 1000)\\u003cbr\\u003eUTM:(17S 0512 3780 1000)&quot;, &quot;nresp&quot;: 1, &quot;stddev&quot;: 0.33}, &quot;type&quot;: &quot;Feature&quot;}, {&quot;bbox&quot;: [-80.8269, 33.91728, -80.81607, 33.92631], &quot;geometry&quot;: {&quot;coordinates&quot;: [[[-80.8269, 33.9173], [-80.81609, 33.91728], [-80.81607, 33.9263], [-80.82689, 33.92631], [-80.8269, 33.9173]]], &quot;type&quot;: &quot;Polygon&quot;}, &quot;id&quot;: &quot;5&quot;, &quot;properties&quot;: {&quot;cdi&quot;: 2.2, &quot;dist&quot;: 6, &quot;name&quot;: &quot;UTM:(17S 0516 3753 1000)\\u003cbr\\u003eUTM:(17S 0516 3753 1000)&quot;, &quot;nresp&quot;: 1, &quot;stddev&quot;: 0.33}, &quot;type&quot;: &quot;Feature&quot;}, {&quot;bbox&quot;: [-80.80533, 33.89019, -80.79449, 33.89923], &quot;geometry&quot;: {&quot;coordinates&quot;: [[[-80.80533, 33.89021], [-80.79452, 33.89019], [-80.79449, 33.89921], [-80.80531, 33.89923], [-80.80533, 33.89021]]], &quot;type&quot;: &quot;Polygon&quot;}, &quot;id&quot;: &quot;6&quot;, &quot;properties&quot;: {&quot;cdi&quot;: 2.0, &quot;dist&quot;: 8, &quot;name&quot;: &quot;UTM:(17S 0518 3750 1000)\\u003cbr\\u003eUTM:(17S 0518 3750 1000)&quot;, &quot;nresp&quot;: 2, &quot;stddev&quot;: 0.32}, &quot;type&quot;: &quot;Feature&quot;}, {&quot;bbox&quot;: [-80.7619, 33.95324, -80.75105, 33.96228], &quot;geometry&quot;: {&quot;coordinates&quot;: [[[-80.7619, 33.95326], [-80.75107, 33.95324], [-80.75105, 33.96226], [-80.76187, 33.96228], [-80.7619, 33.95326]]], &quot;type&quot;: &quot;Polygon&quot;}, &quot;id&quot;: &quot;7&quot;, &quot;properties&quot;: {&quot;cdi&quot;: 2.5, &quot;dist&quot;: 6, &quot;name&quot;: &quot;UTM:(17S 0522 3757 1000)\\u003cbr\\u003eUTM:(17S 0522 3757 1000)&quot;, &quot;nresp&quot;: 1, &quot;stddev&quot;: 0.33}, &quot;type&quot;: &quot;Feature&quot;}, {&quot;bbox&quot;: [-79.05912, 33.64045, -79.04814, 33.64964], &quot;geometry&quot;: {&quot;coordinates&quot;: [[[-79.05912, 33.64062], [-79.04835, 33.64045], [-79.04814, 33.64947], [-79.05892, 33.64964], [-79.05912, 33.64062]]], &quot;type&quot;: &quot;Polygon&quot;}, &quot;id&quot;: &quot;8&quot;, &quot;properties&quot;: {&quot;cdi&quot;: 2.2, &quot;dist&quot;: 164, &quot;name&quot;: &quot;UTM:(17S 0680 3724 1000)\\u003cbr\\u003eUTM:(17S 0680 3724 1000)&quot;, &quot;nresp&quot;: 1, &quot;stddev&quot;: 0.33}, &quot;type&quot;: &quot;Feature&quot;}], &quot;type&quot;: &quot;FeatureCollection&quot;});\n\n        \n    \n    geo_json_712111e613ee147b440f2a063bfd04db.bindTooltip(\n    function(layer){\n    let div = L.DomUtil.create(&#x27;div&#x27;);\n    \n    let handleObject = feature=&gt;typeof(feature)==&#x27;object&#x27; ? JSON.stringify(feature) : feature;\n    let fields = [&quot;stddev&quot;, &quot;nresp&quot;, &quot;name&quot;, &quot;cdi&quot;, &quot;dist&quot;];\n    let aliases = [&quot;stddev&quot;, &quot;nresp&quot;, &quot;name&quot;, &quot;cdi&quot;, &quot;dist&quot;];\n    let table = &#x27;&lt;table&gt;&#x27; +\n        String(\n        fields.map(\n        (v,i)=&gt;\n        `&lt;tr&gt;\n            &lt;th&gt;${aliases[i]}&lt;/th&gt;\n            \n            &lt;td&gt;${handleObject(layer.feature.properties[v])}&lt;/td&gt;\n        &lt;/tr&gt;`).join(&#x27;&#x27;))\n    +&#x27;&lt;/table&gt;&#x27;;\n    div.innerHTML=table;\n    \n    return div\n    }\n    ,{&quot;className&quot;: &quot;foliumtooltip&quot;, &quot;sticky&quot;: true});\n                     \n&lt;/script&gt;\n&lt;/html&gt;\" style=\"position:absolute;width:100%;height:100%;left:0;top:0;border:none !important;\" allowfullscreen webkitallowfullscreen mozallowfullscreen></iframe></div></div>"
     },
     "execution_count": 63,
     "metadata": {},
     "output_type": "execute_result"
    }
   ],
   "source": [
    "dyfi_geo_1km_df.explore()"
   ],
   "metadata": {
    "collapsed": false
   }
  },
  {
   "cell_type": "code",
   "execution_count": 64,
   "outputs": [
    {
     "data": {
      "application/vnd.plotly.v1+json": {
       "data": [
        {
         "coloraxis": "coloraxis",
         "geojson": {
          "type": "FeatureCollection",
          "features": [
           {
            "id": "0",
            "type": "Feature",
            "properties": {},
            "geometry": {
             "type": "Polygon",
             "coordinates": [
              [
               [
                -81.16237,
                33.97142
               ],
               [
                -81.15154,
                33.97144
               ],
               [
                -81.15156,
                33.98046
               ],
               [
                -81.16239,
                33.98044
               ],
               [
                -81.16237,
                33.97142
               ]
              ]
             ]
            },
            "bbox": [
             -81.16239,
             33.97142,
             -81.15154,
             33.98046
            ]
           },
           {
            "id": "1",
            "type": "Feature",
            "properties": {},
            "geometry": {
             "type": "Polygon",
             "coordinates": [
              [
               [
                -80.86982,
                34.15184
               ],
               [
                -80.85897,
                34.15183
               ],
               [
                -80.85896,
                34.16085
               ],
               [
                -80.86981,
                34.16086
               ],
               [
                -80.86982,
                34.15184
               ]
              ]
             ]
            },
            "bbox": [
             -80.86982,
             34.15183,
             -80.85896,
             34.16086
            ]
           },
           {
            "id": "2",
            "type": "Feature",
            "properties": {},
            "geometry": {
             "type": "Polygon",
             "coordinates": [
              [
               [
                -80.84846,
                33.96242
               ],
               [
                -80.83764,
                33.96241
               ],
               [
                -80.83762,
                33.97142
               ],
               [
                -80.84845,
                33.97144
               ],
               [
                -80.84846,
                33.96242
               ]
              ]
             ]
            },
            "bbox": [
             -80.84846,
             33.96241,
             -80.83762,
             33.97144
            ]
           },
           {
            "id": "3",
            "type": "Feature",
            "properties": {},
            "geometry": {
             "type": "Polygon",
             "coordinates": [
              [
               [
                -80.82643,
                34.15179
               ],
               [
                -80.81558,
                34.15177
               ],
               [
                -80.81556,
                34.16079
               ],
               [
                -80.82641,
                34.1608
               ],
               [
                -80.82643,
                34.15179
               ]
              ]
             ]
            },
            "bbox": [
             -80.82643,
             34.15177,
             -80.81556,
             34.1608
            ]
           },
           {
            "id": "4",
            "type": "Feature",
            "properties": {},
            "geometry": {
             "type": "Polygon",
             "coordinates": [
              [
               [
                -80.79393,
                34.1337
               ],
               [
                -80.78308,
                34.13368
               ],
               [
                -80.78306,
                34.1427
               ],
               [
                -80.79391,
                34.14272
               ],
               [
                -80.79393,
                34.1337
               ]
              ]
             ]
            },
            "bbox": [
             -80.79393,
             34.13368,
             -80.78306,
             34.14272
            ]
           },
           {
            "id": "5",
            "type": "Feature",
            "properties": {},
            "geometry": {
             "type": "Polygon",
             "coordinates": [
              [
               [
                -80.76137,
                34.14266
               ],
               [
                -80.75052,
                34.14264
               ],
               [
                -80.75049,
                34.15165
               ],
               [
                -80.76134,
                34.15168
               ],
               [
                -80.76137,
                34.14266
               ]
              ]
             ]
            },
            "bbox": [
             -80.76137,
             34.14264,
             -80.75049,
             34.15168
            ]
           },
           {
            "id": "6",
            "type": "Feature",
            "properties": {},
            "geometry": {
             "type": "Polygon",
             "coordinates": [
              [
               [
                -80.76134,
                34.15168
               ],
               [
                -80.75049,
                34.15165
               ],
               [
                -80.75047,
                34.16067
               ],
               [
                -80.76132,
                34.16069
               ],
               [
                -80.76134,
                34.15168
               ]
              ]
             ]
            },
            "bbox": [
             -80.76134,
             34.15165,
             -80.75047,
             34.16069
            ]
           },
           {
            "id": "7",
            "type": "Feature",
            "properties": {},
            "geometry": {
             "type": "Polygon",
             "coordinates": [
              [
               [
                -80.75052,
                34.14264
               ],
               [
                -80.73967,
                34.14261
               ],
               [
                -80.73964,
                34.15163
               ],
               [
                -80.75049,
                34.15165
               ],
               [
                -80.75052,
                34.14264
               ]
              ]
             ]
            },
            "bbox": [
             -80.75052,
             34.14261,
             -80.73964,
             34.15165
            ]
           },
           {
            "id": "8",
            "type": "Feature",
            "properties": {},
            "geometry": {
             "type": "Polygon",
             "coordinates": [
              [
               [
                -80.75049,
                34.15165
               ],
               [
                -80.73964,
                34.15163
               ],
               [
                -80.73962,
                34.16065
               ],
               [
                -80.75047,
                34.16067
               ],
               [
                -80.75049,
                34.15165
               ]
              ]
             ]
            },
            "bbox": [
             -80.75049,
             34.15163,
             -80.73962,
             34.16067
            ]
           },
           {
            "id": "9",
            "type": "Feature",
            "properties": {},
            "geometry": {
             "type": "Polygon",
             "coordinates": [
              [
               [
                -80.75047,
                34.16067
               ],
               [
                -80.73962,
                34.16065
               ],
               [
                -80.73959,
                34.16967
               ],
               [
                -80.75044,
                34.16969
               ],
               [
                -80.75047,
                34.16067
               ]
              ]
             ]
            },
            "bbox": [
             -80.75047,
             34.16065,
             -80.73959,
             34.16969
            ]
           },
           {
            "id": "10",
            "type": "Feature",
            "properties": {},
            "geometry": {
             "type": "Polygon",
             "coordinates": [
              [
               [
                -80.72888,
                34.12455
               ],
               [
                -80.71804,
                34.12453
               ],
               [
                -80.71801,
                34.13355
               ],
               [
                -80.72885,
                34.13357
               ],
               [
                -80.72888,
                34.12455
               ]
              ]
             ]
            },
            "bbox": [
             -80.72888,
             34.12453,
             -80.71801,
             34.13357
            ]
           },
           {
            "id": "11",
            "type": "Feature",
            "properties": {},
            "geometry": {
             "type": "Polygon",
             "coordinates": [
              [
               [
                -80.72877,
                34.16063
               ],
               [
                -80.71792,
                34.1606
               ],
               [
                -80.71789,
                34.16962
               ],
               [
                -80.72874,
                34.16965
               ],
               [
                -80.72877,
                34.16063
               ]
              ]
             ]
            },
            "bbox": [
             -80.72877,
             34.1606,
             -80.71789,
             34.16965
            ]
           },
           {
            "id": "12",
            "type": "Feature",
            "properties": {},
            "geometry": {
             "type": "Polygon",
             "coordinates": [
              [
               [
                -80.7181,
                34.10649
               ],
               [
                -80.70726,
                34.10647
               ],
               [
                -80.70723,
                34.11548
               ],
               [
                -80.71807,
                34.11551
               ],
               [
                -80.7181,
                34.10649
               ]
              ]
             ]
            },
            "bbox": [
             -80.7181,
             34.10647,
             -80.70723,
             34.11551
            ]
           }
          ],
          "bbox": [
           -81.16239,
           33.96241,
           -80.70723,
           34.16969
          ]
         },
         "hovertemplate": "index=%{location}<br>cdi=%{z}<extra></extra>",
         "locations": [
          0,
          1,
          2,
          3,
          4,
          5,
          6,
          7,
          8,
          9,
          10,
          11,
          12
         ],
         "name": "",
         "subplot": "mapbox",
         "z": [
          2.7,
          2.0,
          2.0,
          2.2,
          2.2,
          2.7,
          2.2,
          3.8,
          2.2,
          2.7,
          2.2,
          3.1,
          2.2
         ],
         "type": "choroplethmapbox"
        }
       ],
       "layout": {
        "template": {
         "data": {
          "histogram2dcontour": [
           {
            "type": "histogram2dcontour",
            "colorbar": {
             "outlinewidth": 0,
             "ticks": ""
            },
            "colorscale": [
             [
              0.0,
              "#0d0887"
             ],
             [
              0.1111111111111111,
              "#46039f"
             ],
             [
              0.2222222222222222,
              "#7201a8"
             ],
             [
              0.3333333333333333,
              "#9c179e"
             ],
             [
              0.4444444444444444,
              "#bd3786"
             ],
             [
              0.5555555555555556,
              "#d8576b"
             ],
             [
              0.6666666666666666,
              "#ed7953"
             ],
             [
              0.7777777777777778,
              "#fb9f3a"
             ],
             [
              0.8888888888888888,
              "#fdca26"
             ],
             [
              1.0,
              "#f0f921"
             ]
            ]
           }
          ],
          "choropleth": [
           {
            "type": "choropleth",
            "colorbar": {
             "outlinewidth": 0,
             "ticks": ""
            }
           }
          ],
          "histogram2d": [
           {
            "type": "histogram2d",
            "colorbar": {
             "outlinewidth": 0,
             "ticks": ""
            },
            "colorscale": [
             [
              0.0,
              "#0d0887"
             ],
             [
              0.1111111111111111,
              "#46039f"
             ],
             [
              0.2222222222222222,
              "#7201a8"
             ],
             [
              0.3333333333333333,
              "#9c179e"
             ],
             [
              0.4444444444444444,
              "#bd3786"
             ],
             [
              0.5555555555555556,
              "#d8576b"
             ],
             [
              0.6666666666666666,
              "#ed7953"
             ],
             [
              0.7777777777777778,
              "#fb9f3a"
             ],
             [
              0.8888888888888888,
              "#fdca26"
             ],
             [
              1.0,
              "#f0f921"
             ]
            ]
           }
          ],
          "heatmap": [
           {
            "type": "heatmap",
            "colorbar": {
             "outlinewidth": 0,
             "ticks": ""
            },
            "colorscale": [
             [
              0.0,
              "#0d0887"
             ],
             [
              0.1111111111111111,
              "#46039f"
             ],
             [
              0.2222222222222222,
              "#7201a8"
             ],
             [
              0.3333333333333333,
              "#9c179e"
             ],
             [
              0.4444444444444444,
              "#bd3786"
             ],
             [
              0.5555555555555556,
              "#d8576b"
             ],
             [
              0.6666666666666666,
              "#ed7953"
             ],
             [
              0.7777777777777778,
              "#fb9f3a"
             ],
             [
              0.8888888888888888,
              "#fdca26"
             ],
             [
              1.0,
              "#f0f921"
             ]
            ]
           }
          ],
          "heatmapgl": [
           {
            "type": "heatmapgl",
            "colorbar": {
             "outlinewidth": 0,
             "ticks": ""
            },
            "colorscale": [
             [
              0.0,
              "#0d0887"
             ],
             [
              0.1111111111111111,
              "#46039f"
             ],
             [
              0.2222222222222222,
              "#7201a8"
             ],
             [
              0.3333333333333333,
              "#9c179e"
             ],
             [
              0.4444444444444444,
              "#bd3786"
             ],
             [
              0.5555555555555556,
              "#d8576b"
             ],
             [
              0.6666666666666666,
              "#ed7953"
             ],
             [
              0.7777777777777778,
              "#fb9f3a"
             ],
             [
              0.8888888888888888,
              "#fdca26"
             ],
             [
              1.0,
              "#f0f921"
             ]
            ]
           }
          ],
          "contourcarpet": [
           {
            "type": "contourcarpet",
            "colorbar": {
             "outlinewidth": 0,
             "ticks": ""
            }
           }
          ],
          "contour": [
           {
            "type": "contour",
            "colorbar": {
             "outlinewidth": 0,
             "ticks": ""
            },
            "colorscale": [
             [
              0.0,
              "#0d0887"
             ],
             [
              0.1111111111111111,
              "#46039f"
             ],
             [
              0.2222222222222222,
              "#7201a8"
             ],
             [
              0.3333333333333333,
              "#9c179e"
             ],
             [
              0.4444444444444444,
              "#bd3786"
             ],
             [
              0.5555555555555556,
              "#d8576b"
             ],
             [
              0.6666666666666666,
              "#ed7953"
             ],
             [
              0.7777777777777778,
              "#fb9f3a"
             ],
             [
              0.8888888888888888,
              "#fdca26"
             ],
             [
              1.0,
              "#f0f921"
             ]
            ]
           }
          ],
          "surface": [
           {
            "type": "surface",
            "colorbar": {
             "outlinewidth": 0,
             "ticks": ""
            },
            "colorscale": [
             [
              0.0,
              "#0d0887"
             ],
             [
              0.1111111111111111,
              "#46039f"
             ],
             [
              0.2222222222222222,
              "#7201a8"
             ],
             [
              0.3333333333333333,
              "#9c179e"
             ],
             [
              0.4444444444444444,
              "#bd3786"
             ],
             [
              0.5555555555555556,
              "#d8576b"
             ],
             [
              0.6666666666666666,
              "#ed7953"
             ],
             [
              0.7777777777777778,
              "#fb9f3a"
             ],
             [
              0.8888888888888888,
              "#fdca26"
             ],
             [
              1.0,
              "#f0f921"
             ]
            ]
           }
          ],
          "mesh3d": [
           {
            "type": "mesh3d",
            "colorbar": {
             "outlinewidth": 0,
             "ticks": ""
            }
           }
          ],
          "scatter": [
           {
            "marker": {
             "line": {
              "color": "#283442"
             }
            },
            "type": "scatter"
           }
          ],
          "parcoords": [
           {
            "type": "parcoords",
            "line": {
             "colorbar": {
              "outlinewidth": 0,
              "ticks": ""
             }
            }
           }
          ],
          "scatterpolargl": [
           {
            "type": "scatterpolargl",
            "marker": {
             "colorbar": {
              "outlinewidth": 0,
              "ticks": ""
             }
            }
           }
          ],
          "bar": [
           {
            "error_x": {
             "color": "#f2f5fa"
            },
            "error_y": {
             "color": "#f2f5fa"
            },
            "marker": {
             "line": {
              "color": "rgb(17,17,17)",
              "width": 0.5
             },
             "pattern": {
              "fillmode": "overlay",
              "size": 10,
              "solidity": 0.2
             }
            },
            "type": "bar"
           }
          ],
          "scattergeo": [
           {
            "type": "scattergeo",
            "marker": {
             "colorbar": {
              "outlinewidth": 0,
              "ticks": ""
             }
            }
           }
          ],
          "scatterpolar": [
           {
            "type": "scatterpolar",
            "marker": {
             "colorbar": {
              "outlinewidth": 0,
              "ticks": ""
             }
            }
           }
          ],
          "histogram": [
           {
            "marker": {
             "pattern": {
              "fillmode": "overlay",
              "size": 10,
              "solidity": 0.2
             }
            },
            "type": "histogram"
           }
          ],
          "scattergl": [
           {
            "marker": {
             "line": {
              "color": "#283442"
             }
            },
            "type": "scattergl"
           }
          ],
          "scatter3d": [
           {
            "type": "scatter3d",
            "line": {
             "colorbar": {
              "outlinewidth": 0,
              "ticks": ""
             }
            },
            "marker": {
             "colorbar": {
              "outlinewidth": 0,
              "ticks": ""
             }
            }
           }
          ],
          "scattermapbox": [
           {
            "type": "scattermapbox",
            "marker": {
             "colorbar": {
              "outlinewidth": 0,
              "ticks": ""
             }
            }
           }
          ],
          "scatterternary": [
           {
            "type": "scatterternary",
            "marker": {
             "colorbar": {
              "outlinewidth": 0,
              "ticks": ""
             }
            }
           }
          ],
          "scattercarpet": [
           {
            "type": "scattercarpet",
            "marker": {
             "colorbar": {
              "outlinewidth": 0,
              "ticks": ""
             }
            }
           }
          ],
          "carpet": [
           {
            "aaxis": {
             "endlinecolor": "#A2B1C6",
             "gridcolor": "#506784",
             "linecolor": "#506784",
             "minorgridcolor": "#506784",
             "startlinecolor": "#A2B1C6"
            },
            "baxis": {
             "endlinecolor": "#A2B1C6",
             "gridcolor": "#506784",
             "linecolor": "#506784",
             "minorgridcolor": "#506784",
             "startlinecolor": "#A2B1C6"
            },
            "type": "carpet"
           }
          ],
          "table": [
           {
            "cells": {
             "fill": {
              "color": "#506784"
             },
             "line": {
              "color": "rgb(17,17,17)"
             }
            },
            "header": {
             "fill": {
              "color": "#2a3f5f"
             },
             "line": {
              "color": "rgb(17,17,17)"
             }
            },
            "type": "table"
           }
          ],
          "barpolar": [
           {
            "marker": {
             "line": {
              "color": "rgb(17,17,17)",
              "width": 0.5
             },
             "pattern": {
              "fillmode": "overlay",
              "size": 10,
              "solidity": 0.2
             }
            },
            "type": "barpolar"
           }
          ],
          "pie": [
           {
            "automargin": true,
            "type": "pie"
           }
          ]
         },
         "layout": {
          "autotypenumbers": "strict",
          "colorway": [
           "#636efa",
           "#EF553B",
           "#00cc96",
           "#ab63fa",
           "#FFA15A",
           "#19d3f3",
           "#FF6692",
           "#B6E880",
           "#FF97FF",
           "#FECB52"
          ],
          "font": {
           "color": "#f2f5fa"
          },
          "hovermode": "closest",
          "hoverlabel": {
           "align": "left"
          },
          "paper_bgcolor": "rgb(17,17,17)",
          "plot_bgcolor": "rgb(17,17,17)",
          "polar": {
           "bgcolor": "rgb(17,17,17)",
           "angularaxis": {
            "gridcolor": "#506784",
            "linecolor": "#506784",
            "ticks": ""
           },
           "radialaxis": {
            "gridcolor": "#506784",
            "linecolor": "#506784",
            "ticks": ""
           }
          },
          "ternary": {
           "bgcolor": "rgb(17,17,17)",
           "aaxis": {
            "gridcolor": "#506784",
            "linecolor": "#506784",
            "ticks": ""
           },
           "baxis": {
            "gridcolor": "#506784",
            "linecolor": "#506784",
            "ticks": ""
           },
           "caxis": {
            "gridcolor": "#506784",
            "linecolor": "#506784",
            "ticks": ""
           }
          },
          "coloraxis": {
           "colorbar": {
            "outlinewidth": 0,
            "ticks": ""
           }
          },
          "colorscale": {
           "sequential": [
            [
             0.0,
             "#0d0887"
            ],
            [
             0.1111111111111111,
             "#46039f"
            ],
            [
             0.2222222222222222,
             "#7201a8"
            ],
            [
             0.3333333333333333,
             "#9c179e"
            ],
            [
             0.4444444444444444,
             "#bd3786"
            ],
            [
             0.5555555555555556,
             "#d8576b"
            ],
            [
             0.6666666666666666,
             "#ed7953"
            ],
            [
             0.7777777777777778,
             "#fb9f3a"
            ],
            [
             0.8888888888888888,
             "#fdca26"
            ],
            [
             1.0,
             "#f0f921"
            ]
           ],
           "sequentialminus": [
            [
             0.0,
             "#0d0887"
            ],
            [
             0.1111111111111111,
             "#46039f"
            ],
            [
             0.2222222222222222,
             "#7201a8"
            ],
            [
             0.3333333333333333,
             "#9c179e"
            ],
            [
             0.4444444444444444,
             "#bd3786"
            ],
            [
             0.5555555555555556,
             "#d8576b"
            ],
            [
             0.6666666666666666,
             "#ed7953"
            ],
            [
             0.7777777777777778,
             "#fb9f3a"
            ],
            [
             0.8888888888888888,
             "#fdca26"
            ],
            [
             1.0,
             "#f0f921"
            ]
           ],
           "diverging": [
            [
             0,
             "#8e0152"
            ],
            [
             0.1,
             "#c51b7d"
            ],
            [
             0.2,
             "#de77ae"
            ],
            [
             0.3,
             "#f1b6da"
            ],
            [
             0.4,
             "#fde0ef"
            ],
            [
             0.5,
             "#f7f7f7"
            ],
            [
             0.6,
             "#e6f5d0"
            ],
            [
             0.7,
             "#b8e186"
            ],
            [
             0.8,
             "#7fbc41"
            ],
            [
             0.9,
             "#4d9221"
            ],
            [
             1,
             "#276419"
            ]
           ]
          },
          "xaxis": {
           "gridcolor": "#283442",
           "linecolor": "#506784",
           "ticks": "",
           "title": {
            "standoff": 15
           },
           "zerolinecolor": "#283442",
           "automargin": true,
           "zerolinewidth": 2
          },
          "yaxis": {
           "gridcolor": "#283442",
           "linecolor": "#506784",
           "ticks": "",
           "title": {
            "standoff": 15
           },
           "zerolinecolor": "#283442",
           "automargin": true,
           "zerolinewidth": 2
          },
          "scene": {
           "xaxis": {
            "backgroundcolor": "rgb(17,17,17)",
            "gridcolor": "#506784",
            "linecolor": "#506784",
            "showbackground": true,
            "ticks": "",
            "zerolinecolor": "#C8D4E3",
            "gridwidth": 2
           },
           "yaxis": {
            "backgroundcolor": "rgb(17,17,17)",
            "gridcolor": "#506784",
            "linecolor": "#506784",
            "showbackground": true,
            "ticks": "",
            "zerolinecolor": "#C8D4E3",
            "gridwidth": 2
           },
           "zaxis": {
            "backgroundcolor": "rgb(17,17,17)",
            "gridcolor": "#506784",
            "linecolor": "#506784",
            "showbackground": true,
            "ticks": "",
            "zerolinecolor": "#C8D4E3",
            "gridwidth": 2
           }
          },
          "shapedefaults": {
           "line": {
            "color": "#f2f5fa"
           }
          },
          "annotationdefaults": {
           "arrowcolor": "#f2f5fa",
           "arrowhead": 0,
           "arrowwidth": 1
          },
          "geo": {
           "bgcolor": "rgb(17,17,17)",
           "landcolor": "rgb(17,17,17)",
           "subunitcolor": "#506784",
           "showland": true,
           "showlakes": true,
           "lakecolor": "rgb(17,17,17)"
          },
          "title": {
           "x": 0.05
          },
          "updatemenudefaults": {
           "bgcolor": "#506784",
           "borderwidth": 0
          },
          "sliderdefaults": {
           "bgcolor": "#C8D4E3",
           "borderwidth": 1,
           "bordercolor": "rgb(17,17,17)",
           "tickwidth": 0
          },
          "mapbox": {
           "style": "dark"
          }
         }
        },
        "mapbox": {
         "domain": {
          "x": [
           0.0,
           1.0
          ],
          "y": [
           0.0,
           1.0
          ]
         },
         "center": {
          "lat": 34.0007,
          "lon": -81.0348
         },
         "accesstoken": "pk.eyJ1IjoibWlja3RoZWxpbnV4Z2VlayIsImEiOiJjbDQzN3U0YTUwODk5M3BxbnJtZjVweDJ1In0.jyMNmtV_85OzRrfmDsQXrg\n",
         "zoom": 7.5,
         "style": "streets"
        },
        "coloraxis": {
         "colorbar": {
          "title": {
           "text": "cdi"
          }
         },
         "colorscale": [
          [
           0.0,
           "#0d0887"
          ],
          [
           0.1111111111111111,
           "#46039f"
          ],
          [
           0.2222222222222222,
           "#7201a8"
          ],
          [
           0.3333333333333333,
           "#9c179e"
          ],
          [
           0.4444444444444444,
           "#bd3786"
          ],
          [
           0.5555555555555556,
           "#d8576b"
          ],
          [
           0.6666666666666666,
           "#ed7953"
          ],
          [
           0.7777777777777778,
           "#fb9f3a"
          ],
          [
           0.8888888888888888,
           "#fdca26"
          ],
          [
           1.0,
           "#f0f921"
          ]
         ]
        },
        "legend": {
         "tracegroupgap": 0
        },
        "margin": {
         "t": 60
        }
       },
       "config": {
        "plotlyServerURL": "https://plot.ly"
       }
      },
      "text/html": "<div>                            <div id=\"00e0b7e1-3f78-462e-a945-927272f996c8\" class=\"plotly-graph-div\" style=\"height:525px; width:100%;\"></div>            <script type=\"text/javascript\">                require([\"plotly\"], function(Plotly) {                    window.PLOTLYENV=window.PLOTLYENV || {};                                    if (document.getElementById(\"00e0b7e1-3f78-462e-a945-927272f996c8\")) {                    Plotly.newPlot(                        \"00e0b7e1-3f78-462e-a945-927272f996c8\",                        [{\"coloraxis\":\"coloraxis\",\"geojson\":{\"type\":\"FeatureCollection\",\"features\":[{\"id\":\"0\",\"type\":\"Feature\",\"properties\":{},\"geometry\":{\"type\":\"Polygon\",\"coordinates\":[[[-81.16237,33.97142],[-81.15154,33.97144],[-81.15156,33.98046],[-81.16239,33.98044],[-81.16237,33.97142]]]},\"bbox\":[-81.16239,33.97142,-81.15154,33.98046]},{\"id\":\"1\",\"type\":\"Feature\",\"properties\":{},\"geometry\":{\"type\":\"Polygon\",\"coordinates\":[[[-80.86982,34.15184],[-80.85897,34.15183],[-80.85896,34.16085],[-80.86981,34.16086],[-80.86982,34.15184]]]},\"bbox\":[-80.86982,34.15183,-80.85896,34.16086]},{\"id\":\"2\",\"type\":\"Feature\",\"properties\":{},\"geometry\":{\"type\":\"Polygon\",\"coordinates\":[[[-80.84846,33.96242],[-80.83764,33.96241],[-80.83762,33.97142],[-80.84845,33.97144],[-80.84846,33.96242]]]},\"bbox\":[-80.84846,33.96241,-80.83762,33.97144]},{\"id\":\"3\",\"type\":\"Feature\",\"properties\":{},\"geometry\":{\"type\":\"Polygon\",\"coordinates\":[[[-80.82643,34.15179],[-80.81558,34.15177],[-80.81556,34.16079],[-80.82641,34.1608],[-80.82643,34.15179]]]},\"bbox\":[-80.82643,34.15177,-80.81556,34.1608]},{\"id\":\"4\",\"type\":\"Feature\",\"properties\":{},\"geometry\":{\"type\":\"Polygon\",\"coordinates\":[[[-80.79393,34.1337],[-80.78308,34.13368],[-80.78306,34.1427],[-80.79391,34.14272],[-80.79393,34.1337]]]},\"bbox\":[-80.79393,34.13368,-80.78306,34.14272]},{\"id\":\"5\",\"type\":\"Feature\",\"properties\":{},\"geometry\":{\"type\":\"Polygon\",\"coordinates\":[[[-80.76137,34.14266],[-80.75052,34.14264],[-80.75049,34.15165],[-80.76134,34.15168],[-80.76137,34.14266]]]},\"bbox\":[-80.76137,34.14264,-80.75049,34.15168]},{\"id\":\"6\",\"type\":\"Feature\",\"properties\":{},\"geometry\":{\"type\":\"Polygon\",\"coordinates\":[[[-80.76134,34.15168],[-80.75049,34.15165],[-80.75047,34.16067],[-80.76132,34.16069],[-80.76134,34.15168]]]},\"bbox\":[-80.76134,34.15165,-80.75047,34.16069]},{\"id\":\"7\",\"type\":\"Feature\",\"properties\":{},\"geometry\":{\"type\":\"Polygon\",\"coordinates\":[[[-80.75052,34.14264],[-80.73967,34.14261],[-80.73964,34.15163],[-80.75049,34.15165],[-80.75052,34.14264]]]},\"bbox\":[-80.75052,34.14261,-80.73964,34.15165]},{\"id\":\"8\",\"type\":\"Feature\",\"properties\":{},\"geometry\":{\"type\":\"Polygon\",\"coordinates\":[[[-80.75049,34.15165],[-80.73964,34.15163],[-80.73962,34.16065],[-80.75047,34.16067],[-80.75049,34.15165]]]},\"bbox\":[-80.75049,34.15163,-80.73962,34.16067]},{\"id\":\"9\",\"type\":\"Feature\",\"properties\":{},\"geometry\":{\"type\":\"Polygon\",\"coordinates\":[[[-80.75047,34.16067],[-80.73962,34.16065],[-80.73959,34.16967],[-80.75044,34.16969],[-80.75047,34.16067]]]},\"bbox\":[-80.75047,34.16065,-80.73959,34.16969]},{\"id\":\"10\",\"type\":\"Feature\",\"properties\":{},\"geometry\":{\"type\":\"Polygon\",\"coordinates\":[[[-80.72888,34.12455],[-80.71804,34.12453],[-80.71801,34.13355],[-80.72885,34.13357],[-80.72888,34.12455]]]},\"bbox\":[-80.72888,34.12453,-80.71801,34.13357]},{\"id\":\"11\",\"type\":\"Feature\",\"properties\":{},\"geometry\":{\"type\":\"Polygon\",\"coordinates\":[[[-80.72877,34.16063],[-80.71792,34.1606],[-80.71789,34.16962],[-80.72874,34.16965],[-80.72877,34.16063]]]},\"bbox\":[-80.72877,34.1606,-80.71789,34.16965]},{\"id\":\"12\",\"type\":\"Feature\",\"properties\":{},\"geometry\":{\"type\":\"Polygon\",\"coordinates\":[[[-80.7181,34.10649],[-80.70726,34.10647],[-80.70723,34.11548],[-80.71807,34.11551],[-80.7181,34.10649]]]},\"bbox\":[-80.7181,34.10647,-80.70723,34.11551]}],\"bbox\":[-81.16239,33.96241,-80.70723,34.16969]},\"hovertemplate\":\"index=%{location}<br>cdi=%{z}<extra></extra>\",\"locations\":[0,1,2,3,4,5,6,7,8,9,10,11,12],\"name\":\"\",\"subplot\":\"mapbox\",\"z\":[2.7,2.0,2.0,2.2,2.2,2.7,2.2,3.8,2.2,2.7,2.2,3.1,2.2],\"type\":\"choroplethmapbox\"}],                        {\"template\":{\"data\":{\"histogram2dcontour\":[{\"type\":\"histogram2dcontour\",\"colorbar\":{\"outlinewidth\":0,\"ticks\":\"\"},\"colorscale\":[[0.0,\"#0d0887\"],[0.1111111111111111,\"#46039f\"],[0.2222222222222222,\"#7201a8\"],[0.3333333333333333,\"#9c179e\"],[0.4444444444444444,\"#bd3786\"],[0.5555555555555556,\"#d8576b\"],[0.6666666666666666,\"#ed7953\"],[0.7777777777777778,\"#fb9f3a\"],[0.8888888888888888,\"#fdca26\"],[1.0,\"#f0f921\"]]}],\"choropleth\":[{\"type\":\"choropleth\",\"colorbar\":{\"outlinewidth\":0,\"ticks\":\"\"}}],\"histogram2d\":[{\"type\":\"histogram2d\",\"colorbar\":{\"outlinewidth\":0,\"ticks\":\"\"},\"colorscale\":[[0.0,\"#0d0887\"],[0.1111111111111111,\"#46039f\"],[0.2222222222222222,\"#7201a8\"],[0.3333333333333333,\"#9c179e\"],[0.4444444444444444,\"#bd3786\"],[0.5555555555555556,\"#d8576b\"],[0.6666666666666666,\"#ed7953\"],[0.7777777777777778,\"#fb9f3a\"],[0.8888888888888888,\"#fdca26\"],[1.0,\"#f0f921\"]]}],\"heatmap\":[{\"type\":\"heatmap\",\"colorbar\":{\"outlinewidth\":0,\"ticks\":\"\"},\"colorscale\":[[0.0,\"#0d0887\"],[0.1111111111111111,\"#46039f\"],[0.2222222222222222,\"#7201a8\"],[0.3333333333333333,\"#9c179e\"],[0.4444444444444444,\"#bd3786\"],[0.5555555555555556,\"#d8576b\"],[0.6666666666666666,\"#ed7953\"],[0.7777777777777778,\"#fb9f3a\"],[0.8888888888888888,\"#fdca26\"],[1.0,\"#f0f921\"]]}],\"heatmapgl\":[{\"type\":\"heatmapgl\",\"colorbar\":{\"outlinewidth\":0,\"ticks\":\"\"},\"colorscale\":[[0.0,\"#0d0887\"],[0.1111111111111111,\"#46039f\"],[0.2222222222222222,\"#7201a8\"],[0.3333333333333333,\"#9c179e\"],[0.4444444444444444,\"#bd3786\"],[0.5555555555555556,\"#d8576b\"],[0.6666666666666666,\"#ed7953\"],[0.7777777777777778,\"#fb9f3a\"],[0.8888888888888888,\"#fdca26\"],[1.0,\"#f0f921\"]]}],\"contourcarpet\":[{\"type\":\"contourcarpet\",\"colorbar\":{\"outlinewidth\":0,\"ticks\":\"\"}}],\"contour\":[{\"type\":\"contour\",\"colorbar\":{\"outlinewidth\":0,\"ticks\":\"\"},\"colorscale\":[[0.0,\"#0d0887\"],[0.1111111111111111,\"#46039f\"],[0.2222222222222222,\"#7201a8\"],[0.3333333333333333,\"#9c179e\"],[0.4444444444444444,\"#bd3786\"],[0.5555555555555556,\"#d8576b\"],[0.6666666666666666,\"#ed7953\"],[0.7777777777777778,\"#fb9f3a\"],[0.8888888888888888,\"#fdca26\"],[1.0,\"#f0f921\"]]}],\"surface\":[{\"type\":\"surface\",\"colorbar\":{\"outlinewidth\":0,\"ticks\":\"\"},\"colorscale\":[[0.0,\"#0d0887\"],[0.1111111111111111,\"#46039f\"],[0.2222222222222222,\"#7201a8\"],[0.3333333333333333,\"#9c179e\"],[0.4444444444444444,\"#bd3786\"],[0.5555555555555556,\"#d8576b\"],[0.6666666666666666,\"#ed7953\"],[0.7777777777777778,\"#fb9f3a\"],[0.8888888888888888,\"#fdca26\"],[1.0,\"#f0f921\"]]}],\"mesh3d\":[{\"type\":\"mesh3d\",\"colorbar\":{\"outlinewidth\":0,\"ticks\":\"\"}}],\"scatter\":[{\"marker\":{\"line\":{\"color\":\"#283442\"}},\"type\":\"scatter\"}],\"parcoords\":[{\"type\":\"parcoords\",\"line\":{\"colorbar\":{\"outlinewidth\":0,\"ticks\":\"\"}}}],\"scatterpolargl\":[{\"type\":\"scatterpolargl\",\"marker\":{\"colorbar\":{\"outlinewidth\":0,\"ticks\":\"\"}}}],\"bar\":[{\"error_x\":{\"color\":\"#f2f5fa\"},\"error_y\":{\"color\":\"#f2f5fa\"},\"marker\":{\"line\":{\"color\":\"rgb(17,17,17)\",\"width\":0.5},\"pattern\":{\"fillmode\":\"overlay\",\"size\":10,\"solidity\":0.2}},\"type\":\"bar\"}],\"scattergeo\":[{\"type\":\"scattergeo\",\"marker\":{\"colorbar\":{\"outlinewidth\":0,\"ticks\":\"\"}}}],\"scatterpolar\":[{\"type\":\"scatterpolar\",\"marker\":{\"colorbar\":{\"outlinewidth\":0,\"ticks\":\"\"}}}],\"histogram\":[{\"marker\":{\"pattern\":{\"fillmode\":\"overlay\",\"size\":10,\"solidity\":0.2}},\"type\":\"histogram\"}],\"scattergl\":[{\"marker\":{\"line\":{\"color\":\"#283442\"}},\"type\":\"scattergl\"}],\"scatter3d\":[{\"type\":\"scatter3d\",\"line\":{\"colorbar\":{\"outlinewidth\":0,\"ticks\":\"\"}},\"marker\":{\"colorbar\":{\"outlinewidth\":0,\"ticks\":\"\"}}}],\"scattermapbox\":[{\"type\":\"scattermapbox\",\"marker\":{\"colorbar\":{\"outlinewidth\":0,\"ticks\":\"\"}}}],\"scatterternary\":[{\"type\":\"scatterternary\",\"marker\":{\"colorbar\":{\"outlinewidth\":0,\"ticks\":\"\"}}}],\"scattercarpet\":[{\"type\":\"scattercarpet\",\"marker\":{\"colorbar\":{\"outlinewidth\":0,\"ticks\":\"\"}}}],\"carpet\":[{\"aaxis\":{\"endlinecolor\":\"#A2B1C6\",\"gridcolor\":\"#506784\",\"linecolor\":\"#506784\",\"minorgridcolor\":\"#506784\",\"startlinecolor\":\"#A2B1C6\"},\"baxis\":{\"endlinecolor\":\"#A2B1C6\",\"gridcolor\":\"#506784\",\"linecolor\":\"#506784\",\"minorgridcolor\":\"#506784\",\"startlinecolor\":\"#A2B1C6\"},\"type\":\"carpet\"}],\"table\":[{\"cells\":{\"fill\":{\"color\":\"#506784\"},\"line\":{\"color\":\"rgb(17,17,17)\"}},\"header\":{\"fill\":{\"color\":\"#2a3f5f\"},\"line\":{\"color\":\"rgb(17,17,17)\"}},\"type\":\"table\"}],\"barpolar\":[{\"marker\":{\"line\":{\"color\":\"rgb(17,17,17)\",\"width\":0.5},\"pattern\":{\"fillmode\":\"overlay\",\"size\":10,\"solidity\":0.2}},\"type\":\"barpolar\"}],\"pie\":[{\"automargin\":true,\"type\":\"pie\"}]},\"layout\":{\"autotypenumbers\":\"strict\",\"colorway\":[\"#636efa\",\"#EF553B\",\"#00cc96\",\"#ab63fa\",\"#FFA15A\",\"#19d3f3\",\"#FF6692\",\"#B6E880\",\"#FF97FF\",\"#FECB52\"],\"font\":{\"color\":\"#f2f5fa\"},\"hovermode\":\"closest\",\"hoverlabel\":{\"align\":\"left\"},\"paper_bgcolor\":\"rgb(17,17,17)\",\"plot_bgcolor\":\"rgb(17,17,17)\",\"polar\":{\"bgcolor\":\"rgb(17,17,17)\",\"angularaxis\":{\"gridcolor\":\"#506784\",\"linecolor\":\"#506784\",\"ticks\":\"\"},\"radialaxis\":{\"gridcolor\":\"#506784\",\"linecolor\":\"#506784\",\"ticks\":\"\"}},\"ternary\":{\"bgcolor\":\"rgb(17,17,17)\",\"aaxis\":{\"gridcolor\":\"#506784\",\"linecolor\":\"#506784\",\"ticks\":\"\"},\"baxis\":{\"gridcolor\":\"#506784\",\"linecolor\":\"#506784\",\"ticks\":\"\"},\"caxis\":{\"gridcolor\":\"#506784\",\"linecolor\":\"#506784\",\"ticks\":\"\"}},\"coloraxis\":{\"colorbar\":{\"outlinewidth\":0,\"ticks\":\"\"}},\"colorscale\":{\"sequential\":[[0.0,\"#0d0887\"],[0.1111111111111111,\"#46039f\"],[0.2222222222222222,\"#7201a8\"],[0.3333333333333333,\"#9c179e\"],[0.4444444444444444,\"#bd3786\"],[0.5555555555555556,\"#d8576b\"],[0.6666666666666666,\"#ed7953\"],[0.7777777777777778,\"#fb9f3a\"],[0.8888888888888888,\"#fdca26\"],[1.0,\"#f0f921\"]],\"sequentialminus\":[[0.0,\"#0d0887\"],[0.1111111111111111,\"#46039f\"],[0.2222222222222222,\"#7201a8\"],[0.3333333333333333,\"#9c179e\"],[0.4444444444444444,\"#bd3786\"],[0.5555555555555556,\"#d8576b\"],[0.6666666666666666,\"#ed7953\"],[0.7777777777777778,\"#fb9f3a\"],[0.8888888888888888,\"#fdca26\"],[1.0,\"#f0f921\"]],\"diverging\":[[0,\"#8e0152\"],[0.1,\"#c51b7d\"],[0.2,\"#de77ae\"],[0.3,\"#f1b6da\"],[0.4,\"#fde0ef\"],[0.5,\"#f7f7f7\"],[0.6,\"#e6f5d0\"],[0.7,\"#b8e186\"],[0.8,\"#7fbc41\"],[0.9,\"#4d9221\"],[1,\"#276419\"]]},\"xaxis\":{\"gridcolor\":\"#283442\",\"linecolor\":\"#506784\",\"ticks\":\"\",\"title\":{\"standoff\":15},\"zerolinecolor\":\"#283442\",\"automargin\":true,\"zerolinewidth\":2},\"yaxis\":{\"gridcolor\":\"#283442\",\"linecolor\":\"#506784\",\"ticks\":\"\",\"title\":{\"standoff\":15},\"zerolinecolor\":\"#283442\",\"automargin\":true,\"zerolinewidth\":2},\"scene\":{\"xaxis\":{\"backgroundcolor\":\"rgb(17,17,17)\",\"gridcolor\":\"#506784\",\"linecolor\":\"#506784\",\"showbackground\":true,\"ticks\":\"\",\"zerolinecolor\":\"#C8D4E3\",\"gridwidth\":2},\"yaxis\":{\"backgroundcolor\":\"rgb(17,17,17)\",\"gridcolor\":\"#506784\",\"linecolor\":\"#506784\",\"showbackground\":true,\"ticks\":\"\",\"zerolinecolor\":\"#C8D4E3\",\"gridwidth\":2},\"zaxis\":{\"backgroundcolor\":\"rgb(17,17,17)\",\"gridcolor\":\"#506784\",\"linecolor\":\"#506784\",\"showbackground\":true,\"ticks\":\"\",\"zerolinecolor\":\"#C8D4E3\",\"gridwidth\":2}},\"shapedefaults\":{\"line\":{\"color\":\"#f2f5fa\"}},\"annotationdefaults\":{\"arrowcolor\":\"#f2f5fa\",\"arrowhead\":0,\"arrowwidth\":1},\"geo\":{\"bgcolor\":\"rgb(17,17,17)\",\"landcolor\":\"rgb(17,17,17)\",\"subunitcolor\":\"#506784\",\"showland\":true,\"showlakes\":true,\"lakecolor\":\"rgb(17,17,17)\"},\"title\":{\"x\":0.05},\"updatemenudefaults\":{\"bgcolor\":\"#506784\",\"borderwidth\":0},\"sliderdefaults\":{\"bgcolor\":\"#C8D4E3\",\"borderwidth\":1,\"bordercolor\":\"rgb(17,17,17)\",\"tickwidth\":0},\"mapbox\":{\"style\":\"dark\"}}},\"mapbox\":{\"domain\":{\"x\":[0.0,1.0],\"y\":[0.0,1.0]},\"center\":{\"lat\":34.0007,\"lon\":-81.0348},\"accesstoken\":\"pk.eyJ1IjoibWlja3RoZWxpbnV4Z2VlayIsImEiOiJjbDQzN3U0YTUwODk5M3BxbnJtZjVweDJ1In0.jyMNmtV_85OzRrfmDsQXrg\\n\",\"zoom\":7.5,\"style\":\"streets\"},\"coloraxis\":{\"colorbar\":{\"title\":{\"text\":\"cdi\"}},\"colorscale\":[[0.0,\"#0d0887\"],[0.1111111111111111,\"#46039f\"],[0.2222222222222222,\"#7201a8\"],[0.3333333333333333,\"#9c179e\"],[0.4444444444444444,\"#bd3786\"],[0.5555555555555556,\"#d8576b\"],[0.6666666666666666,\"#ed7953\"],[0.7777777777777778,\"#fb9f3a\"],[0.8888888888888888,\"#fdca26\"],[1.0,\"#f0f921\"]]},\"legend\":{\"tracegroupgap\":0},\"margin\":{\"t\":60}},                        {\"responsive\": true}                    ).then(function(){\n                            \nvar gd = document.getElementById('00e0b7e1-3f78-462e-a945-927272f996c8');\nvar x = new MutationObserver(function (mutations, observer) {{\n        var display = window.getComputedStyle(gd).display;\n        if (!display || display === 'none') {{\n            console.log([gd, 'removed!']);\n            Plotly.purge(gd);\n            observer.disconnect();\n        }}\n}});\n\n// Listen for the removal of the full notebook cells\nvar notebookContainer = gd.closest('#notebook-container');\nif (notebookContainer) {{\n    x.observe(notebookContainer, {childList: true});\n}}\n\n// Listen for the clearing of the current output cell\nvar outputEl = gd.closest('.output');\nif (outputEl) {{\n    x.observe(outputEl, {childList: true});\n}}\n\n                        })                };                });            </script>        </div>"
     },
     "metadata": {},
     "output_type": "display_data"
    }
   ],
   "source": [
    "fig = px.choropleth_mapbox(utm_geo_df,\n",
    "                          geojson=utm_geo_df.geometry,\n",
    "                          locations=utm_geo_df.index,\n",
    "                          color=\"cdi\",\n",
    "                          center={\"lat\": 34.0007, \"lon\": -81.0348},\n",
    "                          mapbox_style=\"streets\",\n",
    "                          zoom=7.5)\n",
    "\n",
    "fig.show()"
   ],
   "metadata": {
    "collapsed": false
   }
  }
 ],
 "metadata": {
  "kernelspec": {
   "display_name": "Python 3",
   "language": "python",
   "name": "python3"
  },
  "language_info": {
   "codemirror_mode": {
    "name": "ipython",
    "version": 2
   },
   "file_extension": ".py",
   "mimetype": "text/x-python",
   "name": "python",
   "nbconvert_exporter": "python",
   "pygments_lexer": "ipython2",
   "version": "2.7.6"
  }
 },
 "nbformat": 4,
 "nbformat_minor": 0
}
