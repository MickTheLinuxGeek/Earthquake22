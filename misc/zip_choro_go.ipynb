{
 "cells": [
  {
   "cell_type": "markdown",
   "source": [
    "## Plot/Prototype of Zipcode Choropleth Mapbox Using Plotly Graph Objects"
   ],
   "metadata": {
    "collapsed": false
   }
  },
  {
   "cell_type": "code",
   "execution_count": null,
   "metadata": {
    "collapsed": true
   },
   "outputs": [],
   "source": [
    "import geopandas as gpd\n",
    "import pandas as pd\n",
    "import plotly.graph_objects as go\n",
    "import json\n",
    "%matplotlib inline\n"
   ]
  },
  {
   "cell_type": "code",
   "execution_count": null,
   "outputs": [],
   "source": [
    "mapbox_access_token = open(\".mapbox_token\").read()"
   ],
   "metadata": {
    "collapsed": false
   }
  },
  {
   "cell_type": "code",
   "execution_count": null,
   "outputs": [],
   "source": [
    "cdi_zip_df = pd.read_csv('./data/test.csv')"
   ],
   "metadata": {
    "collapsed": false
   }
  },
  {
   "cell_type": "code",
   "execution_count": null,
   "outputs": [],
   "source": [
    "cdi_zip_df.rename({'# Columns: ZIP/Location': 'ZIP/Location'}, axis=1, inplace=True)"
   ],
   "metadata": {
    "collapsed": false
   }
  },
  {
   "cell_type": "code",
   "execution_count": null,
   "outputs": [],
   "source": [
    "sc_zip_df = gpd.read_file(r\"/home/mick/Work/scratch/zipcodes/tl_2010_45_zcta510.shp\")"
   ],
   "metadata": {
    "collapsed": false
   }
  },
  {
   "cell_type": "code",
   "execution_count": null,
   "outputs": [],
   "source": [
    "sc_zip_df"
   ],
   "metadata": {
    "collapsed": false
   }
  },
  {
   "cell_type": "code",
   "execution_count": null,
   "outputs": [],
   "source": [
    "cdi_zip_df['ZIP/Location'] = cdi_zip_df[['ZIP/Location']].astype('str')\n",
    "sc_zip_df['ZCTA5CE10'] = sc_zip_df[['ZCTA5CE10']].astype('str')"
   ],
   "metadata": {
    "collapsed": false
   }
  },
  {
   "cell_type": "code",
   "execution_count": null,
   "outputs": [],
   "source": [
    "df = cdi_zip_df\n",
    "geo_dff = gpd.GeoDataFrame(sc_zip_df).merge(df, left_on=\"ZCTA5CE10\", right_on='ZIP/Location').set_index('ZIP/Location')"
   ],
   "metadata": {
    "collapsed": false
   }
  },
  {
   "cell_type": "code",
   "execution_count": null,
   "outputs": [],
   "source": [
    "state_zip_json = json.loads(geo_dff.to_json())"
   ],
   "metadata": {
    "collapsed": false
   }
  },
  {
   "cell_type": "code",
   "execution_count": null,
   "outputs": [],
   "source": [
    "geo_dff.dtypes"
   ],
   "metadata": {
    "collapsed": false
   }
  },
  {
   "cell_type": "code",
   "execution_count": null,
   "outputs": [],
   "source": [
    "# geo_dff.to_file(r'./data/geo_dff.geojson', driver='GeoJSON')"
   ],
   "metadata": {
    "collapsed": false
   }
  },
  {
   "cell_type": "code",
   "execution_count": null,
   "outputs": [],
   "source": [
    "# with open(r'./data/geo_dff.geojson') as response:\n",
    "#     state_zip_json = json.load(response)"
   ],
   "metadata": {
    "collapsed": false
   }
  },
  {
   "cell_type": "code",
   "execution_count": null,
   "outputs": [],
   "source": [
    "df['ZIP/Location'] = df[['ZIP/Location']].astype('str')"
   ],
   "metadata": {
    "collapsed": false
   }
  },
  {
   "cell_type": "code",
   "execution_count": null,
   "outputs": [],
   "source": [
    "# sc_zip_df['ZCTA5CE10'] = sc_zip_df[['ZCTA5CE10']].astype('str')"
   ],
   "metadata": {
    "collapsed": false
   }
  },
  {
   "cell_type": "code",
   "execution_count": null,
   "outputs": [],
   "source": [
    "df.set_index('ZIP/Location')"
   ],
   "metadata": {
    "collapsed": false
   }
  },
  {
   "cell_type": "code",
   "execution_count": null,
   "outputs": [],
   "source": [
    "state_zip_json"
   ],
   "metadata": {
    "collapsed": false
   }
  },
  {
   "cell_type": "code",
   "execution_count": null,
   "outputs": [],
   "source": [
    "fig = go.Figure()\n",
    "fig.add_choroplethmapbox(geojson=state_zip_json, locations=df['ZIP/Location'], z=df['CDI'],\n",
    "                         colorscale='Plotly3',\n",
    "                         featureidkey='properties.ZCTA5CE10',\n",
    "                         marker={'opacity': 0.5, 'line_width': 0},\n",
    "                         showscale=False,\n",
    "                         name='',\n",
    "                         customdata=df['ZIP/Location'],\n",
    "                         hovertemplate=\"ZIP/Location: %{customdata}\")\n",
    "\n",
    "fig.add_trace(go.Scattermapbox(lon=[-80.794252],\n",
    "                               lat=[34.170983],\n",
    "                               mode='markers+lines',\n",
    "                               marker={'size': 10, 'symbol': ['star']},\n",
    "                               hovertemplate='%{lon}, %{lat}<extra></extra>',))\n",
    "\n",
    "fig.update_layout(mapbox_style=\"streets\",  #\"open-street-map\",\n",
    "                  mapbox_zoom=7.5, mapbox_center={\"lat\": 34.0007, \"lon\": -81.0348},\n",
    "                  mapbox=dict(accesstoken=mapbox_access_token),\n",
    "                  margin={\"r\":0,\"t\":0,\"l\":0,\"b\":0},)\n",
    "\n",
    "fig.show()"
   ],
   "metadata": {
    "collapsed": false
   }
  },
  {
   "cell_type": "code",
   "execution_count": null,
   "outputs": [],
   "source": [],
   "metadata": {
    "collapsed": false
   }
  }
 ],
 "metadata": {
  "kernelspec": {
   "display_name": "Python 3",
   "language": "python",
   "name": "python3"
  },
  "language_info": {
   "codemirror_mode": {
    "name": "ipython",
    "version": 2
   },
   "file_extension": ".py",
   "mimetype": "text/x-python",
   "name": "python",
   "nbconvert_exporter": "python",
   "pygments_lexer": "ipython2",
   "version": "2.7.6"
  }
 },
 "nbformat": 4,
 "nbformat_minor": 0
}
