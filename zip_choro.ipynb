{
 "cells": [
  {
   "cell_type": "markdown",
   "source": [
    "## Test/Prototype to Plot Zipcode Choropleth Map Using Plotly Express"
   ],
   "metadata": {
    "collapsed": false
   }
  },
  {
   "cell_type": "code",
   "execution_count": null,
   "metadata": {
    "collapsed": true
   },
   "outputs": [],
   "source": [
    "import geopandas as gpd\n",
    "import pandas as pd\n",
    "import plotly.express as px\n",
    "%matplotlib inline"
   ]
  },
  {
   "cell_type": "code",
   "execution_count": null,
   "outputs": [],
   "source": [
    "px.set_mapbox_access_token(open(\".mapbox_token\").read())"
   ],
   "metadata": {
    "collapsed": false
   }
  },
  {
   "cell_type": "code",
   "execution_count": null,
   "outputs": [],
   "source": [
    "cdi_df = pd.read_csv('./data/test.csv')"
   ],
   "metadata": {
    "collapsed": false
   }
  },
  {
   "cell_type": "code",
   "execution_count": null,
   "outputs": [],
   "source": [
    "# geo_df = gpd.GeoDataFrame(cdi_df, geometry=gpd.points_from_xy(cdi_df.Longitude, cdi_df.Latitude))\n",
    "cdi_df.rename({'# Columns: ZIP/Location': 'ZIP/Location'}, axis=1, inplace=True)"
   ],
   "metadata": {
    "collapsed": false
   }
  },
  {
   "cell_type": "code",
   "execution_count": null,
   "outputs": [],
   "source": [
    "state_zip = gpd.read_file(r\"/home/mick/Work/scratch/zipcodes/tl_2010_45_zcta510.shp\")"
   ],
   "metadata": {
    "collapsed": false
   }
  },
  {
   "cell_type": "code",
   "execution_count": null,
   "outputs": [],
   "source": [
    "state_zip[state_zip['ZCTA5CE10'] == '29229']"
   ],
   "metadata": {
    "collapsed": false
   }
  },
  {
   "cell_type": "code",
   "execution_count": null,
   "outputs": [],
   "source": [
    "cdi_df['ZIP/Location'] = cdi_df[['ZIP/Location']].astype('str')"
   ],
   "metadata": {
    "collapsed": false
   }
  },
  {
   "cell_type": "code",
   "execution_count": null,
   "outputs": [],
   "source": [
    "state_zip['ZCTA5CE10'] = state_zip[['ZCTA5CE10']].astype('str')"
   ],
   "metadata": {
    "collapsed": false
   }
  },
  {
   "cell_type": "code",
   "execution_count": null,
   "outputs": [],
   "source": [
    "\n",
    "# df = px.data.election()\n",
    "df = cdi_df\n",
    "# print(df.columns)\n",
    "\n",
    "geo_dff = gpd.GeoDataFrame(state_zip).merge(df, left_on=\"ZCTA5CE10\", right_on='ZIP/Location').set_index('ZIP/Location')\n",
    "# print(geo_dff)\n",
    "# print(geo_dff.columns)\n",
    "\n",
    "fig = px.choropleth_mapbox(geo_dff,\n",
    "                           geojson=geo_dff.geometry,\n",
    "                           locations=geo_dff.index,\n",
    "                           # color=\"ZCTA5CE10\",\n",
    "                           color=\"CDI\",\n",
    "                           color_continuous_scale=px.colors.sequential.Jet,\n",
    "                           center={\"lat\": 34.0007, \"lon\": -81.0348},\n",
    "                           mapbox_style=\"basic\",\n",
    "                           zoom=7.0,\n",
    "                           hover_data={'ZCTA5CE10': False},\n",
    "                           labels={'ZCTA5CE10': 'ZIP Code'})\n",
    "\n",
    "fig.update_layout(autosize=True, margin=dict(t=0, b=0, l=0, r=0))\n",
    "fig.show()\n"
   ],
   "metadata": {
    "collapsed": false
   }
  },
  {
   "cell_type": "code",
   "execution_count": null,
   "outputs": [],
   "source": [],
   "metadata": {
    "collapsed": false
   }
  }
 ],
 "metadata": {
  "kernelspec": {
   "display_name": "Python 3",
   "language": "python",
   "name": "python3"
  },
  "language_info": {
   "codemirror_mode": {
    "name": "ipython",
    "version": 2
   },
   "file_extension": ".py",
   "mimetype": "text/x-python",
   "name": "python",
   "nbconvert_exporter": "python",
   "pygments_lexer": "ipython2",
   "version": "2.7.6"
  }
 },
 "nbformat": 4,
 "nbformat_minor": 0
}
