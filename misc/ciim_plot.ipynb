{
 "cells": [
  {
   "cell_type": "markdown",
   "source": [
    "<h1><center>Community Internet Intensity Map</center></h1>"
   ],
   "metadata": {
    "collapsed": false
   }
  },
  {
   "cell_type": "code",
   "execution_count": null,
   "metadata": {
    "collapsed": true
   },
   "outputs": [],
   "source": [
    "import geopandas as gpd\n",
    "import pandas as pd\n",
    "import plotly.express as px\n",
    "import plotly.graph_objects as go\n",
    "from plotly.subplots import make_subplots\n",
    "import json"
   ]
  },
  {
   "cell_type": "code",
   "execution_count": null,
   "outputs": [],
   "source": [
    "px.set_mapbox_access_token(open(\".mapbox_token\").read())\n",
    "mapbox_access_token = open(\".mapbox_token\").read()"
   ],
   "metadata": {
    "collapsed": false
   }
  },
  {
   "cell_type": "markdown",
   "source": [
    "#### Import DYFI Geospatial Data, UTM aggregated (1km spacing)"
   ],
   "metadata": {
    "collapsed": false
   }
  },
  {
   "cell_type": "code",
   "execution_count": null,
   "outputs": [],
   "source": [
    "utm1km_geo_df = gpd.read_file(r\"./data/dyfi_geo_1km.geojson\")\n",
    "# utm1km_geo_df.to_crs(epsg=32619)"
   ],
   "metadata": {
    "collapsed": false
   }
  },
  {
   "cell_type": "code",
   "execution_count": null,
   "outputs": [],
   "source": [
    "utm1km_geo_df.set_index('cdi')"
   ],
   "metadata": {
    "collapsed": false
   }
  },
  {
   "cell_type": "markdown",
   "source": [
    "#### Import DYFI Geospatial Data, UTM aggregated (10km spacing)"
   ],
   "metadata": {
    "collapsed": false
   }
  },
  {
   "cell_type": "code",
   "execution_count": null,
   "outputs": [],
   "source": [
    "utm10km_geo_df = gpd.read_file(r\"./data/dyfi_geo_10k.geojson\")\n",
    "# utm10km_geo_df.to_crs(epsg=32619)"
   ],
   "metadata": {
    "collapsed": false
   }
  },
  {
   "cell_type": "markdown",
   "source": [
    "#### DYFI Choropleth Mapbox Plot - 1km Spacing"
   ],
   "metadata": {
    "collapsed": false
   }
  },
  {
   "cell_type": "code",
   "execution_count": null,
   "outputs": [],
   "source": [
    "fig = px.choropleth_mapbox(utm1km_geo_df,\n",
    "                           geojson=utm1km_geo_df.geometry,\n",
    "                           locations=utm1km_geo_df.index,\n",
    "                           color=\"cdi\",\n",
    "                           range_color=[0.0, 10.0],\n",
    "                           center={\"lat\": 34.0007, \"lon\": -81.0348},\n",
    "                           hover_data=[\"name\", \"nresp\", \"cdi\"],\n",
    "                           mapbox_style=\"streets\",\n",
    "                           zoom=7.5)\n",
    "\n",
    "fig.add_trace(go.Scattermapbox(lon=[-80.794252],\n",
    "                               lat=[34.170983],\n",
    "                               showlegend=False,\n",
    "                               mode='markers+lines',\n",
    "                               marker={'size': 12, 'opacity': 1, 'symbol': ['star']},\n",
    "                               hovertemplate='%{lon}, %{lat}<extra></extra>',))\n",
    "\n",
    "fig.update_layout(autosize=True, margin=dict(t=0, b=0, l=0, r=0), showlegend=True)\n",
    "\n",
    "fig.show()"
   ],
   "metadata": {
    "collapsed": false
   }
  },
  {
   "cell_type": "markdown",
   "source": [
    "#### DYFI Choropleth Mapbox Plot - 10km Spacing"
   ],
   "metadata": {
    "collapsed": false
   }
  },
  {
   "cell_type": "code",
   "execution_count": null,
   "outputs": [],
   "source": [
    "fig = px.choropleth_mapbox(utm10km_geo_df,\n",
    "                           geojson=utm10km_geo_df.geometry,\n",
    "                           locations=utm10km_geo_df.index,\n",
    "                           color=\"cdi\",\n",
    "                           opacity=0.35,\n",
    "                           range_color=[0.0, 10.0],\n",
    "                           center={\"lat\": 34.0007, \"lon\": -81.0348},\n",
    "                           hover_data=[\"name\", \"nresp\", \"cdi\"],\n",
    "                           mapbox_style=\"streets\",\n",
    "                           zoom=7.5)\n",
    "\n",
    "fig.add_trace(go.Scattermapbox(lon=[-80.794252],\n",
    "                               lat=[34.170983],\n",
    "                               showlegend=False,\n",
    "                               mode='markers+lines',\n",
    "                               marker={'size': 12, 'opacity': 1, 'symbol': ['star']},\n",
    "                               hovertemplate='%{lon}, %{lat}<extra></extra>',))\n",
    "\n",
    "fig.update_layout(autosize=True, margin=dict(t=0, b=0, l=0, r=0), showlegend=True)\n",
    "\n",
    "fig.show()"
   ],
   "metadata": {
    "collapsed": false
   }
  },
  {
   "cell_type": "markdown",
   "source": [
    "# Graph Objects Choroplethmapbox Subplots"
   ],
   "metadata": {
    "collapsed": false
   }
  },
  {
   "cell_type": "code",
   "execution_count": null,
   "outputs": [],
   "source": [
    "with open(r\"./data/dyfi_geo_1km.geojson\") as file1:\n",
    "    cdi_geo_1km_geojson = json.load(file1)"
   ],
   "metadata": {
    "collapsed": false
   }
  },
  {
   "cell_type": "code",
   "execution_count": null,
   "outputs": [],
   "source": [
    "# cdi_geo_1km_df = gpd.read_file(r\"./data/dyfi_geo_1km.geojson\")\n",
    "cdi_geo_1km_df = pd.json_normalize(cdi_geo_1km_geojson, ['features'])"
   ],
   "metadata": {
    "collapsed": false
   }
  },
  {
   "cell_type": "code",
   "execution_count": null,
   "outputs": [],
   "source": [
    "cdi_geo_1km_df"
   ],
   "metadata": {
    "collapsed": false
   }
  },
  {
   "cell_type": "markdown",
   "source": [
    "### Load DYFI Geocoded 10km Data"
   ],
   "metadata": {
    "collapsed": false
   }
  },
  {
   "cell_type": "code",
   "execution_count": null,
   "outputs": [],
   "source": [
    "with open(r\"./data/dyfi_geo_10k.geojson\") as file2:\n",
    "    cdi_geo_10km_geojson = json.load(file2)"
   ],
   "metadata": {
    "collapsed": false
   }
  },
  {
   "cell_type": "code",
   "execution_count": null,
   "outputs": [],
   "source": [
    "cdi_geo_10km_df = pd.json_normalize(cdi_geo_10km_geojson, ['features'])"
   ],
   "metadata": {
    "collapsed": false
   }
  },
  {
   "cell_type": "code",
   "execution_count": null,
   "outputs": [],
   "source": [
    "# cdi_geo_1km_dff = gpd.GeoDataFrame(cdi_geo_1km_df, geometry=gpd.points_from_xy(x=cdi_geo_1km_df.Longitude, y=cdi_geo_1km_df.Latitude))"
   ],
   "metadata": {
    "collapsed": false
   }
  },
  {
   "cell_type": "code",
   "execution_count": null,
   "outputs": [],
   "source": [
    "# cdi_geo_1km_dff = cdi_geo_1km_dff.set_crs(epsg=4326, allow_override=True)"
   ],
   "metadata": {
    "collapsed": false
   }
  },
  {
   "cell_type": "code",
   "execution_count": null,
   "outputs": [],
   "source": [
    "# cdi_geo_1km_dff.to_file(r\"./data/cdi_geo_1km.geojson\", driver='GeoJSON')"
   ],
   "metadata": {
    "collapsed": false
   }
  },
  {
   "cell_type": "code",
   "execution_count": null,
   "outputs": [],
   "source": [
    "# cdi_geo_1km_df"
   ],
   "metadata": {
    "collapsed": false
   }
  },
  {
   "cell_type": "code",
   "execution_count": null,
   "outputs": [],
   "source": [
    "# with open(r\"./data/dyfi_geo_1km.geojson\") as file1:\n",
    "#     cdi_geo_1km_geojson = json.load(file1)"
   ],
   "metadata": {
    "collapsed": false
   }
  },
  {
   "cell_type": "code",
   "execution_count": null,
   "outputs": [],
   "source": [
    "# cdi_geo_1km_geojson"
   ],
   "metadata": {
    "collapsed": false
   }
  },
  {
   "cell_type": "code",
   "execution_count": null,
   "outputs": [],
   "source": [
    "# cdi_geo_10km_dff = gpd.GeoDataFrame(cdi_geo_10km_df, geometry=gpd.points_from_xy(x=cdi_geo_10km_df.Longitude, y=cdi_geo_10km_df.Latitude))"
   ],
   "metadata": {
    "collapsed": false
   }
  },
  {
   "cell_type": "code",
   "execution_count": null,
   "outputs": [],
   "source": [
    "# cdi_geo_10km_dff = cdi_geo_10km_dff.set_crs(epsg=4326, allow_override=True)"
   ],
   "metadata": {
    "collapsed": false
   }
  },
  {
   "cell_type": "code",
   "execution_count": null,
   "outputs": [],
   "source": [
    "# cdi_geo_10km_dff.to_file(r\"./data/cdi_geo_10km.geojson\", driver='GeoJSON')"
   ],
   "metadata": {
    "collapsed": false
   }
  },
  {
   "cell_type": "code",
   "execution_count": null,
   "outputs": [],
   "source": [
    "# with open(r\"./data/dyfi_geo_10k.geojson\") as file2:\n",
    "#     cdi_geo_10km_geojson = json.load(file2)"
   ],
   "metadata": {
    "collapsed": false
   }
  },
  {
   "cell_type": "code",
   "execution_count": null,
   "outputs": [],
   "source": [
    "# fig = px.colors.sequential.swatches_continuous()\n",
    "# fig.show()"
   ],
   "metadata": {
    "collapsed": false
   }
  },
  {
   "cell_type": "code",
   "execution_count": null,
   "outputs": [],
   "source": [
    "fig = make_subplots(rows=1, cols=2, subplot_titles=['CDI Choropleth Mapbox Plot - 1km Spacing',\n",
    "                                                    'CDI Choropleth Mapbox Plot - 10km Spacing'],\n",
    "                    column_widths=[0.5, 0.5],\n",
    "                    horizontal_spacing=0.002,\n",
    "                    specs=[[{\"type\": \"mapbox\"}, {\"type\": \"mapbox\"}]])\n",
    "\n",
    "fig.add_trace(go.Choroplethmapbox(geojson=cdi_geo_1km_geojson,\n",
    "                                  locations=cdi_geo_1km_df['properties.name'],\n",
    "                                  z=cdi_geo_1km_df['properties.cdi'],\n",
    "                                  # zauto=True,\n",
    "                                  # zmin=0.0, zmax=10.0,\n",
    "                                  # autocolorscale=True,\n",
    "                                  # colorscale=\"RdBu\",\n",
    "                                  featureidkey='properties.name',\n",
    "                                  subplot=\"mapbox\",\n",
    "                                  # colorbar_title = 'First',\n",
    "                                  coloraxis=\"coloraxis\",\n",
    "                                  # colorbar=dict(thickness=10, x=0.46),\n",
    "                                  below=\"\",\n",
    "                                  marker=dict(opacity=0.75)), row=1, col=1)\n",
    "\n",
    "fig.add_trace(go.Choroplethmapbox(geojson=cdi_geo_10km_geojson,\n",
    "                                  locations=cdi_geo_10km_df['properties.name'],\n",
    "                                  z=cdi_geo_10km_df['properties.cdi'],\n",
    "                                  # zauto=True,\n",
    "                                  # zmin=0.0, zmax=10.0,\n",
    "                                  # autocolorscale=True,\n",
    "                                  # colorscale=\"RdBu\",\n",
    "                                  featureidkey='properties.name',\n",
    "                                  subplot=\"mapbox2\",\n",
    "                                  # colorbar_title=dict(text=\"CDI\"),\n",
    "                                  coloraxis=\"coloraxis\",\n",
    "                                  # colorbar=dict(thickness=10),\n",
    "                                  # below=\"\",\n",
    "                                  marker=dict(opacity=0.75)), row=1, col=2)\n",
    "\n",
    "fig.add_trace(go.Scattermapbox(lon=[-80.794252],\n",
    "                               lat=[34.170983],\n",
    "                               showlegend=False,\n",
    "                               subplot=\"mapbox\",\n",
    "                               mode='markers+lines',\n",
    "                               marker={'size': 12, 'opacity': 1, 'symbol': ['star']},\n",
    "                               hovertemplate='%{lon}, %{lat}<extra></extra>',))\n",
    "\n",
    "fig.add_trace(go.Scattermapbox(lon=[-80.794252],\n",
    "                               lat=[34.170983],\n",
    "                               showlegend=False,\n",
    "                               subplot=\"mapbox2\",\n",
    "                               mode='markers+lines',\n",
    "                               marker={'size': 12, 'opacity': 1, 'symbol': ['star']},\n",
    "                               hovertemplate='%{lon}, %{lat}<extra></extra>',))\n",
    "\n",
    "fig.update_layout(margin=dict(l=10, r=5, t=35, b=10))\n",
    "\n",
    "# fig.update_layout(mapbox1=dict(zoom=7.5, style='streets', center={\"lat\": 34.0007, \"lon\": -81.0348}, accesstoken=mapbox_access_token))\n",
    "\n",
    "fig.update_layout(mapbox1=dict(zoom=7.5, style='streets', center={\"lat\": 34.0007, \"lon\": -81.0348}, accesstoken=mapbox_access_token),\n",
    "                  mapbox2=dict(zoom=7.5, style='streets', center={\"lat\": 34.0007, \"lon\": -81.0348}, accesstoken=mapbox_access_token),\n",
    "                  coloraxis=dict(colorscale='Plotly3', cmin=0.0, cmax=10.0),\n",
    "                  coloraxis_colorbar=dict(title=\"CDI\"), showlegend=False)\n",
    "\n",
    "# fig.update_layout(autosize=True, margin=dict(t=0, b=0, l=0, r=0), showlegend=True)\n",
    "\n",
    "fig.show()"
   ],
   "metadata": {
    "collapsed": false
   }
  },
  {
   "cell_type": "code",
   "execution_count": null,
   "outputs": [],
   "source": [],
   "metadata": {
    "collapsed": false
   }
  }
 ],
 "metadata": {
  "kernelspec": {
   "display_name": "Python 3",
   "language": "python",
   "name": "python3"
  },
  "language_info": {
   "codemirror_mode": {
    "name": "ipython",
    "version": 2
   },
   "file_extension": ".py",
   "mimetype": "text/x-python",
   "name": "python",
   "nbconvert_exporter": "python",
   "pygments_lexer": "ipython2",
   "version": "2.7.6"
  }
 },
 "nbformat": 4,
 "nbformat_minor": 0
}
