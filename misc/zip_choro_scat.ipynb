{
 "cells": [
  {
   "cell_type": "markdown",
   "source": [
    "<h1><center>Choropleth Zipcode Plot on Mapbox</center></h1>"
   ],
   "metadata": {
    "collapsed": false
   }
  },
  {
   "cell_type": "code",
   "execution_count": null,
   "metadata": {
    "collapsed": true
   },
   "outputs": [],
   "source": [
    "import geopandas as gpd\n",
    "import pandas as pd\n",
    "import plotly.express as px\n",
    "import plotly.graph_objects as go"
   ]
  },
  {
   "cell_type": "code",
   "execution_count": null,
   "outputs": [],
   "source": [
    "px.set_mapbox_access_token(open(\".mapbox_token\").read())"
   ],
   "metadata": {
    "collapsed": false
   }
  },
  {
   "cell_type": "markdown",
   "source": [
    "<h4>Read in Earthquake Event Zipcode Data</h4>"
   ],
   "metadata": {
    "collapsed": false
   }
  },
  {
   "cell_type": "code",
   "execution_count": null,
   "outputs": [],
   "source": [
    "cdi_df = pd.read_csv('./data/test.csv')"
   ],
   "metadata": {
    "collapsed": false
   }
  },
  {
   "cell_type": "code",
   "execution_count": null,
   "outputs": [],
   "source": [
    "# geo_df = gpd.GeoDataFrame(cdi_df, geometry=gpd.points_from_xy(cdi_df.Longitude, cdi_df.Latitude))\n",
    "cdi_df.rename({'# Columns: ZIP/Location': 'ZIP/Location'}, axis=1, inplace=True)"
   ],
   "metadata": {
    "collapsed": false
   }
  },
  {
   "cell_type": "markdown",
   "source": [
    "<h4> Read in South Carolina Zipcodes Shapefile</h4>"
   ],
   "metadata": {
    "collapsed": false
   }
  },
  {
   "cell_type": "code",
   "execution_count": null,
   "outputs": [],
   "source": [
    "state_zip = gpd.read_file(r\"./data/zipcode_data/tl_2010_45_zcta510.shp\")"
   ],
   "metadata": {
    "collapsed": false
   }
  },
  {
   "cell_type": "code",
   "execution_count": null,
   "outputs": [],
   "source": [
    "state_zip[state_zip['ZCTA5CE10'] == '29229']"
   ],
   "metadata": {
    "collapsed": false
   }
  },
  {
   "cell_type": "markdown",
   "source": [
    "#### Make The Merge Column of the Two Files The Same Type"
   ],
   "metadata": {
    "collapsed": false
   }
  },
  {
   "cell_type": "code",
   "execution_count": null,
   "outputs": [],
   "source": [
    "cdi_df['ZIP/Location'] = cdi_df[['ZIP/Location']].astype('str')"
   ],
   "metadata": {
    "collapsed": false
   }
  },
  {
   "cell_type": "code",
   "execution_count": null,
   "outputs": [],
   "source": [
    "state_zip['ZCTA5CE10'] = state_zip[['ZCTA5CE10']].astype('str')"
   ],
   "metadata": {
    "collapsed": false
   }
  },
  {
   "cell_type": "markdown",
   "source": [
    "#### Merge The CDI Zipcode Dataframe With SC State Zipcode Shapefile Dataframe"
   ],
   "metadata": {
    "collapsed": false
   }
  },
  {
   "cell_type": "code",
   "execution_count": null,
   "outputs": [],
   "source": [
    "df = cdi_df\n",
    "geo_dff = gpd.GeoDataFrame(state_zip).merge(df, left_on=\"ZCTA5CE10\", right_on='ZIP/Location').set_index('ZIP/Location')"
   ],
   "metadata": {
    "collapsed": false
   }
  },
  {
   "cell_type": "markdown",
   "source": [
    "#### Plot Zipcode Choropleth Mapbox Map\n",
    "Each colored area is a zipcode where there were DYFI responses."
   ],
   "metadata": {
    "collapsed": false
   }
  },
  {
   "cell_type": "code",
   "execution_count": null,
   "outputs": [],
   "source": [
    "fig = px.choropleth_mapbox(geo_dff,\n",
    "                           geojson=geo_dff.geometry,\n",
    "                           locations=geo_dff.index,\n",
    "                           color=\"CDI\",\n",
    "                           range_color=[0.0, 10.0],\n",
    "                           center={\"lat\": 34.0007, \"lon\": -81.0348},\n",
    "                           mapbox_style=\"streets\",\n",
    "                           # mapbox_style=\"basic\",\n",
    "                           opacity=0.35,\n",
    "                           zoom=7.5,\n",
    "                           hover_data={'ZCTA5CE10': False, 'No. of responses': True},)\n",
    "                           # labels={'ZCTA5CE10': 'ZIP Code'})\n",
    "\n",
    "# Plot the epicenter\n",
    "fig.add_trace(go.Scattermapbox(lon=[-80.794252],\n",
    "                               lat=[34.170983],\n",
    "                               showlegend=False,\n",
    "                               mode='markers+lines',\n",
    "                               marker={'size': 12, 'opacity': 1, 'symbol': ['star']},\n",
    "                               hovertemplate='%{lon}, %{lat}<extra></extra>',))\n",
    "\n",
    "fig.update_layout(autosize=True, margin=dict(t=0, b=0, l=0, r=0), showlegend=True)\n",
    "fig.show()\n"
   ],
   "metadata": {
    "collapsed": false
   }
  }
 ],
 "metadata": {
  "kernelspec": {
   "display_name": "Python 3",
   "language": "python",
   "name": "python3"
  },
  "language_info": {
   "codemirror_mode": {
    "name": "ipython",
    "version": 2
   },
   "file_extension": ".py",
   "mimetype": "text/x-python",
   "name": "python",
   "nbconvert_exporter": "python",
   "pygments_lexer": "ipython2",
   "version": "2.7.6"
  }
 },
 "nbformat": 4,
 "nbformat_minor": 0
}
