{
 "cells": [
  {
   "cell_type": "code",
   "execution_count": 1,
   "id": "ac2c40b1-34bc-4de8-8a58-f47044d31c45",
   "metadata": {
    "tags": []
   },
   "outputs": [],
   "source": [
    "import pandas as pd\n",
    "import geopandas as gpd\n",
    "import plotly.express as px\n",
    "from dash import html, dcc, Dash\n"
   ]
  },
  {
   "cell_type": "code",
   "execution_count": 2,
   "id": "16699351-c49f-4fb7-8cab-07e8c632d2f7",
   "metadata": {},
   "outputs": [],
   "source": [
    "pd.set_option('display.max_columns', 32)"
   ]
  },
  {
   "cell_type": "code",
   "execution_count": 3,
   "id": "5d2a9cc5-5e9b-48ee-9529-cbe21b3f7edb",
   "metadata": {},
   "outputs": [],
   "source": [
    "# geo_df = gpd.read_file('2022-07-19-SC-Earthquake.geojson')\n",
    "geo_df = gpd.read_file('./data/2022-09-03-SC-Earthquake.geojson')"
   ]
  },
  {
   "cell_type": "code",
   "execution_count": 4,
   "id": "c51787ef-8f54-4cac-980e-056b20c9d90b",
   "metadata": {},
   "outputs": [],
   "source": [
    "geo_df['Event_Date'] = pd.to_datetime(geo_df.time, unit=\"ms\")\\\n",
    "                         .dt.tz_localize('UTC')\\\n",
    "                         .dt.tz_convert('America/New_York').dt.date\n",
    "\n",
    "geo_df['Event_Time'] = pd.to_datetime(geo_df.time, unit=\"ms\")\\\n",
    "                         .dt.tz_localize('UTC')\\\n",
    "                         .dt.tz_convert('America/New_York').dt.time"
   ]
  },
  {
   "cell_type": "code",
   "execution_count": 5,
   "id": "0ca24a45-78ca-4f50-b801-c2bf6dc2ddd0",
   "metadata": {},
   "outputs": [],
   "source": [
    "# remove decimal portion of the seconds part of the time\n",
    "\n",
    "for x in range(len(geo_df['Event_Time'])):\n",
    "    geo_df.loc[x, 'Event_Time'] = geo_df['Event_Time'][x].replace(microsecond = 0)"
   ]
  },
  {
   "cell_type": "code",
   "execution_count": 6,
   "id": "f130c547-46ab-46e9-b564-3317686776d1",
   "metadata": {},
   "outputs": [],
   "source": [
    "geo_df = geo_df[['mag', 'place', 'detail', 'felt', 'cdi', 'title', 'geometry', 'Event_Date', 'Event_Time']]"
   ]
  },
  {
   "cell_type": "code",
   "execution_count": 7,
   "id": "66141d20-627b-471b-b960-5550983feab0",
   "metadata": {},
   "outputs": [],
   "source": [
    "geo_df = geo_df.rename(columns = {'mag': 'Mag', 'place': 'Place', 'detail': 'Url', 'felt': 'Felt',\n",
    "                                  'cdi': 'CDI', 'title': 'Title'}) #, 'geometry': 'Geometry'})"
   ]
  },
  {
   "cell_type": "code",
   "execution_count": 8,
   "id": "d26247b9-25b6-4373-a96e-f8b724235fd1",
   "metadata": {},
   "outputs": [],
   "source": [
    "geo_df.Felt = geo_df.Felt.fillna(0).astype('int')\n",
    "geo_df.CDI = geo_df.CDI.fillna(0).astype('float')"
   ]
  },
  {
   "cell_type": "code",
   "execution_count": 9,
   "id": "5fa29b00-7558-4015-88db-24c05385b17a",
   "metadata": {},
   "outputs": [],
   "source": [
    "# geo_df.Event_Date = pd.to_datetime(geo_df.Event_Date)"
   ]
  },
  {
   "cell_type": "code",
   "execution_count": 10,
   "id": "393d7798-e8b7-47f8-a77b-becd6fded076",
   "metadata": {},
   "outputs": [],
   "source": [
    "geo_df['Depth'] = geo_df.geometry.z"
   ]
  },
  {
   "cell_type": "code",
   "execution_count": 11,
   "id": "8cc37467-0a4b-4aae-be25-41df4b672b8c",
   "metadata": {},
   "outputs": [],
   "source": [
    "geo_df = geo_df.copy()"
   ]
  },
  {
   "cell_type": "code",
   "execution_count": 12,
   "id": "0b69e711-5dee-41c5-9e7f-c2965ef49eea",
   "metadata": {},
   "outputs": [
    {
     "data": {
      "text/plain": "    Mag                                     Place  \\\n0  1.45     3 km S of Centerville, South Carolina   \n1  1.62        7 km SSW of Lugoff, South Carolina   \n2  2.11  6 km SE of Homeland Park, South Carolina   \n3  1.53           7 km E of Elgin, South Carolina   \n4  1.64          9 km W of Boykin, South Carolina   \n\n                                                 Url  Felt  CDI  \\\n0  https://earthquake.usgs.gov/fdsnws/event/1/que...     0  0.0   \n1  https://earthquake.usgs.gov/fdsnws/event/1/que...    17  3.1   \n2  https://earthquake.usgs.gov/fdsnws/event/1/que...    11  3.1   \n3  https://earthquake.usgs.gov/fdsnws/event/1/que...    11  3.1   \n4  https://earthquake.usgs.gov/fdsnws/event/1/que...    10  2.8   \n\n                                              Title  \\\n0     M 1.5 - 3 km S of Centerville, South Carolina   \n1        M 1.6 - 7 km SSW of Lugoff, South Carolina   \n2  M 2.1 - 6 km SE of Homeland Park, South Carolina   \n3           M 1.5 - 7 km E of Elgin, South Carolina   \n4          M 1.6 - 9 km W of Boykin, South Carolina   \n\n                               geometry  Event_Date Event_Time  Depth  \n0  POINT Z (-80.17617 32.96533 0.74000)  2022-09-01   21:23:37   0.74  \n1  POINT Z (-80.71050 34.16550 3.09000)  2022-08-27   14:41:34   3.09  \n2  POINT Z (-82.61067 34.43250 0.03000)  2022-08-18   02:00:33   0.03  \n3  POINT Z (-80.71283 34.16067 3.59000)  2022-08-15   05:32:39   3.59  \n4  POINT Z (-80.68467 34.10867 6.85000)  2022-08-09   01:59:51   6.85  ",
      "text/html": "<div>\n<style scoped>\n    .dataframe tbody tr th:only-of-type {\n        vertical-align: middle;\n    }\n\n    .dataframe tbody tr th {\n        vertical-align: top;\n    }\n\n    .dataframe thead th {\n        text-align: right;\n    }\n</style>\n<table border=\"1\" class=\"dataframe\">\n  <thead>\n    <tr style=\"text-align: right;\">\n      <th></th>\n      <th>Mag</th>\n      <th>Place</th>\n      <th>Url</th>\n      <th>Felt</th>\n      <th>CDI</th>\n      <th>Title</th>\n      <th>geometry</th>\n      <th>Event_Date</th>\n      <th>Event_Time</th>\n      <th>Depth</th>\n    </tr>\n  </thead>\n  <tbody>\n    <tr>\n      <th>0</th>\n      <td>1.45</td>\n      <td>3 km S of Centerville, South Carolina</td>\n      <td>https://earthquake.usgs.gov/fdsnws/event/1/que...</td>\n      <td>0</td>\n      <td>0.0</td>\n      <td>M 1.5 - 3 km S of Centerville, South Carolina</td>\n      <td>POINT Z (-80.17617 32.96533 0.74000)</td>\n      <td>2022-09-01</td>\n      <td>21:23:37</td>\n      <td>0.74</td>\n    </tr>\n    <tr>\n      <th>1</th>\n      <td>1.62</td>\n      <td>7 km SSW of Lugoff, South Carolina</td>\n      <td>https://earthquake.usgs.gov/fdsnws/event/1/que...</td>\n      <td>17</td>\n      <td>3.1</td>\n      <td>M 1.6 - 7 km SSW of Lugoff, South Carolina</td>\n      <td>POINT Z (-80.71050 34.16550 3.09000)</td>\n      <td>2022-08-27</td>\n      <td>14:41:34</td>\n      <td>3.09</td>\n    </tr>\n    <tr>\n      <th>2</th>\n      <td>2.11</td>\n      <td>6 km SE of Homeland Park, South Carolina</td>\n      <td>https://earthquake.usgs.gov/fdsnws/event/1/que...</td>\n      <td>11</td>\n      <td>3.1</td>\n      <td>M 2.1 - 6 km SE of Homeland Park, South Carolina</td>\n      <td>POINT Z (-82.61067 34.43250 0.03000)</td>\n      <td>2022-08-18</td>\n      <td>02:00:33</td>\n      <td>0.03</td>\n    </tr>\n    <tr>\n      <th>3</th>\n      <td>1.53</td>\n      <td>7 km E of Elgin, South Carolina</td>\n      <td>https://earthquake.usgs.gov/fdsnws/event/1/que...</td>\n      <td>11</td>\n      <td>3.1</td>\n      <td>M 1.5 - 7 km E of Elgin, South Carolina</td>\n      <td>POINT Z (-80.71283 34.16067 3.59000)</td>\n      <td>2022-08-15</td>\n      <td>05:32:39</td>\n      <td>3.59</td>\n    </tr>\n    <tr>\n      <th>4</th>\n      <td>1.64</td>\n      <td>9 km W of Boykin, South Carolina</td>\n      <td>https://earthquake.usgs.gov/fdsnws/event/1/que...</td>\n      <td>10</td>\n      <td>2.8</td>\n      <td>M 1.6 - 9 km W of Boykin, South Carolina</td>\n      <td>POINT Z (-80.68467 34.10867 6.85000)</td>\n      <td>2022-08-09</td>\n      <td>01:59:51</td>\n      <td>6.85</td>\n    </tr>\n  </tbody>\n</table>\n</div>"
     },
     "execution_count": 12,
     "metadata": {},
     "output_type": "execute_result"
    }
   ],
   "source": [
    "geo_df.head()"
   ]
  },
  {
   "cell_type": "code",
   "execution_count": null,
   "outputs": [
    {
     "name": "stdout",
     "output_type": "stream",
     "text": [
      "Dash is running on http://127.0.0.1:8050/\n",
      "\n",
      " * Serving Flask app '__main__'\n",
      " * Debug mode: on\n"
     ]
    }
   ],
   "source": [
    "# read in mapbox access token\n",
    "px.set_mapbox_access_token(open(\".mapbox_token\").read())\n",
    "\n",
    "fig = px.scatter_mapbox(geo_df,\n",
    "                        lat = geo_df.geometry.y,\n",
    "                        lon = geo_df.geometry.x,\n",
    "                        color = geo_df.Mag,\n",
    "                        custom_data = ['Title', 'Place', 'Event_Date', 'Event_Time', 'Mag', 'Depth', 'Felt', 'CDI'],\n",
    "                        size = geo_df.Mag,\n",
    "#                         color_continuous_scale = px.colors.cyclical.Phase,\n",
    "                        color_continuous_scale = px.colors.sequential.Jet,\n",
    "                        zoom = 11,\n",
    "                        center = dict(lat = 34.170983, lon = -80.794252),\n",
    "                        mapbox_style = 'dark',\n",
    "                        title = 'South Carolina Earthquake Swarm Dec - 2021 to Present',\n",
    "                        height = 510,\n",
    "                        template = 'ggplot2',\n",
    "                        labels = {'Mag': 'Magnitude'} )\n",
    "\n",
    "fig.update_layout(font = dict(family = \"Times New Roman\",\n",
    "                              size = 12,\n",
    "                              color = \"White\"))\n",
    "\n",
    "fig.update_layout(paper_bgcolor = \"#8B4513\",\n",
    "                  autosize = True,\n",
    "                  margin = dict(t = 50, b = 5, l = 5, r = 5),\n",
    "                  title_font_color = \"#00FF7F\",\n",
    "                  title_font_family = \"Courier New, monospace\",\n",
    "                  title_font_size = 16)\n",
    "\n",
    "fig.update_traces(hovertemplate=\"<br>\".join([\"Event Title: %{customdata[0]}\",\n",
    "                                             \"Event Date: %{customdata[2]}\",\n",
    "                                             \"Event Time: %{customdata[3]}\",\n",
    "                                             \"Location: %{customdata[1]}\",\n",
    "                                             \"Magnitude: %{customdata[4]}\",\n",
    "                                             \"Lat:  %{lat},  \" + \"Lon:  %{lon}    \" +\n",
    "                                             \"Depth(km):  %{customdata[5]}\",\n",
    "                                             \"DYFI: %{customdata[6]}\"]))\n",
    "\n",
    "# fig.show()\n",
    "\n",
    "app = Dash(__name__)\n",
    "app.layout = html.Div([\n",
    "    html.H1(\"SC Earthquake Swarm Information App\",\n",
    "            style={'text-align': 'center', 'color': 'SteelBlue'}),\n",
    "    dcc.Graph(figure=fig,\n",
    "              config={'displayModeBar': False, 'scrollZoom': True},\n",
    "              style={'background':'#00FC87','padding-bottom':'2px','padding-left':'2px','height':'50vh'})\n",
    "])\n",
    "if __name__ == '__main__':\n",
    "    app.run(debug=True, use_reloader=False, port = 8050)"
   ],
   "metadata": {
    "collapsed": false,
    "pycharm": {
     "is_executing": true
    }
   }
  }
 ],
 "metadata": {
  "kernelspec": {
   "display_name": "Python 3 (ipykernel)",
   "language": "python",
   "name": "python3"
  },
  "language_info": {
   "codemirror_mode": {
    "name": "ipython",
    "version": 3
   },
   "file_extension": ".py",
   "mimetype": "text/x-python",
   "name": "python",
   "nbconvert_exporter": "python",
   "pygments_lexer": "ipython3",
   "version": "3.10.6"
  }
 },
 "nbformat": 4,
 "nbformat_minor": 5
}
