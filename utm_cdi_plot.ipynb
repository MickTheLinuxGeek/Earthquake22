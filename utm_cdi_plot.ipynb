{
 "cells": [
  {
   "cell_type": "markdown",
   "source": [
    "## Test CDI Plot; First Using .explore() Method; Second Using Plotly Express choropleth_mapbox"
   ],
   "metadata": {
    "collapsed": false
   }
  },
  {
   "cell_type": "code",
   "execution_count": null,
   "metadata": {
    "collapsed": true
   },
   "outputs": [],
   "source": [
    "import geopandas as gpd\n",
    "import plotly.express as px\n",
    "%matplotlib inline"
   ]
  },
  {
   "cell_type": "code",
   "execution_count": null,
   "outputs": [],
   "source": [
    "px.set_mapbox_access_token(open(\".mapbox_token\").read())"
   ],
   "metadata": {
    "collapsed": false
   }
  },
  {
   "cell_type": "code",
   "execution_count": null,
   "outputs": [],
   "source": [
    "utm_cdi_geo_df = gpd.read_file(r\"./data/utm_test.geojson\")"
   ],
   "metadata": {
    "collapsed": false
   }
  },
  {
   "cell_type": "code",
   "execution_count": null,
   "outputs": [],
   "source": [
    "utm_cdi_geo_df"
   ],
   "metadata": {
    "collapsed": false
   }
  },
  {
   "cell_type": "code",
   "execution_count": null,
   "outputs": [],
   "source": [
    "utm_cdi_geo_df.explore()"
   ],
   "metadata": {
    "collapsed": false
   }
  },
  {
   "cell_type": "markdown",
   "source": [
    "#### This plot does not work. the geojson needs to be set to the geojson file, not the dataframe."
   ],
   "metadata": {
    "collapsed": false
   }
  },
  {
   "cell_type": "code",
   "execution_count": null,
   "outputs": [],
   "source": [
    "fig = px.choropleth_mapbox(utm_cdi_geo_df,\n",
    "                           geojson=utm_cdi_geo_df.geometry,\n",
    "                           locations=utm_cdi_geo_df.name,\n",
    "                           color=\"cdi\",\n",
    "                           range_color=[0.0, 10.0],\n",
    "                           center={\"lat\": 34.0007, \"lon\": -81.0348},\n",
    "                           mapbox_style=\"streets\",\n",
    "                           zoom=7.5)\n",
    "                           #hover_data={'ZCTA5CE10': False},)\n",
    "\n",
    "fig.show()"
   ],
   "metadata": {
    "collapsed": false
   }
  },
  {
   "cell_type": "code",
   "execution_count": null,
   "outputs": [],
   "source": [],
   "metadata": {
    "collapsed": false
   }
  }
 ],
 "metadata": {
  "kernelspec": {
   "display_name": "Python 3",
   "language": "python",
   "name": "python3"
  },
  "language_info": {
   "codemirror_mode": {
    "name": "ipython",
    "version": 2
   },
   "file_extension": ".py",
   "mimetype": "text/x-python",
   "name": "python",
   "nbconvert_exporter": "python",
   "pygments_lexer": "ipython2",
   "version": "2.7.6"
  }
 },
 "nbformat": 4,
 "nbformat_minor": 0
}
