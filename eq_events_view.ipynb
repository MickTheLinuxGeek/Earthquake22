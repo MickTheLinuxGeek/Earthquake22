{
 "cells": [
  {
   "cell_type": "code",
   "execution_count": null,
   "metadata": {
    "collapsed": true
   },
   "outputs": [],
   "source": [
    "import geopandas as gpd\n",
    "import pandas as pd\n",
    "from dash import dash, html, Input, Output\n",
    "import dash_bootstrap_components as dbc"
   ]
  },
  {
   "cell_type": "code",
   "execution_count": null,
   "outputs": [],
   "source": [
    "# Need to add dbc.themes.BOOTSTRAP so styling of bootstrap components will work\n",
    "app = dash.Dash(__name__)"
   ],
   "metadata": {
    "collapsed": false
   }
  },
  {
   "cell_type": "code",
   "execution_count": null,
   "outputs": [],
   "source": [
    "geo_df = gpd.read_file(r'./data/SC_Earthquake.geojson')"
   ],
   "metadata": {
    "collapsed": false
   }
  },
  {
   "cell_type": "code",
   "execution_count": null,
   "outputs": [],
   "source": [
    "geo_df['Event_Date'] = pd.to_datetime(geo_df.time, unit=\"ms\") \\\n",
    "    .dt.tz_localize('UTC') \\\n",
    "    .dt.tz_convert('America/New_York').dt.date\n",
    "\n",
    "geo_df['Event_Time'] = pd.to_datetime(geo_df.time, unit=\"ms\") \\\n",
    "    .dt.tz_localize('UTC') \\\n",
    "    .dt.tz_convert('America/New_York').dt.time\n",
    "\n",
    "# remove decimal portion of the seconds part of the time\n",
    "for x in range(len(geo_df['Event_Time'])):\n",
    "    geo_df.loc[x, 'Event_Time'] = geo_df['Event_Time'][x].replace(microsecond=0)\n",
    "\n",
    "geo_df['Longitude'] = geo_df.geometry.x\n",
    "geo_df['Latitude'] = geo_df.geometry.y\n",
    "geo_df['Depth'] = geo_df.geometry.z\n",
    "\n",
    "geo_df = geo_df[['mag', 'place', 'detail', 'felt', 'cdi', 'title', 'Latitude', 'Longitude', 'Depth', 'Event_Date', 'Event_Time']]\n",
    "geo_df = geo_df.rename(columns={'mag': 'Mag', 'place': 'Place', 'detail': 'Url', 'felt': 'Felt',\n",
    "                                'cdi': 'CDI', 'title': 'Title'})  # , 'geometry': 'Geometry'})\n",
    "geo_df.Felt = geo_df.Felt.fillna(0).astype('int')\n",
    "geo_df.CDI = geo_df.CDI.fillna(0).astype('float')\n",
    "\n",
    "\n",
    "geo_df['Mag'] = geo_df.Mag.round(1)\n",
    "\n",
    "geo_dff = geo_df.copy()\n"
   ],
   "metadata": {
    "collapsed": false
   }
  },
  {
   "cell_type": "code",
   "execution_count": null,
   "outputs": [],
   "source": [
    "geo_dff"
   ],
   "metadata": {
    "collapsed": false
   }
  },
  {
   "cell_type": "code",
   "execution_count": null,
   "outputs": [],
   "source": [
    "# geo_df.explore()"
   ],
   "metadata": {
    "collapsed": false
   }
  },
  {
   "cell_type": "code",
   "execution_count": null,
   "outputs": [],
   "source": [
    "app.layout = html.Div([\n",
    "    html.Button('Table', id='table-but', n_clicks=0),\n",
    "    html.Div(id='container-button-basic')\n",
    "])"
   ],
   "metadata": {
    "collapsed": false
   }
  },
  {
   "cell_type": "code",
   "execution_count": null,
   "outputs": [],
   "source": [
    "@app.callback(\n",
    "    Output('container-button-basic', 'children'),\n",
    "    Input('table-but', 'n_clicks'))\n",
    "def search_fi(n_clicks):\n",
    "    if n_clicks > 0:\n",
    "        table = dbc.Table.from_dataframe(geo_dff, striped=True, bordered=True, hover=True)\n",
    "        return table"
   ],
   "metadata": {
    "collapsed": false
   }
  },
  {
   "cell_type": "code",
   "execution_count": null,
   "outputs": [],
   "source": [
    "if __name__ == '__main__':\n",
    "    app.run_server(debug=False, port=8050)"
   ],
   "metadata": {
    "collapsed": false
   }
  }
 ],
 "metadata": {
  "kernelspec": {
   "display_name": "Python 3",
   "language": "python",
   "name": "python3"
  },
  "language_info": {
   "codemirror_mode": {
    "name": "ipython",
    "version": 2
   },
   "file_extension": ".py",
   "mimetype": "text/x-python",
   "name": "python",
   "nbconvert_exporter": "python",
   "pygments_lexer": "ipython2",
   "version": "2.7.6"
  }
 },
 "nbformat": 4,
 "nbformat_minor": 0
}
