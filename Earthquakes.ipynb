{
 "cells": [
  {
   "cell_type": "code",
   "execution_count": 13,
   "id": "ab7d6f7f-bf98-41f7-8aa0-7611a7b50128",
   "metadata": {},
   "outputs": [],
   "source": [
    "import json\n",
    "import numpy as np\n",
    "import pandas as pd\n",
    "import plotly.graph_objects as go"
   ]
  },
  {
   "cell_type": "code",
   "execution_count": 14,
   "id": "a4df82d1-36cc-49fc-8a44-0aa8e044ba53",
   "metadata": {},
   "outputs": [],
   "source": [
    "# with open(\"2022-06-26-SC-Earthquake.json\", \"r\", encoding=\"utf-8\") as f:\n",
    "with open(\"./data/2022-09-03-SC-Earthquake.geojson\", \"r\", encoding=\"utf-8\") as f:\n",
    "    SC_eq_list = json.load(f)"
   ]
  },
  {
   "cell_type": "code",
   "execution_count": 15,
   "id": "c86fa797-b886-42fa-b23e-367b322ce3bf",
   "metadata": {},
   "outputs": [],
   "source": [
    "# SC_eq_list is a python list of dictionaries\n",
    "# flattens sc_eq_List into sc_eq_data, a pandas dataframe\n",
    "sc_eq_data = pd.json_normalize(SC_eq_list['features'])"
   ]
  },
  {
   "cell_type": "code",
   "execution_count": 16,
   "id": "65da8220-a076-47b4-913d-84ad00120c69",
   "metadata": {},
   "outputs": [],
   "source": [
    "eq_df = sc_eq_data[['properties.mag', 'properties.felt', 'properties.place', 'properties.time', \n",
    "                    'properties.title', 'geometry.coordinates']]\n",
    "\n",
    "# since the coordinates list was flattened above, convert it back to a list with each element as a column\n",
    "# in the coord_df dataframe along with column names\n",
    "coord_df = pd.DataFrame(sc_eq_data['geometry.coordinates'].tolist(), columns=['lon', 'lat', 'depth(km)'])\n",
    "\n",
    "# concatenate coord_df to sc_eq_data\n",
    "eq_df = pd.concat([eq_df, coord_df], axis=1)\n",
    "\n",
    "eq_df['Event_Date'] = pd.to_datetime(eq_df['properties.time'], unit=\"ms\")\\\n",
    "                             .dt.tz_localize('UTC')\\\n",
    "                             .dt.tz_convert('America/New_York').dt.date\n",
    "\n",
    "eq_df['Event_Time'] = pd.to_datetime(eq_df['properties.time'], unit=\"ms\")\\\n",
    "                             .dt.tz_localize('UTC')\\\n",
    "                             .dt.tz_convert('America/New_York').dt.time"
   ]
  },
  {
   "cell_type": "code",
   "execution_count": 17,
   "id": "3fda79cc-07ae-4705-896d-15f54004ead8",
   "metadata": {},
   "outputs": [],
   "source": [
    "# remove decimal portion of the seconds part of the time\n",
    "\n",
    "import datetime\n",
    "for x in range(len(eq_df['Event_Time'])):\n",
    "    eq_df.loc[x, 'Event_Time'] = eq_df['Event_Time'][x].replace(microsecond = 0)"
   ]
  },
  {
   "cell_type": "code",
   "execution_count": 18,
   "id": "dab84401-9f1d-433e-8e7c-8d882bb0d716",
   "metadata": {},
   "outputs": [],
   "source": [
    "eq_df = eq_df.copy()"
   ]
  },
  {
   "cell_type": "code",
   "execution_count": 19,
   "id": "7cdf3ac8-c63b-4b91-a7b4-c2a175076eb3",
   "metadata": {},
   "outputs": [],
   "source": [
    "eq_df = eq_df.rename(columns={'properties.mag': 'Magnitude',\n",
    "                              'properties.felt': 'Felt',\n",
    "                              'properties.place': 'Location',\n",
    "                              'properties.time': 'Event_DT', \n",
    "                              'properties.title': 'Event_Title', \n",
    "                              'geometry.coordinates': 'Coordinates',\n",
    "                              'lon': 'Longitude', 'lat': 'Latitude', 'depth(km)': 'Depth(km)',\n",
    "                              'Event_Date': 'Event_Date', 'Event_Time': 'Event_Time'})"
   ]
  },
  {
   "cell_type": "code",
   "execution_count": 20,
   "id": "8dbfba60-2e81-47bd-8009-3ae6f42741d4",
   "metadata": {},
   "outputs": [],
   "source": [
    "# The eq_df['Felt'] series had/may have null values; The following expression finds those rows\n",
    "# with a null value in the 'Felt' column and assigns it to 0 and casts it to an integer dtype.\n",
    "\n",
    "eq_df['Felt'] = eq_df['Felt'].fillna(0).astype('int')"
   ]
  },
  {
   "cell_type": "code",
   "execution_count": 21,
   "id": "b8fddae4-106c-45fc-baab-63c8bc599b04",
   "metadata": {
    "tags": []
   },
   "outputs": [
    {
     "data": {
      "text/plain": "<pandas.io.formats.style.Styler at 0x7fa91c57e560>",
      "text/html": "<style type=\"text/css\">\n</style>\n<table id=\"T_6cab8\">\n  <caption>South Carolina Earthquakes - Dec. - 2021 to Now</caption>\n  <thead>\n    <tr>\n      <th id=\"T_6cab8_level0_col0\" class=\"col_heading level0 col0\" >Magnitude</th>\n      <th id=\"T_6cab8_level0_col1\" class=\"col_heading level0 col1\" >Felt</th>\n      <th id=\"T_6cab8_level0_col2\" class=\"col_heading level0 col2\" >Location</th>\n      <th id=\"T_6cab8_level0_col3\" class=\"col_heading level0 col3\" >Event_DT</th>\n      <th id=\"T_6cab8_level0_col4\" class=\"col_heading level0 col4\" >Event_Title</th>\n      <th id=\"T_6cab8_level0_col5\" class=\"col_heading level0 col5\" >Coordinates</th>\n      <th id=\"T_6cab8_level0_col6\" class=\"col_heading level0 col6\" >Longitude</th>\n      <th id=\"T_6cab8_level0_col7\" class=\"col_heading level0 col7\" >Latitude</th>\n      <th id=\"T_6cab8_level0_col8\" class=\"col_heading level0 col8\" >Depth(km)</th>\n      <th id=\"T_6cab8_level0_col9\" class=\"col_heading level0 col9\" >Event_Date</th>\n      <th id=\"T_6cab8_level0_col10\" class=\"col_heading level0 col10\" >Event_Time</th>\n    </tr>\n  </thead>\n  <tbody>\n    <tr>\n      <td id=\"T_6cab8_row0_col0\" class=\"data row0 col0\" >1.45</td>\n      <td id=\"T_6cab8_row0_col1\" class=\"data row0 col1\" >0</td>\n      <td id=\"T_6cab8_row0_col2\" class=\"data row0 col2\" >3 km S of Centerville, South Carolina</td>\n      <td id=\"T_6cab8_row0_col3\" class=\"data row0 col3\" >1662081817890</td>\n      <td id=\"T_6cab8_row0_col4\" class=\"data row0 col4\" >M 1.5 - 3 km S of Centerville, South Carolina</td>\n      <td id=\"T_6cab8_row0_col5\" class=\"data row0 col5\" >[-80.1761667, 32.9653333, 0.74]</td>\n      <td id=\"T_6cab8_row0_col6\" class=\"data row0 col6\" >-80.176167</td>\n      <td id=\"T_6cab8_row0_col7\" class=\"data row0 col7\" >32.965333</td>\n      <td id=\"T_6cab8_row0_col8\" class=\"data row0 col8\" >0.74</td>\n      <td id=\"T_6cab8_row0_col9\" class=\"data row0 col9\" >2022-09-01</td>\n      <td id=\"T_6cab8_row0_col10\" class=\"data row0 col10\" >21:23:37</td>\n    </tr>\n    <tr>\n      <td id=\"T_6cab8_row1_col0\" class=\"data row1 col0\" >1.62</td>\n      <td id=\"T_6cab8_row1_col1\" class=\"data row1 col1\" >17</td>\n      <td id=\"T_6cab8_row1_col2\" class=\"data row1 col2\" >7 km SSW of Lugoff, South Carolina</td>\n      <td id=\"T_6cab8_row1_col3\" class=\"data row1 col3\" >1661625694850</td>\n      <td id=\"T_6cab8_row1_col4\" class=\"data row1 col4\" >M 1.6 - 7 km SSW of Lugoff, South Carolina</td>\n      <td id=\"T_6cab8_row1_col5\" class=\"data row1 col5\" >[-80.7105, 34.1655, 3.09]</td>\n      <td id=\"T_6cab8_row1_col6\" class=\"data row1 col6\" >-80.710500</td>\n      <td id=\"T_6cab8_row1_col7\" class=\"data row1 col7\" >34.165500</td>\n      <td id=\"T_6cab8_row1_col8\" class=\"data row1 col8\" >3.09</td>\n      <td id=\"T_6cab8_row1_col9\" class=\"data row1 col9\" >2022-08-27</td>\n      <td id=\"T_6cab8_row1_col10\" class=\"data row1 col10\" >14:41:34</td>\n    </tr>\n    <tr>\n      <td id=\"T_6cab8_row2_col0\" class=\"data row2 col0\" >2.11</td>\n      <td id=\"T_6cab8_row2_col1\" class=\"data row2 col1\" >11</td>\n      <td id=\"T_6cab8_row2_col2\" class=\"data row2 col2\" >6 km SE of Homeland Park, South Carolina</td>\n      <td id=\"T_6cab8_row2_col3\" class=\"data row2 col3\" >1660802433420</td>\n      <td id=\"T_6cab8_row2_col4\" class=\"data row2 col4\" >M 2.1 - 6 km SE of Homeland Park, South Carolina</td>\n      <td id=\"T_6cab8_row2_col5\" class=\"data row2 col5\" >[-82.6106667, 34.4325, 0.03]</td>\n      <td id=\"T_6cab8_row2_col6\" class=\"data row2 col6\" >-82.610667</td>\n      <td id=\"T_6cab8_row2_col7\" class=\"data row2 col7\" >34.432500</td>\n      <td id=\"T_6cab8_row2_col8\" class=\"data row2 col8\" >0.03</td>\n      <td id=\"T_6cab8_row2_col9\" class=\"data row2 col9\" >2022-08-18</td>\n      <td id=\"T_6cab8_row2_col10\" class=\"data row2 col10\" >02:00:33</td>\n    </tr>\n    <tr>\n      <td id=\"T_6cab8_row3_col0\" class=\"data row3 col0\" >1.53</td>\n      <td id=\"T_6cab8_row3_col1\" class=\"data row3 col1\" >11</td>\n      <td id=\"T_6cab8_row3_col2\" class=\"data row3 col2\" >7 km E of Elgin, South Carolina</td>\n      <td id=\"T_6cab8_row3_col3\" class=\"data row3 col3\" >1660555959540</td>\n      <td id=\"T_6cab8_row3_col4\" class=\"data row3 col4\" >M 1.5 - 7 km E of Elgin, South Carolina</td>\n      <td id=\"T_6cab8_row3_col5\" class=\"data row3 col5\" >[-80.7128333, 34.1606667, 3.59]</td>\n      <td id=\"T_6cab8_row3_col6\" class=\"data row3 col6\" >-80.712833</td>\n      <td id=\"T_6cab8_row3_col7\" class=\"data row3 col7\" >34.160667</td>\n      <td id=\"T_6cab8_row3_col8\" class=\"data row3 col8\" >3.59</td>\n      <td id=\"T_6cab8_row3_col9\" class=\"data row3 col9\" >2022-08-15</td>\n      <td id=\"T_6cab8_row3_col10\" class=\"data row3 col10\" >05:32:39</td>\n    </tr>\n    <tr>\n      <td id=\"T_6cab8_row4_col0\" class=\"data row4 col0\" >1.64</td>\n      <td id=\"T_6cab8_row4_col1\" class=\"data row4 col1\" >10</td>\n      <td id=\"T_6cab8_row4_col2\" class=\"data row4 col2\" >9 km W of Boykin, South Carolina</td>\n      <td id=\"T_6cab8_row4_col3\" class=\"data row4 col3\" >1660024791740</td>\n      <td id=\"T_6cab8_row4_col4\" class=\"data row4 col4\" >M 1.6 - 9 km W of Boykin, South Carolina</td>\n      <td id=\"T_6cab8_row4_col5\" class=\"data row4 col5\" >[-80.6846667, 34.1086667, 6.85]</td>\n      <td id=\"T_6cab8_row4_col6\" class=\"data row4 col6\" >-80.684667</td>\n      <td id=\"T_6cab8_row4_col7\" class=\"data row4 col7\" >34.108667</td>\n      <td id=\"T_6cab8_row4_col8\" class=\"data row4 col8\" >6.85</td>\n      <td id=\"T_6cab8_row4_col9\" class=\"data row4 col9\" >2022-08-09</td>\n      <td id=\"T_6cab8_row4_col10\" class=\"data row4 col10\" >01:59:51</td>\n    </tr>\n  </tbody>\n</table>\n"
     },
     "execution_count": 21,
     "metadata": {},
     "output_type": "execute_result"
    }
   ],
   "source": [
    "eq_df.head().style.set_caption(\"South Carolina Earthquakes - Dec. - 2021 to Now\").hide(axis=\"index\")\\\n",
    "                  .format({\"Magnitude\": \"{:.2f}\",\n",
    "                           \"Felt\": \"{:d}\",\n",
    "                           \"Location\": \"{:s}\",\n",
    "                           \"Event_DT\": \"{:d}\",\n",
    "                           \"Event_Title\": \"{:s}\",\n",
    "                           \"Latitude\": \"{:.6f}\",\n",
    "                           \"Longitude\": \"{:.6f}\", \n",
    "                           \"Depth(km)\": \"{:.2f}\", \n",
    "                           \"Event_Date\": \"{:%Y-%m-%d}\",\n",
    "                           \"Event_Time\": \"{:%H:%M:%S}\"})"
   ]
  },
  {
   "cell_type": "markdown",
   "id": "e8ea1005-b99d-4235-b65a-035e2ff23124",
   "metadata": {},
   "source": [
    "### Plot Coordinates via Plotly"
   ]
  },
  {
   "cell_type": "code",
   "execution_count": 22,
   "id": "042ea264-b0bb-4bef-b1a7-88e16fc1b932",
   "metadata": {},
   "outputs": [],
   "source": [
    "# read in mapbox access token\n",
    "mapbox_access_token = open(\".mapbox_token\").read()\n",
    "\n",
    "m = list(eq_df['Event_Date'])\n",
    "n = list(eq_df['Event_Time'])\n",
    "k = list(eq_df['Magnitude'])\n",
    "l = list(eq_df['Depth(km)'])\n",
    "t = list(eq_df['Event_Title'])"
   ]
  },
  {
   "cell_type": "code",
   "execution_count": 23,
   "id": "f39b4da2-413a-4302-8635-12bfe63a16d3",
   "metadata": {},
   "outputs": [],
   "source": [
    "# create a 4 row numpy array that contains - row 0: dates, row 1: times, row 2: magnitude values, row 3: depth\n",
    "# the customdata parameter is assigned the numpy array so we can have those values displayed in the hover\n",
    "nk = np.empty(shape=(len(k),5,1), dtype='object')\n",
    "nk[:,0] = np.array(m).reshape(-1,1)  # row with dates\n",
    "nk[:,1] = np.array(n).reshape(-1,1)  # row with times\n",
    "nk[:,2] = np.array(k).reshape(-1,1)  # row with magnitude values\n",
    "nk[:,3] = np.array(l).reshape(-1,1)  # row with depth values\n",
    "nk[:,4] = np.array(t).reshape(-1,1)  # row with event titles"
   ]
  },
  {
   "cell_type": "code",
   "execution_count": 24,
   "id": "1b00b070-63f8-4a30-b68f-dfde658a00de",
   "metadata": {},
   "outputs": [
    {
     "data": {
      "application/vnd.plotly.v1+json": {
       "data": [
        {
         "customdata": [
          [
           [
            "2022-09-01"
           ],
           [
            "21:23:37"
           ],
           [
            1.45
           ],
           [
            0.74
           ],
           [
            "M 1.5 - 3 km S of Centerville, South Carolina"
           ]
          ],
          [
           [
            "2022-08-27"
           ],
           [
            "14:41:34"
           ],
           [
            1.62
           ],
           [
            3.09
           ],
           [
            "M 1.6 - 7 km SSW of Lugoff, South Carolina"
           ]
          ],
          [
           [
            "2022-08-18"
           ],
           [
            "02:00:33"
           ],
           [
            2.11
           ],
           [
            0.03
           ],
           [
            "M 2.1 - 6 km SE of Homeland Park, South Carolina"
           ]
          ],
          [
           [
            "2022-08-15"
           ],
           [
            "05:32:39"
           ],
           [
            1.53
           ],
           [
            3.59
           ],
           [
            "M 1.5 - 7 km E of Elgin, South Carolina"
           ]
          ],
          [
           [
            "2022-08-09"
           ],
           [
            "01:59:51"
           ],
           [
            1.64
           ],
           [
            6.85
           ],
           [
            "M 1.6 - 9 km W of Boykin, South Carolina"
           ]
          ],
          [
           [
            "2022-08-04"
           ],
           [
            "14:40:47"
           ],
           [
            1.58
           ],
           [
            5.49
           ],
           [
            "M 1.6 - 8 km ESE of Elgin, South Carolina"
           ]
          ],
          [
           [
            "2022-08-03"
           ],
           [
            "09:44:47"
           ],
           [
            1.75
           ],
           [
            3.0
           ],
           [
            "M 1.8 - 6 km E of Elgin, South Carolina"
           ]
          ],
          [
           [
            "2022-07-31"
           ],
           [
            "01:24:31"
           ],
           [
            1.84
           ],
           [
            0.66
           ],
           [
            "M 1.8 - 5 km SSW of Lugoff, South Carolina"
           ]
          ],
          [
           [
            "2022-07-30"
           ],
           [
            "07:41:13"
           ],
           [
            1.78
           ],
           [
            3.63
           ],
           [
            "M 1.8 - 6 km E of Elgin, South Carolina"
           ]
          ],
          [
           [
            "2022-07-25"
           ],
           [
            "03:01:15"
           ],
           [
            2.13
           ],
           [
            2.22
           ],
           [
            "M 2.1 - 6 km SSW of Lugoff, South Carolina"
           ]
          ],
          [
           [
            "2022-07-24"
           ],
           [
            "20:42:45"
           ],
           [
            2.31
           ],
           [
            2.41
           ],
           [
            "M 2.3 - 7 km SSW of Lugoff, South Carolina"
           ]
          ],
          [
           [
            "2022-07-19"
           ],
           [
            "12:12:27"
           ],
           [
            2.11
           ],
           [
            3.2
           ],
           [
            "M 2.1 - 6 km ESE of Elgin, South Carolina"
           ]
          ],
          [
           [
            "2022-07-19"
           ],
           [
            "12:06:44"
           ],
           [
            2.21
           ],
           [
            1.78
           ],
           [
            "M 2.2 - 6 km E of Elgin, South Carolina"
           ]
          ],
          [
           [
            "2022-07-18"
           ],
           [
            "13:47:25"
           ],
           [
            1.3
           ],
           [
            5.0
           ],
           [
            "M 1.3 - 12 km SE of Elgin, South Carolina"
           ]
          ],
          [
           [
            "2022-07-15"
           ],
           [
            "11:15:35"
           ],
           [
            1.62
           ],
           [
            3.25
           ],
           [
            "M 1.6 - 6 km E of Elgin, South Carolina"
           ]
          ],
          [
           [
            "2022-07-14"
           ],
           [
            "03:16:52"
           ],
           [
            1.23
           ],
           [
            3.05
           ],
           [
            "M 1.2 - 9 km S of Lugoff, South Carolina"
           ]
          ],
          [
           [
            "2022-07-13"
           ],
           [
            "18:20:37"
           ],
           [
            1.58
           ],
           [
            3.88
           ],
           [
            "M 1.6 - 6 km SSW of Lugoff, South Carolina"
           ]
          ],
          [
           [
            "2022-07-08"
           ],
           [
            "13:29:07"
           ],
           [
            1.44
           ],
           [
            3.82
           ],
           [
            "M 1.4 - 6 km ESE of Elgin, South Carolina"
           ]
          ],
          [
           [
            "2022-07-08"
           ],
           [
            "06:08:14"
           ],
           [
            1.64
           ],
           [
            2.46
           ],
           [
            "M 1.6 - 6 km ESE of Elgin, South Carolina"
           ]
          ],
          [
           [
            "2022-07-07"
           ],
           [
            "11:54:01"
           ],
           [
            2.06
           ],
           [
            3.97
           ],
           [
            "M 2.1 - 7 km ESE of Elgin, South Carolina"
           ]
          ],
          [
           [
            "2022-07-03"
           ],
           [
            "14:24:24"
           ],
           [
            1.55
           ],
           [
            3.03
           ],
           [
            "M 1.6 - 7 km ESE of Elgin, South Carolina"
           ]
          ],
          [
           [
            "2022-07-03"
           ],
           [
            "11:45:36"
           ],
           [
            1.55
           ],
           [
            3.13
           ],
           [
            "M 1.6 - 6 km ESE of Elgin, South Carolina"
           ]
          ],
          [
           [
            "2022-07-03"
           ],
           [
            "06:29:25"
           ],
           [
            1.58
           ],
           [
            3.17
           ],
           [
            "M 1.6 - 7 km SSW of Lugoff, South Carolina"
           ]
          ],
          [
           [
            "2022-07-03"
           ],
           [
            "00:16:24"
           ],
           [
            1.93
           ],
           [
            2.13
           ],
           [
            "M 1.9 - 6 km E of Elgin, South Carolina"
           ]
          ],
          [
           [
            "2022-07-02"
           ],
           [
            "11:59:56"
           ],
           [
            2.09
           ],
           [
            1.65
           ],
           [
            "M 2.1 - 6 km E of Elgin, South Carolina"
           ]
          ],
          [
           [
            "2022-07-01"
           ],
           [
            "21:10:25"
           ],
           [
            1.68
           ],
           [
            4.02
           ],
           [
            "M 1.7 - 6 km ESE of Elgin, South Carolina"
           ]
          ],
          [
           [
            "2022-07-01"
           ],
           [
            "13:46:09"
           ],
           [
            1.26
           ],
           [
            3.3
           ],
           [
            "M 1.3 - 7 km SE of Elgin, South Carolina"
           ]
          ],
          [
           [
            "2022-07-01"
           ],
           [
            "08:46:42"
           ],
           [
            2.11
           ],
           [
            3.83
           ],
           [
            "M 2.1 - 6 km ESE of Elgin, South Carolina"
           ]
          ],
          [
           [
            "2022-07-01"
           ],
           [
            "05:47:47"
           ],
           [
            1.55
           ],
           [
            3.37
           ],
           [
            "M 1.6 - 6 km ESE of Elgin, South Carolina"
           ]
          ],
          [
           [
            "2022-06-30"
           ],
           [
            "21:05:24"
           ],
           [
            1.49
           ],
           [
            2.46
           ],
           [
            "M 1.5 - 6 km SSW of Lugoff, South Carolina"
           ]
          ],
          [
           [
            "2022-06-30"
           ],
           [
            "20:45:37"
           ],
           [
            2.06
           ],
           [
            1.92
           ],
           [
            "M 2.1 - 5 km SSW of Lugoff, South Carolina"
           ]
          ],
          [
           [
            "2022-06-30"
           ],
           [
            "10:15:46"
           ],
           [
            2.15
           ],
           [
            2.56
           ],
           [
            "M 2.2 - 7 km SSW of Lugoff, South Carolina"
           ]
          ],
          [
           [
            "2022-06-30"
           ],
           [
            "05:22:07"
           ],
           [
            2.03
           ],
           [
            3.11
           ],
           [
            "M 2.0 - 7 km ESE of Elgin, South Carolina"
           ]
          ],
          [
           [
            "2022-06-30"
           ],
           [
            "02:30:00"
           ],
           [
            1.44
           ],
           [
            2.8
           ],
           [
            "M 1.4 - 7 km ESE of Elgin, South Carolina"
           ]
          ],
          [
           [
            "2022-06-30"
           ],
           [
            "00:23:13"
           ],
           [
            2.32
           ],
           [
            3.09
           ],
           [
            "M 2.3 - 6 km E of Elgin, South Carolina"
           ]
          ],
          [
           [
            "2022-06-29"
           ],
           [
            "19:22:54"
           ],
           [
            1.79
           ],
           [
            2.07
           ],
           [
            "M 1.8 - 7 km SSW of Lugoff, South Carolina"
           ]
          ],
          [
           [
            "2022-06-29"
           ],
           [
            "19:22:11"
           ],
           [
            1.46
           ],
           [
            1.93
           ],
           [
            "M 1.5 - 6 km E of Elgin, South Carolina"
           ]
          ],
          [
           [
            "2022-06-29"
           ],
           [
            "19:03:01"
           ],
           [
            3.6
           ],
           [
            2.75
           ],
           [
            "M 3.6 - 6 km E of Elgin, South Carolina"
           ]
          ],
          [
           [
            "2022-06-29"
           ],
           [
            "16:34:05"
           ],
           [
            1.51
           ],
           [
            3.72
           ],
           [
            "M 1.5 - 7 km ESE of Elgin, South Carolina"
           ]
          ],
          [
           [
            "2022-06-29"
           ],
           [
            "16:02:01"
           ],
           [
            1.88
           ],
           [
            2.92
           ],
           [
            "M 1.9 - 6 km E of Elgin, South Carolina"
           ]
          ],
          [
           [
            "2022-06-29"
           ],
           [
            "14:57:34"
           ],
           [
            2.06
           ],
           [
            2.22
           ],
           [
            "M 2.1 - 6 km E of Elgin, South Carolina"
           ]
          ],
          [
           [
            "2022-06-29"
           ],
           [
            "14:43:56"
           ],
           [
            3.5
           ],
           [
            2.68
           ],
           [
            "M 3.5 - 6 km E of Elgin, South Carolina"
           ]
          ],
          [
           [
            "2022-06-27"
           ],
           [
            "03:31:24"
           ],
           [
            1.15
           ],
           [
            3.85
           ],
           [
            "M 1.2 - 4 km SSW of Centerville, South Carolina"
           ]
          ],
          [
           [
            "2022-06-26"
           ],
           [
            "16:39:26"
           ],
           [
            1.88
           ],
           [
            4.09
           ],
           [
            "M 1.9 - 7 km E of Elgin, South Carolina"
           ]
          ],
          [
           [
            "2022-06-26"
           ],
           [
            "04:45:43"
           ],
           [
            1.34
           ],
           [
            2.06
           ],
           [
            "M 1.3 - 6 km ESE of Elgin, South Carolina"
           ]
          ],
          [
           [
            "2022-06-26"
           ],
           [
            "01:53:45"
           ],
           [
            1.75
           ],
           [
            3.18
           ],
           [
            "M 1.8 - South Carolina"
           ]
          ],
          [
           [
            "2022-06-26"
           ],
           [
            "01:46:54"
           ],
           [
            1.79
           ],
           [
            3.31
           ],
           [
            "M 1.8 - 6 km E of Elgin, South Carolina"
           ]
          ],
          [
           [
            "2022-06-26"
           ],
           [
            "01:31:54"
           ],
           [
            3.4
           ],
           [
            3.52
           ],
           [
            "M 3.4 - 6 km E of Elgin, South Carolina"
           ]
          ],
          [
           [
            "2022-06-20"
           ],
           [
            "03:56:11"
           ],
           [
            2.08
           ],
           [
            5.41
           ],
           [
            "M 2.1 - 15 km NW of Grovetown, Georgia"
           ]
          ],
          [
           [
            "2022-06-18"
           ],
           [
            "04:05:23"
           ],
           [
            3.9
           ],
           [
            0.75
           ],
           [
            "M 3.9 - 7 km E of Stillmore, Georgia"
           ]
          ],
          [
           [
            "2022-06-17"
           ],
           [
            "02:09:30"
           ],
           [
            2.16
           ],
           [
            6.79
           ],
           [
            "M 2.2 - 15 km N of Harlem, Georgia"
           ]
          ],
          [
           [
            "2022-06-15"
           ],
           [
            "05:47:23"
           ],
           [
            0.96
           ],
           [
            7.31
           ],
           [
            "M 1.0 - 4 km SSW of Centerville, South Carolina"
           ]
          ],
          [
           [
            "2022-05-21"
           ],
           [
            "06:18:06"
           ],
           [
            1.86
           ],
           [
            5.6
           ],
           [
            "M 1.9 - 7 km ESE of Elgin, South Carolina"
           ]
          ],
          [
           [
            "2022-05-19"
           ],
           [
            "20:00:34"
           ],
           [
            1.76
           ],
           [
            2.5
           ],
           [
            "M 1.8 - 5 km SSW of Lugoff, South Carolina"
           ]
          ],
          [
           [
            "2022-05-10"
           ],
           [
            "15:09:07"
           ],
           [
            2.57
           ],
           [
            2.07
           ],
           [
            "M 2.6 - 6 km E of Elgin, South Carolina"
           ]
          ],
          [
           [
            "2022-05-10"
           ],
           [
            "13:24:06"
           ],
           [
            2.24
           ],
           [
            3.62
           ],
           [
            "M 2.2 - 6 km ESE of Elgin, South Carolina"
           ]
          ],
          [
           [
            "2022-05-09"
           ],
           [
            "23:55:40"
           ],
           [
            2.76
           ],
           [
            2.25
           ],
           [
            "M 2.8 - 5 km E of Elgin, South Carolina"
           ]
          ],
          [
           [
            "2022-05-09"
           ],
           [
            "18:05:49"
           ],
           [
            2.19
           ],
           [
            3.98
           ],
           [
            "M 2.2 - 6 km ESE of Elgin, South Carolina"
           ]
          ],
          [
           [
            "2022-05-09"
           ],
           [
            "05:10:03"
           ],
           [
            1.79
           ],
           [
            4.1
           ],
           [
            "M 1.8 - 6 km ESE of Elgin, South Carolina"
           ]
          ],
          [
           [
            "2022-05-09"
           ],
           [
            "04:39:02"
           ],
           [
            1.6
           ],
           [
            2.91
           ],
           [
            "M 1.6 - 8 km ESE of Elgin, South Carolina"
           ]
          ],
          [
           [
            "2022-05-09"
           ],
           [
            "01:32:47"
           ],
           [
            3.25
           ],
           [
            3.95
           ],
           [
            "M 3.3 - 5 km ESE of Elgin, South Carolina"
           ]
          ],
          [
           [
            "2022-04-22"
           ],
           [
            "22:02:46"
           ],
           [
            2.17
           ],
           [
            2.31
           ],
           [
            "M 2.2 - 8 km NNW of Taylors, South Carolina"
           ]
          ],
          [
           [
            "2022-04-22"
           ],
           [
            "13:32:59"
           ],
           [
            1.07
           ],
           [
            3.53
           ],
           [
            "M 1.1 - 5 km SSW of Ladson, South Carolina"
           ]
          ],
          [
           [
            "2022-04-08"
           ],
           [
            "20:01:08"
           ],
           [
            1.56
           ],
           [
            3.59
           ],
           [
            "M 1.6 - 5 km SSE of Centerville, South Carolina"
           ]
          ],
          [
           [
            "2022-04-07"
           ],
           [
            "05:03:36"
           ],
           [
            2.01
           ],
           [
            2.94
           ],
           [
            "M 2.0 - 7 km E of Elgin, South Carolina"
           ]
          ],
          [
           [
            "2022-03-28"
           ],
           [
            "04:05:38"
           ],
           [
            0.93
           ],
           [
            2.87
           ],
           [
            "M 0.9 - 1 km S of Centerville, South Carolina"
           ]
          ],
          [
           [
            "2022-03-27"
           ],
           [
            "14:27:51"
           ],
           [
            2.06
           ],
           [
            1.91
           ],
           [
            "M 2.1 - 6 km SSW of Lugoff, South Carolina"
           ]
          ],
          [
           [
            "2022-03-11"
           ],
           [
            "10:03:18"
           ],
           [
            2.09
           ],
           [
            0.64
           ],
           [
            "M 2.1 - 3 km S of Camden, South Carolina"
           ]
          ],
          [
           [
            "2022-03-09"
           ],
           [
            "11:09:04"
           ],
           [
            2.16
           ],
           [
            3.58
           ],
           [
            "M 2.2 - 6 km ESE of Elgin, South Carolina"
           ]
          ],
          [
           [
            "2022-03-04"
           ],
           [
            "11:35:23"
           ],
           [
            1.78
           ],
           [
            2.83
           ],
           [
            "M 1.8 - 5 km ESE of Elgin, South Carolina"
           ]
          ],
          [
           [
            "2022-02-02"
           ],
           [
            "00:39:57"
           ],
           [
            1.49
           ],
           [
            3.88
           ],
           [
            "M 1.5 - 7 km ESE of Elgin, South Carolina"
           ]
          ],
          [
           [
            "2022-02-01"
           ],
           [
            "20:01:27"
           ],
           [
            1.77
           ],
           [
            2.49
           ],
           [
            "M 1.8 - 4 km ESE of Lilesville, North Carolina"
           ]
          ],
          [
           [
            "2022-01-27"
           ],
           [
            "18:47:00"
           ],
           [
            2.13
           ],
           [
            1.04
           ],
           [
            "M 2.1 - 7 km SSW of Lugoff, South Carolina"
           ]
          ],
          [
           [
            "2022-01-21"
           ],
           [
            "15:34:41"
           ],
           [
            1.94
           ],
           [
            4.84
           ],
           [
            "M 1.9 - 7 km SE of Elgin, South Carolina"
           ]
          ],
          [
           [
            "2022-01-19"
           ],
           [
            "20:08:08"
           ],
           [
            1.91
           ],
           [
            4.77
           ],
           [
            "M 1.9 - 7 km ESE of Elgin, South Carolina"
           ]
          ],
          [
           [
            "2022-01-15"
           ],
           [
            "06:24:51"
           ],
           [
            1.79
           ],
           [
            3.53
           ],
           [
            "M 1.8 - 8 km SE of Elgin, South Carolina"
           ]
          ],
          [
           [
            "2022-01-11"
           ],
           [
            "23:29:23"
           ],
           [
            1.74
           ],
           [
            6.45
           ],
           [
            "M 1.7 - 7 km ESE of Elgin, South Carolina"
           ]
          ],
          [
           [
            "2022-01-11"
           ],
           [
            "08:31:26"
           ],
           [
            1.97
           ],
           [
            3.2
           ],
           [
            "M 2.0 - 5 km S of Lugoff, South Carolina"
           ]
          ],
          [
           [
            "2022-01-11"
           ],
           [
            "00:31:29"
           ],
           [
            1.66
           ],
           [
            5.39
           ],
           [
            "M 1.7 - 5 km E of Elgin, South Carolina"
           ]
          ],
          [
           [
            "2022-01-09"
           ],
           [
            "15:00:20"
           ],
           [
            1.35
           ],
           [
            2.87
           ],
           [
            "M 1.4 - 5 km S of Centerville, South Carolina"
           ]
          ],
          [
           [
            "2022-01-05"
           ],
           [
            "08:18:05"
           ],
           [
            1.53
           ],
           [
            6.96
           ],
           [
            "M 1.5 - 7 km SSW of Lugoff, South Carolina"
           ]
          ],
          [
           [
            "2022-01-05"
           ],
           [
            "01:45:10"
           ],
           [
            2.57
           ],
           [
            0.46
           ],
           [
            "M 2.6 - 5 km SW of Lugoff, South Carolina"
           ]
          ],
          [
           [
            "2022-01-03"
           ],
           [
            "05:49:30"
           ],
           [
            2.53
           ],
           [
            2.05
           ],
           [
            "M 2.5 - 5 km S of Lugoff, South Carolina"
           ]
          ],
          [
           [
            "2021-12-30"
           ],
           [
            "14:11:56"
           ],
           [
            2.41
           ],
           [
            3.78
           ],
           [
            "M 2.4 - 6 km ESE of Elgin, South Carolina"
           ]
          ],
          [
           [
            "2021-12-30"
           ],
           [
            "07:11:31"
           ],
           [
            2.51
           ],
           [
            2.51
           ],
           [
            "M 2.5 - 6 km E of Elgin, South Carolina"
           ]
          ],
          [
           [
            "2021-12-29"
           ],
           [
            "04:12:05"
           ],
           [
            2.29
           ],
           [
            1.57
           ],
           [
            "M 2.3 - 6 km E of Elgin, South Carolina"
           ]
          ],
          [
           [
            "2021-12-27"
           ],
           [
            "22:03:16"
           ],
           [
            1.74
           ],
           [
            2.67
           ],
           [
            "M 1.7 - 4 km SSW of Lugoff, South Carolina"
           ]
          ],
          [
           [
            "2021-12-27"
           ],
           [
            "18:22:50"
           ],
           [
            2.3
           ],
           [
            0.74
           ],
           [
            "M 2.3 - 6 km ESE of Elgin, South Carolina"
           ]
          ],
          [
           [
            "2021-12-27"
           ],
           [
            "17:38:21"
           ],
           [
            2.57
           ],
           [
            1.33
           ],
           [
            "M 2.6 - 6 km SSW of Lugoff, South Carolina"
           ]
          ],
          [
           [
            "2021-12-27"
           ],
           [
            "14:18:54"
           ],
           [
            3.3
           ],
           [
            3.07
           ],
           [
            "M 3.3 - 5 km SSW of Lugoff, South Carolina"
           ]
          ],
          [
           [
            "2021-12-20"
           ],
           [
            "01:54:05"
           ],
           [
            1.13
           ],
           [
            2.75
           ],
           [
            "M 1.1 - 4 km SSW of Ladson, South Carolina"
           ]
          ]
         ],
         "hovertemplate": "Event Title: %{customdata[4]}<br>Event Date: %{customdata[0]}<br>Event Time: %{customdata[1]}<br>Location: %{text}<br>Magnitude: %{customdata[2]}<br>lat:  %{lat},  lon:  %{lon}<br>Depth(km):  %{customdata[3]}",
         "lat": [
          32.9653333,
          34.1655,
          34.4325,
          34.1606667,
          34.1086667,
          34.1396667,
          34.1608333,
          34.179,
          34.1655,
          34.1668333,
          34.166,
          34.154,
          34.166,
          34.083,
          34.164,
          34.146,
          34.1688333,
          34.1455,
          34.1553333,
          34.1548333,
          34.1506667,
          34.1495,
          34.1616667,
          34.1608333,
          34.1685,
          34.154,
          34.1303333,
          34.155,
          34.1526667,
          34.1721667,
          34.1783333,
          34.1671667,
          34.1568333,
          34.152,
          34.1598333,
          34.1643333,
          34.1665,
          34.1653333,
          34.156,
          34.1601667,
          34.1651667,
          34.1668333,
          32.9576667,
          34.1648333,
          34.1566667,
          34.1623333,
          34.1608333,
          34.1666667,
          33.558,
          32.4525,
          33.5518333,
          32.9606667,
          34.1463333,
          34.1791667,
          34.1703333,
          34.1391667,
          34.1736667,
          34.1451667,
          34.1443333,
          34.1338333,
          34.1588333,
          34.9866667,
          32.9423333,
          32.9438333,
          34.1645,
          32.9845,
          34.1725,
          34.2143333,
          34.1501667,
          34.1481667,
          34.1493333,
          34.9555,
          34.1653333,
          34.1261667,
          34.1523333,
          34.1268333,
          34.1378333,
          34.1796667,
          34.168,
          32.9428333,
          34.1668333,
          34.185,
          34.177,
          34.148,
          34.1685,
          34.1696667,
          34.1908333,
          34.155,
          34.175,
          34.1823333,
          32.9491667
         ],
         "lon": [
          -80.1761667,
          -80.7105,
          -82.6106667,
          -80.7128333,
          -80.6846667,
          -80.7143333,
          -80.7245,
          -80.7076667,
          -80.7193333,
          -80.7096667,
          -80.7118333,
          -80.7218333,
          -80.7226667,
          -80.716,
          -80.72,
          -80.6965,
          -80.7126667,
          -80.7266667,
          -80.7243333,
          -80.7198333,
          -80.7223333,
          -80.723,
          -80.712,
          -80.726,
          -80.7256667,
          -80.723,
          -80.7275,
          -80.7233333,
          -80.723,
          -80.7111667,
          -80.7056667,
          -80.7136667,
          -80.7196667,
          -80.7176667,
          -80.7258333,
          -80.7046667,
          -80.72,
          -80.727,
          -80.718,
          -80.7281667,
          -80.7278333,
          -80.7286667,
          -80.1886667,
          -80.7153333,
          -80.7305,
          -80.7191667,
          -80.7228333,
          -80.7246667,
          -82.3015,
          -82.1405,
          -82.3233333,
          -80.1873333,
          -80.7188333,
          -80.7051667,
          -80.721,
          -80.7301667,
          -80.7313333,
          -80.7301667,
          -80.7268333,
          -80.7171667,
          -80.731,
          -82.3335,
          -80.1416667,
          -80.155,
          -80.7153333,
          -80.1708333,
          -80.7098333,
          -80.6073333,
          -80.7286667,
          -80.7381667,
          -80.718,
          -79.9386667,
          -80.7085,
          -80.7311667,
          -80.7205,
          -80.7251667,
          -80.7268333,
          -80.6978333,
          -80.7348333,
          -80.1785,
          -80.7143333,
          -80.7263333,
          -80.701,
          -80.7315,
          -80.7225,
          -80.7236667,
          -80.7005,
          -80.729,
          -80.716,
          -80.7196667,
          -80.1355
         ],
         "marker": {
          "color": [
           1.45,
           1.62,
           2.11,
           1.53,
           1.64,
           1.58,
           1.75,
           1.84,
           1.78,
           2.13,
           2.31,
           2.11,
           2.21,
           1.3,
           1.62,
           1.23,
           1.58,
           1.44,
           1.64,
           2.06,
           1.55,
           1.55,
           1.58,
           1.93,
           2.09,
           1.68,
           1.26,
           2.11,
           1.55,
           1.49,
           2.06,
           2.15,
           2.03,
           1.44,
           2.32,
           1.79,
           1.46,
           3.6,
           1.51,
           1.88,
           2.06,
           3.5,
           1.15,
           1.88,
           1.34,
           1.75,
           1.79,
           3.4,
           2.08,
           3.9,
           2.16,
           0.96,
           1.86,
           1.76,
           2.57,
           2.24,
           2.76,
           2.19,
           1.79,
           1.6,
           3.25,
           2.17,
           1.07,
           1.56,
           2.01,
           0.93,
           2.06,
           2.09,
           2.16,
           1.78,
           1.49,
           1.77,
           2.13,
           1.94,
           1.91,
           1.79,
           1.74,
           1.97,
           1.66,
           1.35,
           1.53,
           2.57,
           2.53,
           2.41,
           2.51,
           2.29,
           1.74,
           2.3,
           2.57,
           3.3,
           1.13
          ],
          "colorscale": [
           [
            0.0,
            "rgb(0,0,131)"
           ],
           [
            0.2,
            "rgb(0,60,170)"
           ],
           [
            0.4,
            "rgb(5,255,255)"
           ],
           [
            0.6,
            "rgb(255,255,0)"
           ],
           [
            0.8,
            "rgb(250,0,0)"
           ],
           [
            1.0,
            "rgb(128,0,0)"
           ]
          ],
          "size": 12
         },
         "mode": "markers",
         "name": "",
         "text": [
          "3 km S of Centerville, South Carolina",
          "7 km SSW of Lugoff, South Carolina",
          "6 km SE of Homeland Park, South Carolina",
          "7 km E of Elgin, South Carolina",
          "9 km W of Boykin, South Carolina",
          "8 km ESE of Elgin, South Carolina",
          "6 km E of Elgin, South Carolina",
          "5 km SSW of Lugoff, South Carolina",
          "6 km E of Elgin, South Carolina",
          "6 km SSW of Lugoff, South Carolina",
          "7 km SSW of Lugoff, South Carolina",
          "6 km ESE of Elgin, South Carolina",
          "6 km E of Elgin, South Carolina",
          "12 km SE of Elgin, South Carolina",
          "6 km E of Elgin, South Carolina",
          "9 km S of Lugoff, South Carolina",
          "6 km SSW of Lugoff, South Carolina",
          "6 km ESE of Elgin, South Carolina",
          "6 km ESE of Elgin, South Carolina",
          "7 km ESE of Elgin, South Carolina",
          "7 km ESE of Elgin, South Carolina",
          "6 km ESE of Elgin, South Carolina",
          "7 km SSW of Lugoff, South Carolina",
          "6 km E of Elgin, South Carolina",
          "6 km E of Elgin, South Carolina",
          "6 km ESE of Elgin, South Carolina",
          "7 km SE of Elgin, South Carolina",
          "6 km ESE of Elgin, South Carolina",
          "6 km ESE of Elgin, South Carolina",
          "6 km SSW of Lugoff, South Carolina",
          "5 km SSW of Lugoff, South Carolina",
          "7 km SSW of Lugoff, South Carolina",
          "7 km ESE of Elgin, South Carolina",
          "7 km ESE of Elgin, South Carolina",
          "6 km E of Elgin, South Carolina",
          "7 km SSW of Lugoff, South Carolina",
          "6 km E of Elgin, South Carolina",
          "6 km E of Elgin, South Carolina",
          "7 km ESE of Elgin, South Carolina",
          "6 km E of Elgin, South Carolina",
          "6 km E of Elgin, South Carolina",
          "6 km E of Elgin, South Carolina",
          "4 km SSW of Centerville, South Carolina",
          "7 km E of Elgin, South Carolina",
          "6 km ESE of Elgin, South Carolina",
          "South Carolina",
          "6 km E of Elgin, South Carolina",
          "6 km E of Elgin, South Carolina",
          "15 km NW of Grovetown, Georgia",
          "7 km E of Stillmore, Georgia",
          "15 km N of Harlem, Georgia",
          "4 km SSW of Centerville, South Carolina",
          "7 km ESE of Elgin, South Carolina",
          "5 km SSW of Lugoff, South Carolina",
          "6 km E of Elgin, South Carolina",
          "6 km ESE of Elgin, South Carolina",
          "5 km E of Elgin, South Carolina",
          "6 km ESE of Elgin, South Carolina",
          "6 km ESE of Elgin, South Carolina",
          "8 km ESE of Elgin, South Carolina",
          "5 km ESE of Elgin, South Carolina",
          "8 km NNW of Taylors, South Carolina",
          "5 km SSW of Ladson, South Carolina",
          "5 km SSE of Centerville, South Carolina",
          "7 km E of Elgin, South Carolina",
          "1 km S of Centerville, South Carolina",
          "6 km SSW of Lugoff, South Carolina",
          "3 km S of Camden, South Carolina",
          "6 km ESE of Elgin, South Carolina",
          "5 km ESE of Elgin, South Carolina",
          "7 km ESE of Elgin, South Carolina",
          "4 km ESE of Lilesville, North Carolina",
          "7 km SSW of Lugoff, South Carolina",
          "7 km SE of Elgin, South Carolina",
          "7 km ESE of Elgin, South Carolina",
          "8 km SE of Elgin, South Carolina",
          "7 km ESE of Elgin, South Carolina",
          "5 km S of Lugoff, South Carolina",
          "5 km E of Elgin, South Carolina",
          "5 km S of Centerville, South Carolina",
          "7 km SSW of Lugoff, South Carolina",
          "5 km SW of Lugoff, South Carolina",
          "5 km S of Lugoff, South Carolina",
          "6 km ESE of Elgin, South Carolina",
          "6 km E of Elgin, South Carolina",
          "6 km E of Elgin, South Carolina",
          "4 km SSW of Lugoff, South Carolina",
          "6 km ESE of Elgin, South Carolina",
          "6 km SSW of Lugoff, South Carolina",
          "5 km SSW of Lugoff, South Carolina",
          "4 km SSW of Ladson, South Carolina"
         ],
         "type": "scattermapbox"
        }
       ],
       "layout": {
        "template": {
         "data": {
          "histogram2dcontour": [
           {
            "type": "histogram2dcontour",
            "colorbar": {
             "outlinewidth": 0,
             "ticks": ""
            },
            "colorscale": [
             [
              0.0,
              "#0d0887"
             ],
             [
              0.1111111111111111,
              "#46039f"
             ],
             [
              0.2222222222222222,
              "#7201a8"
             ],
             [
              0.3333333333333333,
              "#9c179e"
             ],
             [
              0.4444444444444444,
              "#bd3786"
             ],
             [
              0.5555555555555556,
              "#d8576b"
             ],
             [
              0.6666666666666666,
              "#ed7953"
             ],
             [
              0.7777777777777778,
              "#fb9f3a"
             ],
             [
              0.8888888888888888,
              "#fdca26"
             ],
             [
              1.0,
              "#f0f921"
             ]
            ]
           }
          ],
          "choropleth": [
           {
            "type": "choropleth",
            "colorbar": {
             "outlinewidth": 0,
             "ticks": ""
            }
           }
          ],
          "histogram2d": [
           {
            "type": "histogram2d",
            "colorbar": {
             "outlinewidth": 0,
             "ticks": ""
            },
            "colorscale": [
             [
              0.0,
              "#0d0887"
             ],
             [
              0.1111111111111111,
              "#46039f"
             ],
             [
              0.2222222222222222,
              "#7201a8"
             ],
             [
              0.3333333333333333,
              "#9c179e"
             ],
             [
              0.4444444444444444,
              "#bd3786"
             ],
             [
              0.5555555555555556,
              "#d8576b"
             ],
             [
              0.6666666666666666,
              "#ed7953"
             ],
             [
              0.7777777777777778,
              "#fb9f3a"
             ],
             [
              0.8888888888888888,
              "#fdca26"
             ],
             [
              1.0,
              "#f0f921"
             ]
            ]
           }
          ],
          "heatmap": [
           {
            "type": "heatmap",
            "colorbar": {
             "outlinewidth": 0,
             "ticks": ""
            },
            "colorscale": [
             [
              0.0,
              "#0d0887"
             ],
             [
              0.1111111111111111,
              "#46039f"
             ],
             [
              0.2222222222222222,
              "#7201a8"
             ],
             [
              0.3333333333333333,
              "#9c179e"
             ],
             [
              0.4444444444444444,
              "#bd3786"
             ],
             [
              0.5555555555555556,
              "#d8576b"
             ],
             [
              0.6666666666666666,
              "#ed7953"
             ],
             [
              0.7777777777777778,
              "#fb9f3a"
             ],
             [
              0.8888888888888888,
              "#fdca26"
             ],
             [
              1.0,
              "#f0f921"
             ]
            ]
           }
          ],
          "heatmapgl": [
           {
            "type": "heatmapgl",
            "colorbar": {
             "outlinewidth": 0,
             "ticks": ""
            },
            "colorscale": [
             [
              0.0,
              "#0d0887"
             ],
             [
              0.1111111111111111,
              "#46039f"
             ],
             [
              0.2222222222222222,
              "#7201a8"
             ],
             [
              0.3333333333333333,
              "#9c179e"
             ],
             [
              0.4444444444444444,
              "#bd3786"
             ],
             [
              0.5555555555555556,
              "#d8576b"
             ],
             [
              0.6666666666666666,
              "#ed7953"
             ],
             [
              0.7777777777777778,
              "#fb9f3a"
             ],
             [
              0.8888888888888888,
              "#fdca26"
             ],
             [
              1.0,
              "#f0f921"
             ]
            ]
           }
          ],
          "contourcarpet": [
           {
            "type": "contourcarpet",
            "colorbar": {
             "outlinewidth": 0,
             "ticks": ""
            }
           }
          ],
          "contour": [
           {
            "type": "contour",
            "colorbar": {
             "outlinewidth": 0,
             "ticks": ""
            },
            "colorscale": [
             [
              0.0,
              "#0d0887"
             ],
             [
              0.1111111111111111,
              "#46039f"
             ],
             [
              0.2222222222222222,
              "#7201a8"
             ],
             [
              0.3333333333333333,
              "#9c179e"
             ],
             [
              0.4444444444444444,
              "#bd3786"
             ],
             [
              0.5555555555555556,
              "#d8576b"
             ],
             [
              0.6666666666666666,
              "#ed7953"
             ],
             [
              0.7777777777777778,
              "#fb9f3a"
             ],
             [
              0.8888888888888888,
              "#fdca26"
             ],
             [
              1.0,
              "#f0f921"
             ]
            ]
           }
          ],
          "surface": [
           {
            "type": "surface",
            "colorbar": {
             "outlinewidth": 0,
             "ticks": ""
            },
            "colorscale": [
             [
              0.0,
              "#0d0887"
             ],
             [
              0.1111111111111111,
              "#46039f"
             ],
             [
              0.2222222222222222,
              "#7201a8"
             ],
             [
              0.3333333333333333,
              "#9c179e"
             ],
             [
              0.4444444444444444,
              "#bd3786"
             ],
             [
              0.5555555555555556,
              "#d8576b"
             ],
             [
              0.6666666666666666,
              "#ed7953"
             ],
             [
              0.7777777777777778,
              "#fb9f3a"
             ],
             [
              0.8888888888888888,
              "#fdca26"
             ],
             [
              1.0,
              "#f0f921"
             ]
            ]
           }
          ],
          "mesh3d": [
           {
            "type": "mesh3d",
            "colorbar": {
             "outlinewidth": 0,
             "ticks": ""
            }
           }
          ],
          "scatter": [
           {
            "marker": {
             "line": {
              "color": "#283442"
             }
            },
            "type": "scatter"
           }
          ],
          "parcoords": [
           {
            "type": "parcoords",
            "line": {
             "colorbar": {
              "outlinewidth": 0,
              "ticks": ""
             }
            }
           }
          ],
          "scatterpolargl": [
           {
            "type": "scatterpolargl",
            "marker": {
             "colorbar": {
              "outlinewidth": 0,
              "ticks": ""
             }
            }
           }
          ],
          "bar": [
           {
            "error_x": {
             "color": "#f2f5fa"
            },
            "error_y": {
             "color": "#f2f5fa"
            },
            "marker": {
             "line": {
              "color": "rgb(17,17,17)",
              "width": 0.5
             },
             "pattern": {
              "fillmode": "overlay",
              "size": 10,
              "solidity": 0.2
             }
            },
            "type": "bar"
           }
          ],
          "scattergeo": [
           {
            "type": "scattergeo",
            "marker": {
             "colorbar": {
              "outlinewidth": 0,
              "ticks": ""
             }
            }
           }
          ],
          "scatterpolar": [
           {
            "type": "scatterpolar",
            "marker": {
             "colorbar": {
              "outlinewidth": 0,
              "ticks": ""
             }
            }
           }
          ],
          "histogram": [
           {
            "marker": {
             "pattern": {
              "fillmode": "overlay",
              "size": 10,
              "solidity": 0.2
             }
            },
            "type": "histogram"
           }
          ],
          "scattergl": [
           {
            "marker": {
             "line": {
              "color": "#283442"
             }
            },
            "type": "scattergl"
           }
          ],
          "scatter3d": [
           {
            "type": "scatter3d",
            "line": {
             "colorbar": {
              "outlinewidth": 0,
              "ticks": ""
             }
            },
            "marker": {
             "colorbar": {
              "outlinewidth": 0,
              "ticks": ""
             }
            }
           }
          ],
          "scattermapbox": [
           {
            "type": "scattermapbox",
            "marker": {
             "colorbar": {
              "outlinewidth": 0,
              "ticks": ""
             }
            }
           }
          ],
          "scatterternary": [
           {
            "type": "scatterternary",
            "marker": {
             "colorbar": {
              "outlinewidth": 0,
              "ticks": ""
             }
            }
           }
          ],
          "scattercarpet": [
           {
            "type": "scattercarpet",
            "marker": {
             "colorbar": {
              "outlinewidth": 0,
              "ticks": ""
             }
            }
           }
          ],
          "carpet": [
           {
            "aaxis": {
             "endlinecolor": "#A2B1C6",
             "gridcolor": "#506784",
             "linecolor": "#506784",
             "minorgridcolor": "#506784",
             "startlinecolor": "#A2B1C6"
            },
            "baxis": {
             "endlinecolor": "#A2B1C6",
             "gridcolor": "#506784",
             "linecolor": "#506784",
             "minorgridcolor": "#506784",
             "startlinecolor": "#A2B1C6"
            },
            "type": "carpet"
           }
          ],
          "table": [
           {
            "cells": {
             "fill": {
              "color": "#506784"
             },
             "line": {
              "color": "rgb(17,17,17)"
             }
            },
            "header": {
             "fill": {
              "color": "#2a3f5f"
             },
             "line": {
              "color": "rgb(17,17,17)"
             }
            },
            "type": "table"
           }
          ],
          "barpolar": [
           {
            "marker": {
             "line": {
              "color": "rgb(17,17,17)",
              "width": 0.5
             },
             "pattern": {
              "fillmode": "overlay",
              "size": 10,
              "solidity": 0.2
             }
            },
            "type": "barpolar"
           }
          ],
          "pie": [
           {
            "automargin": true,
            "type": "pie"
           }
          ]
         },
         "layout": {
          "autotypenumbers": "strict",
          "colorway": [
           "#636efa",
           "#EF553B",
           "#00cc96",
           "#ab63fa",
           "#FFA15A",
           "#19d3f3",
           "#FF6692",
           "#B6E880",
           "#FF97FF",
           "#FECB52"
          ],
          "font": {
           "color": "#f2f5fa"
          },
          "hovermode": "closest",
          "hoverlabel": {
           "align": "left"
          },
          "paper_bgcolor": "rgb(17,17,17)",
          "plot_bgcolor": "rgb(17,17,17)",
          "polar": {
           "bgcolor": "rgb(17,17,17)",
           "angularaxis": {
            "gridcolor": "#506784",
            "linecolor": "#506784",
            "ticks": ""
           },
           "radialaxis": {
            "gridcolor": "#506784",
            "linecolor": "#506784",
            "ticks": ""
           }
          },
          "ternary": {
           "bgcolor": "rgb(17,17,17)",
           "aaxis": {
            "gridcolor": "#506784",
            "linecolor": "#506784",
            "ticks": ""
           },
           "baxis": {
            "gridcolor": "#506784",
            "linecolor": "#506784",
            "ticks": ""
           },
           "caxis": {
            "gridcolor": "#506784",
            "linecolor": "#506784",
            "ticks": ""
           }
          },
          "coloraxis": {
           "colorbar": {
            "outlinewidth": 0,
            "ticks": ""
           }
          },
          "colorscale": {
           "sequential": [
            [
             0.0,
             "#0d0887"
            ],
            [
             0.1111111111111111,
             "#46039f"
            ],
            [
             0.2222222222222222,
             "#7201a8"
            ],
            [
             0.3333333333333333,
             "#9c179e"
            ],
            [
             0.4444444444444444,
             "#bd3786"
            ],
            [
             0.5555555555555556,
             "#d8576b"
            ],
            [
             0.6666666666666666,
             "#ed7953"
            ],
            [
             0.7777777777777778,
             "#fb9f3a"
            ],
            [
             0.8888888888888888,
             "#fdca26"
            ],
            [
             1.0,
             "#f0f921"
            ]
           ],
           "sequentialminus": [
            [
             0.0,
             "#0d0887"
            ],
            [
             0.1111111111111111,
             "#46039f"
            ],
            [
             0.2222222222222222,
             "#7201a8"
            ],
            [
             0.3333333333333333,
             "#9c179e"
            ],
            [
             0.4444444444444444,
             "#bd3786"
            ],
            [
             0.5555555555555556,
             "#d8576b"
            ],
            [
             0.6666666666666666,
             "#ed7953"
            ],
            [
             0.7777777777777778,
             "#fb9f3a"
            ],
            [
             0.8888888888888888,
             "#fdca26"
            ],
            [
             1.0,
             "#f0f921"
            ]
           ],
           "diverging": [
            [
             0,
             "#8e0152"
            ],
            [
             0.1,
             "#c51b7d"
            ],
            [
             0.2,
             "#de77ae"
            ],
            [
             0.3,
             "#f1b6da"
            ],
            [
             0.4,
             "#fde0ef"
            ],
            [
             0.5,
             "#f7f7f7"
            ],
            [
             0.6,
             "#e6f5d0"
            ],
            [
             0.7,
             "#b8e186"
            ],
            [
             0.8,
             "#7fbc41"
            ],
            [
             0.9,
             "#4d9221"
            ],
            [
             1,
             "#276419"
            ]
           ]
          },
          "xaxis": {
           "gridcolor": "#283442",
           "linecolor": "#506784",
           "ticks": "",
           "title": {
            "standoff": 15
           },
           "zerolinecolor": "#283442",
           "automargin": true,
           "zerolinewidth": 2
          },
          "yaxis": {
           "gridcolor": "#283442",
           "linecolor": "#506784",
           "ticks": "",
           "title": {
            "standoff": 15
           },
           "zerolinecolor": "#283442",
           "automargin": true,
           "zerolinewidth": 2
          },
          "scene": {
           "xaxis": {
            "backgroundcolor": "rgb(17,17,17)",
            "gridcolor": "#506784",
            "linecolor": "#506784",
            "showbackground": true,
            "ticks": "",
            "zerolinecolor": "#C8D4E3",
            "gridwidth": 2
           },
           "yaxis": {
            "backgroundcolor": "rgb(17,17,17)",
            "gridcolor": "#506784",
            "linecolor": "#506784",
            "showbackground": true,
            "ticks": "",
            "zerolinecolor": "#C8D4E3",
            "gridwidth": 2
           },
           "zaxis": {
            "backgroundcolor": "rgb(17,17,17)",
            "gridcolor": "#506784",
            "linecolor": "#506784",
            "showbackground": true,
            "ticks": "",
            "zerolinecolor": "#C8D4E3",
            "gridwidth": 2
           }
          },
          "shapedefaults": {
           "line": {
            "color": "#f2f5fa"
           }
          },
          "annotationdefaults": {
           "arrowcolor": "#f2f5fa",
           "arrowhead": 0,
           "arrowwidth": 1
          },
          "geo": {
           "bgcolor": "rgb(17,17,17)",
           "landcolor": "rgb(17,17,17)",
           "subunitcolor": "#506784",
           "showland": true,
           "showlakes": true,
           "lakecolor": "rgb(17,17,17)"
          },
          "title": {
           "x": 0.05
          },
          "updatemenudefaults": {
           "bgcolor": "#506784",
           "borderwidth": 0
          },
          "sliderdefaults": {
           "bgcolor": "#C8D4E3",
           "borderwidth": 1,
           "bordercolor": "rgb(17,17,17)",
           "tickwidth": 0
          },
          "mapbox": {
           "style": "dark"
          }
         }
        },
        "mapbox": {
         "center": {
          "lat": 34.170983,
          "lon": -80.794252
         },
         "style": "dark",
         "accesstoken": "pk.eyJ1IjoibWlja3RoZWxpbnV4Z2VlayIsImEiOiJjbDQzN3U0YTUwODk5M3BxbnJtZjVweDJ1In0.jyMNmtV_85OzRrfmDsQXrg\n",
         "bearing": 0,
         "pitch": 0,
         "zoom": 11
        },
        "title": {
         "font": {
          "color": "#00FF7F"
         },
         "text": "South Carolina Earthquakes - Dec. - 2021 to Present"
        },
        "margin": {
         "t": 50,
         "b": 5,
         "l": 5,
         "r": 5
        },
        "hoverlabel": {
         "font": {
          "size": 15,
          "family": "Rockwell"
         },
         "bgcolor": "white"
        },
        "paper_bgcolor": "#8B4513",
        "autosize": true,
        "height": 510,
        "hovermode": "closest",
        "showlegend": false
       },
       "config": {
        "plotlyServerURL": "https://plot.ly"
       }
      },
      "text/html": "<div>                            <div id=\"5c2a3645-a29f-467d-9961-0df27431b696\" class=\"plotly-graph-div\" style=\"height:510px; width:100%;\"></div>            <script type=\"text/javascript\">                require([\"plotly\"], function(Plotly) {                    window.PLOTLYENV=window.PLOTLYENV || {};                                    if (document.getElementById(\"5c2a3645-a29f-467d-9961-0df27431b696\")) {                    Plotly.newPlot(                        \"5c2a3645-a29f-467d-9961-0df27431b696\",                        [{\"customdata\":[[[\"2022-09-01\"],[\"21:23:37\"],[1.45],[0.74],[\"M 1.5 - 3 km S of Centerville, South Carolina\"]],[[\"2022-08-27\"],[\"14:41:34\"],[1.62],[3.09],[\"M 1.6 - 7 km SSW of Lugoff, South Carolina\"]],[[\"2022-08-18\"],[\"02:00:33\"],[2.11],[0.03],[\"M 2.1 - 6 km SE of Homeland Park, South Carolina\"]],[[\"2022-08-15\"],[\"05:32:39\"],[1.53],[3.59],[\"M 1.5 - 7 km E of Elgin, South Carolina\"]],[[\"2022-08-09\"],[\"01:59:51\"],[1.64],[6.85],[\"M 1.6 - 9 km W of Boykin, South Carolina\"]],[[\"2022-08-04\"],[\"14:40:47\"],[1.58],[5.49],[\"M 1.6 - 8 km ESE of Elgin, South Carolina\"]],[[\"2022-08-03\"],[\"09:44:47\"],[1.75],[3.0],[\"M 1.8 - 6 km E of Elgin, South Carolina\"]],[[\"2022-07-31\"],[\"01:24:31\"],[1.84],[0.66],[\"M 1.8 - 5 km SSW of Lugoff, South Carolina\"]],[[\"2022-07-30\"],[\"07:41:13\"],[1.78],[3.63],[\"M 1.8 - 6 km E of Elgin, South Carolina\"]],[[\"2022-07-25\"],[\"03:01:15\"],[2.13],[2.22],[\"M 2.1 - 6 km SSW of Lugoff, South Carolina\"]],[[\"2022-07-24\"],[\"20:42:45\"],[2.31],[2.41],[\"M 2.3 - 7 km SSW of Lugoff, South Carolina\"]],[[\"2022-07-19\"],[\"12:12:27\"],[2.11],[3.2],[\"M 2.1 - 6 km ESE of Elgin, South Carolina\"]],[[\"2022-07-19\"],[\"12:06:44\"],[2.21],[1.78],[\"M 2.2 - 6 km E of Elgin, South Carolina\"]],[[\"2022-07-18\"],[\"13:47:25\"],[1.3],[5.0],[\"M 1.3 - 12 km SE of Elgin, South Carolina\"]],[[\"2022-07-15\"],[\"11:15:35\"],[1.62],[3.25],[\"M 1.6 - 6 km E of Elgin, South Carolina\"]],[[\"2022-07-14\"],[\"03:16:52\"],[1.23],[3.05],[\"M 1.2 - 9 km S of Lugoff, South Carolina\"]],[[\"2022-07-13\"],[\"18:20:37\"],[1.58],[3.88],[\"M 1.6 - 6 km SSW of Lugoff, South Carolina\"]],[[\"2022-07-08\"],[\"13:29:07\"],[1.44],[3.82],[\"M 1.4 - 6 km ESE of Elgin, South Carolina\"]],[[\"2022-07-08\"],[\"06:08:14\"],[1.64],[2.46],[\"M 1.6 - 6 km ESE of Elgin, South Carolina\"]],[[\"2022-07-07\"],[\"11:54:01\"],[2.06],[3.97],[\"M 2.1 - 7 km ESE of Elgin, South Carolina\"]],[[\"2022-07-03\"],[\"14:24:24\"],[1.55],[3.03],[\"M 1.6 - 7 km ESE of Elgin, South Carolina\"]],[[\"2022-07-03\"],[\"11:45:36\"],[1.55],[3.13],[\"M 1.6 - 6 km ESE of Elgin, South Carolina\"]],[[\"2022-07-03\"],[\"06:29:25\"],[1.58],[3.17],[\"M 1.6 - 7 km SSW of Lugoff, South Carolina\"]],[[\"2022-07-03\"],[\"00:16:24\"],[1.93],[2.13],[\"M 1.9 - 6 km E of Elgin, South Carolina\"]],[[\"2022-07-02\"],[\"11:59:56\"],[2.09],[1.65],[\"M 2.1 - 6 km E of Elgin, South Carolina\"]],[[\"2022-07-01\"],[\"21:10:25\"],[1.68],[4.02],[\"M 1.7 - 6 km ESE of Elgin, South Carolina\"]],[[\"2022-07-01\"],[\"13:46:09\"],[1.26],[3.3],[\"M 1.3 - 7 km SE of Elgin, South Carolina\"]],[[\"2022-07-01\"],[\"08:46:42\"],[2.11],[3.83],[\"M 2.1 - 6 km ESE of Elgin, South Carolina\"]],[[\"2022-07-01\"],[\"05:47:47\"],[1.55],[3.37],[\"M 1.6 - 6 km ESE of Elgin, South Carolina\"]],[[\"2022-06-30\"],[\"21:05:24\"],[1.49],[2.46],[\"M 1.5 - 6 km SSW of Lugoff, South Carolina\"]],[[\"2022-06-30\"],[\"20:45:37\"],[2.06],[1.92],[\"M 2.1 - 5 km SSW of Lugoff, South Carolina\"]],[[\"2022-06-30\"],[\"10:15:46\"],[2.15],[2.56],[\"M 2.2 - 7 km SSW of Lugoff, South Carolina\"]],[[\"2022-06-30\"],[\"05:22:07\"],[2.03],[3.11],[\"M 2.0 - 7 km ESE of Elgin, South Carolina\"]],[[\"2022-06-30\"],[\"02:30:00\"],[1.44],[2.8],[\"M 1.4 - 7 km ESE of Elgin, South Carolina\"]],[[\"2022-06-30\"],[\"00:23:13\"],[2.32],[3.09],[\"M 2.3 - 6 km E of Elgin, South Carolina\"]],[[\"2022-06-29\"],[\"19:22:54\"],[1.79],[2.07],[\"M 1.8 - 7 km SSW of Lugoff, South Carolina\"]],[[\"2022-06-29\"],[\"19:22:11\"],[1.46],[1.93],[\"M 1.5 - 6 km E of Elgin, South Carolina\"]],[[\"2022-06-29\"],[\"19:03:01\"],[3.6],[2.75],[\"M 3.6 - 6 km E of Elgin, South Carolina\"]],[[\"2022-06-29\"],[\"16:34:05\"],[1.51],[3.72],[\"M 1.5 - 7 km ESE of Elgin, South Carolina\"]],[[\"2022-06-29\"],[\"16:02:01\"],[1.88],[2.92],[\"M 1.9 - 6 km E of Elgin, South Carolina\"]],[[\"2022-06-29\"],[\"14:57:34\"],[2.06],[2.22],[\"M 2.1 - 6 km E of Elgin, South Carolina\"]],[[\"2022-06-29\"],[\"14:43:56\"],[3.5],[2.68],[\"M 3.5 - 6 km E of Elgin, South Carolina\"]],[[\"2022-06-27\"],[\"03:31:24\"],[1.15],[3.85],[\"M 1.2 - 4 km SSW of Centerville, South Carolina\"]],[[\"2022-06-26\"],[\"16:39:26\"],[1.88],[4.09],[\"M 1.9 - 7 km E of Elgin, South Carolina\"]],[[\"2022-06-26\"],[\"04:45:43\"],[1.34],[2.06],[\"M 1.3 - 6 km ESE of Elgin, South Carolina\"]],[[\"2022-06-26\"],[\"01:53:45\"],[1.75],[3.18],[\"M 1.8 - South Carolina\"]],[[\"2022-06-26\"],[\"01:46:54\"],[1.79],[3.31],[\"M 1.8 - 6 km E of Elgin, South Carolina\"]],[[\"2022-06-26\"],[\"01:31:54\"],[3.4],[3.52],[\"M 3.4 - 6 km E of Elgin, South Carolina\"]],[[\"2022-06-20\"],[\"03:56:11\"],[2.08],[5.41],[\"M 2.1 - 15 km NW of Grovetown, Georgia\"]],[[\"2022-06-18\"],[\"04:05:23\"],[3.9],[0.75],[\"M 3.9 - 7 km E of Stillmore, Georgia\"]],[[\"2022-06-17\"],[\"02:09:30\"],[2.16],[6.79],[\"M 2.2 - 15 km N of Harlem, Georgia\"]],[[\"2022-06-15\"],[\"05:47:23\"],[0.96],[7.31],[\"M 1.0 - 4 km SSW of Centerville, South Carolina\"]],[[\"2022-05-21\"],[\"06:18:06\"],[1.86],[5.6],[\"M 1.9 - 7 km ESE of Elgin, South Carolina\"]],[[\"2022-05-19\"],[\"20:00:34\"],[1.76],[2.5],[\"M 1.8 - 5 km SSW of Lugoff, South Carolina\"]],[[\"2022-05-10\"],[\"15:09:07\"],[2.57],[2.07],[\"M 2.6 - 6 km E of Elgin, South Carolina\"]],[[\"2022-05-10\"],[\"13:24:06\"],[2.24],[3.62],[\"M 2.2 - 6 km ESE of Elgin, South Carolina\"]],[[\"2022-05-09\"],[\"23:55:40\"],[2.76],[2.25],[\"M 2.8 - 5 km E of Elgin, South Carolina\"]],[[\"2022-05-09\"],[\"18:05:49\"],[2.19],[3.98],[\"M 2.2 - 6 km ESE of Elgin, South Carolina\"]],[[\"2022-05-09\"],[\"05:10:03\"],[1.79],[4.1],[\"M 1.8 - 6 km ESE of Elgin, South Carolina\"]],[[\"2022-05-09\"],[\"04:39:02\"],[1.6],[2.91],[\"M 1.6 - 8 km ESE of Elgin, South Carolina\"]],[[\"2022-05-09\"],[\"01:32:47\"],[3.25],[3.95],[\"M 3.3 - 5 km ESE of Elgin, South Carolina\"]],[[\"2022-04-22\"],[\"22:02:46\"],[2.17],[2.31],[\"M 2.2 - 8 km NNW of Taylors, South Carolina\"]],[[\"2022-04-22\"],[\"13:32:59\"],[1.07],[3.53],[\"M 1.1 - 5 km SSW of Ladson, South Carolina\"]],[[\"2022-04-08\"],[\"20:01:08\"],[1.56],[3.59],[\"M 1.6 - 5 km SSE of Centerville, South Carolina\"]],[[\"2022-04-07\"],[\"05:03:36\"],[2.01],[2.94],[\"M 2.0 - 7 km E of Elgin, South Carolina\"]],[[\"2022-03-28\"],[\"04:05:38\"],[0.93],[2.87],[\"M 0.9 - 1 km S of Centerville, South Carolina\"]],[[\"2022-03-27\"],[\"14:27:51\"],[2.06],[1.91],[\"M 2.1 - 6 km SSW of Lugoff, South Carolina\"]],[[\"2022-03-11\"],[\"10:03:18\"],[2.09],[0.64],[\"M 2.1 - 3 km S of Camden, South Carolina\"]],[[\"2022-03-09\"],[\"11:09:04\"],[2.16],[3.58],[\"M 2.2 - 6 km ESE of Elgin, South Carolina\"]],[[\"2022-03-04\"],[\"11:35:23\"],[1.78],[2.83],[\"M 1.8 - 5 km ESE of Elgin, South Carolina\"]],[[\"2022-02-02\"],[\"00:39:57\"],[1.49],[3.88],[\"M 1.5 - 7 km ESE of Elgin, South Carolina\"]],[[\"2022-02-01\"],[\"20:01:27\"],[1.77],[2.49],[\"M 1.8 - 4 km ESE of Lilesville, North Carolina\"]],[[\"2022-01-27\"],[\"18:47:00\"],[2.13],[1.04],[\"M 2.1 - 7 km SSW of Lugoff, South Carolina\"]],[[\"2022-01-21\"],[\"15:34:41\"],[1.94],[4.84],[\"M 1.9 - 7 km SE of Elgin, South Carolina\"]],[[\"2022-01-19\"],[\"20:08:08\"],[1.91],[4.77],[\"M 1.9 - 7 km ESE of Elgin, South Carolina\"]],[[\"2022-01-15\"],[\"06:24:51\"],[1.79],[3.53],[\"M 1.8 - 8 km SE of Elgin, South Carolina\"]],[[\"2022-01-11\"],[\"23:29:23\"],[1.74],[6.45],[\"M 1.7 - 7 km ESE of Elgin, South Carolina\"]],[[\"2022-01-11\"],[\"08:31:26\"],[1.97],[3.2],[\"M 2.0 - 5 km S of Lugoff, South Carolina\"]],[[\"2022-01-11\"],[\"00:31:29\"],[1.66],[5.39],[\"M 1.7 - 5 km E of Elgin, South Carolina\"]],[[\"2022-01-09\"],[\"15:00:20\"],[1.35],[2.87],[\"M 1.4 - 5 km S of Centerville, South Carolina\"]],[[\"2022-01-05\"],[\"08:18:05\"],[1.53],[6.96],[\"M 1.5 - 7 km SSW of Lugoff, South Carolina\"]],[[\"2022-01-05\"],[\"01:45:10\"],[2.57],[0.46],[\"M 2.6 - 5 km SW of Lugoff, South Carolina\"]],[[\"2022-01-03\"],[\"05:49:30\"],[2.53],[2.05],[\"M 2.5 - 5 km S of Lugoff, South Carolina\"]],[[\"2021-12-30\"],[\"14:11:56\"],[2.41],[3.78],[\"M 2.4 - 6 km ESE of Elgin, South Carolina\"]],[[\"2021-12-30\"],[\"07:11:31\"],[2.51],[2.51],[\"M 2.5 - 6 km E of Elgin, South Carolina\"]],[[\"2021-12-29\"],[\"04:12:05\"],[2.29],[1.57],[\"M 2.3 - 6 km E of Elgin, South Carolina\"]],[[\"2021-12-27\"],[\"22:03:16\"],[1.74],[2.67],[\"M 1.7 - 4 km SSW of Lugoff, South Carolina\"]],[[\"2021-12-27\"],[\"18:22:50\"],[2.3],[0.74],[\"M 2.3 - 6 km ESE of Elgin, South Carolina\"]],[[\"2021-12-27\"],[\"17:38:21\"],[2.57],[1.33],[\"M 2.6 - 6 km SSW of Lugoff, South Carolina\"]],[[\"2021-12-27\"],[\"14:18:54\"],[3.3],[3.07],[\"M 3.3 - 5 km SSW of Lugoff, South Carolina\"]],[[\"2021-12-20\"],[\"01:54:05\"],[1.13],[2.75],[\"M 1.1 - 4 km SSW of Ladson, South Carolina\"]]],\"hovertemplate\":\"Event Title: %{customdata[4]}<br>Event Date: %{customdata[0]}<br>Event Time: %{customdata[1]}<br>Location: %{text}<br>Magnitude: %{customdata[2]}<br>lat:  %{lat},  lon:  %{lon}<br>Depth(km):  %{customdata[3]}\",\"lat\":[32.9653333,34.1655,34.4325,34.1606667,34.1086667,34.1396667,34.1608333,34.179,34.1655,34.1668333,34.166,34.154,34.166,34.083,34.164,34.146,34.1688333,34.1455,34.1553333,34.1548333,34.1506667,34.1495,34.1616667,34.1608333,34.1685,34.154,34.1303333,34.155,34.1526667,34.1721667,34.1783333,34.1671667,34.1568333,34.152,34.1598333,34.1643333,34.1665,34.1653333,34.156,34.1601667,34.1651667,34.1668333,32.9576667,34.1648333,34.1566667,34.1623333,34.1608333,34.1666667,33.558,32.4525,33.5518333,32.9606667,34.1463333,34.1791667,34.1703333,34.1391667,34.1736667,34.1451667,34.1443333,34.1338333,34.1588333,34.9866667,32.9423333,32.9438333,34.1645,32.9845,34.1725,34.2143333,34.1501667,34.1481667,34.1493333,34.9555,34.1653333,34.1261667,34.1523333,34.1268333,34.1378333,34.1796667,34.168,32.9428333,34.1668333,34.185,34.177,34.148,34.1685,34.1696667,34.1908333,34.155,34.175,34.1823333,32.9491667],\"lon\":[-80.1761667,-80.7105,-82.6106667,-80.7128333,-80.6846667,-80.7143333,-80.7245,-80.7076667,-80.7193333,-80.7096667,-80.7118333,-80.7218333,-80.7226667,-80.716,-80.72,-80.6965,-80.7126667,-80.7266667,-80.7243333,-80.7198333,-80.7223333,-80.723,-80.712,-80.726,-80.7256667,-80.723,-80.7275,-80.7233333,-80.723,-80.7111667,-80.7056667,-80.7136667,-80.7196667,-80.7176667,-80.7258333,-80.7046667,-80.72,-80.727,-80.718,-80.7281667,-80.7278333,-80.7286667,-80.1886667,-80.7153333,-80.7305,-80.7191667,-80.7228333,-80.7246667,-82.3015,-82.1405,-82.3233333,-80.1873333,-80.7188333,-80.7051667,-80.721,-80.7301667,-80.7313333,-80.7301667,-80.7268333,-80.7171667,-80.731,-82.3335,-80.1416667,-80.155,-80.7153333,-80.1708333,-80.7098333,-80.6073333,-80.7286667,-80.7381667,-80.718,-79.9386667,-80.7085,-80.7311667,-80.7205,-80.7251667,-80.7268333,-80.6978333,-80.7348333,-80.1785,-80.7143333,-80.7263333,-80.701,-80.7315,-80.7225,-80.7236667,-80.7005,-80.729,-80.716,-80.7196667,-80.1355],\"marker\":{\"color\":[1.45,1.62,2.11,1.53,1.64,1.58,1.75,1.84,1.78,2.13,2.31,2.11,2.21,1.3,1.62,1.23,1.58,1.44,1.64,2.06,1.55,1.55,1.58,1.93,2.09,1.68,1.26,2.11,1.55,1.49,2.06,2.15,2.03,1.44,2.32,1.79,1.46,3.6,1.51,1.88,2.06,3.5,1.15,1.88,1.34,1.75,1.79,3.4,2.08,3.9,2.16,0.96,1.86,1.76,2.57,2.24,2.76,2.19,1.79,1.6,3.25,2.17,1.07,1.56,2.01,0.93,2.06,2.09,2.16,1.78,1.49,1.77,2.13,1.94,1.91,1.79,1.74,1.97,1.66,1.35,1.53,2.57,2.53,2.41,2.51,2.29,1.74,2.3,2.57,3.3,1.13],\"colorscale\":[[0.0,\"rgb(0,0,131)\"],[0.2,\"rgb(0,60,170)\"],[0.4,\"rgb(5,255,255)\"],[0.6,\"rgb(255,255,0)\"],[0.8,\"rgb(250,0,0)\"],[1.0,\"rgb(128,0,0)\"]],\"size\":12},\"mode\":\"markers\",\"name\":\"\",\"text\":[\"3 km S of Centerville, South Carolina\",\"7 km SSW of Lugoff, South Carolina\",\"6 km SE of Homeland Park, South Carolina\",\"7 km E of Elgin, South Carolina\",\"9 km W of Boykin, South Carolina\",\"8 km ESE of Elgin, South Carolina\",\"6 km E of Elgin, South Carolina\",\"5 km SSW of Lugoff, South Carolina\",\"6 km E of Elgin, South Carolina\",\"6 km SSW of Lugoff, South Carolina\",\"7 km SSW of Lugoff, South Carolina\",\"6 km ESE of Elgin, South Carolina\",\"6 km E of Elgin, South Carolina\",\"12 km SE of Elgin, South Carolina\",\"6 km E of Elgin, South Carolina\",\"9 km S of Lugoff, South Carolina\",\"6 km SSW of Lugoff, South Carolina\",\"6 km ESE of Elgin, South Carolina\",\"6 km ESE of Elgin, South Carolina\",\"7 km ESE of Elgin, South Carolina\",\"7 km ESE of Elgin, South Carolina\",\"6 km ESE of Elgin, South Carolina\",\"7 km SSW of Lugoff, South Carolina\",\"6 km E of Elgin, South Carolina\",\"6 km E of Elgin, South Carolina\",\"6 km ESE of Elgin, South Carolina\",\"7 km SE of Elgin, South Carolina\",\"6 km ESE of Elgin, South Carolina\",\"6 km ESE of Elgin, South Carolina\",\"6 km SSW of Lugoff, South Carolina\",\"5 km SSW of Lugoff, South Carolina\",\"7 km SSW of Lugoff, South Carolina\",\"7 km ESE of Elgin, South Carolina\",\"7 km ESE of Elgin, South Carolina\",\"6 km E of Elgin, South Carolina\",\"7 km SSW of Lugoff, South Carolina\",\"6 km E of Elgin, South Carolina\",\"6 km E of Elgin, South Carolina\",\"7 km ESE of Elgin, South Carolina\",\"6 km E of Elgin, South Carolina\",\"6 km E of Elgin, South Carolina\",\"6 km E of Elgin, South Carolina\",\"4 km SSW of Centerville, South Carolina\",\"7 km E of Elgin, South Carolina\",\"6 km ESE of Elgin, South Carolina\",\"South Carolina\",\"6 km E of Elgin, South Carolina\",\"6 km E of Elgin, South Carolina\",\"15 km NW of Grovetown, Georgia\",\"7 km E of Stillmore, Georgia\",\"15 km N of Harlem, Georgia\",\"4 km SSW of Centerville, South Carolina\",\"7 km ESE of Elgin, South Carolina\",\"5 km SSW of Lugoff, South Carolina\",\"6 km E of Elgin, South Carolina\",\"6 km ESE of Elgin, South Carolina\",\"5 km E of Elgin, South Carolina\",\"6 km ESE of Elgin, South Carolina\",\"6 km ESE of Elgin, South Carolina\",\"8 km ESE of Elgin, South Carolina\",\"5 km ESE of Elgin, South Carolina\",\"8 km NNW of Taylors, South Carolina\",\"5 km SSW of Ladson, South Carolina\",\"5 km SSE of Centerville, South Carolina\",\"7 km E of Elgin, South Carolina\",\"1 km S of Centerville, South Carolina\",\"6 km SSW of Lugoff, South Carolina\",\"3 km S of Camden, South Carolina\",\"6 km ESE of Elgin, South Carolina\",\"5 km ESE of Elgin, South Carolina\",\"7 km ESE of Elgin, South Carolina\",\"4 km ESE of Lilesville, North Carolina\",\"7 km SSW of Lugoff, South Carolina\",\"7 km SE of Elgin, South Carolina\",\"7 km ESE of Elgin, South Carolina\",\"8 km SE of Elgin, South Carolina\",\"7 km ESE of Elgin, South Carolina\",\"5 km S of Lugoff, South Carolina\",\"5 km E of Elgin, South Carolina\",\"5 km S of Centerville, South Carolina\",\"7 km SSW of Lugoff, South Carolina\",\"5 km SW of Lugoff, South Carolina\",\"5 km S of Lugoff, South Carolina\",\"6 km ESE of Elgin, South Carolina\",\"6 km E of Elgin, South Carolina\",\"6 km E of Elgin, South Carolina\",\"4 km SSW of Lugoff, South Carolina\",\"6 km ESE of Elgin, South Carolina\",\"6 km SSW of Lugoff, South Carolina\",\"5 km SSW of Lugoff, South Carolina\",\"4 km SSW of Ladson, South Carolina\"],\"type\":\"scattermapbox\"}],                        {\"template\":{\"data\":{\"histogram2dcontour\":[{\"type\":\"histogram2dcontour\",\"colorbar\":{\"outlinewidth\":0,\"ticks\":\"\"},\"colorscale\":[[0.0,\"#0d0887\"],[0.1111111111111111,\"#46039f\"],[0.2222222222222222,\"#7201a8\"],[0.3333333333333333,\"#9c179e\"],[0.4444444444444444,\"#bd3786\"],[0.5555555555555556,\"#d8576b\"],[0.6666666666666666,\"#ed7953\"],[0.7777777777777778,\"#fb9f3a\"],[0.8888888888888888,\"#fdca26\"],[1.0,\"#f0f921\"]]}],\"choropleth\":[{\"type\":\"choropleth\",\"colorbar\":{\"outlinewidth\":0,\"ticks\":\"\"}}],\"histogram2d\":[{\"type\":\"histogram2d\",\"colorbar\":{\"outlinewidth\":0,\"ticks\":\"\"},\"colorscale\":[[0.0,\"#0d0887\"],[0.1111111111111111,\"#46039f\"],[0.2222222222222222,\"#7201a8\"],[0.3333333333333333,\"#9c179e\"],[0.4444444444444444,\"#bd3786\"],[0.5555555555555556,\"#d8576b\"],[0.6666666666666666,\"#ed7953\"],[0.7777777777777778,\"#fb9f3a\"],[0.8888888888888888,\"#fdca26\"],[1.0,\"#f0f921\"]]}],\"heatmap\":[{\"type\":\"heatmap\",\"colorbar\":{\"outlinewidth\":0,\"ticks\":\"\"},\"colorscale\":[[0.0,\"#0d0887\"],[0.1111111111111111,\"#46039f\"],[0.2222222222222222,\"#7201a8\"],[0.3333333333333333,\"#9c179e\"],[0.4444444444444444,\"#bd3786\"],[0.5555555555555556,\"#d8576b\"],[0.6666666666666666,\"#ed7953\"],[0.7777777777777778,\"#fb9f3a\"],[0.8888888888888888,\"#fdca26\"],[1.0,\"#f0f921\"]]}],\"heatmapgl\":[{\"type\":\"heatmapgl\",\"colorbar\":{\"outlinewidth\":0,\"ticks\":\"\"},\"colorscale\":[[0.0,\"#0d0887\"],[0.1111111111111111,\"#46039f\"],[0.2222222222222222,\"#7201a8\"],[0.3333333333333333,\"#9c179e\"],[0.4444444444444444,\"#bd3786\"],[0.5555555555555556,\"#d8576b\"],[0.6666666666666666,\"#ed7953\"],[0.7777777777777778,\"#fb9f3a\"],[0.8888888888888888,\"#fdca26\"],[1.0,\"#f0f921\"]]}],\"contourcarpet\":[{\"type\":\"contourcarpet\",\"colorbar\":{\"outlinewidth\":0,\"ticks\":\"\"}}],\"contour\":[{\"type\":\"contour\",\"colorbar\":{\"outlinewidth\":0,\"ticks\":\"\"},\"colorscale\":[[0.0,\"#0d0887\"],[0.1111111111111111,\"#46039f\"],[0.2222222222222222,\"#7201a8\"],[0.3333333333333333,\"#9c179e\"],[0.4444444444444444,\"#bd3786\"],[0.5555555555555556,\"#d8576b\"],[0.6666666666666666,\"#ed7953\"],[0.7777777777777778,\"#fb9f3a\"],[0.8888888888888888,\"#fdca26\"],[1.0,\"#f0f921\"]]}],\"surface\":[{\"type\":\"surface\",\"colorbar\":{\"outlinewidth\":0,\"ticks\":\"\"},\"colorscale\":[[0.0,\"#0d0887\"],[0.1111111111111111,\"#46039f\"],[0.2222222222222222,\"#7201a8\"],[0.3333333333333333,\"#9c179e\"],[0.4444444444444444,\"#bd3786\"],[0.5555555555555556,\"#d8576b\"],[0.6666666666666666,\"#ed7953\"],[0.7777777777777778,\"#fb9f3a\"],[0.8888888888888888,\"#fdca26\"],[1.0,\"#f0f921\"]]}],\"mesh3d\":[{\"type\":\"mesh3d\",\"colorbar\":{\"outlinewidth\":0,\"ticks\":\"\"}}],\"scatter\":[{\"marker\":{\"line\":{\"color\":\"#283442\"}},\"type\":\"scatter\"}],\"parcoords\":[{\"type\":\"parcoords\",\"line\":{\"colorbar\":{\"outlinewidth\":0,\"ticks\":\"\"}}}],\"scatterpolargl\":[{\"type\":\"scatterpolargl\",\"marker\":{\"colorbar\":{\"outlinewidth\":0,\"ticks\":\"\"}}}],\"bar\":[{\"error_x\":{\"color\":\"#f2f5fa\"},\"error_y\":{\"color\":\"#f2f5fa\"},\"marker\":{\"line\":{\"color\":\"rgb(17,17,17)\",\"width\":0.5},\"pattern\":{\"fillmode\":\"overlay\",\"size\":10,\"solidity\":0.2}},\"type\":\"bar\"}],\"scattergeo\":[{\"type\":\"scattergeo\",\"marker\":{\"colorbar\":{\"outlinewidth\":0,\"ticks\":\"\"}}}],\"scatterpolar\":[{\"type\":\"scatterpolar\",\"marker\":{\"colorbar\":{\"outlinewidth\":0,\"ticks\":\"\"}}}],\"histogram\":[{\"marker\":{\"pattern\":{\"fillmode\":\"overlay\",\"size\":10,\"solidity\":0.2}},\"type\":\"histogram\"}],\"scattergl\":[{\"marker\":{\"line\":{\"color\":\"#283442\"}},\"type\":\"scattergl\"}],\"scatter3d\":[{\"type\":\"scatter3d\",\"line\":{\"colorbar\":{\"outlinewidth\":0,\"ticks\":\"\"}},\"marker\":{\"colorbar\":{\"outlinewidth\":0,\"ticks\":\"\"}}}],\"scattermapbox\":[{\"type\":\"scattermapbox\",\"marker\":{\"colorbar\":{\"outlinewidth\":0,\"ticks\":\"\"}}}],\"scatterternary\":[{\"type\":\"scatterternary\",\"marker\":{\"colorbar\":{\"outlinewidth\":0,\"ticks\":\"\"}}}],\"scattercarpet\":[{\"type\":\"scattercarpet\",\"marker\":{\"colorbar\":{\"outlinewidth\":0,\"ticks\":\"\"}}}],\"carpet\":[{\"aaxis\":{\"endlinecolor\":\"#A2B1C6\",\"gridcolor\":\"#506784\",\"linecolor\":\"#506784\",\"minorgridcolor\":\"#506784\",\"startlinecolor\":\"#A2B1C6\"},\"baxis\":{\"endlinecolor\":\"#A2B1C6\",\"gridcolor\":\"#506784\",\"linecolor\":\"#506784\",\"minorgridcolor\":\"#506784\",\"startlinecolor\":\"#A2B1C6\"},\"type\":\"carpet\"}],\"table\":[{\"cells\":{\"fill\":{\"color\":\"#506784\"},\"line\":{\"color\":\"rgb(17,17,17)\"}},\"header\":{\"fill\":{\"color\":\"#2a3f5f\"},\"line\":{\"color\":\"rgb(17,17,17)\"}},\"type\":\"table\"}],\"barpolar\":[{\"marker\":{\"line\":{\"color\":\"rgb(17,17,17)\",\"width\":0.5},\"pattern\":{\"fillmode\":\"overlay\",\"size\":10,\"solidity\":0.2}},\"type\":\"barpolar\"}],\"pie\":[{\"automargin\":true,\"type\":\"pie\"}]},\"layout\":{\"autotypenumbers\":\"strict\",\"colorway\":[\"#636efa\",\"#EF553B\",\"#00cc96\",\"#ab63fa\",\"#FFA15A\",\"#19d3f3\",\"#FF6692\",\"#B6E880\",\"#FF97FF\",\"#FECB52\"],\"font\":{\"color\":\"#f2f5fa\"},\"hovermode\":\"closest\",\"hoverlabel\":{\"align\":\"left\"},\"paper_bgcolor\":\"rgb(17,17,17)\",\"plot_bgcolor\":\"rgb(17,17,17)\",\"polar\":{\"bgcolor\":\"rgb(17,17,17)\",\"angularaxis\":{\"gridcolor\":\"#506784\",\"linecolor\":\"#506784\",\"ticks\":\"\"},\"radialaxis\":{\"gridcolor\":\"#506784\",\"linecolor\":\"#506784\",\"ticks\":\"\"}},\"ternary\":{\"bgcolor\":\"rgb(17,17,17)\",\"aaxis\":{\"gridcolor\":\"#506784\",\"linecolor\":\"#506784\",\"ticks\":\"\"},\"baxis\":{\"gridcolor\":\"#506784\",\"linecolor\":\"#506784\",\"ticks\":\"\"},\"caxis\":{\"gridcolor\":\"#506784\",\"linecolor\":\"#506784\",\"ticks\":\"\"}},\"coloraxis\":{\"colorbar\":{\"outlinewidth\":0,\"ticks\":\"\"}},\"colorscale\":{\"sequential\":[[0.0,\"#0d0887\"],[0.1111111111111111,\"#46039f\"],[0.2222222222222222,\"#7201a8\"],[0.3333333333333333,\"#9c179e\"],[0.4444444444444444,\"#bd3786\"],[0.5555555555555556,\"#d8576b\"],[0.6666666666666666,\"#ed7953\"],[0.7777777777777778,\"#fb9f3a\"],[0.8888888888888888,\"#fdca26\"],[1.0,\"#f0f921\"]],\"sequentialminus\":[[0.0,\"#0d0887\"],[0.1111111111111111,\"#46039f\"],[0.2222222222222222,\"#7201a8\"],[0.3333333333333333,\"#9c179e\"],[0.4444444444444444,\"#bd3786\"],[0.5555555555555556,\"#d8576b\"],[0.6666666666666666,\"#ed7953\"],[0.7777777777777778,\"#fb9f3a\"],[0.8888888888888888,\"#fdca26\"],[1.0,\"#f0f921\"]],\"diverging\":[[0,\"#8e0152\"],[0.1,\"#c51b7d\"],[0.2,\"#de77ae\"],[0.3,\"#f1b6da\"],[0.4,\"#fde0ef\"],[0.5,\"#f7f7f7\"],[0.6,\"#e6f5d0\"],[0.7,\"#b8e186\"],[0.8,\"#7fbc41\"],[0.9,\"#4d9221\"],[1,\"#276419\"]]},\"xaxis\":{\"gridcolor\":\"#283442\",\"linecolor\":\"#506784\",\"ticks\":\"\",\"title\":{\"standoff\":15},\"zerolinecolor\":\"#283442\",\"automargin\":true,\"zerolinewidth\":2},\"yaxis\":{\"gridcolor\":\"#283442\",\"linecolor\":\"#506784\",\"ticks\":\"\",\"title\":{\"standoff\":15},\"zerolinecolor\":\"#283442\",\"automargin\":true,\"zerolinewidth\":2},\"scene\":{\"xaxis\":{\"backgroundcolor\":\"rgb(17,17,17)\",\"gridcolor\":\"#506784\",\"linecolor\":\"#506784\",\"showbackground\":true,\"ticks\":\"\",\"zerolinecolor\":\"#C8D4E3\",\"gridwidth\":2},\"yaxis\":{\"backgroundcolor\":\"rgb(17,17,17)\",\"gridcolor\":\"#506784\",\"linecolor\":\"#506784\",\"showbackground\":true,\"ticks\":\"\",\"zerolinecolor\":\"#C8D4E3\",\"gridwidth\":2},\"zaxis\":{\"backgroundcolor\":\"rgb(17,17,17)\",\"gridcolor\":\"#506784\",\"linecolor\":\"#506784\",\"showbackground\":true,\"ticks\":\"\",\"zerolinecolor\":\"#C8D4E3\",\"gridwidth\":2}},\"shapedefaults\":{\"line\":{\"color\":\"#f2f5fa\"}},\"annotationdefaults\":{\"arrowcolor\":\"#f2f5fa\",\"arrowhead\":0,\"arrowwidth\":1},\"geo\":{\"bgcolor\":\"rgb(17,17,17)\",\"landcolor\":\"rgb(17,17,17)\",\"subunitcolor\":\"#506784\",\"showland\":true,\"showlakes\":true,\"lakecolor\":\"rgb(17,17,17)\"},\"title\":{\"x\":0.05},\"updatemenudefaults\":{\"bgcolor\":\"#506784\",\"borderwidth\":0},\"sliderdefaults\":{\"bgcolor\":\"#C8D4E3\",\"borderwidth\":1,\"bordercolor\":\"rgb(17,17,17)\",\"tickwidth\":0},\"mapbox\":{\"style\":\"dark\"}}},\"mapbox\":{\"center\":{\"lat\":34.170983,\"lon\":-80.794252},\"style\":\"dark\",\"accesstoken\":\"pk.eyJ1IjoibWlja3RoZWxpbnV4Z2VlayIsImEiOiJjbDQzN3U0YTUwODk5M3BxbnJtZjVweDJ1In0.jyMNmtV_85OzRrfmDsQXrg\\n\",\"bearing\":0,\"pitch\":0,\"zoom\":11},\"title\":{\"font\":{\"color\":\"#00FF7F\"},\"text\":\"South Carolina Earthquakes - Dec. - 2021 to Present\"},\"margin\":{\"t\":50,\"b\":5,\"l\":5,\"r\":5},\"hoverlabel\":{\"font\":{\"size\":15,\"family\":\"Rockwell\"},\"bgcolor\":\"white\"},\"paper_bgcolor\":\"#8B4513\",\"autosize\":true,\"height\":510,\"hovermode\":\"closest\",\"showlegend\":false},                        {\"responsive\": true}                    ).then(function(){\n                            \nvar gd = document.getElementById('5c2a3645-a29f-467d-9961-0df27431b696');\nvar x = new MutationObserver(function (mutations, observer) {{\n        var display = window.getComputedStyle(gd).display;\n        if (!display || display === 'none') {{\n            console.log([gd, 'removed!']);\n            Plotly.purge(gd);\n            observer.disconnect();\n        }}\n}});\n\n// Listen for the removal of the full notebook cells\nvar notebookContainer = gd.closest('#notebook-container');\nif (notebookContainer) {{\n    x.observe(notebookContainer, {childList: true});\n}}\n\n// Listen for the clearing of the current output cell\nvar outputEl = gd.closest('.output');\nif (outputEl) {{\n    x.observe(outputEl, {childList: true});\n}}\n\n                        })                };                });            </script>        </div>"
     },
     "metadata": {},
     "output_type": "display_data"
    }
   ],
   "source": [
    "fig = go.Figure(go.Scattermapbox(name=\"\",\n",
    "                                 lat=list(eq_df[\"Latitude\"]),\n",
    "                                 lon=list(eq_df[\"Longitude\"]),\n",
    "                                 mode='markers',\n",
    "#                                 marker=go.scattermapbox.Marker(size=12, color=\"#7FFFD4\"),\n",
    "                                 marker=go.scattermapbox.Marker(size=12,\n",
    "                                                                color=eq_df['Magnitude'],\n",
    "                                                                colorscale='jet'),\n",
    "                                 text=list(eq_df[\"Location\"]),\n",
    "                                 customdata=nk,\n",
    "                                 hovertemplate = \"Event Title: %{customdata[4]}<br>\" +\n",
    "                                                 \"Event Date: %{customdata[0]}<br>\" + \n",
    "                                                 \"Event Time: %{customdata[1]}<br>\" +\n",
    "                                                 \"Location: %{text}<br>\" +\n",
    "                                                 \"Magnitude: %{customdata[2]}<br>\" + \n",
    "                                                 \"lat:  %{lat},  \" + \"lon:  %{lon}<br>\" +\n",
    "                                                 \"Depth(km):  %{customdata[3]}\"))\n",
    "\n",
    "fig.update_layout(mapbox_style=\"dark\",\n",
    "                  title_font_color = \"#00FF7F\",\n",
    "                  title_text=\"South Carolina Earthquakes - Dec. - 2021 to Present\",\n",
    "                  paper_bgcolor = \"#8B4513\",\n",
    "                  autosize=True,\n",
    "                  height=510,\n",
    "                  margin=dict(t=50, b=5, l=5, r=5),\n",
    "                  hovermode='closest',\n",
    "                  mapbox=dict(accesstoken=mapbox_access_token,\n",
    "                              bearing=0,\n",
    "                              center=dict(lat=34.170983, lon=-80.794252),\n",
    "                              pitch=0,\n",
    "                              zoom=11),\n",
    "                  hoverlabel=dict(bgcolor=\"white\",\n",
    "                                  font_size=15,\n",
    "                                  font_family=\"Rockwell\"),\n",
    "                  showlegend = False)\n",
    "\n",
    "fig.show()"
   ]
  }
 ],
 "metadata": {
  "kernelspec": {
   "display_name": "Python 3 (ipykernel)",
   "language": "python",
   "name": "python3"
  },
  "language_info": {
   "codemirror_mode": {
    "name": "ipython",
    "version": 3
   },
   "file_extension": ".py",
   "mimetype": "text/x-python",
   "name": "python",
   "nbconvert_exporter": "python",
   "pygments_lexer": "ipython3",
   "version": "3.10.6"
  }
 },
 "nbformat": 4,
 "nbformat_minor": 5
}
