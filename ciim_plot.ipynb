{
 "cells": [
  {
   "cell_type": "markdown",
   "source": [
    "<h1><center>Community Internet Intensity Map</center></h1>"
   ],
   "metadata": {
    "collapsed": false
   }
  },
  {
   "cell_type": "code",
   "execution_count": null,
   "metadata": {
    "collapsed": true
   },
   "outputs": [],
   "source": [
    "import geopandas as gpd\n",
    "import plotly.express as px\n",
    "import plotly.graph_objects as go\n"
   ]
  },
  {
   "cell_type": "code",
   "execution_count": null,
   "outputs": [],
   "source": [
    "px.set_mapbox_access_token(open(\".mapbox_token\").read())"
   ],
   "metadata": {
    "collapsed": false
   }
  },
  {
   "cell_type": "markdown",
   "source": [
    "#### Import DYFI Geospatial Data, UTM aggregated (1km spacing)"
   ],
   "metadata": {
    "collapsed": false
   }
  },
  {
   "cell_type": "code",
   "execution_count": null,
   "outputs": [],
   "source": [
    "utm1km_geo_df = gpd.read_file(r\"./data/dyfi_geo_1km.geojson\")\n",
    "utm1km_geo_df.to_crs(epsg=32619)"
   ],
   "metadata": {
    "collapsed": false
   }
  },
  {
   "cell_type": "markdown",
   "source": [
    "#### Import DYFI Geospatial Data, UTM aggregated (10km spacing)"
   ],
   "metadata": {
    "collapsed": false
   }
  },
  {
   "cell_type": "code",
   "execution_count": null,
   "outputs": [],
   "source": [
    "utm10km_geo_df = gpd.read_file(r\"./data/dyfi_geo_10k.geojson\")\n",
    "utm10km_geo_df.to_crs(epsg=32619)"
   ],
   "metadata": {
    "collapsed": false
   }
  },
  {
   "cell_type": "markdown",
   "source": [
    "#### DYFI Choropleth Mapbox Plot - 1km Spacing"
   ],
   "metadata": {
    "collapsed": false
   }
  },
  {
   "cell_type": "code",
   "execution_count": null,
   "outputs": [],
   "source": [
    "fig = px.choropleth_mapbox(utm1km_geo_df,\n",
    "                           geojson=utm1km_geo_df.geometry,\n",
    "                           locations=utm1km_geo_df.index,\n",
    "                           color=\"cdi\",\n",
    "                           range_color=[0.0, 10.0],\n",
    "                           center={\"lat\": 34.0007, \"lon\": -81.0348},\n",
    "                           mapbox_style=\"streets\",\n",
    "                           zoom=7.5)\n",
    "\n",
    "fig.add_trace(go.Scattermapbox(lon=[-80.794252],\n",
    "                               lat=[34.170983],\n",
    "                               showlegend=False,\n",
    "                               mode='markers+lines',\n",
    "                               marker={'size': 12, 'opacity': 1, 'symbol': ['star']},\n",
    "                               hovertemplate='%{lon}, %{lat}<extra></extra>',))\n",
    "\n",
    "fig.update_layout(autosize=True, margin=dict(t=0, b=0, l=0, r=0), showlegend=True)\n",
    "\n",
    "fig.show()"
   ],
   "metadata": {
    "collapsed": false
   }
  },
  {
   "cell_type": "markdown",
   "source": [
    "#### DYFI Choropleth Mapbox Plot - 10km Spacing"
   ],
   "metadata": {
    "collapsed": false
   }
  },
  {
   "cell_type": "code",
   "execution_count": null,
   "outputs": [],
   "source": [
    "fig = px.choropleth_mapbox(utm10km_geo_df,\n",
    "                           geojson=utm10km_geo_df.geometry,\n",
    "                           locations=utm10km_geo_df.index,\n",
    "                           color=\"cdi\",\n",
    "                           opacity=0.35,\n",
    "                           range_color=[0.0, 10.0],\n",
    "                           center={\"lat\": 34.0007, \"lon\": -81.0348},\n",
    "                           mapbox_style=\"streets\",\n",
    "                           zoom=7.5)\n",
    "\n",
    "fig.add_trace(go.Scattermapbox(lon=[-80.794252],\n",
    "                               lat=[34.170983],\n",
    "                               showlegend=False,\n",
    "                               mode='markers+lines',\n",
    "                               marker={'size': 12, 'opacity': 1, 'symbol': ['star']},\n",
    "                               hovertemplate='%{lon}, %{lat}<extra></extra>',))\n",
    "\n",
    "fig.update_layout(autosize=True, margin=dict(t=0, b=0, l=0, r=0), showlegend=True)\n",
    "\n",
    "fig.show()"
   ],
   "metadata": {
    "collapsed": false
   }
  }
 ],
 "metadata": {
  "kernelspec": {
   "display_name": "Python 3",
   "language": "python",
   "name": "python3"
  },
  "language_info": {
   "codemirror_mode": {
    "name": "ipython",
    "version": 2
   },
   "file_extension": ".py",
   "mimetype": "text/x-python",
   "name": "python",
   "nbconvert_exporter": "python",
   "pygments_lexer": "ipython2",
   "version": "2.7.6"
  }
 },
 "nbformat": 4,
 "nbformat_minor": 0
}
