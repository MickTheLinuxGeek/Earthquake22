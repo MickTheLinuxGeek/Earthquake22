{
 "cells": [
  {
   "cell_type": "code",
   "execution_count": null,
   "id": "7e10f9e3-aab6-43a8-a6fe-af89f57d6faf",
   "metadata": {
    "tags": []
   },
   "outputs": [],
   "source": [
    "import pandas as pd\n",
    "import geopandas as gpd\n",
    "import plotly.express as px"
   ]
  },
  {
   "cell_type": "code",
   "execution_count": null,
   "id": "16699351-c49f-4fb7-8cab-07e8c632d2f7",
   "metadata": {},
   "outputs": [],
   "source": [
    "pd.set_option('display.max_columns', 32)"
   ]
  },
  {
   "cell_type": "code",
   "execution_count": null,
   "id": "5d2a9cc5-5e9b-48ee-9529-cbe21b3f7edb",
   "metadata": {},
   "outputs": [],
   "source": [
    "# geo_df = gpd.read_file('2022-07-19-SC-Earthquake.geojson')\n",
    "# geo_df = gpd.read_file('./data/2022-09-03-SC-Earthquake.geojson')\n",
    "geo_df = gpd.read_file(r'./data/20221218_SC_Earthquake.geojson')"
   ]
  },
  {
   "cell_type": "code",
   "execution_count": null,
   "outputs": [],
   "source": [
    "# geo_df.columns"
   ],
   "metadata": {
    "collapsed": false
   }
  },
  {
   "cell_type": "code",
   "execution_count": null,
   "id": "c51787ef-8f54-4cac-980e-056b20c9d90b",
   "metadata": {},
   "outputs": [],
   "source": [
    "geo_df['Event_Date'] = pd.to_datetime(geo_df.time, unit=\"ms\")\\\n",
    "                         .dt.tz_localize('UTC')\\\n",
    "                         .dt.tz_convert('America/New_York').dt.date\n",
    "\n",
    "geo_df['Event_Time'] = pd.to_datetime(geo_df.time, unit=\"ms\")\\\n",
    "                         .dt.tz_localize('UTC')\\\n",
    "                         .dt.tz_convert('America/New_York').dt.time"
   ]
  },
  {
   "cell_type": "code",
   "execution_count": null,
   "id": "0ca24a45-78ca-4f50-b801-c2bf6dc2ddd0",
   "metadata": {},
   "outputs": [],
   "source": [
    "# remove decimal portion of the seconds part of the time\n",
    "\n",
    "for x in range(len(geo_df['Event_Time'])):\n",
    "    geo_df.loc[x, 'Event_Time'] = geo_df['Event_Time'][x].replace(microsecond = 0)"
   ]
  },
  {
   "cell_type": "code",
   "execution_count": null,
   "id": "f130c547-46ab-46e9-b564-3317686776d1",
   "metadata": {},
   "outputs": [],
   "source": [
    "geo_df = geo_df[['mag', 'place', 'detail', 'felt', 'cdi', 'title', 'geometry', 'Event_Date', 'Event_Time']]"
   ]
  },
  {
   "cell_type": "code",
   "execution_count": null,
   "id": "66141d20-627b-471b-b960-5550983feab0",
   "metadata": {},
   "outputs": [],
   "source": [
    "geo_df = geo_df.rename(columns = {'mag': 'Mag', 'place': 'Place', 'detail': 'Url', 'felt': 'Felt',\n",
    "                                  'cdi': 'CDI', 'title': 'Title'}) #, 'geometry': 'Geometry'})"
   ]
  },
  {
   "cell_type": "code",
   "execution_count": null,
   "id": "d26247b9-25b6-4373-a96e-f8b724235fd1",
   "metadata": {},
   "outputs": [],
   "source": [
    "geo_df.Felt = geo_df.Felt.fillna(0).astype('int')\n",
    "geo_df.CDI = geo_df.CDI.fillna(0).astype('float')"
   ]
  },
  {
   "cell_type": "code",
   "execution_count": null,
   "id": "5fa29b00-7558-4015-88db-24c05385b17a",
   "metadata": {},
   "outputs": [],
   "source": [
    "# Fix this to make it a date type\n",
    "# geo_df.Event_Date = pd.to_datetime(geo_df.Event_Date)"
   ]
  },
  {
   "cell_type": "code",
   "execution_count": null,
   "id": "393d7798-e8b7-47f8-a77b-becd6fded076",
   "metadata": {},
   "outputs": [],
   "source": [
    "geo_df['Depth'] = geo_df.geometry.z\n",
    "geo_df['Mag'] = geo_df.Mag.round(1)"
   ]
  },
  {
   "cell_type": "code",
   "execution_count": null,
   "id": "8cc37467-0a4b-4aae-be25-41df4b672b8c",
   "metadata": {},
   "outputs": [],
   "source": [
    "geo_df = geo_df.copy()"
   ]
  },
  {
   "cell_type": "code",
   "execution_count": null,
   "id": "0b69e711-5dee-41c5-9e7f-c2965ef49eea",
   "metadata": {},
   "outputs": [],
   "source": [
    "geo_df\n",
    "# geo_df.Mag.values.min()\n"
   ]
  },
  {
   "cell_type": "code",
   "execution_count": null,
   "id": "0614fb3f-f7c2-4d13-b552-1da34d339d51",
   "metadata": {},
   "outputs": [],
   "source": [
    "# read in mapbox access token\n",
    "px.set_mapbox_access_token(open(r\".mapbox_token\").read())\n",
    "\n",
    "fig = px.scatter_mapbox(geo_df,\n",
    "                        lat = geo_df.geometry.y,\n",
    "                        lon = geo_df.geometry.x,\n",
    "                        color = geo_df.Mag,\n",
    "                        custom_data = ['Title', 'Place', 'Event_Date', 'Event_Time', 'Mag', 'Depth', 'Felt', 'CDI'],\n",
    "                        size = geo_df.Mag,\n",
    "                        color_continuous_scale = px.colors.sequential.Jet,\n",
    "                        zoom = 11,\n",
    "                        center = dict(lat = 34.170983, lon = -80.794252),\n",
    "                        mapbox_style = 'dark',\n",
    "                        title = 'South Carolina Earthquake Swarm Dec - 2021 to Present',\n",
    "                        height = 510,\n",
    "                        template = 'ggplot2',\n",
    "                        labels = {'Mag': 'Magnitude'} )\n",
    "\n",
    "# Sets the global font. Note that fonts used in traces and other layout components inherit from the global font.\n",
    "fig.update_layout(font = dict(family = \"Times New Roman\",\n",
    "                              size = 12,\n",
    "                              color = \"White\"))\n",
    "\n",
    "fig.update_layout(paper_bgcolor = \"#8B4513\",\n",
    "                  autosize = True,\n",
    "                  margin = dict(t = 50, b = 5, l = 5, r = 5),\n",
    "                  title_font_color = \"#00FF7F\",\n",
    "                  title_font_family = \"Courier New, monospace\",\n",
    "                  title_font_size = 16)\n",
    "\n",
    "fig.update_traces(hovertemplate=\"<br>\".join([\"Event Title: %{customdata[0]}\",\n",
    "                                             \"Event Date: %{customdata[2]}\",\n",
    "                                             \"Event Time: %{customdata[3]}\",\n",
    "                                             \"Location: %{customdata[1]}\",\n",
    "                                             \"Magnitude: %{customdata[4]}\",\n",
    "                                             \"Lat:  %{lat},  \" + \"Lon:  %{lon}    \" +\n",
    "                                             \"Depth(km):  %{customdata[5]}\",\n",
    "                                             \"DYFI: %{customdata[6]}\"]))\n",
    "\n",
    "fig.show()"
   ]
  },
  {
   "cell_type": "code",
   "execution_count": null,
   "id": "511441e7-c658-4c71-87f1-cafdec856b12",
   "metadata": {
    "tags": []
   },
   "outputs": [],
   "source": [
    "# import plotly.io as pio\n",
    "# pio.templates"
   ]
  },
  {
   "cell_type": "code",
   "execution_count": null,
   "id": "5c83e2aa-259e-4969-bf33-d531ad43fe72",
   "metadata": {},
   "outputs": [],
   "source": [
    "# Save geo_df without the Event_Date and Event_Time columns by dropping those columns.\n",
    "# Saved to a new GeoDataFrame - shape_df which is saved to a shapefile\n",
    "\n",
    "# shape_df = geo_df.drop(columns = ['Event_Date', 'Event_Time'], axis = 1)"
   ]
  },
  {
   "cell_type": "code",
   "execution_count": null,
   "id": "baf41fad-897c-4b2f-8c0e-803e32236ace",
   "metadata": {},
   "outputs": [],
   "source": [
    "# Save GeoDataFrame to an ESRI shapefile\n",
    "# Save earthquake points to an ESRI shapefile to be loaded into QGIS\n",
    "\n",
    "# shape_df.to_file('./data/2022-08-07_SC_Earthquakes.shp')"
   ]
  }
 ],
 "metadata": {
  "kernelspec": {
   "display_name": "Python 3 (ipykernel)",
   "language": "python",
   "name": "python3"
  },
  "language_info": {
   "codemirror_mode": {
    "name": "ipython",
    "version": 3
   },
   "file_extension": ".py",
   "mimetype": "text/x-python",
   "name": "python",
   "nbconvert_exporter": "python",
   "pygments_lexer": "ipython3",
   "version": "3.10.6"
  }
 },
 "nbformat": 4,
 "nbformat_minor": 5
}
